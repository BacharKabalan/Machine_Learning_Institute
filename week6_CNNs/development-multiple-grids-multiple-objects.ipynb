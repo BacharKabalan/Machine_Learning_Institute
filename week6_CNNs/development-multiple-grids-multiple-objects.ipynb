{
 "cells": [
  {
   "cell_type": "code",
   "execution_count": 3,
   "id": "6e67c4ba-0403-436e-ae7a-9eebb8d5b31b",
   "metadata": {},
   "outputs": [],
   "source": [
    "# pip install matplotlib"
   ]
  },
  {
   "cell_type": "code",
   "execution_count": 104,
   "id": "de63c585-610e-4c56-a0ae-68618798e33e",
   "metadata": {},
   "outputs": [],
   "source": [
    "import numpy as np\n",
    "import torch\n",
    "import torchvision\n",
    "# import cv2\n",
    "import base64\n",
    "from torch.utils.data import Dataset, DataLoader, Subset\n",
    "import matplotlib.pyplot as plt\n",
    "import torch.nn.functional as F\n",
    "import matplotlib.patches as patches\n",
    "import torch.nn as nn\n",
    "import random\n",
    "import matplotlib.image as mpimg\n",
    "from skimage.transform import resize\n",
    "from torchvision import transforms\n",
    "from PIL import Image\n"
   ]
  },
  {
   "cell_type": "code",
   "execution_count": 170,
   "id": "8df2a1e0-7659-4572-94e1-b5dd558b4330",
   "metadata": {},
   "outputs": [],
   "source": [
    "# Set seeds for reproducibility\n",
    "seed_value = 42\n",
    "\n",
    "# Set PyTorch seed\n",
    "torch.manual_seed(seed_value)\n",
    "\n",
    "# Set NumPy seed\n",
    "np.random.seed(seed_value)\n",
    "random.seed(seed_value)\n",
    "\n",
    "# If using CUDA (GPU), set the following flag\n",
    "torch.backends.cudnn.deterministic = True\n",
    "torch.backends.cudnn.benchmark = False  # Disable benchmark mode for deterministic results\n",
    "torch.cuda.manual_seed_all(seed_value)"
   ]
  },
  {
   "cell_type": "code",
   "execution_count": 185,
   "id": "53eb6971-cbbb-43bc-a70e-5d531fb128cf",
   "metadata": {},
   "outputs": [
    {
     "name": "stdout",
     "output_type": "stream",
     "text": [
      "Randomly picked element: 0\n",
      "Randomly picked element: 2\n",
      "Randomly picked element: 3\n"
     ]
    }
   ],
   "source": [
    "import random\n",
    "\n",
    "my_list = [0,1, 2, 3]\n",
    "\n",
    "# Choose 3 elements randomly without replacement\n",
    "random_elements = random.sample(my_list, 3)\n",
    "\n",
    "# Iterate over the list without repetition\n",
    "for _ in range(len(random_elements)):\n",
    "    random_element = random.sample(my_list, 1)[0]\n",
    "    my_list.remove(random_element)\n",
    "    print(\"Randomly picked element:\", random_element)\n"
   ]
  },
  {
   "cell_type": "code",
   "execution_count": 243,
   "id": "369bdd42-85ca-4bf4-8cc0-5fe3a0c58206",
   "metadata": {},
   "outputs": [],
   "source": [
    "\n",
    "class mnist_dataset(Dataset):\n",
    "    def __init__(self, original_dataset):\n",
    "        self.original_dataset = original_dataset\n",
    "        self.image_size = 56\n",
    "        self.grids_size = 28\n",
    "        self.num_grid = int(2*self.image_size/self.grids_size)\n",
    "        self.num_classes = 10\n",
    "        self.labels_size = 15\n",
    "        self.num_images = 0\n",
    "    def __len__(self):\n",
    "        return len(self.original_dataset)\n",
    "\n",
    "    def __getitem__(self,index):\n",
    "        multiple_object_image = torch.zeros((self.image_size,self.image_size))\n",
    "        image_labels = torch.zeros(int(self.num_grid*(self.labels_size)))\n",
    "        class_rank_start = 5 #the first 5 are reserved for object_found_probability and bounding box coordinates\n",
    "        num_images = random.choice([1,2,3,4])\n",
    "        quadrants = random.sample([0,1,2,3], num_images)\n",
    "        for i_image in range(num_images):\n",
    "            grid_labels = torch.zeros((self.labels_size)) \n",
    "            \n",
    "            self.num_images+=1\n",
    "            i_quadrant =  random.sample(quadrants, 1)[0]\n",
    "            quadrants.remove(i_quadrant)\n",
    "            if i_image == 0:\n",
    "                image, label = self.original_dataset[index]\n",
    "            if i_image >0:\n",
    "                image, label = self.original_dataset[np.random.randint(256)]\n",
    "            grid_labels[class_rank_start+label] = 1\n",
    "            image = self.inject_matrix(i_quadrant,image)\n",
    "            box_center_h, box_center_w, box_h, box_w = self.coordinates_calculation_relative_2_image(image)\n",
    "            grid_image, grid_labels = self.labels_per_grid(image,box_center_h, box_center_w, box_h, box_w, grid_labels)\n",
    "            grid_image = grid_image[np.newaxis,:]\n",
    "            quadrant_grid = self.object_quadrant_location(box_center_h, box_center_w)\n",
    "            image_labels[quadrant_grid*grid_labels.size(0):(quadrant_grid+1)*grid_labels.size(0)] = grid_labels\n",
    "            multiple_object_image += grid_image\n",
    "        return multiple_object_image,image_labels\n",
    "\n",
    "    def inject_matrix(self,i_quadrant,smaller_tensor):\n",
    "        # Get the shape of the matrices\n",
    "        # Create a larger tensor of size (200, 700) filled with zeros\n",
    "        larger_tensor = np.zeros((56,56), dtype=np.float32)\n",
    "\n",
    "        # target_size = (150, 150)\n",
    "        # smaller_tensor = smaller_tensor.unsqueeze(0)\n",
    "        # # Use torch.nn.functional.interpolate to resize the tensor\n",
    "        # smaller_tensor = F.interpolate(smaller_tensor, size=target_size, mode='bilinear', align_corners=False)\n",
    "        smaller_tensor = smaller_tensor.squeeze()\n",
    "        # Get the dimensions of the smaller tensor\n",
    "        smaller_rows, smaller_cols = smaller_tensor.shape\n",
    "        \n",
    "        # Generate random starting coordinates within the valid range\n",
    "        if i_quadrant == 0:\n",
    "            row_start = 0\n",
    "            col_start = 0\n",
    "        if i_quadrant == 1:\n",
    "            row_start = 0\n",
    "            col_start = 28\n",
    "        if i_quadrant == 2:\n",
    "            row_start = 28\n",
    "            col_start = 0\n",
    "        if i_quadrant == 3:\n",
    "            row_start = 28\n",
    "            col_start = 28        \n",
    "        # Inject the smaller tensor into the larger tensor at the random location\n",
    "        larger_tensor[row_start:row_start + smaller_rows, col_start:col_start + smaller_cols] = smaller_tensor\n",
    "        return larger_tensor[np.newaxis,:]\n",
    "    \n",
    "    def coordinates_calculation_relative_2_image(self,image):\n",
    "        h_min = np.Inf\n",
    "        h_max = -1\n",
    "        w_min = np.Inf\n",
    "        w_max = -1\n",
    "        h_image = image.shape[1]\n",
    "        w_image = image.shape[2]\n",
    "        min_found = 0\n",
    "        for i_h in range(h_image):\n",
    "            for i_w in range(w_image):\n",
    "                if image[:,i_h,i_w] != 0:\n",
    "                    if h_min > i_h:\n",
    "                        h_min = i_h\n",
    "                    if w_min > i_w:\n",
    "                        w_min = i_w\n",
    "                    if h_min > -1 and i_h > h_max:\n",
    "                        h_max = i_h\n",
    "                    if w_min > -1 and i_w > w_max:\n",
    "                        w_max = i_w\n",
    "        box_h = h_max - h_min\n",
    "        box_w = w_max - w_min\n",
    "        box_center_h = h_min + 0.5*box_h\n",
    "        box_center_w = w_min + 0.5*box_w\n",
    "        return box_center_h, box_center_w, box_h, box_w\n",
    "    \n",
    "    def labels_per_grid(self,image,box_center_h, box_center_w, box_h, box_w, grid_labels):\n",
    "        num_of_grids = image.shape[1]//self.image_size\n",
    "        for i_grid in range(num_of_grids):\n",
    "            grid_start = i_grid * self.image_size\n",
    "            grid_end = (i_grid+1) * self.image_size\n",
    "            grid_image = image[0,grid_start:grid_end,grid_start:grid_end]\n",
    "            grid_box_center_h, grid_box_center_w, grid_box_h, grid_box_w = self.coordinates_calculation_relative_2_grid(grid_image,box_center_h, box_center_w, box_h, box_w)\n",
    "            grid_labels[1:5] = torch.tensor([grid_box_center_h, grid_box_center_w, grid_box_h, grid_box_w]) \n",
    "        if box_center_h > grid_start and box_center_w > grid_start and box_center_h < grid_end and box_center_w < grid_end:\n",
    "            grid_labels[0] = 1\n",
    "        return grid_image, grid_labels #torch.tensor([grid_box_center_h, grid_box_center_w, grid_box_h, grid_box_w])\n",
    "            \n",
    "    \n",
    "    def coordinates_calculation_relative_2_grid(self, grid_image,box_center_h, box_center_w, box_h, box_w):\n",
    "        grid_box_center_h = box_center_h/self.image_size\n",
    "        grid_box_center_w = box_center_w/self.image_size\n",
    "        grid_box_h = box_h / self.image_size\n",
    "        grid_box_w = box_w / self.image_size\n",
    "        return grid_box_center_h, grid_box_center_w, grid_box_h, grid_box_w\n",
    "\n",
    "    def object_quadrant_location(self,box_center_h, box_center_w):\n",
    "        image_center = self.image_size/2 - 1 # '-1' because we start at 0 (0-55). use one varibale for center as we receive square images.\n",
    "        quadrant_grid = np.Inf\n",
    "        if box_center_h >= image_center: \n",
    "            if box_center_w >= image_center: \n",
    "                quadrant_grid = 3\n",
    "            else: \n",
    "                quadrant_grid = 2\n",
    "        if box_center_h < image_center:\n",
    "            if box_center_w >=image_center:\n",
    "                quadrant_grid = 1\n",
    "            else:\n",
    "                quadrant_grid = 0\n",
    "        return quadrant_grid"
   ]
  },
  {
   "cell_type": "code",
   "execution_count": 244,
   "id": "4aa41d13-52e3-4fb0-bc75-175a1741a56a",
   "metadata": {},
   "outputs": [],
   "source": [
    "train_ds = torchvision.datasets.MNIST(root=\"data\", train=True,  download=True, transform=torchvision.transforms.ToTensor())\n",
    "train_ds = mnist_dataset(train_ds)\n"
   ]
  },
  {
   "cell_type": "code",
   "execution_count": 245,
   "id": "99506ac3-5cbd-47a4-8eb8-1c5090f2296d",
   "metadata": {},
   "outputs": [],
   "source": [
    "class MyCnn(torch.nn.Module):\n",
    "  def __init__(self):\n",
    "    super().__init__()\n",
    "    self.conv1 = torch.nn.Sequential(\n",
    "      torch.nn.Conv2d(in_channels=1, out_channels=32, kernel_size=3),\n",
    "      torch.nn.ReLU(),\n",
    "      torch.nn.Conv2d(in_channels=32, out_channels=32, kernel_size=3),\n",
    "      torch.nn.ReLU(),\n",
    "      torch.nn.Dropout2d(p=0.1)\n",
    "    )\n",
    "    self.conv2 = torch.nn.Sequential(\n",
    "      torch.nn.Conv2d(in_channels=32, out_channels=64, kernel_size=3),\n",
    "      torch.nn.ReLU(),\n",
    "      torch.nn.Conv2d(in_channels=64, out_channels=64, kernel_size=3),\n",
    "      torch.nn.ReLU(),\n",
    "      torch.nn.Dropout2d(p=0.1)\n",
    "    )\n",
    "    self.linear_relu_stack = torch.nn.Sequential(\n",
    "      torch.nn.Flatten(),\n",
    "      torch.nn.Linear(in_features=147456, out_features=128),\n",
    "      torch.nn.ReLU(),\n",
    "      torch.nn.Dropout(p=0.1),\n",
    "      torch.nn.Linear(in_features=128, out_features=60),\n",
    "      torch.nn.ReLU()\n",
    "    )\n",
    "\n",
    "  def forward(self, x):\n",
    "    x = self.conv1(x)\n",
    "    x = self.conv2(x)\n",
    "    logits = self.linear_relu_stack(x)\n",
    "    return logits"
   ]
  },
  {
   "cell_type": "code",
   "execution_count": 246,
   "id": "aac69a12",
   "metadata": {},
   "outputs": [],
   "source": [
    "def draw_box(image, label,ds):\n",
    "    confidence_thresholds = 0.7\n",
    "    i_quadrant = 0\n",
    "    object_found = 0\n",
    "    fig, ax = plt.subplots()\n",
    "    while i_quadrant <=3 and object_found < ds.num_images:\n",
    "        grid_labels = label[i_quadrant*ds.labels_size:(i_quadrant+1)*ds.labels_size][:5]\n",
    "        if grid_labels[0] >= confidence_thresholds:\n",
    "            print(i_quadrant)\n",
    "            object_found += 1\n",
    "            print('object found') if object_found else print('object not found')\n",
    "            box_center_h, box_center_w, box_height, box_width = grid_labels[1:]\n",
    "            box_center_h =np.floor(box_center_h * train_ds.image_size)\n",
    "            box_center_w =np.floor(box_center_w*train_ds.image_size)\n",
    "            box_height =np.floor(box_height*train_ds.image_size)\n",
    "            box_width =np.floor(box_width*train_ds.image_size)\n",
    "            y_min = box_center_h - 0.5 * box_height\n",
    "            x_min = box_center_w - 0.5 * box_width\n",
    "            # Display the image\n",
    "            ax.imshow(np.array(image[0,:,:]))\n",
    "            rect = patches.Rectangle((x_min, y_min), box_width, box_height, linewidth=1, edgecolor='r', facecolor='none')\n",
    "            ax.add_patch(rect)\n",
    "        i_quadrant += 1\n",
    "    return ax"
   ]
  },
  {
   "cell_type": "code",
   "execution_count": 248,
   "id": "4b08f591-0baa-421a-8771-876080cbdbf4",
   "metadata": {},
   "outputs": [
    {
     "name": "stdout",
     "output_type": "stream",
     "text": [
      "tensor([[1.0000, 0.2768, 0.2500, 0.3393, 0.1786, 0.0000, 0.0000, 0.0000, 0.0000,\n",
      "         0.0000, 0.0000, 0.0000, 0.0000, 0.0000, 1.0000],\n",
      "        [0.0000, 0.0000, 0.0000, 0.0000, 0.0000, 0.0000, 0.0000, 0.0000, 0.0000,\n",
      "         0.0000, 0.0000, 0.0000, 0.0000, 0.0000, 0.0000],\n",
      "        [1.0000, 0.7411, 0.2589, 0.3036, 0.3393, 0.0000, 0.0000, 1.0000, 0.0000,\n",
      "         0.0000, 0.0000, 0.0000, 0.0000, 0.0000, 0.0000],\n",
      "        [1.0000, 0.7589, 0.7589, 0.3393, 0.2679, 0.0000, 0.0000, 0.0000, 0.0000,\n",
      "         0.0000, 0.0000, 0.0000, 0.0000, 1.0000, 0.0000]])\n",
      "0\n",
      "object found\n",
      "2\n",
      "object found\n",
      "3\n",
      "object found\n"
     ]
    },
    {
     "data": {
      "image/png": "[encoded data removed]",
      "text/plain": [
       "<Figure size 640x480 with 1 Axes>"
      ]
     },
     "metadata": {},
     "output_type": "display_data"
    }
   ],
   "source": [
    "train_ds = torchvision.datasets.MNIST(root=\"data\", train=True,  download=True, transform=torchvision.transforms.ToTensor())\n",
    "train_ds = mnist_dataset(train_ds)\n",
    "# test_ds = torchvision.datasets.MNIST(root=\"data\", train=False,  download=True, transform=torchvision.transforms.ToTensor())\n",
    "# test_ds = mnist_dataset(test_ds)\n",
    "train_dl = torch.utils.data.DataLoader(train_ds, batch_size=256)\n",
    "# test_dl = torch.utils.data.DataLoader(test_ds, batch_size=10)\n",
    "i_batch = 5\n",
    "for batch in train_dl:\n",
    "    # print(batch[0].squeeze().size())\n",
    "    # mnist_image = batch[0].squeeze()\n",
    "    a,b = batch\n",
    "    print(b[i_batch].view(4,15))\n",
    "    draw_box(a[i_batch], b[i_batch],train_ds)\n",
    "    # a = a.unsqueeze(0)\n",
    "    # a = F.interpolate(a, size=(28,28), mode='bilinear', align_corners=False)\n",
    "    # plt.figure()\n",
    "    # plt.imshow(a.squeeze().squeeze())\n",
    "    break"
   ]
  },
  {
   "cell_type": "code",
   "execution_count": 249,
   "id": "13cc38dd-c61e-4b9d-b273-cffa7971562c",
   "metadata": {},
   "outputs": [],
   "source": [
    "def boxes_intersection(box_pred, box_gt):\n",
    "    x1, y1, h1, w1 = box_pred[:,[0,4,8,12]],box_pred[:,[1,5,9,13]],box_pred[:,[2,6,10,14]],box_pred[:,[3,7,11,15]]\n",
    "    x2, y2, h2, w2 = box_gt[:,[0,4,8,12]],box_gt[:,[1,5,9,13]],box_gt[:,[2,6,10,14]],box_gt[:,[3,7,11,15]]\n",
    "    # Calculate half-width and half-height for each rectangle\n",
    "    half_width1, half_height1 = w1 / 2, h1 / 2\n",
    "    half_width2, half_height2 = w2 / 2, h2 / 2\n",
    "\n",
    "    # Calculate the coordinates of the top-left and bottom-right corners for each rectangle\n",
    "    top_left1 = (x1 - half_width1, y1 - half_height1)\n",
    "    bottom_right1 = (x1 + half_width1, y1 + half_height1)\n",
    "\n",
    "    top_left2 = (x2 - half_width2, y2 - half_height2)\n",
    "    bottom_right2 = (x2 + half_width2, y2 + half_height2)\n",
    "\n",
    "    # Calculate the intersection area\n",
    "    x_overlap = torch.max(torch.tensor(0), torch.min(bottom_right1[0], bottom_right2[0]) - torch.max(top_left1[0], top_left2[0]))\n",
    "    y_overlap = torch.max(torch.tensor(0), torch.min(bottom_right1[1], bottom_right2[1]) - torch.max(top_left1[1], top_left2[1]))\n",
    "\n",
    "    intersection_area = x_overlap * y_overlap\n",
    "\n",
    "    return intersection_area\n",
    "\n",
    "def calculate_iou(boxes_pred, boxes_gt):\n",
    "    box_pred_h, box_pred_w = boxes_pred[:,[2,6,10,14]],boxes_pred[:,[3,7,11,15]]\n",
    "    box_gt_h, box_gt_w = boxes_gt[:,[2,6,10,14]],boxes_gt[:,[3,7,11,15]]\n",
    "    intersection_area = boxes_intersection(boxes_pred, boxes_gt)\n",
    "    box_pred_area = box_pred_h * box_pred_w\n",
    "    box_gt_area = box_gt_h * box_gt_w\n",
    "    union_area = box_pred_area + box_gt_area - intersection_area\n",
    "    box_exist_mask = box_gt_area>0\n",
    "    iou = intersection_area[box_exist_mask] / union_area[box_exist_mask]\n",
    "    \n",
    "\n",
    "    return iou.mean()"
   ]
  },
  {
   "cell_type": "code",
   "execution_count": 250,
   "id": "f28bd85c-88ef-4f9f-ba89-f593b9164e50",
   "metadata": {},
   "outputs": [],
   "source": [
    "# box_1 = torch.tensor([0.75,0.75,0.5,0.5,0.75,0.75,0.5,0.5,0.25,0.25,0.5,0.5,0.25,0.25,0.5,0.5]).view(1,-1)\n",
    "# box_2 = torch.tensor([0.75,0.75,0.5,0.5,0.75,0.75,0.5,0.5,0.75,0.75,0.5,0.5,0.75,0.75,0.5,0.5]).view(1,-1)\n",
    "# calculate_iou(box_1, box_2)"
   ]
  },
  {
   "cell_type": "code",
   "execution_count": 251,
   "id": "d0ccae58",
   "metadata": {},
   "outputs": [],
   "source": [
    "\n",
    "class YOLOLoss(nn.Module):\n",
    "    def __init__(self, num_classes=10, lambda_coord=5.0, lambda_noobj=0.5):\n",
    "        super(YOLOLoss, self).__init__()\n",
    "        self.num_classes = num_classes\n",
    "        self.lambda_coord = lambda_coord\n",
    "        self.lambda_noobj = lambda_noobj\n",
    "\n",
    "\n",
    "    def extracting_predictions(self):\n",
    "        obj_indexes = torch.tensor([0,15,30,45])\n",
    "        coords_indexes = torch.tensor([1,2,3,4,16,17,18,19,31,32,33,34,46,47,48,49])\n",
    "        classes_grid_1 = torch.arange(5,15)\n",
    "        classes_grid_2 = torch.arange(20,30)\n",
    "        classes_grid_3 = torch.arange(35,45)\n",
    "        classes_grid_4 = torch.arange(50,60)\n",
    "        class_indexes = torch.cat([classes_grid_1,classes_grid_2,classes_grid_3,classes_grid_4])\n",
    "        return obj_indexes, coords_indexes, class_indexes\n",
    "    \n",
    "    def forward(self, predictions, targets):\n",
    "        \"\"\"\n",
    "        Calculate YOLO loss.\n",
    "\n",
    "        Args:\n",
    "        - predictions: Tensor of shape (batch_size, 15, S, S)\n",
    "        - targets: Tensor of shape (batch_size, 15, S, S)\n",
    "\n",
    "        Returns:\n",
    "        - loss: Scalar tensor representing the total YOLO loss.\n",
    "        \"\"\"\n",
    "        obj_indexes, coords_index, class_indexes = self.extracting_predictions()\n",
    "        # Extract predicted and target values\n",
    "        pred_coords = predictions[:, coords_index]\n",
    "        pred_obj_prob = predictions[:,obj_indexes]\n",
    "        pred_class_probs = predictions[:,class_indexes]\n",
    "        # pred_class_probs = nn.functional.softmax(predictions[:, 5:], dim = 1)\n",
    "        # pred_class_probs = torch.argmax(pred_class_probs, dim = 1)\n",
    "        \n",
    "        \n",
    "        target_coords = targets[:, coords_index]\n",
    "        target_obj_prob = targets[:,obj_indexes]\n",
    "        target_class_probs = targets[:,class_indexes]\n",
    "        # target_class_probs = torch.argmax(target_class_probs, dim = 1)\n",
    "        \n",
    "        # Calculate localization loss\n",
    "        \n",
    "        loc_loss = torch.sum((pred_coords[:2] - target_coords[:2])**2)\n",
    "        loc_loss += torch.sum((torch.sqrt(pred_coords[2:]) - torch.sqrt(target_coords[2:]))**2)\n",
    "\n",
    "        \n",
    "        # Calculate confidence loss (object present)\n",
    "        obj_mask = target_obj_prob > 0\n",
    "        conf_loss_obj = torch.sum((pred_obj_prob[obj_mask] - target_obj_prob[obj_mask])**2)\n",
    "        \n",
    "        # Calculate confidence loss (object not present)\n",
    "        noobj_mask = target_obj_prob == 0\n",
    "        conf_loss_noobj = torch.sum((pred_obj_prob[noobj_mask])**2)\n",
    "        \n",
    "        # Calculate class prediction loss\n",
    "        class_loss = torch.sum((pred_class_probs - target_class_probs)**2)\n",
    "        # Combine the individual loss terms\n",
    "        loss = (\n",
    "            self.lambda_coord * loc_loss +\n",
    "            conf_loss_obj +\n",
    "            self.lambda_noobj * conf_loss_noobj +\n",
    "            class_loss\n",
    "        )\n",
    "        return loss\n",
    "\n"
   ]
  },
  {
   "cell_type": "code",
   "execution_count": 252,
   "id": "4945eaba-25a0-4ecc-a087-f20263d3b4b6",
   "metadata": {},
   "outputs": [
    {
     "data": {
      "text/plain": [
       "<All keys matched successfully>"
      ]
     },
     "execution_count": 252,
     "metadata": {},
     "output_type": "execute_result"
    }
   ],
   "source": [
    "device = \"cuda\" if torch.cuda.is_available() else \"cpu\"\n",
    "\n",
    "myCnn = MyCnn().to(device)\n",
    "loss = YOLOLoss()\n",
    "opt = torch.torch.optim.Adam(myCnn.parameters(), lr=1e-3)\n",
    "model_path = 'mult_obj_mnist-39.pt'\n",
    "checkpoint = torch.load(model_path, map_location=torch.device('cpu'))  # Use 'cuda' if you saved the model on GPU\n",
    "\n",
    "# Step 3: Load the state dictionary into your model\n",
    "myCnn.load_state_dict(checkpoint)"
   ]
  },
  {
   "cell_type": "code",
   "execution_count": null,
   "id": "2cb3dbae-d7da-44fe-a3b4-928c53f4f439",
   "metadata": {},
   "outputs": [
    {
     "name": "stdout",
     "output_type": "stream",
     "text": [
      "Epoch: 0, Loss: 3101.82568359375\n",
      "Epoch: 0, Loss: 665.9415893554688\n",
      "Epoch: 0, Loss: 541.5352783203125\n",
      "Epoch: 0, Loss: 405.7140808105469\n",
      "Epoch: 0, Loss: 348.0948791503906\n",
      "Epoch: 0, Val_class_accuracy: 0.78895; box_coordinates_accuracy: 0.0006297320942394435\n",
      "Epoch: 1, Loss: 303.7559509277344\n",
      "Epoch: 1, Loss: 273.9604187011719\n",
      "Epoch: 1, Loss: 267.3718566894531\n",
      "Epoch: 1, Loss: 258.1309509277344\n",
      "Epoch: 1, Loss: 260.8713684082031\n",
      "Epoch: 1, Val_class_accuracy: 0.85455; box_coordinates_accuracy: 0.000695681432262063\n",
      "Epoch: 2, Loss: 195.24256896972656\n",
      "Epoch: 2, Loss: 222.41732788085938\n",
      "Epoch: 2, Loss: 200.8655548095703\n",
      "Epoch: 2, Loss: 201.97711181640625\n",
      "Epoch: 2, Loss: 204.91067504882812\n"
     ]
    }
   ],
   "source": [
    "\n",
    "batch_size = 256\n",
    "train_ds = torchvision.datasets.MNIST(root=\"data\", train=True,  download=True, transform=torchvision.transforms.ToTensor())\n",
    "train_ds = mnist_dataset(train_ds)\n",
    "\n",
    "\n",
    "# subset_indices = list(range(1))\n",
    "# train_ds = Subset(train_ds,subset_indices)\n",
    "\n",
    "\n",
    "test_ds = torchvision.datasets.MNIST(root=\"data\", train=False,  download=True, transform=torchvision.transforms.ToTensor())\n",
    "test_ds = mnist_dataset(test_ds)\n",
    "\n",
    "# subset_indices = list(range(128))\n",
    "# test_ds = Subset(train_ds,subset_indices)\n",
    "\n",
    "train_dl = torch.utils.data.DataLoader(train_ds, batch_size=batch_size, shuffle=False, worker_init_fn=np.random.seed(seed_value))\n",
    "test_dl = torch.utils.data.DataLoader(test_ds, batch_size=batch_size, shuffle=False)\n",
    "\n",
    "\n",
    "\n",
    "for t in range(6):\n",
    "    for idx, (x, y) in enumerate(train_dl):\n",
    "      x, y = x.to(device), y.to(device)\n",
    "      # plt.imshow(x[0,0,:,:].cpu())\n",
    "      logits = myCnn(x)\n",
    "      l = loss(logits, y)\n",
    "      opt.zero_grad()\n",
    "      l.backward()\n",
    "      opt.step()\n",
    "      if idx % 50 == 0: print(f\"Epoch: {t}, Loss: {l.item()}\")\n",
    "    with torch.no_grad():\n",
    "      correct = 0\n",
    "      total = 0\n",
    "      iou = 0\n",
    "      for x, y in test_dl:\n",
    "        validation_batch_size = y.size(0)\n",
    "        x, y = x.to(device), y.to(device)\n",
    "        logits = myCnn(x)\n",
    "        \n",
    "        _,coords_indexes, class_indexes = loss.extracting_predictions()\n",
    "        iou += calculate_iou(logits[:,coords_indexes], y[:,coords_indexes])\n",
    "        class_probabilities = nn.functional.softmax(logits[:,class_indexes], dim=1)\n",
    "        class_predictions = torch.argmax(class_probabilities.view(validation_batch_size,train_ds.num_grid,train_ds.num_classes),dim =2)\n",
    "        class_gt = torch.argmax(y[:,class_indexes].view(validation_batch_size,train_ds.num_grid,train_ds.num_classes),dim =2)\n",
    "        total += y.size(0)*train_ds.num_grid\n",
    "        correct += (class_predictions == class_gt).sum().item()\n",
    "    iou_mean = iou/total\n",
    "    print(f\"Epoch: {t}, Val_class_accuracy: {correct/total}; box_coordinates_accuracy: {iou_mean.item()}\")\n",
    "    torch.save(myCnn.state_dict(), f\"./mult_obj_multi_cell_mnist-{t}.pt\")\n"
   ]
  },
  {
   "cell_type": "code",
   "execution_count": 94,
   "id": "b151c2a8-8af6-43c1-bb84-7c07f0cf993b",
   "metadata": {},
   "outputs": [
    {
     "data": {
      "text/plain": [
       "<All keys matched successfully>"
      ]
     },
     "execution_count": 94,
     "metadata": {},
     "output_type": "execute_result"
    }
   ],
   "source": [
    "model_path = 'mult_obj_multi_cell_mnist-1.pt'\n",
    "checkpoint = torch.load(model_path, map_location=torch.device('cpu'))  # Use 'cuda' if you saved the model on GPU\n",
    "\n",
    "# Step 3: Load the state dictionary into your model\n",
    "myCnn.load_state_dict(checkpoint)"
   ]
  },
  {
   "cell_type": "code",
   "execution_count": 96,
   "id": "d0e79f03-17fe-4f6c-a96d-8b59ffcb509a",
   "metadata": {
    "scrolled": true
   },
   "outputs": [
    {
     "name": "stdout",
     "output_type": "stream",
     "text": [
      "0\n",
      "object found\n",
      "3\n",
      "object found\n",
      "0\n",
      "object found\n",
      "3\n",
      "object found\n"
     ]
    },
    {
     "data": {
      "image/png": "[encoded data removed]",
      "text/plain": [
       "<Figure size 640x480 with 1 Axes>"
      ]
     },
     "metadata": {},
     "output_type": "display_data"
    },
    {
     "data": {
      "image/png": "[encoded data removed]",
      "text/plain": [
       "<Figure size 640x480 with 1 Axes>"
      ]
     },
     "metadata": {},
     "output_type": "display_data"
    }
   ],
   "source": [
    "with torch.no_grad():\n",
    "    i_batch = 0\n",
    "    b = logits\n",
    "    b.cpu()\n",
    "    images = x\n",
    "    images.cpu()\n",
    "    draw_box(images[i_batch].cpu(), y[i_batch].cpu(),train_ds)\n",
    "    draw_box(images[i_batch].cpu(), b[i_batch].cpu(),train_ds)"
   ]
  },
  {
   "cell_type": "code",
   "execution_count": 457,
   "id": "c8b75303-9bf1-4843-bf44-67e3c9b0eddc",
   "metadata": {},
   "outputs": [
    {
     "data": {
      "text/plain": [
       "tensor([[[0.0000, 0.0000, 0.0000, 0.0000, 0.0000, 0.0000, 0.0000, 0.0000,\n",
       "          0.0000, 0.0000, 0.0000, 0.0000, 0.0000, 0.0000, 0.0000],\n",
       "         [0.1795, 0.0000, 0.0000, 0.0000, 0.0000, 0.0000, 0.0000, 0.0000,\n",
       "          0.0000, 0.0000, 0.0000, 0.0000, 0.0000, 0.0000, 0.0000],\n",
       "         [0.4797, 0.2926, 0.1979, 0.1637, 0.1827, 0.0415, 0.0000, 0.3950,\n",
       "          0.0000, 0.0000, 0.0000, 0.0000, 0.0000, 0.0000, 0.1043],\n",
       "         [0.7011, 0.2847, 0.2905, 0.1797, 0.2111, 0.0000, 0.0000, 0.2074,\n",
       "          0.0186, 0.0000, 0.0000, 0.0000, 0.1473, 0.0256, 0.0000]]],\n",
       "       device='cuda:0')"
      ]
     },
     "execution_count": 457,
     "metadata": {},
     "output_type": "execute_result"
    }
   ],
   "source": [
    "logits.view(1,4,15)"
   ]
  },
  {
   "cell_type": "code",
   "execution_count": 152,
   "id": "911b2643",
   "metadata": {},
   "outputs": [],
   "source": [
    "with torch.no_grad():\n",
    "  correct = 0\n",
    "  total = 0\n",
    "  for x, y in test_dl:\n",
    "    x, y = x.to(device), y.to(device)\n",
    "    validation_batch_size = y.size(0)\n",
    "    logits = myCnn(x)\n",
    "    _,_, class_indexes = loss.extracting_predictions()  \n",
    "    class_probabilities = nn.functional.softmax(logits[:,class_indexes], dim=1)\n",
    "    class_predictions = torch.argmax(class_probabilities.view(validation_batch_size,train_ds.num_grid,train_ds.num_classes),dim =2)\n",
    "    class_gt = torch.argmax(y[:,class_indexes].view(validation_batch_size,train_ds.num_grid,train_ds.num_classes),dim =2)\n",
    "    break"
   ]
  },
  {
   "cell_type": "code",
   "execution_count": 153,
   "id": "fb5bab4f-feeb-4141-b2e0-30f6e5213366",
   "metadata": {},
   "outputs": [
    {
     "name": "stdout",
     "output_type": "stream",
     "text": [
      "gt class class: tensor([1, 0, 0, 1], device='cuda:0')\n",
      "predicted class: tensor([1, 0, 0, 1], device='cuda:0')\n",
      "0\n",
      "object found\n",
      "3\n",
      "object found\n",
      "0\n",
      "object found\n",
      "3\n",
      "object found\n"
     ]
    },
    {
     "data": {
      "image/png": "[encoded data removed]",
      "text/plain": [
       "<Figure size 640x480 with 1 Axes>"
      ]
     },
     "metadata": {},
     "output_type": "display_data"
    },
    {
     "data": {
      "image/png": "[encoded data removed]",
      "text/plain": [
       "<Figure size 640x480 with 1 Axes>"
      ]
     },
     "metadata": {},
     "output_type": "display_data"
    }
   ],
   "source": [
    "i_batch = 5\n",
    "print(f'gt class class: {class_gt[i_batch]}')\n",
    "print(f'predicted class: {class_predictions[i_batch]}')\n",
    "b = logits\n",
    "b.cpu()\n",
    "images = x\n",
    "images.cpu()\n",
    "\n",
    "draw_box(images[i_batch].cpu(), y[i_batch].cpu(),train_ds)\n",
    "plt.title(f'{class_gt[i_batch]}')\n",
    "draw_box(images[i_batch].cpu(), b[i_batch].cpu(),train_ds)\n",
    "plt.title(f'{class_predictions[i_batch]}')\n",
    "plt.show()"
   ]
  },
  {
   "cell_type": "code",
   "execution_count": 462,
   "id": "7f27a465-7525-4a15-ba63-df4c5fe065bb",
   "metadata": {},
   "outputs": [
    {
     "data": {
      "text/plain": [
       "tensor([[[0.0000, 0.0000, 0.0000, 0.0000, 0.0000, 0.0000, 0.0000, 0.0000,\n",
       "          0.0000, 0.0000, 0.0000, 0.0000, 0.0000, 0.0000, 0.0000],\n",
       "         [0.0000, 0.0000, 0.0000, 0.0000, 0.0000, 0.0000, 0.0000, 0.0000,\n",
       "          0.0000, 0.0000, 0.0000, 0.0000, 0.0000, 0.0000, 0.0000],\n",
       "         [0.0000, 0.0000, 0.0000, 0.0000, 0.0000, 0.0000, 0.0000, 0.0000,\n",
       "          0.0000, 0.0000, 0.0000, 0.0000, 0.0000, 0.0000, 0.0000],\n",
       "         [1.0634, 0.6306, 0.6024, 0.3507, 0.3674, 0.0000, 0.0000, 0.0000,\n",
       "          0.0000, 0.0000, 0.0000, 0.0000, 0.5917, 0.0892, 0.2929]]],\n",
       "       device='cuda:0')"
      ]
     },
     "execution_count": 462,
     "metadata": {},
     "output_type": "execute_result"
    }
   ],
   "source": [
    "logits[9].view(1,4,15)"
   ]
  },
  {
   "cell_type": "code",
   "execution_count": 397,
   "id": "e25ebb23",
   "metadata": {},
   "outputs": [],
   "source": [
    "# i_batch = 9\n",
    "# print(f'gt class class: {torch.argmax(y[:,5:],dim=1)[i_batch]}')\n",
    "# print(f'predicted class: {torch.argmax(class_prediction,dim=1)[i_batch]}')\n",
    "# ax1 = draw_box(x[i_batch].cpu(), y[i_batch,1].item(),y[i_batch,2].item(),y[i_batch,3].item(),y[i_batch,4].item())\n",
    "# b = logits\n",
    "# b.cpu()\n",
    "# images = x\n",
    "# images.cpu()\n",
    "\n",
    "# ax2 = draw_box(images[i_batch].cpu(), b[i_batch,1].item(),b[i_batch,2].item(),b[i_batch,3].item(),b[i_batch,4].item())\n",
    "# plt.show()"
   ]
  },
  {
   "cell_type": "code",
   "execution_count": 398,
   "id": "edcdd504-4547-4733-9b6a-f42714dda772",
   "metadata": {},
   "outputs": [],
   "source": [
    "# def calculate_accuracy(predictions, ground_truths, iou_threshold=0.5, confidence_threshold=0.5):\n",
    "#     total_predictions = len(predictions)\n",
    "#     correct_count = count_correct_predictions(predictions, ground_truths, iou_threshold, confidence_threshold)\n",
    "#     accuracy = correct_count / total_predictions if total_predictions > 0 else 0\n",
    "#     return accuracy\n",
    "\n",
    "\n",
    "# def count_correct_predictions(predictions, ground_truths, iou_threshold=0.5, confidence_threshold=0.5):\n",
    "#     correct_count = 0\n",
    "\n",
    "#     for pred in predictions:\n",
    "#         # Apply confidence threshold\n",
    "#         if pred[0] < confidence_threshold:\n",
    "#             continue\n",
    "\n",
    "#         # Find the ground truth with the highest IoU\n",
    "#         max_iou = max([calculate_iou(pred[1:5], gt[1:5]) for gt in ground_truths], default=0)\n",
    "\n",
    "#         # Check if the prediction is correct\n",
    "#         if max_iou >= iou_threshold:\n",
    "#             correct_count += 1\n",
    "\n",
    "#     return correct_count\n",
    "\n"
   ]
  },
  {
   "cell_type": "code",
   "execution_count": 150,
   "id": "f9bb0bd2-f38f-4dbe-8894-2f5f8a84495a",
   "metadata": {},
   "outputs": [
    {
     "name": "stdout",
     "output_type": "stream",
     "text": [
      "(1, 56, 56)\n",
      "2\n",
      "object found\n",
      "3\n",
      "object found\n"
     ]
    },
    {
     "data": {
      "image/png": "[encoded data removed]",
      "text/plain": [
       "<Figure size 640x480 with 1 Axes>"
      ]
     },
     "metadata": {},
     "output_type": "display_data"
    }
   ],
   "source": [
    "image_path = \"theera_7_second_quadrant.png\"\n",
    "image = mpimg.imread(image_path)\n",
    "image = resize(image,(56,56,1))\n",
    "image = np.moveaxis(image, -1, 0)\n",
    "print(image.shape)\n",
    "# Step 3: Plot the image using plt.imshow\n",
    "# plt.imshow(image[0])\n",
    "# plt.axis(\"off\")  # Optionally turn off axis labels\n",
    "# plt.show()\n",
    "image = torch.tensor(image).unsqueeze(0)\n",
    "image = image.to(device)\n",
    "with torch.no_grad():\n",
    "    logits = myCnn(image)\n",
    "    # _,coords_indexes, class_indexes = loss.extracting_predictions()\n",
    "    # iou += calculate_iou(logits[:,coords_indexes], y[:,coords_indexes])\n",
    "    # class_probabilities = nn.functional.softmax(logits[:,class_indexes], dim=1)\n",
    "    # class_predictions = torch.argmax(class_probabilities.view(validation_batch_size,train_ds.num_grid,train_ds.num_classes),dim =2)\n",
    "    # class_gt = torch.argmax(y[:,class_indexes].view(validation_batch_size,train_ds.num_grid,train_ds.num_classes),dim =2)\n",
    "    # total += y.size(0)*train_ds.num_grid\n",
    "    # correct += (class_predictions == class_gt).sum().item()\n",
    "    draw_box(image[0].cpu(), logits[0].cpu(),train_ds)"
   ]
  },
  {
   "cell_type": "code",
   "execution_count": 163,
   "id": "47f03afc-5add-4e97-bddd-f46a2215f18d",
   "metadata": {},
   "outputs": [
    {
     "name": "stdout",
     "output_type": "stream",
     "text": [
      "[[[0.22341166 0.23897658 0.26101348 0.27659827]\n",
      "  [0.22341166 0.23897658 0.26101348 0.27659827]\n",
      "  [0.22341166 0.23897658 0.26101348 0.27659827]\n",
      "  ...\n",
      "  [0.22341166 0.23897658 0.26101348 0.27659827]\n",
      "  [0.22341166 0.23897658 0.26101348 0.27659827]\n",
      "  [0.22341166 0.23897658 0.26101348 0.27659827]]\n",
      "\n",
      " [[0.22341166 0.23897658 0.26101348 0.27659827]\n",
      "  [0.22341166 0.23897658 0.26101348 0.27659827]\n",
      "  [0.22341166 0.23897658 0.26101348 0.27659827]\n",
      "  ...\n",
      "  [0.22341166 0.23897658 0.26101348 0.27659827]\n",
      "  [0.22341166 0.23897658 0.26101348 0.27659827]\n",
      "  [0.22341166 0.23897658 0.26101348 0.27659827]]\n",
      "\n",
      " [[0.22341166 0.23897658 0.26101348 0.27659827]\n",
      "  [0.22341166 0.23897658 0.26101348 0.27659827]\n",
      "  [0.22341166 0.23897658 0.26101348 0.27659827]\n",
      "  ...\n",
      "  [0.22341166 0.23897658 0.26101348 0.27659827]\n",
      "  [0.22341166 0.23897658 0.26101348 0.27659827]\n",
      "  [0.22341166 0.23897658 0.26101348 0.27659827]]\n",
      "\n",
      " ...\n",
      "\n",
      " [[0.22341166 0.23897658 0.26101348 0.27659827]\n",
      "  [0.22341166 0.23897658 0.26101348 0.27659827]\n",
      "  [0.22341166 0.23897658 0.26101348 0.27659827]\n",
      "  ...\n",
      "  [0.22341166 0.23897658 0.26101348 0.27659827]\n",
      "  [0.22341166 0.23897658 0.26101348 0.27659827]\n",
      "  [0.22341166 0.23897658 0.26101348 0.27659827]]\n",
      "\n",
      " [[0.22341166 0.23897658 0.26101348 0.27659827]\n",
      "  [0.22341166 0.23897658 0.26101348 0.27659827]\n",
      "  [0.22341166 0.23897658 0.26101348 0.27659827]\n",
      "  ...\n",
      "  [0.22341166 0.23897658 0.26101348 0.27659827]\n",
      "  [0.22341166 0.23897658 0.26101348 0.27659827]\n",
      "  [0.22341166 0.23897658 0.26101348 0.27659827]]\n",
      "\n",
      " [[0.22341166 0.23897658 0.26101348 0.27659827]\n",
      "  [0.22341166 0.23897658 0.26101348 0.27659827]\n",
      "  [0.22341166 0.23897658 0.26101348 0.27659827]\n",
      "  ...\n",
      "  [0.22341166 0.23897658 0.26101348 0.27659827]\n",
      "  [0.22341166 0.23897658 0.26101348 0.27659827]\n",
      "  [0.22341166 0.23897658 0.26101348 0.27659827]]]\n"
     ]
    },
    {
     "data": {
      "image/png": "[encoded data removed]",
      "text/plain": [
       "<Figure size 1000x500 with 2 Axes>"
      ]
     },
     "metadata": {},
     "output_type": "display_data"
    }
   ],
   "source": [
    "import numpy as np\n",
    "from scipy.ndimage import gaussian_filter\n",
    "import matplotlib.pyplot as plt\n",
    "\n",
    "image_path = \"theera_7_second_quadrant.png\"\n",
    "image_np = mpimg.imread(image_path)\n",
    "\n",
    "# Blur only non-zero pixels\n",
    "non_zero_pixels = image_np != 0\n",
    "image_np_non_zero = np.where(non_zero_pixels, image_np, 1e-10)  # Replace zero values with a small number\n",
    "blurred_image = gaussian_filter(image_np_non_zero, sigma=3)\n",
    "\n",
    "# Display original and blurred images\n",
    "fig, (ax1, ax2) = plt.subplots(1, 2, figsize=(10, 5))\n",
    "\n",
    "ax1.imshow(image_np, cmap='gray')\n",
    "ax1.set_title(\"Original Image\")\n",
    "\n",
    "ax2.imshow(blurred_image, cmap='gray')\n",
    "ax2.set_title(\"Blurred Image (non-zero pixels)\")\n",
    "print(blurred_image)\n",
    "plt.show()\n",
    "\n",
    "plt.show()\n"
   ]
  },
  {
   "cell_type": "code",
   "execution_count": 402,
   "id": "70d9267b-0f17-4015-8f73-ae988af297d6",
   "metadata": {},
   "outputs": [
    {
     "data": {
      "text/plain": [
       "tensor([[[0.3777, 0.1044, 0.0390, 0.0977, 0.1036, 0.0109, 0.0000, 0.0000,\n",
       "          0.0000, 0.0089, 0.0000, 0.0000, 0.0000, 0.0483, 0.0000],\n",
       "         [0.3580, 0.1367, 0.1683, 0.1157, 0.1627, 0.0590, 0.0000, 0.1352,\n",
       "          0.0000, 0.0363, 0.0749, 0.1252, 0.0000, 0.0122, 0.0000],\n",
       "         [0.2839, 0.1380, 0.1043, 0.1120, 0.1108, 0.0000, 0.0000, 0.4780,\n",
       "          0.0312, 0.0000, 0.0000, 0.1030, 0.0000, 0.0000, 0.0000],\n",
       "         [0.1734, 0.0000, 0.1071, 0.0000, 0.1653, 0.1326, 0.0000, 0.1099,\n",
       "          0.0000, 0.0000, 0.0715, 0.0952, 0.0000, 0.0000, 0.0000]]],\n",
       "       device='cuda:0')"
      ]
     },
     "execution_count": 402,
     "metadata": {},
     "output_type": "execute_result"
    }
   ],
   "source": [
    "logits.view(1,4,15)"
   ]
  },
  {
   "cell_type": "code",
   "execution_count": 140,
   "id": "957a889f-a1cc-4dd7-879d-06f28e2fd252",
   "metadata": {},
   "outputs": [
    {
     "data": {
      "text/plain": [
       "<matplotlib.image.AxesImage at 0x7f66598f2440>"
      ]
     },
     "execution_count": 140,
     "metadata": {},
     "output_type": "execute_result"
    },
    {
     "data": {
      "image/png": "[encoded data removed]",
      "text/plain": [
       "<Figure size 640x480 with 1 Axes>"
      ]
     },
     "metadata": {},
     "output_type": "display_data"
    }
   ],
   "source": [
    "image_0 = x[3][0].cpu()\n",
    "plt.imshow(image_0)"
   ]
  },
  {
   "cell_type": "code",
   "execution_count": 443,
   "id": "f9e8da84-c75c-40be-ab4b-27158c8afbbb",
   "metadata": {},
   "outputs": [],
   "source": [
    "image_7 = x[0][0].cpu()"
   ]
  },
  {
   "cell_type": "code",
   "execution_count": 444,
   "id": "e483c90d-8e02-4362-b850-b041b589f415",
   "metadata": {},
   "outputs": [],
   "source": [
    "image_7_mask = image_7>0\n",
    "image_7_mask = image_7_mask.cpu()"
   ]
  },
  {
   "cell_type": "code",
   "execution_count": 445,
   "id": "5ef061f9-fb23-43af-b9f4-ef2653be2c63",
   "metadata": {},
   "outputs": [
    {
     "data": {
      "text/plain": [
       "<matplotlib.image.AxesImage at 0x7f8492c09ff0>"
      ]
     },
     "execution_count": 445,
     "metadata": {},
     "output_type": "execute_result"
    },
    {
     "data": {
      "image/png": "[encoded data removed]",
      "text/plain": [
       "<Figure size 640x480 with 1 Axes>"
      ]
     },
     "metadata": {},
     "output_type": "display_data"
    }
   ],
   "source": [
    "image_0[image_7_mask] = image_7[image_7_mask]\n",
    "plt.imshow(image_0.cpu())"
   ]
  },
  {
   "cell_type": "code",
   "execution_count": 446,
   "id": "82c6b0dc-7b41-4e48-840d-9cf82252d325",
   "metadata": {},
   "outputs": [
    {
     "name": "stdout",
     "output_type": "stream",
     "text": [
      "torch.Size([1, 1, 56, 56])\n",
      "object not found\n"
     ]
    },
    {
     "data": {
      "image/png": "[encoded data removed]",
      "text/plain": [
       "<Figure size 640x480 with 1 Axes>"
      ]
     },
     "metadata": {},
     "output_type": "display_data"
    }
   ],
   "source": [
    "image_0 = image_0.unsqueeze(0).unsqueeze(0)\n",
    "print(image_0.shape)\n",
    "image_0 = image_0.to(device)\n",
    "with torch.no_grad():\n",
    "    logits = myCnn(image_0)\n",
    "    # _,coords_indexes, class_indexes = loss.extracting_predictions()\n",
    "    # iou += calculate_iou(logits[:,coords_indexes], y[:,coords_indexes])\n",
    "    # class_probabilities = nn.functional.softmax(logits[:,class_indexes], dim=1)\n",
    "    # class_predictions = torch.argmax(class_probabilities.view(validation_batch_size,train_ds.num_grid,train_ds.num_classes),dim =2)\n",
    "    # class_gt = torch.argmax(y[:,class_indexes].view(validation_batch_size,train_ds.num_grid,train_ds.num_classes),dim =2)\n",
    "    # total += y.size(0)*train_ds.num_grid\n",
    "    # correct += (class_predictions == class_gt).sum().item()\n",
    "    draw_box(image_0[0].cpu(), logits[0].cpu(),train_ds)"
   ]
  },
  {
   "cell_type": "code",
   "execution_count": 453,
   "id": "2312dc88-8c32-4bc0-9572-bd82fc45c4c4",
   "metadata": {},
   "outputs": [
    {
     "data": {
      "text/plain": [
       "tensor([[[0.0000, 0.0000, 0.0000, 0.0000, 0.0000, 0.0000, 0.0000, 0.0000,\n",
       "          0.0000, 0.0000, 0.0000, 0.0000, 0.0000, 0.0000, 0.0000],\n",
       "         [0.1795, 0.0000, 0.0000, 0.0000, 0.0000, 0.0000, 0.0000, 0.0000,\n",
       "          0.0000, 0.0000, 0.0000, 0.0000, 0.0000, 0.0000, 0.0000],\n",
       "         [0.4797, 0.2926, 0.1979, 0.1637, 0.1827, 0.0415, 0.0000, 0.3950,\n",
       "          0.0000, 0.0000, 0.0000, 0.0000, 0.0000, 0.0000, 0.1043],\n",
       "         [0.7011, 0.2847, 0.2905, 0.1797, 0.2111, 0.0000, 0.0000, 0.2074,\n",
       "          0.0186, 0.0000, 0.0000, 0.0000, 0.1473, 0.0256, 0.0000]]],\n",
       "       device='cuda:0')"
      ]
     },
     "execution_count": 453,
     "metadata": {},
     "output_type": "execute_result"
    }
   ],
   "source": [
    "logits.view(1,4,15)"
   ]
  },
  {
   "cell_type": "code",
   "execution_count": 454,
   "id": "de460d05-5ee4-4a6c-8862-0fe6744791ea",
   "metadata": {},
   "outputs": [
    {
     "name": "stdout",
     "output_type": "stream",
     "text": [
      "object found\n"
     ]
    },
    {
     "data": {
      "text/plain": [
       "<Axes: >"
      ]
     },
     "execution_count": 454,
     "metadata": {},
     "output_type": "execute_result"
    },
    {
     "data": {
      "image/png": "[encoded data removed]",
      "text/plain": [
       "<Figure size 640x480 with 1 Axes>"
      ]
     },
     "metadata": {},
     "output_type": "display_data"
    }
   ],
   "source": [
    "draw_box(image_0[0].cpu(), logits[0].cpu(),train_ds)"
   ]
  },
  {
   "cell_type": "code",
   "execution_count": null,
   "id": "99d67b70-a5a1-4329-a50e-cfb00049fbf6",
   "metadata": {},
   "outputs": [],
   "source": []
  }
 ],
 "metadata": {
  "kernelspec": {
   "display_name": "Python 3 (ipykernel)",
   "language": "python",
   "name": "python3"
  },
  "language_info": {
   "codemirror_mode": {
    "name": "ipython",
    "version": 3
   },
   "file_extension": ".py",
   "mimetype": "text/x-python",
   "name": "python",
   "nbconvert_exporter": "python",
   "pygments_lexer": "ipython3",
   "version": "3.10.12"
  }
 },
 "nbformat": 4,
 "nbformat_minor": 5
}
