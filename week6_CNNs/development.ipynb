{
 "cells": [
  {
   "cell_type": "code",
   "execution_count": 87,
   "id": "de63c585-610e-4c56-a0ae-68618798e33e",
   "metadata": {},
   "outputs": [],
   "source": [
    "import numpy as np\n",
    "import torch\n",
    "import torchvision\n",
    "# import cv2\n",
    "import base64\n",
    "from torch.utils.data import Dataset, DataLoader, Subset\n",
    "import matplotlib.pyplot as plt\n",
    "import torch.nn.functional as F\n",
    "import matplotlib.patches as patches\n",
    "import torch.nn as nn\n",
    "import random"
   ]
  },
  {
   "cell_type": "code",
   "execution_count": 88,
   "id": "8df2a1e0-7659-4572-94e1-b5dd558b4330",
   "metadata": {},
   "outputs": [],
   "source": [
    "# Set seeds for reproducibility\n",
    "seed_value = 42\n",
    "\n",
    "# Set PyTorch seed\n",
    "torch.manual_seed(seed_value)\n",
    "\n",
    "# Set NumPy seed\n",
    "np.random.seed(seed_value)\n",
    "random.seed(seed_value)\n",
    "\n",
    "# If using CUDA (GPU), set the following flag\n",
    "torch.backends.cudnn.deterministic = True\n",
    "torch.backends.cudnn.benchmark = False  # Disable benchmark mode for deterministic results\n",
    "torch.cuda.manual_seed_all(seed_value)"
   ]
  },
  {
   "cell_type": "code",
   "execution_count": 89,
   "id": "369bdd42-85ca-4bf4-8cc0-5fe3a0c58206",
   "metadata": {},
   "outputs": [],
   "source": [
    "\n",
    "class mnist_dataset(Dataset):\n",
    "    def __init__(self, original_dataset):\n",
    "        self.original_dataset = original_dataset\n",
    "        self.grid_size = 56\n",
    "        self.num_classes = 10\n",
    "    def __len__(self):\n",
    "        return len(self.original_dataset)\n",
    "\n",
    "    def __getitem__(self,index):\n",
    "        grid_labels = torch.zeros((5+self.num_classes)) \n",
    "        class_rank_start = 5 #the first 5 are reserved for object_found_probability and bounding box coordinates\n",
    "        image, label = self.original_dataset[index]\n",
    "        grid_labels[class_rank_start+label] = 1\n",
    "        image = self.inject_matrix(image)\n",
    "        box_center_h, box_center_w, box_h, box_w = self.coordinates_calculation_relative_2_image(image)\n",
    "        grid_image, grid_labels = self.labels_per_grid(image,box_center_h, box_center_w, box_h, box_w, grid_labels)\n",
    "        grid_image = grid_image[np.newaxis,:]\n",
    "        return grid_image, grid_labels\n",
    "\n",
    "    def inject_matrix(self,smaller_tensor):\n",
    "        # Get the shape of the matrices\n",
    "        # Create a larger tensor of size (200, 700) filled with zeros\n",
    "        larger_tensor = np.zeros((56,56), dtype=np.float32)\n",
    "\n",
    "        # target_size = (150, 150)\n",
    "        # smaller_tensor = smaller_tensor.unsqueeze(0)\n",
    "        # # Use torch.nn.functional.interpolate to resize the tensor\n",
    "        # smaller_tensor = F.interpolate(smaller_tensor, size=target_size, mode='bilinear', align_corners=False)\n",
    "        smaller_tensor = smaller_tensor.squeeze()\n",
    "        # Get the dimensions of the smaller tensor\n",
    "        smaller_rows, smaller_cols = smaller_tensor.shape\n",
    "        \n",
    "        # Generate random starting coordinates within the valid range\n",
    "        row_start = np.random.randint(0, larger_tensor.shape[0] - smaller_rows + 1)\n",
    "        col_start = np.random.randint(0, larger_tensor.shape[1] - smaller_cols + 1)\n",
    "        \n",
    "        # Inject the smaller tensor into the larger tensor at the random location\n",
    "        larger_tensor[row_start:row_start + smaller_rows, col_start:col_start + smaller_cols] = smaller_tensor\n",
    "        return larger_tensor[np.newaxis,:]\n",
    "    \n",
    "    def coordinates_calculation_relative_2_image(self,image):\n",
    "        h_min = np.Inf\n",
    "        h_max = -1\n",
    "        w_min = np.Inf\n",
    "        w_max = -1\n",
    "        h_image = image.shape[1]\n",
    "        w_image = image.shape[2]\n",
    "        min_found = 0\n",
    "        for i_h in range(h_image):\n",
    "            for i_w in range(w_image):\n",
    "                if image[:,i_h,i_w] != 0:\n",
    "                    if h_min > i_h:\n",
    "                        h_min = i_h\n",
    "                    if w_min > i_w:\n",
    "                        w_min = i_w\n",
    "                    if h_min > -1 and i_h > h_max:\n",
    "                        h_max = i_h\n",
    "                    if w_min > -1 and i_w > w_max:\n",
    "                        w_max = i_w\n",
    "        box_h = h_max - h_min\n",
    "        box_w = w_max - w_min\n",
    "        box_center_h = h_min + 0.5*box_h\n",
    "        box_center_w = w_min + 0.5*box_w\n",
    "        return box_center_h, box_center_w, box_h, box_w\n",
    "    \n",
    "    def labels_per_grid(self,image,box_center_h, box_center_w, box_h, box_w, grid_labels):\n",
    "        num_of_grids = image.shape[1]//self.grid_size\n",
    "        for i_grid in range(num_of_grids):\n",
    "            grid_start = i_grid * self.grid_size\n",
    "            grid_end = (i_grid+1) * self.grid_size\n",
    "            grid_image = image[0,grid_start:grid_end,grid_start:grid_end]\n",
    "            grid_box_center_h, grid_box_center_w, grid_box_h, grid_box_w = self.coordinates_calculation_relative_2_grid(grid_image,box_center_h, box_center_w, box_h, box_w)\n",
    "            grid_labels[1:5] = torch.tensor([grid_box_center_h, grid_box_center_w, grid_box_h, grid_box_w]) \n",
    "        if box_center_h > grid_start and box_center_w > grid_start and box_center_h < grid_end and box_center_w < grid_end:\n",
    "            grid_labels[0] = 1\n",
    "        return grid_image, grid_labels #torch.tensor([grid_box_center_h, grid_box_center_w, grid_box_h, grid_box_w])\n",
    "            \n",
    "    \n",
    "    def coordinates_calculation_relative_2_grid(self, grid_image,box_center_h, box_center_w, box_h, box_w):\n",
    "        grid_box_center_h = box_center_h/self.grid_size\n",
    "        grid_box_center_w = box_center_w/self.grid_size\n",
    "        grid_box_h = box_h / self.grid_size\n",
    "        grid_box_w = box_w / self.grid_size\n",
    "        return grid_box_center_h, grid_box_center_w, grid_box_h, grid_box_w\n",
    "        \n",
    "        \n",
    "\n",
    "    \n",
    "\n",
    "\n",
    "\n",
    "\n"
   ]
  },
  {
   "cell_type": "code",
   "execution_count": 90,
   "id": "99506ac3-5cbd-47a4-8eb8-1c5090f2296d",
   "metadata": {},
   "outputs": [],
   "source": [
    "class MyCnn(torch.nn.Module):\n",
    "  def __init__(self):\n",
    "    super().__init__()\n",
    "    self.conv1 = torch.nn.Sequential(\n",
    "      torch.nn.Conv2d(in_channels=1, out_channels=32, kernel_size=3),\n",
    "      torch.nn.ReLU(),\n",
    "      torch.nn.Conv2d(in_channels=32, out_channels=32, kernel_size=3),\n",
    "      torch.nn.ReLU(),\n",
    "      torch.nn.Dropout2d(p=0.1)\n",
    "    )\n",
    "    self.conv2 = torch.nn.Sequential(\n",
    "      torch.nn.Conv2d(in_channels=32, out_channels=64, kernel_size=3),\n",
    "      torch.nn.ReLU(),\n",
    "      torch.nn.Conv2d(in_channels=64, out_channels=64, kernel_size=3),\n",
    "      torch.nn.ReLU(),\n",
    "      torch.nn.Dropout2d(p=0.1)\n",
    "    )\n",
    "    self.linear_relu_stack = torch.nn.Sequential(\n",
    "      torch.nn.Flatten(),\n",
    "      torch.nn.Linear(in_features=147456, out_features=128),\n",
    "      torch.nn.ReLU(),\n",
    "      torch.nn.Dropout(p=0.1),\n",
    "      torch.nn.Linear(in_features=128, out_features=15)\n",
    "    )\n",
    "\n",
    "  def forward(self, x):\n",
    "    x = self.conv1(x)\n",
    "    x = self.conv2(x)\n",
    "    logits = self.linear_relu_stack(x)\n",
    "    return logits"
   ]
  },
  {
   "cell_type": "code",
   "execution_count": 91,
   "id": "aac69a12",
   "metadata": {},
   "outputs": [],
   "source": [
    "def draw_box(image, box_center_h, box_center_w, box_height, box_width):\n",
    "    fig, ax = plt.subplots(1)\n",
    "    box_center_h =np.floor(box_center_h * train_ds.grid_size)\n",
    "    box_center_w =np.floor(box_center_w*train_ds.grid_size)\n",
    "    box_height =np.floor(box_height*train_ds.grid_size)\n",
    "    box_width =np.floor(box_width*train_ds.grid_size)\n",
    "    print(box_center_h, box_center_w, box_height, box_width)\n",
    "    y_min = box_center_h - 0.5 * box_height\n",
    "    x_min = box_center_w - 0.5 * box_width\n",
    "\n",
    "    # Display the image\n",
    "    ax.imshow(np.array(image[0,:,:]))\n",
    "    rect = patches.Rectangle((x_min, y_min), box_width, box_height, linewidth=1, edgecolor='r', facecolor='none')\n",
    "    ax.add_patch(rect)\n",
    "    plt.show()"
   ]
  },
  {
   "cell_type": "code",
   "execution_count": 92,
   "id": "4b08f591-0baa-421a-8771-876080cbdbf4",
   "metadata": {},
   "outputs": [
    {
     "name": "stdout",
     "output_type": "stream",
     "text": [
      "torch.Size([10, 1, 56, 56])\n",
      "torch.Size([10, 15])\n",
      "39.0 16.0 18.0 17.0\n"
     ]
    },
    {
     "data": {
      "image/png": "[encoded data removed]",
      "text/plain": [
       "<Figure size 640x480 with 1 Axes>"
      ]
     },
     "metadata": {},
     "output_type": "display_data"
    }
   ],
   "source": [
    "train_ds = torchvision.datasets.MNIST(root=\"data\", train=True,  download=True, transform=torchvision.transforms.ToTensor())\n",
    "train_ds = mnist_dataset(train_ds)\n",
    "test_ds = torchvision.datasets.MNIST(root=\"data\", train=False,  download=True, transform=torchvision.transforms.ToTensor())\n",
    "test_ds = mnist_dataset(test_ds)\n",
    "train_dl = torch.utils.data.DataLoader(train_ds, batch_size=10)\n",
    "test_dl = torch.utils.data.DataLoader(test_ds, batch_size=10)\n",
    "i_batch = 9\n",
    "for batch in test_dl:\n",
    "    # print(batch[0].squeeze().size())\n",
    "    # mnist_image = batch[0].squeeze()\n",
    "    a,b = batch\n",
    "    print(a.shape)\n",
    "    print(b.shape)\n",
    "    draw_box(a[i_batch], b[i_batch,1].item(),b[i_batch,2].item(),b[i_batch,3].item(),b[i_batch,4].item())\n",
    "    \n",
    "    # a = a.unsqueeze(0)\n",
    "    # a = F.interpolate(a, size=(28,28), mode='bilinear', align_corners=False)\n",
    "    # plt.figure()\n",
    "    # plt.imshow(a.squeeze().squeeze())\n",
    "    break"
   ]
  },
  {
   "cell_type": "code",
   "execution_count": 93,
   "id": "d0ccae58",
   "metadata": {},
   "outputs": [],
   "source": [
    "\n",
    "\n",
    "class YOLOLoss(nn.Module):\n",
    "    def __init__(self, num_classes=10, lambda_coord=5.0, lambda_noobj=0.5):\n",
    "        super(YOLOLoss, self).__init__()\n",
    "        self.num_classes = num_classes\n",
    "        self.lambda_coord = lambda_coord\n",
    "        self.lambda_noobj = lambda_noobj\n",
    "\n",
    "    def forward(self, predictions, targets):\n",
    "        \"\"\"\n",
    "        Calculate YOLO loss.\n",
    "\n",
    "        Args:\n",
    "        - predictions: Tensor of shape (batch_size, 15, S, S)\n",
    "        - targets: Tensor of shape (batch_size, 15, S, S)\n",
    "\n",
    "        Returns:\n",
    "        - loss: Scalar tensor representing the total YOLO loss.\n",
    "        \"\"\"\n",
    "        # Extract predicted and target values\n",
    "        pred_coords = predictions[:, 1:5]\n",
    "        pred_obj_prob = predictions[:, 0]\n",
    "        pred_class_probs = nn.functional.softmax(predictions[:, 5:], dim = 1)\n",
    "        pred_class_probs = torch.argmax(pred_class_probs, dim = 1)\n",
    "        \n",
    "        \n",
    "        target_coords = targets[:, 1:5]\n",
    "        target_obj_prob = targets[:, 0]\n",
    "        target_class_probs = targets[:, 5:]\n",
    "        target_class_probs = torch.argmax(target_class_probs, dim = 1)\n",
    "        \n",
    "\n",
    "        \n",
    "        # Calculate localization loss\n",
    "        loc_loss = torch.sum((pred_coords - target_coords)**2)\n",
    "        \n",
    "        # Calculate confidence loss (object present)\n",
    "        obj_mask = target_obj_prob > 0\n",
    "        conf_loss_obj = torch.sum((pred_obj_prob[obj_mask] - target_obj_prob[obj_mask])**2)\n",
    "        \n",
    "        # Calculate confidence loss (object not present)\n",
    "        noobj_mask = target_obj_prob == 0\n",
    "        conf_loss_noobj = torch.sum((pred_obj_prob[noobj_mask])**2)\n",
    "        \n",
    "        # Calculate class prediction loss\n",
    "        class_loss = torch.sum((pred_class_probs - target_class_probs)**2)\n",
    "        \n",
    "        # Combine the individual loss terms\n",
    "        loss = (\n",
    "            self.lambda_coord * loc_loss +\n",
    "            conf_loss_obj +\n",
    "            self.lambda_noobj * conf_loss_noobj +\n",
    "            class_loss\n",
    "        )\n",
    "        # print(pred_coords)\n",
    "        # print(target_coords)\n",
    "        # print(pred_obj_prob)\n",
    "        # print(target_obj_prob)\n",
    "        # print(pred_class_probs)\n",
    "        # print(target_class_probs)\n",
    "        # print(f'loc_loss = {loc_loss}')\n",
    "        # print(f'conf_loss_obj = {conf_loss_obj}')\n",
    "        # print(f'conf_loss_noobj = {conf_loss_noobj}')\n",
    "        # print(f'class_loss = {class_loss}')\n",
    "        return loss\n",
    "\n",
    "# # Example usage:\n",
    "# S = 1  # Number of grid cells in each dimension\n",
    "# num_classes = 10  # Number of classes\n",
    "\n",
    "# # Create a YOLOLoss instance\n",
    "# yolo_loss = YOLOLoss(num_classes=num_classes)\n",
    "\n",
    "# # Example predictions and targets (replace with your actual tensors)\n",
    "# predictions = torch.randn((1, 15, S, S))\n",
    "# targets = torch.randn((1, 15, S, S))\n",
    "\n",
    "# # Calculate the loss\n",
    "# loss = yolo_loss(predictions, targets)\n",
    "\n",
    "# # Print the loss\n",
    "# print(\"Total YOLO Loss:\", loss.item())\n"
   ]
  },
  {
   "cell_type": "code",
   "execution_count": null,
   "id": "98b0db66-a287-4465-954a-72a761c89a15",
   "metadata": {},
   "outputs": [],
   "source": []
  },
  {
   "cell_type": "code",
   "execution_count": 98,
   "id": "2cb3dbae-d7da-44fe-a3b4-928c53f4f439",
   "metadata": {},
   "outputs": [
    {
     "name": "stdout",
     "output_type": "stream",
     "text": [
      "Epoch: 0, Loss: 4.680903911590576\n",
      "Epoch: 1, Loss: 4.688390254974365\n",
      "Epoch: 2, Loss: 17.540124893188477\n",
      "Epoch: 3, Loss: 3.041566848754883\n",
      "Epoch: 4, Loss: 1.8201220035552979\n",
      "Epoch: 5, Loss: 16.673227310180664\n",
      "Epoch: 6, Loss: 17.118776321411133\n",
      "Epoch: 7, Loss: 0.6560006141662598\n",
      "Epoch: 8, Loss: 18.762380599975586\n",
      "Epoch: 9, Loss: 2.7761905193328857\n",
      "Epoch: 10, Loss: 0.5622963905334473\n",
      "Epoch: 11, Loss: 1.8948942422866821\n",
      "Epoch: 12, Loss: 1.4796454906463623\n",
      "Epoch: 13, Loss: 0.7481289505958557\n",
      "Epoch: 14, Loss: 0.5960142016410828\n",
      "Epoch: 15, Loss: 0.9593182802200317\n",
      "Epoch: 16, Loss: 1.7659567594528198\n",
      "Epoch: 17, Loss: 1.4323042631149292\n",
      "Epoch: 18, Loss: 0.6406248211860657\n",
      "Epoch: 19, Loss: 0.8848147988319397\n",
      "Epoch: 20, Loss: 1.5727229118347168\n",
      "Epoch: 21, Loss: 0.14302656054496765\n",
      "Epoch: 22, Loss: 0.21472255885601044\n",
      "Epoch: 23, Loss: 0.12301971018314362\n",
      "Epoch: 24, Loss: 0.2869252860546112\n",
      "Epoch: 25, Loss: 1.0032488107681274\n",
      "Epoch: 26, Loss: 1.3012837171554565\n",
      "Epoch: 27, Loss: 0.28299251198768616\n",
      "Epoch: 28, Loss: 0.6453018188476562\n",
      "Epoch: 29, Loss: 0.670102059841156\n"
     ]
    }
   ],
   "source": [
    "\n",
    "device = \"cuda\" if torch.cuda.is_available() else \"cpu\"\n",
    "\n",
    "train_ds = torchvision.datasets.MNIST(root=\"data\", train=True,  download=True, transform=torchvision.transforms.ToTensor())\n",
    "train_ds = mnist_dataset(train_ds)\n",
    "\n",
    "\n",
    "# subset_indices = list(range(1))\n",
    "# train_ds = Subset(train_ds,subset_indices)\n",
    "\n",
    "\n",
    "test_ds = torchvision.datasets.MNIST(root=\"data\", train=False,  download=True, transform=torchvision.transforms.ToTensor())\n",
    "test_ds = mnist_dataset(test_ds)\n",
    "train_dl = torch.utils.data.DataLoader(train_ds, batch_size=1, shuffle=False, worker_init_fn=np.random.seed(seed_value))\n",
    "test_dl = torch.utils.data.DataLoader(test_ds, batch_size=1, shuffle=False)\n",
    "\n",
    "myCnn = MyCnn().to(device)\n",
    "loss = YOLOLoss()\n",
    "opt = torch.torch.optim.Adam(myCnn.parameters(), lr=1e-4)\n",
    "\n",
    "for t in range(30):\n",
    "    for idx, (x, y) in enumerate(train_dl):\n",
    "      x, y = x.to(device), y.to(device)\n",
    "      logits = myCnn(x)\n",
    "      l = loss(logits, y)\n",
    "      opt.zero_grad()\n",
    "      l.backward()\n",
    "      opt.step()\n",
    "      if idx % 50 == 0: print(f\"Epoch: {t}, Loss: {l.item()}\")\n",
    "      break\n",
    "#     with torch.no_grad():\n",
    "#       correct = 0\n",
    "#       total = 0\n",
    "#       for x, y in test_dl:\n",
    "#         x, y = x.to(device), y.to(device)\n",
    "#         logits = myCnn(x)\n",
    "#         class_prediction = nn.functional.softmax(logits[5:], dim=1)\n",
    "        \n",
    "#         total += y.size(0)\n",
    "#         correct += (pred == y).sum().item()\n",
    "#       print(f\"Epoch: {t}, Accuracy: {correct/total}\")\n",
    "#     torch.save(myCnn.state_dict(), f\"./mnist-{t}.pt\")\n"
   ]
  },
  {
   "cell_type": "code",
   "execution_count": 99,
   "id": "d0e79f03-17fe-4f6c-a96d-8b59ffcb509a",
   "metadata": {
    "scrolled": true
   },
   "outputs": [
    {
     "name": "stdout",
     "output_type": "stream",
     "text": [
      "17.0 37.0 18.0 18.0\n"
     ]
    },
    {
     "data": {
      "image/png": "[encoded data removed]",
      "text/plain": [
       "<Figure size 640x480 with 1 Axes>"
      ]
     },
     "metadata": {},
     "output_type": "display_data"
    }
   ],
   "source": [
    "i_batch = 0\n",
    "b = logits\n",
    "b.cpu()\n",
    "images = x\n",
    "images.cpu()\n",
    "draw_box(x[i_batch].cpu(), y[i_batch,1].item(),y[i_batch,2].item(),y[i_batch,3].item(),y[i_batch,4].item())\n"
   ]
  },
  {
   "cell_type": "code",
   "execution_count": 100,
   "id": "70bfd51f-970a-4438-8a59-db36b835d999",
   "metadata": {},
   "outputs": [
    {
     "name": "stdout",
     "output_type": "stream",
     "text": [
      "36.0 40.0 15.0 24.0\n"
     ]
    },
    {
     "data": {
      "image/png": "[encoded data removed]",
      "text/plain": [
       "<Figure size 640x480 with 1 Axes>"
      ]
     },
     "metadata": {},
     "output_type": "display_data"
    }
   ],
   "source": [
    "draw_box(images[i_batch].cpu(), b[i_batch,1].item(),b[i_batch,2].item(),b[i_batch,3].item(),b[i_batch,4].item())"
   ]
  },
  {
   "cell_type": "code",
   "execution_count": 101,
   "id": "911b2643",
   "metadata": {},
   "outputs": [],
   "source": [
    "with torch.no_grad():\n",
    "  correct = 0\n",
    "  total = 0\n",
    "  for x, y in test_dl:\n",
    "    x, y = x.to(device), y.to(device)\n",
    "    logits = myCnn(x)\n",
    "    class_prediction = nn.functional.softmax(logits[:,5:], dim=1)\n",
    "    break"
   ]
  },
  {
   "cell_type": "code",
   "execution_count": 102,
   "id": "6a2c79e7",
   "metadata": {},
   "outputs": [
    {
     "name": "stdout",
     "output_type": "stream",
     "text": [
      "tensor([5], device='cuda:0')\n"
     ]
    },
    {
     "ename": "IndexError",
     "evalue": "index 2 is out of bounds for dimension 0 with size 1",
     "output_type": "error",
     "traceback": [
      "\u001b[0;31m---------------------------------------------------------------------------\u001b[0m",
      "\u001b[0;31mIndexError\u001b[0m                                Traceback (most recent call last)",
      "Cell \u001b[0;32mIn[102], line 3\u001b[0m\n\u001b[1;32m      1\u001b[0m i_batch \u001b[38;5;241m=\u001b[39m \u001b[38;5;241m2\u001b[39m\n\u001b[1;32m      2\u001b[0m \u001b[38;5;28mprint\u001b[39m(torch\u001b[38;5;241m.\u001b[39margmax(class_prediction,dim\u001b[38;5;241m=\u001b[39m\u001b[38;5;241m1\u001b[39m))\n\u001b[0;32m----> 3\u001b[0m draw_box(\u001b[43mx\u001b[49m\u001b[43m[\u001b[49m\u001b[43mi_batch\u001b[49m\u001b[43m]\u001b[49m\u001b[38;5;241m.\u001b[39mcpu(), y[i_batch,\u001b[38;5;241m1\u001b[39m]\u001b[38;5;241m.\u001b[39mitem(),y[i_batch,\u001b[38;5;241m2\u001b[39m]\u001b[38;5;241m.\u001b[39mitem(),y[i_batch,\u001b[38;5;241m3\u001b[39m]\u001b[38;5;241m.\u001b[39mitem(),y[i_batch,\u001b[38;5;241m4\u001b[39m]\u001b[38;5;241m.\u001b[39mitem())\n",
      "\u001b[0;31mIndexError\u001b[0m: index 2 is out of bounds for dimension 0 with size 1"
     ]
    }
   ],
   "source": [
    "i_batch = 2\n",
    "print(torch.argmax(class_prediction,dim=1))\n",
    "draw_box(x[i_batch].cpu(), y[i_batch,1].item(),y[i_batch,2].item(),y[i_batch,3].item(),y[i_batch,4].item())"
   ]
  },
  {
   "cell_type": "code",
   "execution_count": 103,
   "id": "e25ebb23",
   "metadata": {},
   "outputs": [
    {
     "ename": "IndexError",
     "evalue": "index 2 is out of bounds for dimension 0 with size 1",
     "output_type": "error",
     "traceback": [
      "\u001b[0;31m---------------------------------------------------------------------------\u001b[0m",
      "\u001b[0;31mIndexError\u001b[0m                                Traceback (most recent call last)",
      "Cell \u001b[0;32mIn[103], line 5\u001b[0m\n\u001b[1;32m      3\u001b[0m images \u001b[38;5;241m=\u001b[39m x\n\u001b[1;32m      4\u001b[0m images\u001b[38;5;241m.\u001b[39mcpu()\n\u001b[0;32m----> 5\u001b[0m draw_box(\u001b[43mimages\u001b[49m\u001b[43m[\u001b[49m\u001b[43mi_batch\u001b[49m\u001b[43m]\u001b[49m\u001b[38;5;241m.\u001b[39mcpu(), b[i_batch,\u001b[38;5;241m1\u001b[39m]\u001b[38;5;241m.\u001b[39mitem(),b[i_batch,\u001b[38;5;241m2\u001b[39m]\u001b[38;5;241m.\u001b[39mitem(),b[i_batch,\u001b[38;5;241m3\u001b[39m]\u001b[38;5;241m.\u001b[39mitem(),b[i_batch,\u001b[38;5;241m4\u001b[39m]\u001b[38;5;241m.\u001b[39mitem())\n",
      "\u001b[0;31mIndexError\u001b[0m: index 2 is out of bounds for dimension 0 with size 1"
     ]
    }
   ],
   "source": [
    "b = logits\n",
    "b.cpu()\n",
    "images = x\n",
    "images.cpu()\n",
    "draw_box(images[i_batch].cpu(), b[i_batch,1].item(),b[i_batch,2].item(),b[i_batch,3].item(),b[i_batch,4].item())"
   ]
  },
  {
   "cell_type": "code",
   "execution_count": 104,
   "id": "d08c0572",
   "metadata": {},
   "outputs": [
    {
     "ename": "IndexError",
     "evalue": "index 500 is out of bounds for dimension 0 with size 1",
     "output_type": "error",
     "traceback": [
      "\u001b[0;31m---------------------------------------------------------------------------\u001b[0m",
      "\u001b[0;31mIndexError\u001b[0m                                Traceback (most recent call last)",
      "Cell \u001b[0;32mIn[104], line 1\u001b[0m\n\u001b[0;32m----> 1\u001b[0m \u001b[43mb\u001b[49m\u001b[43m[\u001b[49m\u001b[38;5;241;43m500\u001b[39;49m\u001b[43m,\u001b[49m\u001b[43m:\u001b[49m\u001b[38;5;241;43m5\u001b[39;49m\u001b[43m]\u001b[49m\n",
      "\u001b[0;31mIndexError\u001b[0m: index 500 is out of bounds for dimension 0 with size 1"
     ]
    }
   ],
   "source": [
    "b[500,:5]"
   ]
  },
  {
   "cell_type": "code",
   "execution_count": null,
   "id": "5a94e450",
   "metadata": {},
   "outputs": [],
   "source": []
  },
  {
   "cell_type": "code",
   "execution_count": 285,
   "id": "edcdd504-4547-4733-9b6a-f42714dda772",
   "metadata": {},
   "outputs": [],
   "source": [
    "def calculate_accuracy(predictions, ground_truths, iou_threshold=0.5, confidence_threshold=0.5):\n",
    "    total_predictions = len(predictions)\n",
    "    correct_count = count_correct_predictions(predictions, ground_truths, iou_threshold, confidence_threshold)\n",
    "    accuracy = correct_count / total_predictions if total_predictions > 0 else 0\n",
    "    return accuracy\n",
    "\n",
    "\n",
    "def count_correct_predictions(predictions, ground_truths, iou_threshold=0.5, confidence_threshold=0.5):\n",
    "    correct_count = 0\n",
    "\n",
    "    for pred in predictions:\n",
    "        # Apply confidence threshold\n",
    "        if pred[0] < confidence_threshold:\n",
    "            continue\n",
    "\n",
    "        # Find the ground truth with the highest IoU\n",
    "        max_iou = max([calculate_iou(pred[1:5], gt[1:5]) for gt in ground_truths], default=0)\n",
    "\n",
    "        # Check if the prediction is correct\n",
    "        if max_iou >= iou_threshold:\n",
    "            correct_count += 1\n",
    "\n",
    "    return correct_count\n",
    "\n"
   ]
  },
  {
   "cell_type": "code",
   "execution_count": 303,
   "id": "d315c866-4601-45d3-8680-5886eabde7d8",
   "metadata": {},
   "outputs": [
    {
     "name": "stdout",
     "output_type": "stream",
     "text": [
      "tensor([ 1.7516,  1.0619,  1.0562,  0.6489,  0.3899, -0.4800, -0.4021, -0.4931,\n",
      "        -0.4704, -0.4903, -0.5522, -0.5027, -0.4627, -0.4931, -0.4939],\n",
      "       device='cuda:0')\n"
     ]
    }
   ],
   "source": [
    "for l in logits:\n",
    "    print(l)\n",
    "    break"
   ]
  },
  {
   "cell_type": "code",
   "execution_count": null,
   "id": "ad019df1",
   "metadata": {},
   "outputs": [],
   "source": []
  }
 ],
 "metadata": {
  "kernelspec": {
   "display_name": "Python 3 (ipykernel)",
   "language": "python",
   "name": "python3"
  },
  "language_info": {
   "codemirror_mode": {
    "name": "ipython",
    "version": 3
   },
   "file_extension": ".py",
   "mimetype": "text/x-python",
   "name": "python",
   "nbconvert_exporter": "python",
   "pygments_lexer": "ipython3",
   "version": "3.10.12"
  }
 },
 "nbformat": 4,
 "nbformat_minor": 5
}
