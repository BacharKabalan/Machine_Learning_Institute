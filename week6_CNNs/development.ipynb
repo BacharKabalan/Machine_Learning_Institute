{
 "cells": [
  {
   "cell_type": "code",
   "execution_count": 279,
   "id": "de63c585-610e-4c56-a0ae-68618798e33e",
   "metadata": {},
   "outputs": [],
   "source": [
    "import numpy as np\n",
    "import torch\n",
    "import torchvision\n",
    "# import cv2\n",
    "import base64\n",
    "from torch.utils.data import Dataset, DataLoader\n",
    "import matplotlib.pyplot as plt\n",
    "import torch.nn.functional as F\n",
    "import matplotlib.patches as patches\n",
    "import torch.nn as nn"
   ]
  },
  {
   "cell_type": "code",
   "execution_count": 2,
   "id": "dd62d4e6-660e-46b7-a3e5-fcba88ebb161",
   "metadata": {},
   "outputs": [],
   "source": [
    "# image_path = './mnist_theera_image.png'\n",
    "# image = cv2.imread(image_path)\n",
    "# image_array = np.array(image,dtype = np.uint8)\n",
    "# # npArr = np.frombuffer(bas\n",
    "# e64.b64decode(image_array), np.uint8)\n",
    "# # img = cv2.imdecode(image_array, cv2.IMREAD_COLOR)\n",
    "# grayImage = cv2.cvtColor(image_array, cv2.COLOR_BGR2GRAY)\n",
    "# gray_image = cv2.resize(grayImage, (28,28), interpolation=cv2.INTER_LINEAR)\n",
    "# plt.imshow(gray_image)"
   ]
  },
  {
   "cell_type": "code",
   "execution_count": 246,
   "id": "369bdd42-85ca-4bf4-8cc0-5fe3a0c58206",
   "metadata": {},
   "outputs": [],
   "source": [
    "\n",
    "class mnist_dataset(Dataset):\n",
    "    def __init__(self, original_dataset):\n",
    "        self.original_dataset = original_dataset\n",
    "        self.grid_size = 56\n",
    "        self.num_classes = 10\n",
    "    def __len__(self):\n",
    "        return len(self.original_dataset)\n",
    "\n",
    "    def __getitem__(self,index):\n",
    "        grid_labels = torch.zeros((5+self.num_classes)) \n",
    "        class_rank_start = 5 #the first 5 are reserved for object_found_probability and bounding box coordinates\n",
    "        image, label = self.original_dataset[index]\n",
    "        grid_labels[class_rank_start+label] = 1\n",
    "        image = self.inject_matrix(image)\n",
    "        box_center_h, box_center_w, box_h, box_w = self.coordinates_calculation_relative_2_image(image)\n",
    "        grid_image, grid_labels = self.labels_per_grid(image,box_center_h, box_center_w, box_h, box_w, grid_labels)\n",
    "        grid_image = grid_image[np.newaxis,:]\n",
    "        return grid_image, grid_labels\n",
    "\n",
    "    def inject_matrix(self,smaller_tensor):\n",
    "        # Get the shape of the matrices\n",
    "        # Create a larger tensor of size (200, 700) filled with zeros\n",
    "        larger_tensor = np.zeros((56,56), dtype=np.float32)\n",
    "\n",
    "        # target_size = (150, 150)\n",
    "        # smaller_tensor = smaller_tensor.unsqueeze(0)\n",
    "        # # Use torch.nn.functional.interpolate to resize the tensor\n",
    "        # smaller_tensor = F.interpolate(smaller_tensor, size=target_size, mode='bilinear', align_corners=False)\n",
    "        smaller_tensor = smaller_tensor.squeeze()\n",
    "        # Get the dimensions of the smaller tensor\n",
    "        smaller_rows, smaller_cols = smaller_tensor.shape\n",
    "        \n",
    "        # Generate random starting coordinates within the valid range\n",
    "        row_start = np.random.randint(0, larger_tensor.shape[0] - smaller_rows + 1)\n",
    "        col_start = np.random.randint(0, larger_tensor.shape[1] - smaller_cols + 1)\n",
    "        \n",
    "        # Inject the smaller tensor into the larger tensor at the random location\n",
    "        larger_tensor[row_start:row_start + smaller_rows, col_start:col_start + smaller_cols] = smaller_tensor\n",
    "        return larger_tensor[np.newaxis,:]\n",
    "    \n",
    "    def coordinates_calculation_relative_2_image(self,image):\n",
    "        h_min = np.Inf\n",
    "        h_max = -1\n",
    "        w_min = np.Inf\n",
    "        w_max = -1\n",
    "        h_image = image.shape[1]\n",
    "        w_image = image.shape[2]\n",
    "        min_found = 0\n",
    "        for i_h in range(h_image):\n",
    "            for i_w in range(w_image):\n",
    "                if image[:,i_h,i_w] != 0:\n",
    "                    if h_min > i_h:\n",
    "                        h_min = i_h\n",
    "                    if w_min > i_w:\n",
    "                        w_min = i_w\n",
    "                    if h_min > -1 and i_h > h_max:\n",
    "                        h_max = i_h\n",
    "                    if w_min > -1 and i_w > w_max:\n",
    "                        w_max = i_w\n",
    "        \n",
    "        box_h = h_max - h_min\n",
    "        box_w = w_max - w_min\n",
    "        box_center_h = h_min + 0.5*box_h\n",
    "        box_center_w = w_min + 0.5*box_w\n",
    "        return box_center_h, box_center_w, box_h, box_w\n",
    "    \n",
    "    def labels_per_grid(self,image,box_center_h, box_center_w, box_h, box_w, grid_labels):\n",
    "        num_of_grids = image.shape[1]//self.grid_size\n",
    "        for i_grid in range(num_of_grids):\n",
    "            grid_start = i_grid * self.grid_size\n",
    "            grid_end = (i_grid+1) * self.grid_size\n",
    "            grid_image = image[0,grid_start:grid_end,grid_start:grid_end]\n",
    "            grid_box_center_h, grid_box_center_w, grid_box_h, grid_box_w = self.coordinates_calculation_relative_2_grid(grid_image,box_center_h, box_center_w, box_h, box_w)\n",
    "            grid_labels[1:5] = torch.tensor([grid_box_center_h, grid_box_center_w, grid_box_h, grid_box_w]) \n",
    "        if box_center_h > grid_start and box_center_w > grid_start and box_center_h < grid_end and box_center_w < grid_end:\n",
    "            grid_labels[0] = 1\n",
    "        return grid_image, grid_labels #torch.tensor([grid_box_center_h, grid_box_center_w, grid_box_h, grid_box_w])\n",
    "            \n",
    "    \n",
    "    def coordinates_calculation_relative_2_grid(self, grid_image,box_center_h, box_center_w, box_h, box_w):\n",
    "        grid_box_center_h = box_center_h/self.grid_size\n",
    "        grid_box_center_w = box_center_w/self.grid_size\n",
    "        grid_box_h = box_h / self.grid_size\n",
    "        grid_box_w = box_w / self.grid_size\n",
    "        return grid_box_center_h, grid_box_center_w, grid_box_h, grid_box_w\n",
    "        \n",
    "        \n",
    "\n",
    "    \n",
    "\n",
    "\n",
    "\n",
    "\n"
   ]
  },
  {
   "cell_type": "code",
   "execution_count": 260,
   "id": "99506ac3-5cbd-47a4-8eb8-1c5090f2296d",
   "metadata": {},
   "outputs": [],
   "source": [
    "class MyCnn(torch.nn.Module):\n",
    "  def __init__(self):\n",
    "    super().__init__()\n",
    "    self.conv1 = torch.nn.Sequential(\n",
    "      torch.nn.Conv2d(in_channels=1, out_channels=32, kernel_size=3),\n",
    "      torch.nn.ReLU(),\n",
    "      torch.nn.Conv2d(in_channels=32, out_channels=32, kernel_size=3),\n",
    "      torch.nn.ReLU(),\n",
    "      torch.nn.Dropout2d(p=0.1)\n",
    "    )\n",
    "    self.conv2 = torch.nn.Sequential(\n",
    "      torch.nn.Conv2d(in_channels=32, out_channels=64, kernel_size=3),\n",
    "      torch.nn.ReLU(),\n",
    "      torch.nn.Conv2d(in_channels=64, out_channels=64, kernel_size=3),\n",
    "      torch.nn.ReLU(),\n",
    "      torch.nn.Dropout2d(p=0.1)\n",
    "    )\n",
    "    self.linear_relu_stack = torch.nn.Sequential(\n",
    "      torch.nn.Flatten(),\n",
    "      torch.nn.Linear(in_features=147456, out_features=128),\n",
    "      torch.nn.ReLU(),\n",
    "      torch.nn.Dropout(p=0.1),\n",
    "      torch.nn.Linear(in_features=128, out_features=15)\n",
    "    )\n",
    "\n",
    "  def forward(self, x):\n",
    "    x = self.conv1(x)\n",
    "    x = self.conv2(x)\n",
    "    logits = self.linear_relu_stack(x)\n",
    "    return logits"
   ]
  },
  {
   "cell_type": "code",
   "execution_count": 261,
   "id": "aac69a12",
   "metadata": {},
   "outputs": [],
   "source": [
    "def draw_box(image, box_center_h, box_center_w, box_height, box_width):\n",
    "    fig, ax = plt.subplots(1)\n",
    "    box_center_h =np.floor(box_center_h * train_ds.grid_size)\n",
    "    box_center_w =np.floor(box_center_w*train_ds.grid_size)\n",
    "    box_height =np.floor(box_height*train_ds.grid_size)\n",
    "    box_width =np.floor(box_width*train_ds.grid_size)\n",
    "    print(box_center_h, box_center_w, box_height, box_width)\n",
    "    y_min = box_center_h - 0.5 * box_height\n",
    "    x_min = box_center_w - 0.5 * box_width\n",
    "\n",
    "    # Display the image\n",
    "    ax.imshow(np.array(image[0,:,:]))\n",
    "    rect = patches.Rectangle((x_min, y_min), box_width, box_height, linewidth=1, edgecolor='r', facecolor='none')\n",
    "    ax.add_patch(rect)\n",
    "    plt.show()"
   ]
  },
  {
   "cell_type": "code",
   "execution_count": 294,
   "id": "4b08f591-0baa-421a-8771-876080cbdbf4",
   "metadata": {},
   "outputs": [
    {
     "name": "stdout",
     "output_type": "stream",
     "text": [
      "torch.Size([10, 1, 56, 56])\n",
      "torch.Size([10, 15])\n",
      "20.0 21.0 18.0 17.0\n"
     ]
    },
    {
     "data": {
      "image/png": "[encoded data removed]",
      "text/plain": [
       "<Figure size 640x480 with 1 Axes>"
      ]
     },
     "metadata": {},
     "output_type": "display_data"
    }
   ],
   "source": [
    "train_ds = torchvision.datasets.MNIST(root=\"data\", train=True,  download=True, transform=torchvision.transforms.ToTensor())\n",
    "train_ds = mnist_dataset(train_ds)\n",
    "test_ds = torchvision.datasets.MNIST(root=\"data\", train=False,  download=True, transform=torchvision.transforms.ToTensor())\n",
    "test_ds = mnist_dataset(test_ds)\n",
    "train_dl = torch.utils.data.DataLoader(train_ds, batch_size=10)\n",
    "test_dl = torch.utils.data.DataLoader(test_ds, batch_size=10)\n",
    "i_batch = 9\n",
    "for batch in test_dl:\n",
    "    # print(batch[0].squeeze().size())\n",
    "    # mnist_image = batch[0].squeeze()\n",
    "    a,b = batch\n",
    "    print(a.shape)\n",
    "    print(b.shape)\n",
    "    draw_box(a[i_batch], b[i_batch,1].item(),b[i_batch,2].item(),b[i_batch,3].item(),b[i_batch,4].item())\n",
    "    \n",
    "    # a = a.unsqueeze(0)\n",
    "    # a = F.interpolate(a, size=(28,28), mode='bilinear', align_corners=False)\n",
    "    # plt.figure()\n",
    "    # plt.imshow(a.squeeze().squeeze())\n",
    "    break"
   ]
  },
  {
   "cell_type": "code",
   "execution_count": 263,
   "id": "d0ccae58",
   "metadata": {},
   "outputs": [],
   "source": [
    "\n",
    "\n",
    "class YOLOLoss(nn.Module):\n",
    "    def __init__(self, num_classes=train_ds.num_classes, lambda_coord=5.0, lambda_noobj=0.5):\n",
    "        super(YOLOLoss, self).__init__()\n",
    "        self.num_classes = num_classes\n",
    "        self.lambda_coord = lambda_coord\n",
    "        self.lambda_noobj = lambda_noobj\n",
    "\n",
    "    def forward(self, predictions, targets):\n",
    "        \"\"\"\n",
    "        Calculate YOLO loss.\n",
    "\n",
    "        Args:\n",
    "        - predictions: Tensor of shape (batch_size, 15, S, S)\n",
    "        - targets: Tensor of shape (batch_size, 15, S, S)\n",
    "\n",
    "        Returns:\n",
    "        - loss: Scalar tensor representing the total YOLO loss.\n",
    "        \"\"\"\n",
    "        # Extract predicted and target values\n",
    "        pred_coords = predictions[:, 1:5, :, :]\n",
    "        pred_obj_prob = predictions[:, 0, :, :]\n",
    "        pred_class_probs = predictions[:, 5:, :, :]\n",
    "\n",
    "        target_coords = targets[:, 1:5, :, :]\n",
    "        target_obj_prob = targets[:, 0, :, :]\n",
    "        target_class_probs = targets[:, 5:, :, :]\n",
    "\n",
    "        # Calculate localization loss\n",
    "        loc_loss = torch.sum((pred_coords - target_coords)**2)\n",
    "\n",
    "        # Calculate confidence loss (object present)\n",
    "        obj_mask = target_obj_prob > 0\n",
    "        conf_loss_obj = torch.sum((pred_obj_prob[obj_mask] - target_obj_prob[obj_mask])**2)\n",
    "\n",
    "        # Calculate confidence loss (object not present)\n",
    "        noobj_mask = target_obj_prob == 0\n",
    "        conf_loss_noobj = torch.sum((pred_obj_prob[noobj_mask])**2)\n",
    "\n",
    "        # Calculate class prediction loss\n",
    "        class_loss = torch.sum((pred_class_probs - target_class_probs)**2)\n",
    "\n",
    "        # Combine the individual loss terms\n",
    "        loss = (\n",
    "            self.lambda_coord * loc_loss +\n",
    "            conf_loss_obj +\n",
    "            self.lambda_noobj * conf_loss_noobj +\n",
    "            class_loss\n",
    "        )\n",
    "\n",
    "        return loss\n",
    "\n",
    "# # Example usage:\n",
    "# S = 1  # Number of grid cells in each dimension\n",
    "# num_classes = 10  # Number of classes\n",
    "\n",
    "# # Create a YOLOLoss instance\n",
    "# yolo_loss = YOLOLoss(num_classes=num_classes)\n",
    "\n",
    "# # Example predictions and targets (replace with your actual tensors)\n",
    "# predictions = torch.randn((1, 15, S, S))\n",
    "# targets = torch.randn((1, 15, S, S))\n",
    "\n",
    "# # Calculate the loss\n",
    "# loss = yolo_loss(predictions, targets)\n",
    "\n",
    "# # Print the loss\n",
    "# print(\"Total YOLO Loss:\", loss.item())\n"
   ]
  },
  {
   "cell_type": "code",
   "execution_count": 334,
   "id": "2cb3dbae-d7da-44fe-a3b4-928c53f4f439",
   "metadata": {},
   "outputs": [
    {
     "name": "stdout",
     "output_type": "stream",
     "text": [
      "Epoch: 0, Loss: 9.731138229370117\n",
      "Epoch: 0, Loss: 8.33816146850586\n",
      "Epoch: 0, Loss: 8.339947700500488\n",
      "Epoch: 1, Loss: 8.317338943481445\n",
      "Epoch: 1, Loss: 8.298074722290039\n",
      "Epoch: 1, Loss: 8.366531372070312\n",
      "Epoch: 2, Loss: 8.31290054321289\n",
      "Epoch: 2, Loss: 8.310293197631836\n",
      "Epoch: 2, Loss: 8.279470443725586\n"
     ]
    }
   ],
   "source": [
    "device = \"cuda\" if torch.cuda.is_available() else \"cpu\"\n",
    "\n",
    "train_ds = torchvision.datasets.MNIST(root=\"data\", train=True,  download=True, transform=torchvision.transforms.ToTensor())\n",
    "train_ds = mnist_dataset(train_ds)\n",
    "test_ds = torchvision.datasets.MNIST(root=\"data\", train=False,  download=True, transform=torchvision.transforms.ToTensor())\n",
    "test_ds = mnist_dataset(test_ds)\n",
    "train_dl = torch.utils.data.DataLoader(train_ds, batch_size=512)\n",
    "test_dl = torch.utils.data.DataLoader(test_ds, batch_size=512)\n",
    "\n",
    "myCnn = MyCnn().to(device)\n",
    "loss = torch.nn.CrossEntropyLoss()\n",
    "opt = torch.torch.optim.SGD(myCnn.parameters(), lr=1e-1)\n",
    "\n",
    "for t in range(3):\n",
    "    for idx, (x, y) in enumerate(train_dl):\n",
    "      x, y = x.to(device), y.to(device)\n",
    "      logits = myCnn(x)\n",
    "      l = loss(logits, y)\n",
    "      opt.zero_grad()\n",
    "      l.backward()\n",
    "      opt.step()\n",
    "      if idx % 50 == 0: print(f\"Epoch: {t}, Loss: {l.item()}\")\n",
    "\n",
    "#     with torch.no_grad():\n",
    "#       correct = 0\n",
    "#       total = 0\n",
    "#       for x, y in test_dl:\n",
    "#         x, y = x.to(device), y.to(device)\n",
    "#         logits = myCnn(x)\n",
    "#         class_prediction = nn.functional.softmax(logits[5:], dim=1)\n",
    "        \n",
    "#         total += y.size(0)\n",
    "#         correct += (pred == y).sum().item()\n",
    "#       print(f\"Epoch: {t}, Accuracy: {correct/total}\")\n",
    "#     torch.save(myCnn.state_dict(), f\"./mnist-{t}.pt\")\n"
   ]
  },
  {
   "cell_type": "code",
   "execution_count": 335,
   "id": "911b2643",
   "metadata": {},
   "outputs": [],
   "source": [
    "with torch.no_grad():\n",
    "  correct = 0\n",
    "  total = 0\n",
    "  for x, y in test_dl:\n",
    "    x, y = x.to(device), y.to(device)\n",
    "    logits = myCnn(x)\n",
    "    class_prediction = nn.functional.softmax(logits[:,5:], dim=1)\n",
    "    break"
   ]
  },
  {
   "cell_type": "code",
   "execution_count": 336,
   "id": "94766c76",
   "metadata": {},
   "outputs": [
    {
     "data": {
      "text/plain": [
       "tensor([1, 7, 1, 7, 7, 1, 1, 1, 7, 1, 1, 1, 1, 1, 1, 1, 1, 1, 1, 1, 1, 1, 1, 1,\n",
       "        7, 1, 1, 1, 1, 1, 1, 1, 1, 1, 1, 1, 7, 1, 1, 1, 1, 1, 1, 1, 1, 1, 1, 1,\n",
       "        1, 7, 1, 1, 1, 1, 1, 1, 1, 1, 1, 1, 1, 7, 1, 1, 1, 1, 1, 7, 1, 1, 6, 1,\n",
       "        1, 1, 7, 1, 1, 1, 1, 1, 1, 1, 1, 1, 7, 1, 1, 1, 1, 1, 1, 1, 1, 1, 1, 1,\n",
       "        1, 1, 1, 1, 1, 1, 1, 1, 1, 1, 1, 1, 1, 1, 1, 1, 1, 1, 1, 1, 1, 1, 1, 1,\n",
       "        1, 1, 1, 1, 1, 1, 1, 1, 1, 1, 1, 1, 1, 1, 1, 1, 1, 7, 1, 1, 1, 1, 1, 1,\n",
       "        1, 1, 1, 1, 1, 1, 1, 1, 1, 1, 1, 1, 1, 1, 1, 1, 1, 1, 1, 1, 1, 7, 1, 1,\n",
       "        1, 1, 1, 1, 1, 1, 7, 1, 1, 1, 1, 1, 1, 7, 1, 1, 1, 1, 1, 1, 1, 1, 1, 1,\n",
       "        1, 1, 1, 1, 1, 7, 1, 1, 1, 7, 1, 1, 1, 1, 1, 1, 1, 1, 1, 1, 1, 1, 1, 1,\n",
       "        1, 1, 1, 1, 1, 1, 1, 7, 1, 7, 7, 7, 1, 7, 1, 7, 1, 1, 1, 1, 7, 1, 3, 1,\n",
       "        1, 1, 1, 1, 1, 1, 1, 1, 1, 1, 1, 1, 1, 1, 1, 1, 1, 1, 1, 1, 1, 7, 1, 1,\n",
       "        1, 1, 1, 1, 7, 7, 1, 1, 1, 1, 1, 7, 1, 1, 1, 1, 7, 1, 1, 1, 7, 1, 1, 1,\n",
       "        1, 1, 7, 1, 7, 1, 1, 1, 1, 1, 1, 1, 1, 1, 1, 1, 1, 1, 1, 1, 1, 1, 1, 1,\n",
       "        1, 1, 1, 1, 1, 1, 1, 1, 1, 1, 7, 1, 1, 1, 1, 1, 1, 1, 1, 1, 1, 1, 1, 1,\n",
       "        1, 1, 1, 1, 1, 7, 1, 1, 1, 1, 7, 1, 1, 1, 1, 7, 1, 1, 1, 1, 1, 1, 1, 7,\n",
       "        1, 1, 1, 7, 1, 1, 1, 1, 1, 1, 1, 1, 1, 1, 1, 1, 1, 1, 1, 1, 1, 1, 1, 1,\n",
       "        1, 1, 1, 1, 7, 7, 1, 1, 1, 1, 7, 1, 1, 2, 1, 1, 1, 1, 7, 1, 1, 1, 1, 1,\n",
       "        1, 7, 1, 1, 1, 7, 1, 1, 1, 1, 1, 1, 1, 1, 1, 1, 1, 1, 1, 1, 1, 7, 7, 1,\n",
       "        1, 7, 1, 1, 1, 1, 1, 1, 1, 7, 1, 1, 1, 1, 1, 1, 1, 1, 1, 1, 1, 1, 1, 1,\n",
       "        1, 1, 1, 1, 1, 1, 1, 1, 7, 1, 1, 7, 1, 1, 7, 1, 1, 1, 1, 1, 1, 7, 1, 1,\n",
       "        1, 1, 1, 1, 1, 3, 1, 1, 1, 1, 1, 1, 1, 1, 1, 1, 7, 7, 1, 1, 1, 1, 1, 1,\n",
       "        1, 3, 1, 1, 1, 1, 1, 1], device='cuda:0')"
      ]
     },
     "execution_count": 336,
     "metadata": {},
     "output_type": "execute_result"
    }
   ],
   "source": [
    "torch.argmax(class_prediction,dim=1)"
   ]
  },
  {
   "cell_type": "code",
   "execution_count": 344,
   "id": "6a2c79e7",
   "metadata": {},
   "outputs": [
    {
     "name": "stdout",
     "output_type": "stream",
     "text": [
      "36.0 32.0 18.0 17.0\n"
     ]
    },
    {
     "data": {
      "image/png": "[encoded data removed]",
      "text/plain": [
       "<Figure size 640x480 with 1 Axes>"
      ]
     },
     "metadata": {},
     "output_type": "display_data"
    }
   ],
   "source": [
    "draw_box(images[i_batch].cpu(), y[i_batch,1].item(),y[i_batch,2].item(),y[i_batch,3].item(),y[i_batch,4].item())"
   ]
  },
  {
   "cell_type": "code",
   "execution_count": 337,
   "id": "e25ebb23",
   "metadata": {},
   "outputs": [
    {
     "name": "stdout",
     "output_type": "stream",
     "text": [
      "61.0 60.0 38.0 26.0\n"
     ]
    },
    {
     "data": {
      "image/png": "[encoded data removed]",
      "text/plain": [
       "<Figure size 640x480 with 1 Axes>"
      ]
     },
     "metadata": {},
     "output_type": "display_data"
    }
   ],
   "source": [
    "i_batch = 500\n",
    "b = logits\n",
    "b.cpu()\n",
    "images = x\n",
    "images.cpu()\n",
    "draw_box(images[i_batch].cpu(), b[i_batch,1].item(),b[i_batch,2].item(),b[i_batch,3].item(),b[i_batch,4].item())"
   ]
  },
  {
   "cell_type": "code",
   "execution_count": 332,
   "id": "d08c0572",
   "metadata": {},
   "outputs": [
    {
     "data": {
      "text/plain": [
       "tensor([1.6330, 0.8414, 0.8006, 0.4222, 0.1897], device='cuda:0')"
      ]
     },
     "execution_count": 332,
     "metadata": {},
     "output_type": "execute_result"
    }
   ],
   "source": [
    "b[500,:5]"
   ]
  },
  {
   "cell_type": "code",
   "execution_count": null,
   "id": "5a94e450",
   "metadata": {},
   "outputs": [],
   "source": []
  },
  {
   "cell_type": "code",
   "execution_count": 285,
   "id": "edcdd504-4547-4733-9b6a-f42714dda772",
   "metadata": {},
   "outputs": [],
   "source": [
    "def calculate_accuracy(predictions, ground_truths, iou_threshold=0.5, confidence_threshold=0.5):\n",
    "    total_predictions = len(predictions)\n",
    "    correct_count = count_correct_predictions(predictions, ground_truths, iou_threshold, confidence_threshold)\n",
    "    accuracy = correct_count / total_predictions if total_predictions > 0 else 0\n",
    "    return accuracy\n",
    "\n",
    "\n",
    "def count_correct_predictions(predictions, ground_truths, iou_threshold=0.5, confidence_threshold=0.5):\n",
    "    correct_count = 0\n",
    "\n",
    "    for pred in predictions:\n",
    "        # Apply confidence threshold\n",
    "        if pred[0] < confidence_threshold:\n",
    "            continue\n",
    "\n",
    "        # Find the ground truth with the highest IoU\n",
    "        max_iou = max([calculate_iou(pred[1:5], gt[1:5]) for gt in ground_truths], default=0)\n",
    "\n",
    "        # Check if the prediction is correct\n",
    "        if max_iou >= iou_threshold:\n",
    "            correct_count += 1\n",
    "\n",
    "    return correct_count\n",
    "\n"
   ]
  },
  {
   "cell_type": "code",
   "execution_count": 303,
   "id": "d315c866-4601-45d3-8680-5886eabde7d8",
   "metadata": {},
   "outputs": [
    {
     "name": "stdout",
     "output_type": "stream",
     "text": [
      "tensor([ 1.7516,  1.0619,  1.0562,  0.6489,  0.3899, -0.4800, -0.4021, -0.4931,\n",
      "        -0.4704, -0.4903, -0.5522, -0.5027, -0.4627, -0.4931, -0.4939],\n",
      "       device='cuda:0')\n"
     ]
    }
   ],
   "source": [
    "for l in logits:\n",
    "    print(l)\n",
    "    break"
   ]
  },
  {
   "cell_type": "code",
   "execution_count": null,
   "id": "ad019df1",
   "metadata": {},
   "outputs": [],
   "source": []
  }
 ],
 "metadata": {
  "kernelspec": {
   "display_name": "Python 3 (ipykernel)",
   "language": "python",
   "name": "python3"
  },
  "language_info": {
   "codemirror_mode": {
    "name": "ipython",
    "version": 3
   },
   "file_extension": ".py",
   "mimetype": "text/x-python",
   "name": "python",
   "nbconvert_exporter": "python",
   "pygments_lexer": "ipython3",
   "version": "3.11.5"
  }
 },
 "nbformat": 4,
 "nbformat_minor": 5
}
