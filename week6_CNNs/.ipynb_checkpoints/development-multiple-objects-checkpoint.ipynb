{
 "cells": [
  {
   "cell_type": "code",
   "execution_count": 3,
   "id": "6e67c4ba-0403-436e-ae7a-9eebb8d5b31b",
   "metadata": {},
   "outputs": [],
   "source": [
    "# pip install matplotlib"
   ]
  },
  {
   "cell_type": "code",
   "execution_count": 4,
   "id": "de63c585-610e-4c56-a0ae-68618798e33e",
   "metadata": {},
   "outputs": [],
   "source": [
    "import numpy as np\n",
    "import torch\n",
    "import torchvision\n",
    "# import cv2\n",
    "import base64\n",
    "from torch.utils.data import Dataset, DataLoader, Subset\n",
    "import matplotlib.pyplot as plt\n",
    "import torch.nn.functional as F\n",
    "import matplotlib.patches as patches\n",
    "import torch.nn as nn\n",
    "import random"
   ]
  },
  {
   "cell_type": "code",
   "execution_count": 5,
   "id": "8df2a1e0-7659-4572-94e1-b5dd558b4330",
   "metadata": {},
   "outputs": [],
   "source": [
    "# Set seeds for reproducibility\n",
    "seed_value = 42\n",
    "\n",
    "# Set PyTorch seed\n",
    "torch.manual_seed(seed_value)\n",
    "\n",
    "# Set NumPy seed\n",
    "np.random.seed(seed_value)\n",
    "random.seed(seed_value)\n",
    "\n",
    "# If using CUDA (GPU), set the following flag\n",
    "torch.backends.cudnn.deterministic = True\n",
    "torch.backends.cudnn.benchmark = False  # Disable benchmark mode for deterministic results\n",
    "torch.cuda.manual_seed_all(seed_value)"
   ]
  },
  {
   "cell_type": "code",
   "execution_count": 6,
   "id": "369bdd42-85ca-4bf4-8cc0-5fe3a0c58206",
   "metadata": {},
   "outputs": [],
   "source": [
    "\n",
    "class mnist_dataset(Dataset):\n",
    "    def __init__(self, original_dataset):\n",
    "        self.original_dataset = original_dataset\n",
    "        self.grid_size = 56\n",
    "        self.num_classes = 10\n",
    "    def __len__(self):\n",
    "        return len(self.original_dataset)\n",
    "\n",
    "    def __getitem__(self,index):\n",
    "        grid_labels = torch.zeros((5+self.num_classes)) \n",
    "        class_rank_start = 5 #the first 5 are reserved for object_found_probability and bounding box coordinates\n",
    "        image, label = self.original_dataset[index]\n",
    "        grid_labels[class_rank_start+label] = 1\n",
    "        image = self.inject_matrix(image)\n",
    "        box_center_h, box_center_w, box_h, box_w = self.coordinates_calculation_relative_2_image(image)\n",
    "        grid_image, grid_labels = self.labels_per_grid(image,box_center_h, box_center_w, box_h, box_w, grid_labels)\n",
    "        grid_image = grid_image[np.newaxis,:]\n",
    "        return grid_image, grid_labels\n",
    "\n",
    "    def inject_matrix(self,smaller_tensor):\n",
    "        # Get the shape of the matrices\n",
    "        # Create a larger tensor of size (200, 700) filled with zeros\n",
    "        larger_tensor = np.zeros((56,56), dtype=np.float32)\n",
    "\n",
    "        # target_size = (150, 150)\n",
    "        # smaller_tensor = smaller_tensor.unsqueeze(0)\n",
    "        # # Use torch.nn.functional.interpolate to resize the tensor\n",
    "        # smaller_tensor = F.interpolate(smaller_tensor, size=target_size, mode='bilinear', align_corners=False)\n",
    "        smaller_tensor = smaller_tensor.squeeze()\n",
    "        # Get the dimensions of the smaller tensor\n",
    "        smaller_rows, smaller_cols = smaller_tensor.shape\n",
    "        \n",
    "        # Generate random starting coordinates within the valid range\n",
    "        row_start = np.random.randint(0, larger_tensor.shape[0] - smaller_rows + 1)\n",
    "        col_start = np.random.randint(0, larger_tensor.shape[1] - smaller_cols + 1)\n",
    "        \n",
    "        # Inject the smaller tensor into the larger tensor at the random location\n",
    "        larger_tensor[row_start:row_start + smaller_rows, col_start:col_start + smaller_cols] = smaller_tensor\n",
    "        return larger_tensor[np.newaxis,:]\n",
    "    \n",
    "    def coordinates_calculation_relative_2_image(self,image):\n",
    "        h_min = np.Inf\n",
    "        h_max = -1\n",
    "        w_min = np.Inf\n",
    "        w_max = -1\n",
    "        h_image = image.shape[1]\n",
    "        w_image = image.shape[2]\n",
    "        min_found = 0\n",
    "        for i_h in range(h_image):\n",
    "            for i_w in range(w_image):\n",
    "                if image[:,i_h,i_w] != 0:\n",
    "                    if h_min > i_h:\n",
    "                        h_min = i_h\n",
    "                    if w_min > i_w:\n",
    "                        w_min = i_w\n",
    "                    if h_min > -1 and i_h > h_max:\n",
    "                        h_max = i_h\n",
    "                    if w_min > -1 and i_w > w_max:\n",
    "                        w_max = i_w\n",
    "        box_h = h_max - h_min\n",
    "        box_w = w_max - w_min\n",
    "        box_center_h = h_min + 0.5*box_h\n",
    "        box_center_w = w_min + 0.5*box_w\n",
    "        return box_center_h, box_center_w, box_h, box_w\n",
    "    \n",
    "    def labels_per_grid(self,image,box_center_h, box_center_w, box_h, box_w, grid_labels):\n",
    "        num_of_grids = image.shape[1]//self.grid_size\n",
    "        for i_grid in range(num_of_grids):\n",
    "            grid_start = i_grid * self.grid_size\n",
    "            grid_end = (i_grid+1) * self.grid_size\n",
    "            grid_image = image[0,grid_start:grid_end,grid_start:grid_end]\n",
    "            grid_box_center_h, grid_box_center_w, grid_box_h, grid_box_w = self.coordinates_calculation_relative_2_grid(grid_image,box_center_h, box_center_w, box_h, box_w)\n",
    "            grid_labels[1:5] = torch.tensor([grid_box_center_h, grid_box_center_w, grid_box_h, grid_box_w]) \n",
    "        if box_center_h > grid_start and box_center_w > grid_start and box_center_h < grid_end and box_center_w < grid_end:\n",
    "            grid_labels[0] = 1\n",
    "        return grid_image, grid_labels #torch.tensor([grid_box_center_h, grid_box_center_w, grid_box_h, grid_box_w])\n",
    "            \n",
    "    \n",
    "    def coordinates_calculation_relative_2_grid(self, grid_image,box_center_h, box_center_w, box_h, box_w):\n",
    "        grid_box_center_h = box_center_h/self.grid_size\n",
    "        grid_box_center_w = box_center_w/self.grid_size\n",
    "        grid_box_h = box_h / self.grid_size\n",
    "        grid_box_w = box_w / self.grid_size\n",
    "        return grid_box_center_h, grid_box_center_w, grid_box_h, grid_box_w\n",
    "        \n",
    "        \n",
    "\n",
    "    \n",
    "\n",
    "\n",
    "\n",
    "\n"
   ]
  },
  {
   "cell_type": "code",
   "execution_count": 7,
   "id": "99506ac3-5cbd-47a4-8eb8-1c5090f2296d",
   "metadata": {},
   "outputs": [],
   "source": [
    "class MyCnn(torch.nn.Module):\n",
    "  def __init__(self):\n",
    "    super().__init__()\n",
    "    self.conv1 = torch.nn.Sequential(\n",
    "      torch.nn.Conv2d(in_channels=1, out_channels=32, kernel_size=3),\n",
    "      torch.nn.ReLU(),\n",
    "      torch.nn.Conv2d(in_channels=32, out_channels=32, kernel_size=3),\n",
    "      torch.nn.ReLU(),\n",
    "      torch.nn.Dropout2d(p=0.1)\n",
    "    )\n",
    "    self.conv2 = torch.nn.Sequential(\n",
    "      torch.nn.Conv2d(in_channels=32, out_channels=64, kernel_size=3),\n",
    "      torch.nn.ReLU(),\n",
    "      torch.nn.Conv2d(in_channels=64, out_channels=64, kernel_size=3),\n",
    "      torch.nn.ReLU(),\n",
    "      torch.nn.Dropout2d(p=0.1)\n",
    "    )\n",
    "    self.linear_relu_stack = torch.nn.Sequential(\n",
    "      torch.nn.Flatten(),\n",
    "      torch.nn.Linear(in_features=147456, out_features=128),\n",
    "      torch.nn.ReLU(),\n",
    "      torch.nn.Dropout(p=0.1),\n",
    "      torch.nn.Linear(in_features=128, out_features=15),\n",
    "      torch.nn.ReLU()\n",
    "    )\n",
    "\n",
    "  def forward(self, x):\n",
    "    x = self.conv1(x)\n",
    "    x = self.conv2(x)\n",
    "    logits = self.linear_relu_stack(x)\n",
    "    return logits"
   ]
  },
  {
   "cell_type": "code",
   "execution_count": 8,
   "id": "aac69a12",
   "metadata": {},
   "outputs": [],
   "source": [
    "def draw_box(image, box_center_h, box_center_w, box_height, box_width):\n",
    "    fig, ax = plt.subplots(1)\n",
    "    box_center_h =np.floor(box_center_h * train_ds.grid_size)\n",
    "    box_center_w =np.floor(box_center_w*train_ds.grid_size)\n",
    "    box_height =np.floor(box_height*train_ds.grid_size)\n",
    "    box_width =np.floor(box_width*train_ds.grid_size)\n",
    "    y_min = box_center_h - 0.5 * box_height\n",
    "    x_min = box_center_w - 0.5 * box_width\n",
    "\n",
    "    # Display the image\n",
    "    ax.imshow(np.array(image[0,:,:]))\n",
    "    rect = patches.Rectangle((x_min, y_min), box_width, box_height, linewidth=1, edgecolor='r', facecolor='none')\n",
    "    ax.add_patch(rect)\n",
    "    return ax"
   ]
  },
  {
   "cell_type": "code",
   "execution_count": 9,
   "id": "4b08f591-0baa-421a-8771-876080cbdbf4",
   "metadata": {},
   "outputs": [
    {
     "name": "stderr",
     "output_type": "stream",
     "text": [
      "39.3%"
     ]
    },
    {
     "name": "stdout",
     "output_type": "stream",
     "text": [
      "Downloading http://yann.lecun.com/exdb/mnist/train-images-idx3-ubyte.gz\n",
      "Downloading http://yann.lecun.com/exdb/mnist/train-images-idx3-ubyte.gz to data/MNIST/raw/train-images-idx3-ubyte.gz\n"
     ]
    },
    {
     "name": "stderr",
     "output_type": "stream",
     "text": [
      "100.0%\n"
     ]
    },
    {
     "name": "stdout",
     "output_type": "stream",
     "text": [
      "Extracting data/MNIST/raw/train-images-idx3-ubyte.gz to data/MNIST/raw\n",
      "\n",
      "Downloading http://yann.lecun.com/exdb/mnist/train-labels-idx1-ubyte.gz\n"
     ]
    },
    {
     "name": "stderr",
     "output_type": "stream",
     "text": [
      "100.0%\n",
      "2.0%"
     ]
    },
    {
     "name": "stdout",
     "output_type": "stream",
     "text": [
      "Downloading http://yann.lecun.com/exdb/mnist/train-labels-idx1-ubyte.gz to data/MNIST/raw/train-labels-idx1-ubyte.gz\n",
      "Extracting data/MNIST/raw/train-labels-idx1-ubyte.gz to data/MNIST/raw\n",
      "\n",
      "Downloading http://yann.lecun.com/exdb/mnist/t10k-images-idx3-ubyte.gz\n",
      "Downloading http://yann.lecun.com/exdb/mnist/t10k-images-idx3-ubyte.gz to data/MNIST/raw/t10k-images-idx3-ubyte.gz\n"
     ]
    },
    {
     "name": "stderr",
     "output_type": "stream",
     "text": [
      "100.0%\n",
      "100.0%\n"
     ]
    },
    {
     "name": "stdout",
     "output_type": "stream",
     "text": [
      "Extracting data/MNIST/raw/t10k-images-idx3-ubyte.gz to data/MNIST/raw\n",
      "\n",
      "Downloading http://yann.lecun.com/exdb/mnist/t10k-labels-idx1-ubyte.gz\n",
      "Downloading http://yann.lecun.com/exdb/mnist/t10k-labels-idx1-ubyte.gz to data/MNIST/raw/t10k-labels-idx1-ubyte.gz\n",
      "Extracting data/MNIST/raw/t10k-labels-idx1-ubyte.gz to data/MNIST/raw\n",
      "\n",
      "torch.Size([10, 1, 56, 56])\n",
      "torch.Size([10, 15])\n"
     ]
    },
    {
     "data": {
      "image/png": "[encoded data removed]",
      "text/plain": [
       "<Figure size 640x480 with 1 Axes>"
      ]
     },
     "metadata": {},
     "output_type": "display_data"
    }
   ],
   "source": [
    "train_ds = torchvision.datasets.MNIST(root=\"data\", train=True,  download=True, transform=torchvision.transforms.ToTensor())\n",
    "train_ds = mnist_dataset(train_ds)\n",
    "test_ds = torchvision.datasets.MNIST(root=\"data\", train=False,  download=True, transform=torchvision.transforms.ToTensor())\n",
    "test_ds = mnist_dataset(test_ds)\n",
    "train_dl = torch.utils.data.DataLoader(train_ds, batch_size=10)\n",
    "test_dl = torch.utils.data.DataLoader(test_ds, batch_size=10)\n",
    "i_batch = 9\n",
    "for batch in test_dl:\n",
    "    # print(batch[0].squeeze().size())\n",
    "    # mnist_image = batch[0].squeeze()\n",
    "    a,b = batch\n",
    "    print(a.shape)\n",
    "    print(b.shape)\n",
    "    draw_box(a[i_batch], b[i_batch,1].item(),b[i_batch,2].item(),b[i_batch,3].item(),b[i_batch,4].item())\n",
    "    \n",
    "    # a = a.unsqueeze(0)\n",
    "    # a = F.interpolate(a, size=(28,28), mode='bilinear', align_corners=False)\n",
    "    # plt.figure()\n",
    "    # plt.imshow(a.squeeze().squeeze())\n",
    "    break"
   ]
  },
  {
   "cell_type": "code",
   "execution_count": 10,
   "id": "d0ccae58",
   "metadata": {},
   "outputs": [],
   "source": [
    "\n",
    "\n",
    "class YOLOLoss(nn.Module):\n",
    "    def __init__(self, num_classes=10, lambda_coord=5.0, lambda_noobj=0.5):\n",
    "        super(YOLOLoss, self).__init__()\n",
    "        self.num_classes = num_classes\n",
    "        self.lambda_coord = lambda_coord\n",
    "        self.lambda_noobj = lambda_noobj\n",
    "\n",
    "    def forward(self, predictions, targets):\n",
    "        \"\"\"\n",
    "        Calculate YOLO loss.\n",
    "\n",
    "        Args:\n",
    "        - predictions: Tensor of shape (batch_size, 15, S, S)\n",
    "        - targets: Tensor of shape (batch_size, 15, S, S)\n",
    "\n",
    "        Returns:\n",
    "        - loss: Scalar tensor representing the total YOLO loss.\n",
    "        \"\"\"\n",
    "        # Extract predicted and target values\n",
    "        pred_coords = predictions[:, 1:5]\n",
    "        pred_obj_prob = predictions[:, 0]\n",
    "        pred_class_probs = predictions[:, 5:]\n",
    "        # pred_class_probs = nn.functional.softmax(predictions[:, 5:], dim = 1)\n",
    "        # pred_class_probs = torch.argmax(pred_class_probs, dim = 1)\n",
    "        \n",
    "        \n",
    "        target_coords = targets[:, 1:5]\n",
    "        target_obj_prob = targets[:, 0]\n",
    "        target_class_probs = targets[:, 5:]\n",
    "        # target_class_probs = torch.argmax(target_class_probs, dim = 1)\n",
    "        \n",
    "        # Calculate localization loss\n",
    "        \n",
    "        loc_loss = torch.sum((pred_coords[:2] - target_coords[:2])**2)\n",
    "        loc_loss += torch.sum((torch.sqrt(pred_coords[2:]) - torch.sqrt(target_coords[2:]))**2)\n",
    "\n",
    "        \n",
    "        # Calculate confidence loss (object present)\n",
    "        obj_mask = target_obj_prob > 0\n",
    "        conf_loss_obj = torch.sum((pred_obj_prob[obj_mask] - target_obj_prob[obj_mask])**2)\n",
    "        \n",
    "        # Calculate confidence loss (object not present)\n",
    "        noobj_mask = target_obj_prob == 0\n",
    "        conf_loss_noobj = torch.sum((pred_obj_prob[noobj_mask])**2)\n",
    "        \n",
    "        # Calculate class prediction loss\n",
    "        class_loss = torch.sum((pred_class_probs - target_class_probs)**2)\n",
    "        # Combine the individual loss terms\n",
    "        loss = (\n",
    "            self.lambda_coord * loc_loss +\n",
    "            conf_loss_obj +\n",
    "            self.lambda_noobj * conf_loss_noobj +\n",
    "            class_loss\n",
    "        )\n",
    "        # print(pred_coords)\n",
    "        # print(target_coords)\n",
    "        # print(pred_obj_prob)\n",
    "        # print(target_obj_prob)\n",
    "        # print(pred_class_probs)\n",
    "        # print(target_class_probs)\n",
    "        # print(f'loc_loss = {loc_loss}')\n",
    "        # print(f'conf_loss_obj = {conf_loss_obj}')\n",
    "        # print(f'conf_loss_noobj = {conf_loss_noobj}')\n",
    "        # print(f'class_loss = {class_loss}')\n",
    "        return loss\n",
    "\n"
   ]
  },
  {
   "cell_type": "code",
   "execution_count": 35,
   "id": "08dde992-947a-4cd0-b70c-e76111645c63",
   "metadata": {},
   "outputs": [],
   "source": [
    "def boxes_intersection(box_pred, box_gt):\n",
    "    x1, y1, h1, w1 = box_pred[:,0],box_pred[:,1],box_pred[:,2],box_pred[:,3]\n",
    "    x2, y2, h2, w2 = box_gt[:,0],box_gt[:,1],box_gt[:,2],box_gt[:,3]\n",
    "    # Calculate half-width and half-height for each rectangle\n",
    "    half_width1, half_height1 = w1 / 2, h1 / 2\n",
    "    half_width2, half_height2 = w2 / 2, h2 / 2\n",
    "\n",
    "    # Calculate the coordinates of the top-left and bottom-right corners for each rectangle\n",
    "    top_left1 = (x1 - half_width1, y1 - half_height1)\n",
    "    bottom_right1 = (x1 + half_width1, y1 + half_height1)\n",
    "\n",
    "    top_left2 = (x2 - half_width2, y2 - half_height2)\n",
    "    bottom_right2 = (x2 + half_width2, y2 + half_height2)\n",
    "\n",
    "    # Calculate the intersection area\n",
    "    x_overlap = torch.max(torch.tensor(0), torch.min(bottom_right1[0], bottom_right2[0]) - torch.max(top_left1[0], top_left2[0]))\n",
    "    y_overlap = torch.max(torch.tensor(0), torch.min(bottom_right1[1], bottom_right2[1]) - torch.max(top_left1[1], top_left2[1]))\n",
    "\n",
    "    intersection_area = x_overlap * y_overlap\n",
    "\n",
    "    return intersection_area\n",
    "\n",
    "def calculate_iou(boxes_pred, boxes_gt):\n",
    "    box_pred_h, box_pred_w = boxes_pred[:,2], boxes_pred[:,3]\n",
    "    box_gt_h, box_gt_w = boxes_gt[:,2], boxes_gt[:,3]\n",
    "    intersection_area = boxes_intersection(boxes_pred, boxes_gt)\n",
    "    box_pred_area = box_pred_h * box_pred_w\n",
    "    box_gt_area = box_gt_h * box_gt_w\n",
    "    union_area = box_pred_area + box_gt_area - intersection_area\n",
    "    iou = intersection_area / union_area\n",
    "\n",
    "    return iou.mean()"
   ]
  },
  {
   "cell_type": "code",
   "execution_count": null,
   "id": "2cb3dbae-d7da-44fe-a3b4-928c53f4f439",
   "metadata": {},
   "outputs": [
    {
     "name": "stdout",
     "output_type": "stream",
     "text": [
      "Epoch: 0, Loss: 2238.362060546875\n",
      "Epoch: 0, Loss: 288.6283874511719\n",
      "Epoch: 0, Loss: 260.87286376953125\n",
      "Epoch: 0, Loss: 244.7198486328125\n",
      "Epoch: 0, Loss: 241.36990356445312\n",
      "Epoch: 0, Val_class_accuracy: 0.3074; box_coordinates_accuracy: 0.0017783122602850199\n",
      "Epoch: 1, Loss: 221.3355712890625\n",
      "Epoch: 1, Loss: 222.95651245117188\n",
      "Epoch: 1, Loss: 202.10128784179688\n",
      "Epoch: 1, Loss: 179.24795532226562\n",
      "Epoch: 1, Loss: 179.67051696777344\n",
      "Epoch: 1, Val_class_accuracy: 0.6237; box_coordinates_accuracy: 0.001758983009494841\n",
      "Epoch: 2, Loss: 174.4009552001953\n",
      "Epoch: 2, Loss: 167.5382080078125\n",
      "Epoch: 2, Loss: 134.9356689453125\n",
      "Epoch: 2, Loss: 120.42902374267578\n",
      "Epoch: 2, Loss: 127.70503234863281\n",
      "Epoch: 2, Val_class_accuracy: 0.7987; box_coordinates_accuracy: 0.0019122670637443662\n",
      "Epoch: 3, Loss: 113.00959777832031\n",
      "Epoch: 3, Loss: 115.7007827758789\n",
      "Epoch: 3, Loss: 92.29670715332031\n",
      "Epoch: 3, Loss: 89.32872772216797\n",
      "Epoch: 3, Loss: 80.1142349243164\n",
      "Epoch: 3, Val_class_accuracy: 0.8784; box_coordinates_accuracy: 0.002048627706244588\n",
      "Epoch: 4, Loss: 76.71330261230469\n",
      "Epoch: 4, Loss: 85.12002563476562\n",
      "Epoch: 4, Loss: 68.37171173095703\n",
      "Epoch: 4, Loss: 72.11031341552734\n",
      "Epoch: 4, Loss: 62.89022445678711\n",
      "Epoch: 4, Val_class_accuracy: 0.9038; box_coordinates_accuracy: 0.0021284243557602167\n",
      "Epoch: 5, Loss: 61.95393371582031\n",
      "Epoch: 5, Loss: 77.19182586669922\n",
      "Epoch: 5, Loss: 64.74114227294922\n",
      "Epoch: 5, Loss: 59.042259216308594\n",
      "Epoch: 5, Loss: 56.387855529785156\n",
      "Epoch: 5, Val_class_accuracy: 0.921; box_coordinates_accuracy: 0.002220836468040943\n",
      "Epoch: 6, Loss: 56.91328048706055\n",
      "Epoch: 6, Loss: 65.93763732910156\n",
      "Epoch: 6, Loss: 53.88883972167969\n",
      "Epoch: 6, Loss: 48.81039047241211\n",
      "Epoch: 6, Loss: 55.58906555175781\n",
      "Epoch: 6, Val_class_accuracy: 0.9321; box_coordinates_accuracy: 0.0022260905243456364\n",
      "Epoch: 7, Loss: 49.573028564453125\n",
      "Epoch: 7, Loss: 53.796539306640625\n",
      "Epoch: 7, Loss: 48.245941162109375\n",
      "Epoch: 7, Loss: 50.46866989135742\n",
      "Epoch: 7, Loss: 44.03966522216797\n",
      "Epoch: 7, Val_class_accuracy: 0.9405; box_coordinates_accuracy: 0.002321540843695402\n",
      "Epoch: 8, Loss: 50.923683166503906\n",
      "Epoch: 8, Loss: 49.65505599975586\n",
      "Epoch: 8, Loss: 41.74271774291992\n",
      "Epoch: 8, Loss: 47.30246353149414\n",
      "Epoch: 8, Loss: 41.553367614746094\n",
      "Epoch: 8, Val_class_accuracy: 0.9455; box_coordinates_accuracy: 0.0023264982737600803\n",
      "Epoch: 9, Loss: 50.48371887207031\n",
      "Epoch: 9, Loss: 42.949493408203125\n",
      "Epoch: 9, Loss: 42.52918243408203\n",
      "Epoch: 9, Loss: 34.30525588989258\n",
      "Epoch: 9, Loss: 35.707801818847656\n",
      "Epoch: 9, Val_class_accuracy: 0.9508; box_coordinates_accuracy: 0.0023631916847079992\n",
      "Epoch: 10, Loss: 41.181400299072266\n",
      "Epoch: 10, Loss: 39.38671112060547\n",
      "Epoch: 10, Loss: 43.89598083496094\n",
      "Epoch: 10, Loss: 31.2894344329834\n",
      "Epoch: 10, Loss: 33.839447021484375\n",
      "Epoch: 10, Val_class_accuracy: 0.956; box_coordinates_accuracy: 0.002484614960849285\n",
      "Epoch: 11, Loss: 37.30036163330078\n",
      "Epoch: 11, Loss: 38.05510711669922\n",
      "Epoch: 11, Loss: 34.523170471191406\n",
      "Epoch: 11, Loss: 35.38023376464844\n",
      "Epoch: 11, Loss: 34.167442321777344\n",
      "Epoch: 11, Val_class_accuracy: 0.9609; box_coordinates_accuracy: 0.0024615044239908457\n",
      "Epoch: 12, Loss: 37.3077392578125\n",
      "Epoch: 12, Loss: 35.292381286621094\n",
      "Epoch: 12, Loss: 32.98734664916992\n",
      "Epoch: 12, Loss: 33.70662307739258\n",
      "Epoch: 12, Loss: 29.92737579345703\n",
      "Epoch: 12, Val_class_accuracy: 0.9619; box_coordinates_accuracy: 0.0024609239771962166\n",
      "Epoch: 13, Loss: 31.799800872802734\n",
      "Epoch: 13, Loss: 36.29410934448242\n",
      "Epoch: 13, Loss: 33.44498825073242\n"
     ]
    }
   ],
   "source": [
    "\n",
    "device = \"cuda\" if torch.cuda.is_available() else \"cpu\"\n",
    "\n",
    "train_ds = torchvision.datasets.MNIST(root=\"data\", train=True,  download=True, transform=torchvision.transforms.ToTensor())\n",
    "train_ds = mnist_dataset(train_ds)\n",
    "\n",
    "\n",
    "# subset_indices = list(range(1))\n",
    "# train_ds = Subset(train_ds,subset_indices)\n",
    "\n",
    "\n",
    "test_ds = torchvision.datasets.MNIST(root=\"data\", train=False,  download=True, transform=torchvision.transforms.ToTensor())\n",
    "test_ds = mnist_dataset(test_ds)\n",
    "train_dl = torch.utils.data.DataLoader(train_ds, batch_size=256, shuffle=False, worker_init_fn=np.random.seed(seed_value))\n",
    "test_dl = torch.utils.data.DataLoader(test_ds, batch_size=256, shuffle=False)\n",
    "\n",
    "myCnn = MyCnn().to(device)\n",
    "loss = YOLOLoss()\n",
    "opt = torch.torch.optim.Adam(myCnn.parameters(), lr=1e-3)\n",
    "\n",
    "for t in range(40):\n",
    "    for idx, (x, y) in enumerate(train_dl):\n",
    "      x, y = x.to(device), y.to(device)\n",
    "      # plt.imshow(x[0,0,:,:].cpu())\n",
    "      logits = myCnn(x)\n",
    "      l = loss(logits, y)\n",
    "      opt.zero_grad()\n",
    "      l.backward()\n",
    "      opt.step()\n",
    "      if idx % 50 == 0: print(f\"Epoch: {t}, Loss: {l.item()}\")\n",
    "    with torch.no_grad():\n",
    "      correct = 0\n",
    "      total = 0\n",
    "      iou = 0\n",
    "      for x, y in test_dl:\n",
    "        x, y = x.to(device), y.to(device)\n",
    "        logits = myCnn(x)\n",
    "        iou += calculate_iou(logits[:,1:5], y[:,1:5])\n",
    "        class_probabilities = nn.functional.softmax(logits[:,5:], dim=1)\n",
    "        class_predictions = torch.argmax(class_probabilities,dim=1)\n",
    "        class_gt = torch.argmax(y[:,5:], dim=1)\n",
    "        total += y.size(0)\n",
    "        correct += (class_predictions == class_gt).sum().item()\n",
    "    iou_mean = iou/total\n",
    "    print(f\"Epoch: {t}, Val_class_accuracy: {correct/total}; box_coordinates_accuracy: {iou_mean.item()}\")\n",
    "    torch.save(myCnn.state_dict(), f\"./mnist-{t}.pt\")\n"
   ]
  },
  {
   "cell_type": "code",
   "execution_count": 191,
   "id": "b151c2a8-8af6-43c1-bb84-7c07f0cf993b",
   "metadata": {},
   "outputs": [
    {
     "data": {
      "text/plain": [
       "<All keys matched successfully>"
      ]
     },
     "execution_count": 191,
     "metadata": {},
     "output_type": "execute_result"
    }
   ],
   "source": [
    "model_path = 'mnist-19.pt'\n",
    "checkpoint = torch.load(model_path, map_location=torch.device('cpu'))  # Use 'cuda' if you saved the model on GPU\n",
    "\n",
    "# Step 3: Load the state dictionary into your model\n",
    "myCnn.load_state_dict(checkpoint)"
   ]
  },
  {
   "cell_type": "code",
   "execution_count": 40,
   "id": "d0e79f03-17fe-4f6c-a96d-8b59ffcb509a",
   "metadata": {
    "scrolled": true
   },
   "outputs": [
    {
     "data": {
      "text/plain": [
       "<Axes: >"
      ]
     },
     "execution_count": 40,
     "metadata": {},
     "output_type": "execute_result"
    },
    {
     "data": {
      "image/png": "[encoded data removed]",
      "text/plain": [
       "<Figure size 640x480 with 1 Axes>"
      ]
     },
     "metadata": {},
     "output_type": "display_data"
    }
   ],
   "source": [
    "i_batch = 3\n",
    "b = logits\n",
    "b.cpu()\n",
    "images = x\n",
    "images.cpu()\n",
    "draw_box(x[i_batch].cpu(), y[i_batch,1].item(),y[i_batch,2].item(),y[i_batch,3].item(),y[i_batch,4].item())\n"
   ]
  },
  {
   "cell_type": "code",
   "execution_count": 41,
   "id": "70bfd51f-970a-4438-8a59-db36b835d999",
   "metadata": {},
   "outputs": [
    {
     "data": {
      "text/plain": [
       "<Axes: >"
      ]
     },
     "execution_count": 41,
     "metadata": {},
     "output_type": "execute_result"
    },
    {
     "data": {
      "image/png": "[encoded data removed]",
      "text/plain": [
       "<Figure size 640x480 with 1 Axes>"
      ]
     },
     "metadata": {},
     "output_type": "display_data"
    }
   ],
   "source": [
    "draw_box(images[i_batch].cpu(), b[i_batch,1].item(),b[i_batch,2].item(),b[i_batch,3].item(),b[i_batch,4].item())"
   ]
  },
  {
   "cell_type": "code",
   "execution_count": 42,
   "id": "911b2643",
   "metadata": {},
   "outputs": [],
   "source": [
    "with torch.no_grad():\n",
    "  correct = 0\n",
    "  total = 0\n",
    "  for x, y in test_dl:\n",
    "    x, y = x.to(device), y.to(device)\n",
    "    logits = myCnn(x)\n",
    "    class_prediction = nn.functional.softmax(logits[:,5:], dim=1)\n",
    "    break"
   ]
  },
  {
   "cell_type": "code",
   "execution_count": 43,
   "id": "e25ebb23",
   "metadata": {},
   "outputs": [
    {
     "name": "stdout",
     "output_type": "stream",
     "text": [
      "gt class class: 3\n",
      "predicted class: 3\n"
     ]
    },
    {
     "data": {
      "image/png": "[encoded data removed]",
      "text/plain": [
       "<Figure size 640x480 with 1 Axes>"
      ]
     },
     "metadata": {},
     "output_type": "display_data"
    },
    {
     "data": {
      "image/png": "[encoded data removed]",
      "text/plain": [
       "<Figure size 640x480 with 1 Axes>"
      ]
     },
     "metadata": {},
     "output_type": "display_data"
    }
   ],
   "source": [
    "i_batch = 30\n",
    "print(f'gt class class: {torch.argmax(y[:,5:],dim=1)[i_batch]}')\n",
    "print(f'predicted class: {torch.argmax(class_prediction,dim=1)[i_batch]}')\n",
    "ax1 = draw_box(x[i_batch].cpu(), y[i_batch,1].item(),y[i_batch,2].item(),y[i_batch,3].item(),y[i_batch,4].item())\n",
    "b = logits\n",
    "b.cpu()\n",
    "images = x\n",
    "images.cpu()\n",
    "\n",
    "ax2 = draw_box(images[i_batch].cpu(), b[i_batch,1].item(),b[i_batch,2].item(),b[i_batch,3].item(),b[i_batch,4].item())\n",
    "plt.show()"
   ]
  },
  {
   "cell_type": "code",
   "execution_count": 285,
   "id": "edcdd504-4547-4733-9b6a-f42714dda772",
   "metadata": {},
   "outputs": [],
   "source": [
    "def calculate_accuracy(predictions, ground_truths, iou_threshold=0.5, confidence_threshold=0.5):\n",
    "    total_predictions = len(predictions)\n",
    "    correct_count = count_correct_predictions(predictions, ground_truths, iou_threshold, confidence_threshold)\n",
    "    accuracy = correct_count / total_predictions if total_predictions > 0 else 0\n",
    "    return accuracy\n",
    "\n",
    "\n",
    "def count_correct_predictions(predictions, ground_truths, iou_threshold=0.5, confidence_threshold=0.5):\n",
    "    correct_count = 0\n",
    "\n",
    "    for pred in predictions:\n",
    "        # Apply confidence threshold\n",
    "        if pred[0] < confidence_threshold:\n",
    "            continue\n",
    "\n",
    "        # Find the ground truth with the highest IoU\n",
    "        max_iou = max([calculate_iou(pred[1:5], gt[1:5]) for gt in ground_truths], default=0)\n",
    "\n",
    "        # Check if the prediction is correct\n",
    "        if max_iou >= iou_threshold:\n",
    "            correct_count += 1\n",
    "\n",
    "    return correct_count\n",
    "\n"
   ]
  },
  {
   "cell_type": "code",
   "execution_count": null,
   "id": "34818c01-91e3-46e8-ba31-242258673a7f",
   "metadata": {},
   "outputs": [],
   "source": []
  }
 ],
 "metadata": {
  "kernelspec": {
   "display_name": "Python 3 (ipykernel)",
   "language": "python",
   "name": "python3"
  },
  "language_info": {
   "codemirror_mode": {
    "name": "ipython",
    "version": 3
   },
   "file_extension": ".py",
   "mimetype": "text/x-python",
   "name": "python",
   "nbconvert_exporter": "python",
   "pygments_lexer": "ipython3",
   "version": "3.10.12"
  }
 },
 "nbformat": 4,
 "nbformat_minor": 5
}
