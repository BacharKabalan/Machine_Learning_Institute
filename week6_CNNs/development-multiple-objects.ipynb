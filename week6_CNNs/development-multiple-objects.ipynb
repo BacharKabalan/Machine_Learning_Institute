{
 "cells": [
  {
   "cell_type": "code",
   "execution_count": 3,
   "id": "6e67c4ba-0403-436e-ae7a-9eebb8d5b31b",
   "metadata": {},
   "outputs": [],
   "source": [
    "# pip install matplotlib"
   ]
  },
  {
   "cell_type": "code",
   "execution_count": 472,
   "id": "de63c585-610e-4c56-a0ae-68618798e33e",
   "metadata": {},
   "outputs": [],
   "source": [
    "import numpy as np\n",
    "import torch\n",
    "import torchvision\n",
    "# import cv2\n",
    "import base64\n",
    "from torch.utils.data import Dataset, DataLoader, Subset\n",
    "import matplotlib.pyplot as plt\n",
    "import torch.nn.functional as F\n",
    "import matplotlib.patches as patches\n",
    "import torch.nn as nn\n",
    "import random\n",
    "import matplotlib.image as mpimg\n",
    "from skimage.transform import resize\n"
   ]
  },
  {
   "cell_type": "code",
   "execution_count": 473,
   "id": "8df2a1e0-7659-4572-94e1-b5dd558b4330",
   "metadata": {},
   "outputs": [],
   "source": [
    "# Set seeds for reproducibility\n",
    "seed_value = 42\n",
    "\n",
    "# Set PyTorch seed\n",
    "torch.manual_seed(seed_value)\n",
    "\n",
    "# Set NumPy seed\n",
    "np.random.seed(seed_value)\n",
    "random.seed(seed_value)\n",
    "\n",
    "# If using CUDA (GPU), set the following flag\n",
    "torch.backends.cudnn.deterministic = True\n",
    "torch.backends.cudnn.benchmark = False  # Disable benchmark mode for deterministic results\n",
    "torch.cuda.manual_seed_all(seed_value)"
   ]
  },
  {
   "cell_type": "code",
   "execution_count": 474,
   "id": "369bdd42-85ca-4bf4-8cc0-5fe3a0c58206",
   "metadata": {},
   "outputs": [],
   "source": [
    "\n",
    "class mnist_dataset(Dataset):\n",
    "    def __init__(self, original_dataset):\n",
    "        self.original_dataset = original_dataset\n",
    "        self.image_size = 56\n",
    "        self.grids_size = 28\n",
    "        self.num_grid = int(2*self.image_size/self.grids_size)\n",
    "        self.num_classes = 10\n",
    "        self.labels_size = 15\n",
    "    def __len__(self):\n",
    "        return len(self.original_dataset)\n",
    "\n",
    "    def __getitem__(self,index):\n",
    "        grid_labels = torch.zeros((self.labels_size)) \n",
    "        image_labels = torch.zeros(int(self.num_grid*(self.labels_size)))\n",
    "        class_rank_start = 5 #the first 5 are reserved for object_found_probability and bounding box coordinates\n",
    "        image, label = self.original_dataset[index]\n",
    "        grid_labels[class_rank_start+label] = 1\n",
    "        image = self.inject_matrix(image)\n",
    "        box_center_h, box_center_w, box_h, box_w = self.coordinates_calculation_relative_2_image(image)\n",
    "        grid_image, grid_labels = self.labels_per_grid(image,box_center_h, box_center_w, box_h, box_w, grid_labels)\n",
    "        grid_image = grid_image[np.newaxis,:]\n",
    "        quadrant_grid = self.object_quadrant_location(box_center_h, box_center_w)\n",
    "        image_labels[quadrant_grid*grid_labels.size(0):(quadrant_grid+1)*grid_labels.size(0)] = grid_labels\n",
    "        return grid_image,image_labels\n",
    "\n",
    "    def inject_matrix(self,smaller_tensor):\n",
    "        # Get the shape of the matrices\n",
    "        # Create a larger tensor of size (200, 700) filled with zeros\n",
    "        larger_tensor = np.zeros((56,56), dtype=np.float32)\n",
    "\n",
    "        # target_size = (150, 150)\n",
    "        # smaller_tensor = smaller_tensor.unsqueeze(0)\n",
    "        # # Use torch.nn.functional.interpolate to resize the tensor\n",
    "        # smaller_tensor = F.interpolate(smaller_tensor, size=target_size, mode='bilinear', align_corners=False)\n",
    "        smaller_tensor = smaller_tensor.squeeze()\n",
    "        # Get the dimensions of the smaller tensor\n",
    "        smaller_rows, smaller_cols = smaller_tensor.shape\n",
    "        \n",
    "        # Generate random starting coordinates within the valid range\n",
    "        row_start = np.random.randint(0, larger_tensor.shape[0] - smaller_rows + 1)\n",
    "        col_start = np.random.randint(0, larger_tensor.shape[1] - smaller_cols + 1)\n",
    "        \n",
    "        # Inject the smaller tensor into the larger tensor at the random location\n",
    "        larger_tensor[row_start:row_start + smaller_rows, col_start:col_start + smaller_cols] = smaller_tensor\n",
    "        return larger_tensor[np.newaxis,:]\n",
    "    \n",
    "    def coordinates_calculation_relative_2_image(self,image):\n",
    "        h_min = np.Inf\n",
    "        h_max = -1\n",
    "        w_min = np.Inf\n",
    "        w_max = -1\n",
    "        h_image = image.shape[1]\n",
    "        w_image = image.shape[2]\n",
    "        min_found = 0\n",
    "        for i_h in range(h_image):\n",
    "            for i_w in range(w_image):\n",
    "                if image[:,i_h,i_w] != 0:\n",
    "                    if h_min > i_h:\n",
    "                        h_min = i_h\n",
    "                    if w_min > i_w:\n",
    "                        w_min = i_w\n",
    "                    if h_min > -1 and i_h > h_max:\n",
    "                        h_max = i_h\n",
    "                    if w_min > -1 and i_w > w_max:\n",
    "                        w_max = i_w\n",
    "        box_h = h_max - h_min\n",
    "        box_w = w_max - w_min\n",
    "        box_center_h = h_min + 0.5*box_h\n",
    "        box_center_w = w_min + 0.5*box_w\n",
    "        return box_center_h, box_center_w, box_h, box_w\n",
    "    \n",
    "    def labels_per_grid(self,image,box_center_h, box_center_w, box_h, box_w, grid_labels):\n",
    "        num_of_grids = image.shape[1]//self.image_size\n",
    "        for i_grid in range(num_of_grids):\n",
    "            grid_start = i_grid * self.image_size\n",
    "            grid_end = (i_grid+1) * self.image_size\n",
    "            grid_image = image[0,grid_start:grid_end,grid_start:grid_end]\n",
    "            grid_box_center_h, grid_box_center_w, grid_box_h, grid_box_w = self.coordinates_calculation_relative_2_grid(grid_image,box_center_h, box_center_w, box_h, box_w)\n",
    "            grid_labels[1:5] = torch.tensor([grid_box_center_h, grid_box_center_w, grid_box_h, grid_box_w]) \n",
    "        if box_center_h > grid_start and box_center_w > grid_start and box_center_h < grid_end and box_center_w < grid_end:\n",
    "            grid_labels[0] = 1\n",
    "        return grid_image, grid_labels #torch.tensor([grid_box_center_h, grid_box_center_w, grid_box_h, grid_box_w])\n",
    "            \n",
    "    \n",
    "    def coordinates_calculation_relative_2_grid(self, grid_image,box_center_h, box_center_w, box_h, box_w):\n",
    "        grid_box_center_h = box_center_h/self.image_size\n",
    "        grid_box_center_w = box_center_w/self.image_size\n",
    "        grid_box_h = box_h / self.image_size\n",
    "        grid_box_w = box_w / self.image_size\n",
    "        return grid_box_center_h, grid_box_center_w, grid_box_h, grid_box_w\n",
    "\n",
    "    def object_quadrant_location(self,box_center_h, box_center_w):\n",
    "        image_center = self.image_size/2 - 1 # '-1' because we start at 0 (0-55). use one varibale for center as we receive square images.\n",
    "        quadrant_grid = np.Inf\n",
    "        if box_center_h >= image_center: \n",
    "            if box_center_w >= image_center: \n",
    "                quadrant_grid = 3\n",
    "            else: \n",
    "                quadrant_grid = 2\n",
    "        if box_center_h < image_center:\n",
    "            if box_center_w >=image_center:\n",
    "                quadrant_grid = 1\n",
    "            else:\n",
    "                quadrant_grid = 0\n",
    "        return quadrant_grid"
   ]
  },
  {
   "cell_type": "code",
   "execution_count": 475,
   "id": "99506ac3-5cbd-47a4-8eb8-1c5090f2296d",
   "metadata": {},
   "outputs": [],
   "source": [
    "class MyCnn(torch.nn.Module):\n",
    "  def __init__(self):\n",
    "    super().__init__()\n",
    "    self.conv1 = torch.nn.Sequential(\n",
    "      torch.nn.Conv2d(in_channels=1, out_channels=32, kernel_size=3),\n",
    "      torch.nn.ReLU(),\n",
    "      torch.nn.Conv2d(in_channels=32, out_channels=32, kernel_size=3),\n",
    "      torch.nn.ReLU(),\n",
    "      torch.nn.Dropout2d(p=0.1)\n",
    "    )\n",
    "    self.conv2 = torch.nn.Sequential(\n",
    "      torch.nn.Conv2d(in_channels=32, out_channels=64, kernel_size=3),\n",
    "      torch.nn.ReLU(),\n",
    "      torch.nn.Conv2d(in_channels=64, out_channels=64, kernel_size=3),\n",
    "      torch.nn.ReLU(),\n",
    "      torch.nn.Dropout2d(p=0.1)\n",
    "    )\n",
    "    self.linear_relu_stack = torch.nn.Sequential(\n",
    "      torch.nn.Flatten(),\n",
    "      torch.nn.Linear(in_features=147456, out_features=128),\n",
    "      torch.nn.ReLU(),\n",
    "      torch.nn.Dropout(p=0.1),\n",
    "      torch.nn.Linear(in_features=128, out_features=60),\n",
    "      torch.nn.ReLU()\n",
    "    )\n",
    "\n",
    "  def forward(self, x):\n",
    "    x = self.conv1(x)\n",
    "    x = self.conv2(x)\n",
    "    logits = self.linear_relu_stack(x)\n",
    "    return logits"
   ]
  },
  {
   "cell_type": "code",
   "execution_count": 476,
   "id": "aac69a12",
   "metadata": {},
   "outputs": [],
   "source": [
    "def draw_box(image, label,ds):\n",
    "    confidence_thresholds = 0.7\n",
    "    i_quadrant = 0\n",
    "    object_found = 0\n",
    "    while i_quadrant <=3:\n",
    "        grid_labels = label[i_quadrant*ds.labels_size:(i_quadrant+1)*ds.labels_size][:5]\n",
    "        if grid_labels[0] >= confidence_thresholds:\n",
    "            object_found = 1\n",
    "            break\n",
    "        i_quadrant += 1\n",
    "    print('object found') if object_found else print('object not found')\n",
    "    box_center_h, box_center_w, box_height, box_width = grid_labels[1:]\n",
    "    fig, ax = plt.subplots(1)\n",
    "    box_center_h =np.floor(box_center_h * train_ds.image_size)\n",
    "    box_center_w =np.floor(box_center_w*train_ds.image_size)\n",
    "    box_height =np.floor(box_height*train_ds.image_size)\n",
    "    box_width =np.floor(box_width*train_ds.image_size)\n",
    "    y_min = box_center_h - 0.5 * box_height\n",
    "    x_min = box_center_w - 0.5 * box_width\n",
    "    # Display the image\n",
    "    ax.imshow(np.array(image[0,:,:]))\n",
    "    rect = patches.Rectangle((x_min, y_min), box_width, box_height, linewidth=1, edgecolor='r', facecolor='none')\n",
    "    ax.add_patch(rect)\n",
    "    return ax"
   ]
  },
  {
   "cell_type": "code",
   "execution_count": 477,
   "id": "4b08f591-0baa-421a-8771-876080cbdbf4",
   "metadata": {},
   "outputs": [
    {
     "name": "stdout",
     "output_type": "stream",
     "text": [
      "object found\n"
     ]
    },
    {
     "data": {
      "image/png": "[encoded data removed]",
      "text/plain": [
       "<Figure size 640x480 with 1 Axes>"
      ]
     },
     "metadata": {},
     "output_type": "display_data"
    }
   ],
   "source": [
    "train_ds = torchvision.datasets.MNIST(root=\"data\", train=True,  download=True, transform=torchvision.transforms.ToTensor())\n",
    "train_ds = mnist_dataset(train_ds)\n",
    "test_ds = torchvision.datasets.MNIST(root=\"data\", train=False,  download=True, transform=torchvision.transforms.ToTensor())\n",
    "test_ds = mnist_dataset(test_ds)\n",
    "train_dl = torch.utils.data.DataLoader(train_ds, batch_size=10)\n",
    "test_dl = torch.utils.data.DataLoader(test_ds, batch_size=10)\n",
    "i_batch = 0\n",
    "for batch in test_dl:\n",
    "    # print(batch[0].squeeze().size())\n",
    "    # mnist_image = batch[0].squeeze()\n",
    "    a,b = batch\n",
    "    draw_box(a[i_batch], b[i_batch],train_ds)\n",
    "    \n",
    "    # a = a.unsqueeze(0)\n",
    "    # a = F.interpolate(a, size=(28,28), mode='bilinear', align_corners=False)\n",
    "    # plt.figure()\n",
    "    # plt.imshow(a.squeeze().squeeze())\n",
    "    break"
   ]
  },
  {
   "cell_type": "code",
   "execution_count": 478,
   "id": "13cc38dd-c61e-4b9d-b273-cffa7971562c",
   "metadata": {},
   "outputs": [],
   "source": [
    "def boxes_intersection(box_pred, box_gt):\n",
    "    x1, y1, h1, w1 = box_pred[:,[0,4,8,12]],box_pred[:,[1,5,9,13]],box_pred[:,[2,6,10,14]],box_pred[:,[3,7,11,15]]\n",
    "    x2, y2, h2, w2 = box_gt[:,[0,4,8,12]],box_gt[:,[1,5,9,13]],box_gt[:,[2,6,10,14]],box_gt[:,[3,7,11,15]]\n",
    "    # Calculate half-width and half-height for each rectangle\n",
    "    half_width1, half_height1 = w1 / 2, h1 / 2\n",
    "    half_width2, half_height2 = w2 / 2, h2 / 2\n",
    "\n",
    "    # Calculate the coordinates of the top-left and bottom-right corners for each rectangle\n",
    "    top_left1 = (x1 - half_width1, y1 - half_height1)\n",
    "    bottom_right1 = (x1 + half_width1, y1 + half_height1)\n",
    "\n",
    "    top_left2 = (x2 - half_width2, y2 - half_height2)\n",
    "    bottom_right2 = (x2 + half_width2, y2 + half_height2)\n",
    "\n",
    "    # Calculate the intersection area\n",
    "    x_overlap = torch.max(torch.tensor(0), torch.min(bottom_right1[0], bottom_right2[0]) - torch.max(top_left1[0], top_left2[0]))\n",
    "    y_overlap = torch.max(torch.tensor(0), torch.min(bottom_right1[1], bottom_right2[1]) - torch.max(top_left1[1], top_left2[1]))\n",
    "\n",
    "    intersection_area = x_overlap * y_overlap\n",
    "\n",
    "    return intersection_area\n",
    "\n",
    "def calculate_iou(boxes_pred, boxes_gt):\n",
    "    box_pred_h, box_pred_w = boxes_pred[:,[2,6,10,14]],boxes_pred[:,[3,7,11,15]]\n",
    "    box_gt_h, box_gt_w = boxes_gt[:,[2,6,10,14]],boxes_gt[:,[3,7,11,15]]\n",
    "    intersection_area = boxes_intersection(boxes_pred, boxes_gt)\n",
    "    box_pred_area = box_pred_h * box_pred_w\n",
    "    box_gt_area = box_gt_h * box_gt_w\n",
    "    union_area = box_pred_area + box_gt_area - intersection_area\n",
    "    box_exist_mask = box_gt_area>0\n",
    "    iou = intersection_area[box_exist_mask] / union_area[box_exist_mask]\n",
    "    \n",
    "\n",
    "    return iou.mean()"
   ]
  },
  {
   "cell_type": "code",
   "execution_count": 479,
   "id": "f28bd85c-88ef-4f9f-ba89-f593b9164e50",
   "metadata": {},
   "outputs": [],
   "source": [
    "# box_1 = torch.tensor([0.75,0.75,0.5,0.5,0.75,0.75,0.5,0.5,0.25,0.25,0.5,0.5,0.25,0.25,0.5,0.5]).view(1,-1)\n",
    "# box_2 = torch.tensor([0.75,0.75,0.5,0.5,0.75,0.75,0.5,0.5,0.75,0.75,0.5,0.5,0.75,0.75,0.5,0.5]).view(1,-1)\n",
    "# calculate_iou(box_1, box_2)"
   ]
  },
  {
   "cell_type": "code",
   "execution_count": 480,
   "id": "d0ccae58",
   "metadata": {},
   "outputs": [],
   "source": [
    "\n",
    "class YOLOLoss(nn.Module):\n",
    "    def __init__(self, num_classes=10, lambda_coord=5.0, lambda_noobj=0.5):\n",
    "        super(YOLOLoss, self).__init__()\n",
    "        self.num_classes = num_classes\n",
    "        self.lambda_coord = lambda_coord\n",
    "        self.lambda_noobj = lambda_noobj\n",
    "\n",
    "\n",
    "    def extracting_predictions(self):\n",
    "        obj_indexes = torch.tensor([0,15,30,45])\n",
    "        coords_indexes = torch.tensor([1,2,3,4,16,17,18,19,31,32,33,34,46,47,48,49])\n",
    "        classes_grid_1 = torch.arange(5,15)\n",
    "        classes_grid_2 = torch.arange(20,30)\n",
    "        classes_grid_3 = torch.arange(35,45)\n",
    "        classes_grid_4 = torch.arange(50,60)\n",
    "        class_indexes = torch.cat([classes_grid_1,classes_grid_2,classes_grid_3,classes_grid_4])\n",
    "        return obj_indexes, coords_indexes, class_indexes\n",
    "    \n",
    "    def forward(self, predictions, targets):\n",
    "        \"\"\"\n",
    "        Calculate YOLO loss.\n",
    "\n",
    "        Args:\n",
    "        - predictions: Tensor of shape (batch_size, 15, S, S)\n",
    "        - targets: Tensor of shape (batch_size, 15, S, S)\n",
    "\n",
    "        Returns:\n",
    "        - loss: Scalar tensor representing the total YOLO loss.\n",
    "        \"\"\"\n",
    "        obj_indexes, coords_index, class_indexes = self.extracting_predictions()\n",
    "        # Extract predicted and target values\n",
    "        pred_coords = predictions[:, coords_index]\n",
    "        pred_obj_prob = predictions[:,obj_indexes]\n",
    "        pred_class_probs = predictions[:,class_indexes]\n",
    "        # pred_class_probs = nn.functional.softmax(predictions[:, 5:], dim = 1)\n",
    "        # pred_class_probs = torch.argmax(pred_class_probs, dim = 1)\n",
    "        \n",
    "        \n",
    "        target_coords = targets[:, coords_index]\n",
    "        target_obj_prob = targets[:,obj_indexes]\n",
    "        target_class_probs = targets[:,class_indexes]\n",
    "        # target_class_probs = torch.argmax(target_class_probs, dim = 1)\n",
    "        \n",
    "        # Calculate localization loss\n",
    "        \n",
    "        loc_loss = torch.sum((pred_coords[:2] - target_coords[:2])**2)\n",
    "        loc_loss += torch.sum((torch.sqrt(pred_coords[2:]) - torch.sqrt(target_coords[2:]))**2)\n",
    "\n",
    "        \n",
    "        # Calculate confidence loss (object present)\n",
    "        obj_mask = target_obj_prob > 0\n",
    "        conf_loss_obj = torch.sum((pred_obj_prob[obj_mask] - target_obj_prob[obj_mask])**2)\n",
    "        \n",
    "        # Calculate confidence loss (object not present)\n",
    "        noobj_mask = target_obj_prob == 0\n",
    "        conf_loss_noobj = torch.sum((pred_obj_prob[noobj_mask])**2)\n",
    "        \n",
    "        # Calculate class prediction loss\n",
    "        class_loss = torch.sum((pred_class_probs - target_class_probs)**2)\n",
    "        # Combine the individual loss terms\n",
    "        loss = (\n",
    "            self.lambda_coord * loc_loss +\n",
    "            conf_loss_obj +\n",
    "            self.lambda_noobj * conf_loss_noobj +\n",
    "            class_loss\n",
    "        )\n",
    "        return loss\n",
    "\n"
   ]
  },
  {
   "cell_type": "code",
   "execution_count": 489,
   "id": "2cb3dbae-d7da-44fe-a3b4-928c53f4f439",
   "metadata": {},
   "outputs": [
    {
     "name": "stdout",
     "output_type": "stream",
     "text": [
      "Epoch: 0, Loss: 2430.90380859375\n",
      "Epoch: 0, Loss: 687.906494140625\n",
      "Epoch: 0, Loss: 557.3648681640625\n",
      "Epoch: 0, Loss: 514.9249877929688\n",
      "Epoch: 0, Loss: 494.0277099609375\n",
      "Epoch: 0, Val_class_accuracy: 0.726675; box_coordinates_accuracy: 0.00026294676354154944\n",
      "Epoch: 1, Loss: 534.189453125\n",
      "Epoch: 1, Loss: 550.0094604492188\n",
      "Epoch: 1, Loss: 564.6138305664062\n",
      "Epoch: 1, Loss: 498.6450500488281\n",
      "Epoch: 1, Loss: 472.34783935546875\n",
      "Epoch: 1, Val_class_accuracy: 0.77595; box_coordinates_accuracy: 0.0003003589517902583\n",
      "Epoch: 2, Loss: 467.55218505859375\n",
      "Epoch: 2, Loss: 520.85791015625\n",
      "Epoch: 2, Loss: 351.658203125\n",
      "Epoch: 2, Loss: 363.40673828125\n",
      "Epoch: 2, Loss: 336.6388244628906\n",
      "Epoch: 2, Val_class_accuracy: 0.81435; box_coordinates_accuracy: 0.00031601451337337494\n",
      "Epoch: 3, Loss: 348.41485595703125\n",
      "Epoch: 3, Loss: 349.4437561035156\n",
      "Epoch: 3, Loss: 351.248291015625\n",
      "Epoch: 3, Loss: 368.7278137207031\n",
      "Epoch: 3, Loss: 328.79656982421875\n",
      "Epoch: 3, Val_class_accuracy: 0.845925; box_coordinates_accuracy: 0.0003251714224461466\n",
      "Epoch: 4, Loss: 374.3883056640625\n",
      "Epoch: 4, Loss: 280.0828857421875\n",
      "Epoch: 4, Loss: 314.5638732910156\n",
      "Epoch: 4, Loss: 271.5870056152344\n",
      "Epoch: 4, Loss: 295.2702941894531\n",
      "Epoch: 4, Val_class_accuracy: 0.877975; box_coordinates_accuracy: 0.0003145486116409302\n",
      "Epoch: 5, Loss: 291.4966125488281\n",
      "Epoch: 5, Loss: 312.6957092285156\n",
      "Epoch: 5, Loss: 298.7411804199219\n",
      "Epoch: 5, Loss: 275.508544921875\n",
      "Epoch: 5, Loss: 291.2427673339844\n",
      "Epoch: 5, Val_class_accuracy: 0.8966; box_coordinates_accuracy: 0.0003405483439564705\n",
      "Epoch: 6, Loss: 242.72621154785156\n",
      "Epoch: 6, Loss: 259.405029296875\n",
      "Epoch: 6, Loss: 236.5677490234375\n",
      "Epoch: 6, Loss: 292.71868896484375\n",
      "Epoch: 6, Loss: 234.98118591308594\n",
      "Epoch: 6, Val_class_accuracy: 0.914175; box_coordinates_accuracy: 0.00035915261832997203\n",
      "Epoch: 7, Loss: 245.66989135742188\n",
      "Epoch: 7, Loss: 321.9361877441406\n",
      "Epoch: 7, Loss: 229.81253051757812\n",
      "Epoch: 7, Loss: 228.4102020263672\n",
      "Epoch: 7, Loss: 188.60040283203125\n",
      "Epoch: 7, Val_class_accuracy: 0.92275; box_coordinates_accuracy: 0.0003803048166446388\n",
      "Epoch: 8, Loss: 259.0377502441406\n",
      "Epoch: 8, Loss: 241.1558837890625\n",
      "Epoch: 8, Loss: 194.7384033203125\n",
      "Epoch: 8, Loss: 205.04550170898438\n",
      "Epoch: 8, Loss: 216.10293579101562\n",
      "Epoch: 8, Val_class_accuracy: 0.92805; box_coordinates_accuracy: 0.00038365350337699056\n",
      "Epoch: 9, Loss: 230.07777404785156\n",
      "Epoch: 9, Loss: 235.92930603027344\n",
      "Epoch: 9, Loss: 245.33056640625\n",
      "Epoch: 9, Loss: 222.48974609375\n",
      "Epoch: 9, Loss: 232.96986389160156\n",
      "Epoch: 9, Val_class_accuracy: 0.930625; box_coordinates_accuracy: 0.00037878594594076276\n",
      "Epoch: 10, Loss: 230.49591064453125\n",
      "Epoch: 10, Loss: 220.1812744140625\n",
      "Epoch: 10, Loss: 194.5299835205078\n",
      "Epoch: 10, Loss: 207.384765625\n",
      "Epoch: 10, Loss: 194.44204711914062\n",
      "Epoch: 10, Val_class_accuracy: 0.9364; box_coordinates_accuracy: 0.0003963288909289986\n",
      "Epoch: 11, Loss: 220.71656799316406\n",
      "Epoch: 11, Loss: 237.0048370361328\n",
      "Epoch: 11, Loss: 176.4327850341797\n",
      "Epoch: 11, Loss: 214.3023681640625\n",
      "Epoch: 11, Loss: 227.88987731933594\n",
      "Epoch: 11, Val_class_accuracy: 0.9378; box_coordinates_accuracy: 0.00040508899837732315\n",
      "Epoch: 12, Loss: 226.90357971191406\n",
      "Epoch: 12, Loss: 239.9435577392578\n",
      "Epoch: 12, Loss: 193.79437255859375\n",
      "Epoch: 12, Loss: 175.74227905273438\n",
      "Epoch: 12, Loss: 227.81402587890625\n",
      "Epoch: 12, Val_class_accuracy: 0.939975; box_coordinates_accuracy: 0.00041717765270732343\n",
      "Epoch: 13, Loss: 189.02487182617188\n",
      "Epoch: 13, Loss: 191.29470825195312\n",
      "Epoch: 13, Loss: 213.57965087890625\n",
      "Epoch: 13, Loss: 200.67501831054688\n",
      "Epoch: 13, Loss: 198.69973754882812\n",
      "Epoch: 13, Val_class_accuracy: 0.942125; box_coordinates_accuracy: 0.0004378592420835048\n",
      "Epoch: 14, Loss: 225.8045196533203\n",
      "Epoch: 14, Loss: 201.19100952148438\n",
      "Epoch: 14, Loss: 170.88059997558594\n",
      "Epoch: 14, Loss: 188.80899047851562\n",
      "Epoch: 14, Loss: 229.67196655273438\n",
      "Epoch: 14, Val_class_accuracy: 0.941625; box_coordinates_accuracy: 0.0004281496803741902\n",
      "Epoch: 15, Loss: 216.90435791015625\n",
      "Epoch: 15, Loss: 223.756591796875\n",
      "Epoch: 15, Loss: 232.46044921875\n",
      "Epoch: 15, Loss: 251.33157348632812\n",
      "Epoch: 15, Loss: 194.3106231689453\n",
      "Epoch: 15, Val_class_accuracy: 0.944; box_coordinates_accuracy: 0.0004452606081031263\n",
      "Epoch: 16, Loss: 180.74591064453125\n",
      "Epoch: 16, Loss: 193.80282592773438\n",
      "Epoch: 16, Loss: 199.45468139648438\n",
      "Epoch: 16, Loss: 189.0811767578125\n",
      "Epoch: 16, Loss: 191.90896606445312\n",
      "Epoch: 16, Val_class_accuracy: 0.9464; box_coordinates_accuracy: 0.0004678072000388056\n",
      "Epoch: 17, Loss: 214.2278289794922\n",
      "Epoch: 17, Loss: 212.51266479492188\n",
      "Epoch: 17, Loss: 186.54959106445312\n",
      "Epoch: 17, Loss: 170.36160278320312\n",
      "Epoch: 17, Loss: 134.6974334716797\n",
      "Epoch: 17, Val_class_accuracy: 0.9457; box_coordinates_accuracy: 0.0005536191165447235\n",
      "Epoch: 18, Loss: 90.19078826904297\n",
      "Epoch: 18, Loss: 84.52242279052734\n",
      "Epoch: 18, Loss: 90.25514221191406\n",
      "Epoch: 18, Loss: 100.26603698730469\n",
      "Epoch: 18, Loss: 84.44821166992188\n",
      "Epoch: 18, Val_class_accuracy: 0.9465; box_coordinates_accuracy: 0.0005728823016397655\n",
      "Epoch: 19, Loss: 93.79460906982422\n",
      "Epoch: 19, Loss: 108.71263122558594\n",
      "Epoch: 19, Loss: 82.99335479736328\n",
      "Epoch: 19, Loss: 98.46913146972656\n",
      "Epoch: 19, Loss: 108.92533874511719\n",
      "Epoch: 19, Val_class_accuracy: 0.94875; box_coordinates_accuracy: 0.0006029268843121827\n",
      "Epoch: 20, Loss: 78.01091766357422\n",
      "Epoch: 20, Loss: 79.41148376464844\n",
      "Epoch: 20, Loss: 91.49021911621094\n",
      "Epoch: 20, Loss: 79.46286010742188\n",
      "Epoch: 20, Loss: 95.19799041748047\n",
      "Epoch: 20, Val_class_accuracy: 0.949025; box_coordinates_accuracy: 0.0006107814842835069\n",
      "Epoch: 21, Loss: 82.99762725830078\n",
      "Epoch: 21, Loss: 84.47088623046875\n",
      "Epoch: 21, Loss: 72.44366455078125\n",
      "Epoch: 21, Loss: 90.21630096435547\n",
      "Epoch: 21, Loss: 85.75106048583984\n",
      "Epoch: 21, Val_class_accuracy: 0.950375; box_coordinates_accuracy: 0.0006124197971075773\n",
      "Epoch: 22, Loss: 92.76089477539062\n",
      "Epoch: 22, Loss: 83.52413940429688\n",
      "Epoch: 22, Loss: 72.04340362548828\n",
      "Epoch: 22, Loss: 71.83028411865234\n",
      "Epoch: 22, Loss: 99.05776977539062\n",
      "Epoch: 22, Val_class_accuracy: 0.9504; box_coordinates_accuracy: 0.0006261100643314421\n",
      "Epoch: 23, Loss: 103.76204681396484\n",
      "Epoch: 23, Loss: 117.45694732666016\n",
      "Epoch: 23, Loss: 79.53300476074219\n",
      "Epoch: 23, Loss: 104.15149688720703\n",
      "Epoch: 23, Loss: 73.30039978027344\n",
      "Epoch: 23, Val_class_accuracy: 0.949525; box_coordinates_accuracy: 0.0006209194543771446\n",
      "Epoch: 24, Loss: 95.9603271484375\n",
      "Epoch: 24, Loss: 84.86614990234375\n",
      "Epoch: 24, Loss: 72.89288330078125\n",
      "Epoch: 24, Loss: 104.50806427001953\n",
      "Epoch: 24, Loss: 83.39073944091797\n",
      "Epoch: 24, Val_class_accuracy: 0.95255; box_coordinates_accuracy: 0.0006434229435399175\n",
      "Epoch: 25, Loss: 98.08663940429688\n",
      "Epoch: 25, Loss: 107.54702758789062\n",
      "Epoch: 25, Loss: 72.91122436523438\n",
      "Epoch: 25, Loss: 103.31443786621094\n",
      "Epoch: 25, Loss: 89.54471588134766\n",
      "Epoch: 25, Val_class_accuracy: 0.951975; box_coordinates_accuracy: 0.0006460099248215556\n",
      "Epoch: 26, Loss: 79.46062469482422\n",
      "Epoch: 26, Loss: 78.82311248779297\n",
      "Epoch: 26, Loss: 71.42010498046875\n",
      "Epoch: 26, Loss: 78.39378356933594\n",
      "Epoch: 26, Loss: 85.60556030273438\n",
      "Epoch: 26, Val_class_accuracy: 0.9513; box_coordinates_accuracy: 0.0006665709661319852\n",
      "Epoch: 27, Loss: 70.88983917236328\n",
      "Epoch: 27, Loss: 73.73886108398438\n",
      "Epoch: 27, Loss: 77.35255432128906\n",
      "Epoch: 27, Loss: 74.44139862060547\n",
      "Epoch: 27, Loss: 83.43418884277344\n",
      "Epoch: 27, Val_class_accuracy: 0.95155; box_coordinates_accuracy: 0.000621498329564929\n",
      "Epoch: 28, Loss: 82.29293060302734\n",
      "Epoch: 28, Loss: 71.97969055175781\n",
      "Epoch: 28, Loss: 80.48896789550781\n",
      "Epoch: 28, Loss: 78.65644836425781\n",
      "Epoch: 28, Loss: 81.63784790039062\n",
      "Epoch: 28, Val_class_accuracy: 0.950375; box_coordinates_accuracy: 0.0006545049254782498\n",
      "Epoch: 29, Loss: 83.08082580566406\n",
      "Epoch: 29, Loss: 86.56031036376953\n",
      "Epoch: 29, Loss: 78.40959167480469\n",
      "Epoch: 29, Loss: 96.45852661132812\n",
      "Epoch: 29, Loss: 95.7336654663086\n",
      "Epoch: 29, Val_class_accuracy: 0.950825; box_coordinates_accuracy: 0.0006421894649975002\n",
      "Epoch: 30, Loss: 68.68085479736328\n",
      "Epoch: 30, Loss: 79.64199829101562\n",
      "Epoch: 30, Loss: 82.2431411743164\n",
      "Epoch: 30, Loss: 101.78152465820312\n",
      "Epoch: 30, Loss: 73.77592468261719\n",
      "Epoch: 30, Val_class_accuracy: 0.9526; box_coordinates_accuracy: 0.0006562749622389674\n",
      "Epoch: 31, Loss: 77.33236694335938\n",
      "Epoch: 31, Loss: 90.42427825927734\n",
      "Epoch: 31, Loss: 79.51091003417969\n",
      "Epoch: 31, Loss: 74.37815856933594\n",
      "Epoch: 31, Loss: 73.6446533203125\n",
      "Epoch: 31, Val_class_accuracy: 0.95355; box_coordinates_accuracy: 0.0006690683658234775\n",
      "Epoch: 32, Loss: 65.96350860595703\n",
      "Epoch: 32, Loss: 76.62408447265625\n",
      "Epoch: 32, Loss: 84.25970458984375\n",
      "Epoch: 32, Loss: 74.33457946777344\n",
      "Epoch: 32, Loss: 82.73387145996094\n",
      "Epoch: 32, Val_class_accuracy: 0.9537; box_coordinates_accuracy: 0.000658829347230494\n",
      "Epoch: 33, Loss: 77.4389419555664\n",
      "Epoch: 33, Loss: 86.47534942626953\n",
      "Epoch: 33, Loss: 67.40788269042969\n",
      "Epoch: 33, Loss: 67.25777435302734\n",
      "Epoch: 33, Loss: 80.74732971191406\n",
      "Epoch: 33, Val_class_accuracy: 0.956; box_coordinates_accuracy: 0.0006771850166842341\n",
      "Epoch: 34, Loss: 70.69441986083984\n",
      "Epoch: 34, Loss: 76.42549133300781\n",
      "Epoch: 34, Loss: 66.87217712402344\n",
      "Epoch: 34, Loss: 70.35745239257812\n",
      "Epoch: 34, Loss: 64.85285949707031\n",
      "Epoch: 34, Val_class_accuracy: 0.954175; box_coordinates_accuracy: 0.0006665819673798978\n",
      "Epoch: 35, Loss: 75.10006713867188\n",
      "Epoch: 35, Loss: 69.16670227050781\n",
      "Epoch: 35, Loss: 67.4344253540039\n",
      "Epoch: 35, Loss: 79.8840103149414\n",
      "Epoch: 35, Loss: 80.5992431640625\n",
      "Epoch: 35, Val_class_accuracy: 0.956275; box_coordinates_accuracy: 0.0006792351487092674\n",
      "Epoch: 36, Loss: 84.32449340820312\n",
      "Epoch: 36, Loss: 65.37110137939453\n",
      "Epoch: 36, Loss: 73.9576187133789\n",
      "Epoch: 36, Loss: 73.96813201904297\n",
      "Epoch: 36, Loss: 66.74093627929688\n",
      "Epoch: 36, Val_class_accuracy: 0.955575; box_coordinates_accuracy: 0.0006853618542663753\n",
      "Epoch: 37, Loss: 66.68699645996094\n",
      "Epoch: 37, Loss: 77.26229858398438\n",
      "Epoch: 37, Loss: 82.9928970336914\n",
      "Epoch: 37, Loss: 64.39318084716797\n",
      "Epoch: 37, Loss: 74.51323699951172\n",
      "Epoch: 37, Val_class_accuracy: 0.955925; box_coordinates_accuracy: 0.0006716207135468721\n",
      "Epoch: 38, Loss: 83.50048828125\n",
      "Epoch: 38, Loss: 86.61155700683594\n",
      "Epoch: 38, Loss: 67.26204681396484\n",
      "Epoch: 38, Loss: 70.70279693603516\n",
      "Epoch: 38, Loss: 71.36944580078125\n",
      "Epoch: 38, Val_class_accuracy: 0.954425; box_coordinates_accuracy: 0.0006747248698957264\n",
      "Epoch: 39, Loss: 63.01791763305664\n",
      "Epoch: 39, Loss: 108.7159423828125\n",
      "Epoch: 39, Loss: 73.49693298339844\n",
      "Epoch: 39, Loss: 83.73802185058594\n",
      "Epoch: 39, Loss: 77.62052154541016\n",
      "Epoch: 39, Val_class_accuracy: 0.9565; box_coordinates_accuracy: 0.0006783009739592671\n"
     ]
    }
   ],
   "source": [
    "\n",
    "device = \"cuda\" if torch.cuda.is_available() else \"cpu\"\n",
    "batch_size = 256\n",
    "train_ds = torchvision.datasets.MNIST(root=\"data\", train=True,  download=True, transform=torchvision.transforms.ToTensor())\n",
    "train_ds = mnist_dataset(train_ds)\n",
    "\n",
    "\n",
    "# subset_indices = list(range(1))\n",
    "# train_ds = Subset(train_ds,subset_indices)\n",
    "\n",
    "\n",
    "test_ds = torchvision.datasets.MNIST(root=\"data\", train=False,  download=True, transform=torchvision.transforms.ToTensor())\n",
    "test_ds = mnist_dataset(test_ds)\n",
    "\n",
    "# subset_indices = list(range(128))\n",
    "# test_ds = Subset(train_ds,subset_indices)\n",
    "\n",
    "train_dl = torch.utils.data.DataLoader(train_ds, batch_size=batch_size, shuffle=False, worker_init_fn=np.random.seed(seed_value))\n",
    "test_dl = torch.utils.data.DataLoader(test_ds, batch_size=batch_size, shuffle=False)\n",
    "\n",
    "myCnn = MyCnn().to(device)\n",
    "loss = YOLOLoss()\n",
    "opt = torch.torch.optim.Adam(myCnn.parameters(), lr=1e-3)\n",
    "\n",
    "for t in range(40):\n",
    "    for idx, (x, y) in enumerate(train_dl):\n",
    "      x, y = x.to(device), y.to(device)\n",
    "      # plt.imshow(x[0,0,:,:].cpu())\n",
    "      logits = myCnn(x)\n",
    "      l = loss(logits, y)\n",
    "      opt.zero_grad()\n",
    "      l.backward()\n",
    "      opt.step()\n",
    "      if idx % 50 == 0: print(f\"Epoch: {t}, Loss: {l.item()}\")\n",
    "    with torch.no_grad():\n",
    "      correct = 0\n",
    "      total = 0\n",
    "      iou = 0\n",
    "      for x, y in test_dl:\n",
    "        validation_batch_size = y.size(0)\n",
    "        x, y = x.to(device), y.to(device)\n",
    "        logits = myCnn(x)\n",
    "        \n",
    "        _,coords_indexes, class_indexes = loss.extracting_predictions()\n",
    "        iou += calculate_iou(logits[:,coords_indexes], y[:,coords_indexes])\n",
    "        class_probabilities = nn.functional.softmax(logits[:,class_indexes], dim=1)\n",
    "        class_predictions = torch.argmax(class_probabilities.view(validation_batch_size,train_ds.num_grid,train_ds.num_classes),dim =2)\n",
    "        class_gt = torch.argmax(y[:,class_indexes].view(validation_batch_size,train_ds.num_grid,train_ds.num_classes),dim =2)\n",
    "        total += y.size(0)*train_ds.num_grid\n",
    "        correct += (class_predictions == class_gt).sum().item()\n",
    "    iou_mean = iou/total\n",
    "    print(f\"Epoch: {t}, Val_class_accuracy: {correct/total}; box_coordinates_accuracy: {iou_mean.item()}\")\n",
    "    torch.save(myCnn.state_dict(), f\"./mult_obj_mnist-{t}.pt\")\n"
   ]
  },
  {
   "cell_type": "code",
   "execution_count": 482,
   "id": "b151c2a8-8af6-43c1-bb84-7c07f0cf993b",
   "metadata": {},
   "outputs": [
    {
     "data": {
      "text/plain": [
       "<All keys matched successfully>"
      ]
     },
     "execution_count": 482,
     "metadata": {},
     "output_type": "execute_result"
    }
   ],
   "source": [
    "model_path = 'mult_obj_mnist-18.pt'\n",
    "checkpoint = torch.load(model_path, map_location=torch.device('cpu'))  # Use 'cuda' if you saved the model on GPU\n",
    "\n",
    "# Step 3: Load the state dictionary into your model\n",
    "myCnn.load_state_dict(checkpoint)"
   ]
  },
  {
   "cell_type": "code",
   "execution_count": 483,
   "id": "d0e79f03-17fe-4f6c-a96d-8b59ffcb509a",
   "metadata": {
    "scrolled": true
   },
   "outputs": [
    {
     "name": "stdout",
     "output_type": "stream",
     "text": [
      "object found\n",
      "object found\n"
     ]
    },
    {
     "data": {
      "text/plain": [
       "<Axes: >"
      ]
     },
     "execution_count": 483,
     "metadata": {},
     "output_type": "execute_result"
    },
    {
     "data": {
      "image/png": "[encoded data removed]",
      "text/plain": [
       "<Figure size 640x480 with 1 Axes>"
      ]
     },
     "metadata": {},
     "output_type": "display_data"
    },
    {
     "data": {
      "image/png": "[encoded data removed]",
      "text/plain": [
       "<Figure size 640x480 with 1 Axes>"
      ]
     },
     "metadata": {},
     "output_type": "display_data"
    }
   ],
   "source": [
    "i_batch = 0\n",
    "b = logits\n",
    "b.cpu()\n",
    "images = x\n",
    "images.cpu()\n",
    "draw_box(images[i_batch].cpu(), y[i_batch].cpu(),train_ds)\n",
    "draw_box(images[i_batch].cpu(), b[i_batch].cpu(),train_ds)"
   ]
  },
  {
   "cell_type": "code",
   "execution_count": 484,
   "id": "c8b75303-9bf1-4843-bf44-67e3c9b0eddc",
   "metadata": {},
   "outputs": [
    {
     "ename": "RuntimeError",
     "evalue": "shape '[1, 4, 15]' is invalid for input of size 960",
     "output_type": "error",
     "traceback": [
      "\u001b[0;31m---------------------------------------------------------------------------\u001b[0m",
      "\u001b[0;31mRuntimeError\u001b[0m                              Traceback (most recent call last)",
      "Cell \u001b[0;32mIn[484], line 1\u001b[0m\n\u001b[0;32m----> 1\u001b[0m \u001b[43mlogits\u001b[49m\u001b[38;5;241;43m.\u001b[39;49m\u001b[43mview\u001b[49m\u001b[43m(\u001b[49m\u001b[38;5;241;43m1\u001b[39;49m\u001b[43m,\u001b[49m\u001b[38;5;241;43m4\u001b[39;49m\u001b[43m,\u001b[49m\u001b[38;5;241;43m15\u001b[39;49m\u001b[43m)\u001b[49m\n",
      "\u001b[0;31mRuntimeError\u001b[0m: shape '[1, 4, 15]' is invalid for input of size 960"
     ]
    }
   ],
   "source": [
    "logits.view(1,4,15)"
   ]
  },
  {
   "cell_type": "code",
   "execution_count": 485,
   "id": "911b2643",
   "metadata": {},
   "outputs": [],
   "source": [
    "with torch.no_grad():\n",
    "  correct = 0\n",
    "  total = 0\n",
    "  for x, y in test_dl:\n",
    "    x, y = x.to(device), y.to(device)\n",
    "    validation_batch_size = y.size(0)\n",
    "    logits = myCnn(x)\n",
    "    _,_, class_indexes = loss.extracting_predictions()  \n",
    "    class_probabilities = nn.functional.softmax(logits[:,class_indexes], dim=1)\n",
    "    class_predictions = torch.argmax(class_probabilities.view(validation_batch_size,train_ds.num_grid,train_ds.num_classes),dim =2)\n",
    "    class_gt = torch.argmax(y[:,class_indexes].view(validation_batch_size,train_ds.num_grid,train_ds.num_classes),dim =2)\n",
    "    break"
   ]
  },
  {
   "cell_type": "code",
   "execution_count": 486,
   "id": "fb5bab4f-feeb-4141-b2e0-30f6e5213366",
   "metadata": {},
   "outputs": [
    {
     "name": "stdout",
     "output_type": "stream",
     "text": [
      "gt class class: tensor([0, 0, 0, 9], device='cuda:0')\n",
      "predicted class: tensor([0, 0, 0, 7], device='cuda:0')\n",
      "object found\n",
      "object found\n"
     ]
    },
    {
     "data": {
      "image/png": "[encoded data removed]",
      "text/plain": [
       "<Figure size 640x480 with 1 Axes>"
      ]
     },
     "metadata": {},
     "output_type": "display_data"
    },
    {
     "data": {
      "image/png": "[encoded data removed]",
      "text/plain": [
       "<Figure size 640x480 with 1 Axes>"
      ]
     },
     "metadata": {},
     "output_type": "display_data"
    }
   ],
   "source": [
    "i_batch = 9\n",
    "print(f'gt class class: {class_gt[i_batch]}')\n",
    "print(f'predicted class: {class_predictions[i_batch]}')\n",
    "b = logits\n",
    "b.cpu()\n",
    "images = x\n",
    "images.cpu()\n",
    "\n",
    "draw_box(images[i_batch].cpu(), y[i_batch].cpu(),train_ds)\n",
    "draw_box(images[i_batch].cpu(), b[i_batch].cpu(),train_ds)\n",
    "plt.title(f'{class_predictions[i_batch]}')\n",
    "plt.show()"
   ]
  },
  {
   "cell_type": "code",
   "execution_count": 462,
   "id": "7f27a465-7525-4a15-ba63-df4c5fe065bb",
   "metadata": {},
   "outputs": [
    {
     "data": {
      "text/plain": [
       "tensor([[[0.0000, 0.0000, 0.0000, 0.0000, 0.0000, 0.0000, 0.0000, 0.0000,\n",
       "          0.0000, 0.0000, 0.0000, 0.0000, 0.0000, 0.0000, 0.0000],\n",
       "         [0.0000, 0.0000, 0.0000, 0.0000, 0.0000, 0.0000, 0.0000, 0.0000,\n",
       "          0.0000, 0.0000, 0.0000, 0.0000, 0.0000, 0.0000, 0.0000],\n",
       "         [0.0000, 0.0000, 0.0000, 0.0000, 0.0000, 0.0000, 0.0000, 0.0000,\n",
       "          0.0000, 0.0000, 0.0000, 0.0000, 0.0000, 0.0000, 0.0000],\n",
       "         [1.0634, 0.6306, 0.6024, 0.3507, 0.3674, 0.0000, 0.0000, 0.0000,\n",
       "          0.0000, 0.0000, 0.0000, 0.0000, 0.5917, 0.0892, 0.2929]]],\n",
       "       device='cuda:0')"
      ]
     },
     "execution_count": 462,
     "metadata": {},
     "output_type": "execute_result"
    }
   ],
   "source": [
    "logits[9].view(1,4,15)"
   ]
  },
  {
   "cell_type": "code",
   "execution_count": 397,
   "id": "e25ebb23",
   "metadata": {},
   "outputs": [],
   "source": [
    "# i_batch = 9\n",
    "# print(f'gt class class: {torch.argmax(y[:,5:],dim=1)[i_batch]}')\n",
    "# print(f'predicted class: {torch.argmax(class_prediction,dim=1)[i_batch]}')\n",
    "# ax1 = draw_box(x[i_batch].cpu(), y[i_batch,1].item(),y[i_batch,2].item(),y[i_batch,3].item(),y[i_batch,4].item())\n",
    "# b = logits\n",
    "# b.cpu()\n",
    "# images = x\n",
    "# images.cpu()\n",
    "\n",
    "# ax2 = draw_box(images[i_batch].cpu(), b[i_batch,1].item(),b[i_batch,2].item(),b[i_batch,3].item(),b[i_batch,4].item())\n",
    "# plt.show()"
   ]
  },
  {
   "cell_type": "code",
   "execution_count": 398,
   "id": "edcdd504-4547-4733-9b6a-f42714dda772",
   "metadata": {},
   "outputs": [],
   "source": [
    "# def calculate_accuracy(predictions, ground_truths, iou_threshold=0.5, confidence_threshold=0.5):\n",
    "#     total_predictions = len(predictions)\n",
    "#     correct_count = count_correct_predictions(predictions, ground_truths, iou_threshold, confidence_threshold)\n",
    "#     accuracy = correct_count / total_predictions if total_predictions > 0 else 0\n",
    "#     return accuracy\n",
    "\n",
    "\n",
    "# def count_correct_predictions(predictions, ground_truths, iou_threshold=0.5, confidence_threshold=0.5):\n",
    "#     correct_count = 0\n",
    "\n",
    "#     for pred in predictions:\n",
    "#         # Apply confidence threshold\n",
    "#         if pred[0] < confidence_threshold:\n",
    "#             continue\n",
    "\n",
    "#         # Find the ground truth with the highest IoU\n",
    "#         max_iou = max([calculate_iou(pred[1:5], gt[1:5]) for gt in ground_truths], default=0)\n",
    "\n",
    "#         # Check if the prediction is correct\n",
    "#         if max_iou >= iou_threshold:\n",
    "#             correct_count += 1\n",
    "\n",
    "#     return correct_count\n",
    "\n"
   ]
  },
  {
   "cell_type": "code",
   "execution_count": 487,
   "id": "f9bb0bd2-f38f-4dbe-8894-2f5f8a84495a",
   "metadata": {},
   "outputs": [
    {
     "name": "stdout",
     "output_type": "stream",
     "text": [
      "(1, 56, 56)\n",
      "object found\n"
     ]
    },
    {
     "data": {
      "image/png": "[encoded data removed]",
      "text/plain": [
       "<Figure size 640x480 with 1 Axes>"
      ]
     },
     "metadata": {},
     "output_type": "display_data"
    }
   ],
   "source": [
    "image_path = \"theera_7_second_quadrant.png\"\n",
    "image = mpimg.imread(image_path)\n",
    "image = resize(image,(56,56,1))\n",
    "image = np.moveaxis(image, -1, 0)\n",
    "print(image.shape)\n",
    "# Step 3: Plot the image using plt.imshow\n",
    "# plt.imshow(image[0])\n",
    "# plt.axis(\"off\")  # Optionally turn off axis labels\n",
    "# plt.show()\n",
    "image = torch.tensor(image).unsqueeze(0)\n",
    "image = image.to(device)\n",
    "with torch.no_grad():\n",
    "    logits = myCnn(image)\n",
    "    # _,coords_indexes, class_indexes = loss.extracting_predictions()\n",
    "    # iou += calculate_iou(logits[:,coords_indexes], y[:,coords_indexes])\n",
    "    # class_probabilities = nn.functional.softmax(logits[:,class_indexes], dim=1)\n",
    "    # class_predictions = torch.argmax(class_probabilities.view(validation_batch_size,train_ds.num_grid,train_ds.num_classes),dim =2)\n",
    "    # class_gt = torch.argmax(y[:,class_indexes].view(validation_batch_size,train_ds.num_grid,train_ds.num_classes),dim =2)\n",
    "    # total += y.size(0)*train_ds.num_grid\n",
    "    # correct += (class_predictions == class_gt).sum().item()\n",
    "    draw_box(image[0].cpu(), logits[0].cpu(),train_ds)"
   ]
  },
  {
   "cell_type": "code",
   "execution_count": 402,
   "id": "70d9267b-0f17-4015-8f73-ae988af297d6",
   "metadata": {},
   "outputs": [
    {
     "data": {
      "text/plain": [
       "tensor([[[0.3777, 0.1044, 0.0390, 0.0977, 0.1036, 0.0109, 0.0000, 0.0000,\n",
       "          0.0000, 0.0089, 0.0000, 0.0000, 0.0000, 0.0483, 0.0000],\n",
       "         [0.3580, 0.1367, 0.1683, 0.1157, 0.1627, 0.0590, 0.0000, 0.1352,\n",
       "          0.0000, 0.0363, 0.0749, 0.1252, 0.0000, 0.0122, 0.0000],\n",
       "         [0.2839, 0.1380, 0.1043, 0.1120, 0.1108, 0.0000, 0.0000, 0.4780,\n",
       "          0.0312, 0.0000, 0.0000, 0.1030, 0.0000, 0.0000, 0.0000],\n",
       "         [0.1734, 0.0000, 0.1071, 0.0000, 0.1653, 0.1326, 0.0000, 0.1099,\n",
       "          0.0000, 0.0000, 0.0715, 0.0952, 0.0000, 0.0000, 0.0000]]],\n",
       "       device='cuda:0')"
      ]
     },
     "execution_count": 402,
     "metadata": {},
     "output_type": "execute_result"
    }
   ],
   "source": [
    "logits.view(1,4,15)"
   ]
  },
  {
   "cell_type": "code",
   "execution_count": 442,
   "id": "957a889f-a1cc-4dd7-879d-06f28e2fd252",
   "metadata": {},
   "outputs": [],
   "source": [
    "image_0 = x[3][0].cpu()"
   ]
  },
  {
   "cell_type": "code",
   "execution_count": 443,
   "id": "f9e8da84-c75c-40be-ab4b-27158c8afbbb",
   "metadata": {},
   "outputs": [],
   "source": [
    "image_7 = x[0][0].cpu()"
   ]
  },
  {
   "cell_type": "code",
   "execution_count": 444,
   "id": "e483c90d-8e02-4362-b850-b041b589f415",
   "metadata": {},
   "outputs": [],
   "source": [
    "image_7_mask = image_7>0\n",
    "image_7_mask = image_7_mask.cpu()"
   ]
  },
  {
   "cell_type": "code",
   "execution_count": 445,
   "id": "5ef061f9-fb23-43af-b9f4-ef2653be2c63",
   "metadata": {},
   "outputs": [
    {
     "data": {
      "text/plain": [
       "<matplotlib.image.AxesImage at 0x7f8492c09ff0>"
      ]
     },
     "execution_count": 445,
     "metadata": {},
     "output_type": "execute_result"
    },
    {
     "data": {
      "image/png": "[encoded data removed]",
      "text/plain": [
       "<Figure size 640x480 with 1 Axes>"
      ]
     },
     "metadata": {},
     "output_type": "display_data"
    }
   ],
   "source": [
    "image_0[image_7_mask] = image_7[image_7_mask]\n",
    "plt.imshow(image_0.cpu())"
   ]
  },
  {
   "cell_type": "code",
   "execution_count": 488,
   "id": "82c6b0dc-7b41-4e48-840d-9cf82252d325",
   "metadata": {},
   "outputs": [
    {
     "name": "stdout",
     "output_type": "stream",
     "text": [
      "torch.Size([1, 1, 1, 1, 56, 56])\n"
     ]
    },
    {
     "ename": "RuntimeError",
     "evalue": "Expected 3D (unbatched) or 4D (batched) input to conv2d, but got input of size: [1, 1, 1, 1, 56, 56]",
     "output_type": "error",
     "traceback": [
      "\u001b[0;31m---------------------------------------------------------------------------\u001b[0m",
      "\u001b[0;31mRuntimeError\u001b[0m                              Traceback (most recent call last)",
      "Cell \u001b[0;32mIn[488], line 5\u001b[0m\n\u001b[1;32m      3\u001b[0m image_0 \u001b[38;5;241m=\u001b[39m image_0\u001b[38;5;241m.\u001b[39mto(device)\n\u001b[1;32m      4\u001b[0m \u001b[38;5;28;01mwith\u001b[39;00m torch\u001b[38;5;241m.\u001b[39mno_grad():\n\u001b[0;32m----> 5\u001b[0m     logits \u001b[38;5;241m=\u001b[39m \u001b[43mmyCnn\u001b[49m\u001b[43m(\u001b[49m\u001b[43mimage_0\u001b[49m\u001b[43m)\u001b[49m\n\u001b[1;32m      6\u001b[0m     \u001b[38;5;66;03m# _,coords_indexes, class_indexes = loss.extracting_predictions()\u001b[39;00m\n\u001b[1;32m      7\u001b[0m     \u001b[38;5;66;03m# iou += calculate_iou(logits[:,coords_indexes], y[:,coords_indexes])\u001b[39;00m\n\u001b[1;32m      8\u001b[0m     \u001b[38;5;66;03m# class_probabilities = nn.functional.softmax(logits[:,class_indexes], dim=1)\u001b[39;00m\n\u001b[0;32m   (...)\u001b[0m\n\u001b[1;32m     11\u001b[0m     \u001b[38;5;66;03m# total += y.size(0)*train_ds.num_grid\u001b[39;00m\n\u001b[1;32m     12\u001b[0m     \u001b[38;5;66;03m# correct += (class_predictions == class_gt).sum().item()\u001b[39;00m\n\u001b[1;32m     13\u001b[0m     draw_box(image_0[\u001b[38;5;241m0\u001b[39m]\u001b[38;5;241m.\u001b[39mcpu(), logits[\u001b[38;5;241m0\u001b[39m]\u001b[38;5;241m.\u001b[39mcpu(),train_ds)\n",
      "File \u001b[0;32m/usr/local/lib/python3.10/dist-packages/torch/nn/modules/module.py:1518\u001b[0m, in \u001b[0;36mModule._wrapped_call_impl\u001b[0;34m(self, *args, **kwargs)\u001b[0m\n\u001b[1;32m   1516\u001b[0m     \u001b[38;5;28;01mreturn\u001b[39;00m \u001b[38;5;28mself\u001b[39m\u001b[38;5;241m.\u001b[39m_compiled_call_impl(\u001b[38;5;241m*\u001b[39margs, \u001b[38;5;241m*\u001b[39m\u001b[38;5;241m*\u001b[39mkwargs)  \u001b[38;5;66;03m# type: ignore[misc]\u001b[39;00m\n\u001b[1;32m   1517\u001b[0m \u001b[38;5;28;01melse\u001b[39;00m:\n\u001b[0;32m-> 1518\u001b[0m     \u001b[38;5;28;01mreturn\u001b[39;00m \u001b[38;5;28;43mself\u001b[39;49m\u001b[38;5;241;43m.\u001b[39;49m\u001b[43m_call_impl\u001b[49m\u001b[43m(\u001b[49m\u001b[38;5;241;43m*\u001b[39;49m\u001b[43margs\u001b[49m\u001b[43m,\u001b[49m\u001b[43m \u001b[49m\u001b[38;5;241;43m*\u001b[39;49m\u001b[38;5;241;43m*\u001b[39;49m\u001b[43mkwargs\u001b[49m\u001b[43m)\u001b[49m\n",
      "File \u001b[0;32m/usr/local/lib/python3.10/dist-packages/torch/nn/modules/module.py:1527\u001b[0m, in \u001b[0;36mModule._call_impl\u001b[0;34m(self, *args, **kwargs)\u001b[0m\n\u001b[1;32m   1522\u001b[0m \u001b[38;5;66;03m# If we don't have any hooks, we want to skip the rest of the logic in\u001b[39;00m\n\u001b[1;32m   1523\u001b[0m \u001b[38;5;66;03m# this function, and just call forward.\u001b[39;00m\n\u001b[1;32m   1524\u001b[0m \u001b[38;5;28;01mif\u001b[39;00m \u001b[38;5;129;01mnot\u001b[39;00m (\u001b[38;5;28mself\u001b[39m\u001b[38;5;241m.\u001b[39m_backward_hooks \u001b[38;5;129;01mor\u001b[39;00m \u001b[38;5;28mself\u001b[39m\u001b[38;5;241m.\u001b[39m_backward_pre_hooks \u001b[38;5;129;01mor\u001b[39;00m \u001b[38;5;28mself\u001b[39m\u001b[38;5;241m.\u001b[39m_forward_hooks \u001b[38;5;129;01mor\u001b[39;00m \u001b[38;5;28mself\u001b[39m\u001b[38;5;241m.\u001b[39m_forward_pre_hooks\n\u001b[1;32m   1525\u001b[0m         \u001b[38;5;129;01mor\u001b[39;00m _global_backward_pre_hooks \u001b[38;5;129;01mor\u001b[39;00m _global_backward_hooks\n\u001b[1;32m   1526\u001b[0m         \u001b[38;5;129;01mor\u001b[39;00m _global_forward_hooks \u001b[38;5;129;01mor\u001b[39;00m _global_forward_pre_hooks):\n\u001b[0;32m-> 1527\u001b[0m     \u001b[38;5;28;01mreturn\u001b[39;00m \u001b[43mforward_call\u001b[49m\u001b[43m(\u001b[49m\u001b[38;5;241;43m*\u001b[39;49m\u001b[43margs\u001b[49m\u001b[43m,\u001b[49m\u001b[43m \u001b[49m\u001b[38;5;241;43m*\u001b[39;49m\u001b[38;5;241;43m*\u001b[39;49m\u001b[43mkwargs\u001b[49m\u001b[43m)\u001b[49m\n\u001b[1;32m   1529\u001b[0m \u001b[38;5;28;01mtry\u001b[39;00m:\n\u001b[1;32m   1530\u001b[0m     result \u001b[38;5;241m=\u001b[39m \u001b[38;5;28;01mNone\u001b[39;00m\n",
      "Cell \u001b[0;32mIn[475], line 28\u001b[0m, in \u001b[0;36mMyCnn.forward\u001b[0;34m(self, x)\u001b[0m\n\u001b[1;32m     27\u001b[0m \u001b[38;5;28;01mdef\u001b[39;00m \u001b[38;5;21mforward\u001b[39m(\u001b[38;5;28mself\u001b[39m, x):\n\u001b[0;32m---> 28\u001b[0m   x \u001b[38;5;241m=\u001b[39m \u001b[38;5;28;43mself\u001b[39;49m\u001b[38;5;241;43m.\u001b[39;49m\u001b[43mconv1\u001b[49m\u001b[43m(\u001b[49m\u001b[43mx\u001b[49m\u001b[43m)\u001b[49m\n\u001b[1;32m     29\u001b[0m   x \u001b[38;5;241m=\u001b[39m \u001b[38;5;28mself\u001b[39m\u001b[38;5;241m.\u001b[39mconv2(x)\n\u001b[1;32m     30\u001b[0m   logits \u001b[38;5;241m=\u001b[39m \u001b[38;5;28mself\u001b[39m\u001b[38;5;241m.\u001b[39mlinear_relu_stack(x)\n",
      "File \u001b[0;32m/usr/local/lib/python3.10/dist-packages/torch/nn/modules/module.py:1518\u001b[0m, in \u001b[0;36mModule._wrapped_call_impl\u001b[0;34m(self, *args, **kwargs)\u001b[0m\n\u001b[1;32m   1516\u001b[0m     \u001b[38;5;28;01mreturn\u001b[39;00m \u001b[38;5;28mself\u001b[39m\u001b[38;5;241m.\u001b[39m_compiled_call_impl(\u001b[38;5;241m*\u001b[39margs, \u001b[38;5;241m*\u001b[39m\u001b[38;5;241m*\u001b[39mkwargs)  \u001b[38;5;66;03m# type: ignore[misc]\u001b[39;00m\n\u001b[1;32m   1517\u001b[0m \u001b[38;5;28;01melse\u001b[39;00m:\n\u001b[0;32m-> 1518\u001b[0m     \u001b[38;5;28;01mreturn\u001b[39;00m \u001b[38;5;28;43mself\u001b[39;49m\u001b[38;5;241;43m.\u001b[39;49m\u001b[43m_call_impl\u001b[49m\u001b[43m(\u001b[49m\u001b[38;5;241;43m*\u001b[39;49m\u001b[43margs\u001b[49m\u001b[43m,\u001b[49m\u001b[43m \u001b[49m\u001b[38;5;241;43m*\u001b[39;49m\u001b[38;5;241;43m*\u001b[39;49m\u001b[43mkwargs\u001b[49m\u001b[43m)\u001b[49m\n",
      "File \u001b[0;32m/usr/local/lib/python3.10/dist-packages/torch/nn/modules/module.py:1527\u001b[0m, in \u001b[0;36mModule._call_impl\u001b[0;34m(self, *args, **kwargs)\u001b[0m\n\u001b[1;32m   1522\u001b[0m \u001b[38;5;66;03m# If we don't have any hooks, we want to skip the rest of the logic in\u001b[39;00m\n\u001b[1;32m   1523\u001b[0m \u001b[38;5;66;03m# this function, and just call forward.\u001b[39;00m\n\u001b[1;32m   1524\u001b[0m \u001b[38;5;28;01mif\u001b[39;00m \u001b[38;5;129;01mnot\u001b[39;00m (\u001b[38;5;28mself\u001b[39m\u001b[38;5;241m.\u001b[39m_backward_hooks \u001b[38;5;129;01mor\u001b[39;00m \u001b[38;5;28mself\u001b[39m\u001b[38;5;241m.\u001b[39m_backward_pre_hooks \u001b[38;5;129;01mor\u001b[39;00m \u001b[38;5;28mself\u001b[39m\u001b[38;5;241m.\u001b[39m_forward_hooks \u001b[38;5;129;01mor\u001b[39;00m \u001b[38;5;28mself\u001b[39m\u001b[38;5;241m.\u001b[39m_forward_pre_hooks\n\u001b[1;32m   1525\u001b[0m         \u001b[38;5;129;01mor\u001b[39;00m _global_backward_pre_hooks \u001b[38;5;129;01mor\u001b[39;00m _global_backward_hooks\n\u001b[1;32m   1526\u001b[0m         \u001b[38;5;129;01mor\u001b[39;00m _global_forward_hooks \u001b[38;5;129;01mor\u001b[39;00m _global_forward_pre_hooks):\n\u001b[0;32m-> 1527\u001b[0m     \u001b[38;5;28;01mreturn\u001b[39;00m \u001b[43mforward_call\u001b[49m\u001b[43m(\u001b[49m\u001b[38;5;241;43m*\u001b[39;49m\u001b[43margs\u001b[49m\u001b[43m,\u001b[49m\u001b[43m \u001b[49m\u001b[38;5;241;43m*\u001b[39;49m\u001b[38;5;241;43m*\u001b[39;49m\u001b[43mkwargs\u001b[49m\u001b[43m)\u001b[49m\n\u001b[1;32m   1529\u001b[0m \u001b[38;5;28;01mtry\u001b[39;00m:\n\u001b[1;32m   1530\u001b[0m     result \u001b[38;5;241m=\u001b[39m \u001b[38;5;28;01mNone\u001b[39;00m\n",
      "File \u001b[0;32m/usr/local/lib/python3.10/dist-packages/torch/nn/modules/container.py:215\u001b[0m, in \u001b[0;36mSequential.forward\u001b[0;34m(self, input)\u001b[0m\n\u001b[1;32m    213\u001b[0m \u001b[38;5;28;01mdef\u001b[39;00m \u001b[38;5;21mforward\u001b[39m(\u001b[38;5;28mself\u001b[39m, \u001b[38;5;28minput\u001b[39m):\n\u001b[1;32m    214\u001b[0m     \u001b[38;5;28;01mfor\u001b[39;00m module \u001b[38;5;129;01min\u001b[39;00m \u001b[38;5;28mself\u001b[39m:\n\u001b[0;32m--> 215\u001b[0m         \u001b[38;5;28minput\u001b[39m \u001b[38;5;241m=\u001b[39m \u001b[43mmodule\u001b[49m\u001b[43m(\u001b[49m\u001b[38;5;28;43minput\u001b[39;49m\u001b[43m)\u001b[49m\n\u001b[1;32m    216\u001b[0m     \u001b[38;5;28;01mreturn\u001b[39;00m \u001b[38;5;28minput\u001b[39m\n",
      "File \u001b[0;32m/usr/local/lib/python3.10/dist-packages/torch/nn/modules/module.py:1518\u001b[0m, in \u001b[0;36mModule._wrapped_call_impl\u001b[0;34m(self, *args, **kwargs)\u001b[0m\n\u001b[1;32m   1516\u001b[0m     \u001b[38;5;28;01mreturn\u001b[39;00m \u001b[38;5;28mself\u001b[39m\u001b[38;5;241m.\u001b[39m_compiled_call_impl(\u001b[38;5;241m*\u001b[39margs, \u001b[38;5;241m*\u001b[39m\u001b[38;5;241m*\u001b[39mkwargs)  \u001b[38;5;66;03m# type: ignore[misc]\u001b[39;00m\n\u001b[1;32m   1517\u001b[0m \u001b[38;5;28;01melse\u001b[39;00m:\n\u001b[0;32m-> 1518\u001b[0m     \u001b[38;5;28;01mreturn\u001b[39;00m \u001b[38;5;28;43mself\u001b[39;49m\u001b[38;5;241;43m.\u001b[39;49m\u001b[43m_call_impl\u001b[49m\u001b[43m(\u001b[49m\u001b[38;5;241;43m*\u001b[39;49m\u001b[43margs\u001b[49m\u001b[43m,\u001b[49m\u001b[43m \u001b[49m\u001b[38;5;241;43m*\u001b[39;49m\u001b[38;5;241;43m*\u001b[39;49m\u001b[43mkwargs\u001b[49m\u001b[43m)\u001b[49m\n",
      "File \u001b[0;32m/usr/local/lib/python3.10/dist-packages/torch/nn/modules/module.py:1527\u001b[0m, in \u001b[0;36mModule._call_impl\u001b[0;34m(self, *args, **kwargs)\u001b[0m\n\u001b[1;32m   1522\u001b[0m \u001b[38;5;66;03m# If we don't have any hooks, we want to skip the rest of the logic in\u001b[39;00m\n\u001b[1;32m   1523\u001b[0m \u001b[38;5;66;03m# this function, and just call forward.\u001b[39;00m\n\u001b[1;32m   1524\u001b[0m \u001b[38;5;28;01mif\u001b[39;00m \u001b[38;5;129;01mnot\u001b[39;00m (\u001b[38;5;28mself\u001b[39m\u001b[38;5;241m.\u001b[39m_backward_hooks \u001b[38;5;129;01mor\u001b[39;00m \u001b[38;5;28mself\u001b[39m\u001b[38;5;241m.\u001b[39m_backward_pre_hooks \u001b[38;5;129;01mor\u001b[39;00m \u001b[38;5;28mself\u001b[39m\u001b[38;5;241m.\u001b[39m_forward_hooks \u001b[38;5;129;01mor\u001b[39;00m \u001b[38;5;28mself\u001b[39m\u001b[38;5;241m.\u001b[39m_forward_pre_hooks\n\u001b[1;32m   1525\u001b[0m         \u001b[38;5;129;01mor\u001b[39;00m _global_backward_pre_hooks \u001b[38;5;129;01mor\u001b[39;00m _global_backward_hooks\n\u001b[1;32m   1526\u001b[0m         \u001b[38;5;129;01mor\u001b[39;00m _global_forward_hooks \u001b[38;5;129;01mor\u001b[39;00m _global_forward_pre_hooks):\n\u001b[0;32m-> 1527\u001b[0m     \u001b[38;5;28;01mreturn\u001b[39;00m \u001b[43mforward_call\u001b[49m\u001b[43m(\u001b[49m\u001b[38;5;241;43m*\u001b[39;49m\u001b[43margs\u001b[49m\u001b[43m,\u001b[49m\u001b[43m \u001b[49m\u001b[38;5;241;43m*\u001b[39;49m\u001b[38;5;241;43m*\u001b[39;49m\u001b[43mkwargs\u001b[49m\u001b[43m)\u001b[49m\n\u001b[1;32m   1529\u001b[0m \u001b[38;5;28;01mtry\u001b[39;00m:\n\u001b[1;32m   1530\u001b[0m     result \u001b[38;5;241m=\u001b[39m \u001b[38;5;28;01mNone\u001b[39;00m\n",
      "File \u001b[0;32m/usr/local/lib/python3.10/dist-packages/torch/nn/modules/conv.py:460\u001b[0m, in \u001b[0;36mConv2d.forward\u001b[0;34m(self, input)\u001b[0m\n\u001b[1;32m    459\u001b[0m \u001b[38;5;28;01mdef\u001b[39;00m \u001b[38;5;21mforward\u001b[39m(\u001b[38;5;28mself\u001b[39m, \u001b[38;5;28minput\u001b[39m: Tensor) \u001b[38;5;241m-\u001b[39m\u001b[38;5;241m>\u001b[39m Tensor:\n\u001b[0;32m--> 460\u001b[0m     \u001b[38;5;28;01mreturn\u001b[39;00m \u001b[38;5;28;43mself\u001b[39;49m\u001b[38;5;241;43m.\u001b[39;49m\u001b[43m_conv_forward\u001b[49m\u001b[43m(\u001b[49m\u001b[38;5;28;43minput\u001b[39;49m\u001b[43m,\u001b[49m\u001b[43m \u001b[49m\u001b[38;5;28;43mself\u001b[39;49m\u001b[38;5;241;43m.\u001b[39;49m\u001b[43mweight\u001b[49m\u001b[43m,\u001b[49m\u001b[43m \u001b[49m\u001b[38;5;28;43mself\u001b[39;49m\u001b[38;5;241;43m.\u001b[39;49m\u001b[43mbias\u001b[49m\u001b[43m)\u001b[49m\n",
      "File \u001b[0;32m/usr/local/lib/python3.10/dist-packages/torch/nn/modules/conv.py:456\u001b[0m, in \u001b[0;36mConv2d._conv_forward\u001b[0;34m(self, input, weight, bias)\u001b[0m\n\u001b[1;32m    452\u001b[0m \u001b[38;5;28;01mif\u001b[39;00m \u001b[38;5;28mself\u001b[39m\u001b[38;5;241m.\u001b[39mpadding_mode \u001b[38;5;241m!=\u001b[39m \u001b[38;5;124m'\u001b[39m\u001b[38;5;124mzeros\u001b[39m\u001b[38;5;124m'\u001b[39m:\n\u001b[1;32m    453\u001b[0m     \u001b[38;5;28;01mreturn\u001b[39;00m F\u001b[38;5;241m.\u001b[39mconv2d(F\u001b[38;5;241m.\u001b[39mpad(\u001b[38;5;28minput\u001b[39m, \u001b[38;5;28mself\u001b[39m\u001b[38;5;241m.\u001b[39m_reversed_padding_repeated_twice, mode\u001b[38;5;241m=\u001b[39m\u001b[38;5;28mself\u001b[39m\u001b[38;5;241m.\u001b[39mpadding_mode),\n\u001b[1;32m    454\u001b[0m                     weight, bias, \u001b[38;5;28mself\u001b[39m\u001b[38;5;241m.\u001b[39mstride,\n\u001b[1;32m    455\u001b[0m                     _pair(\u001b[38;5;241m0\u001b[39m), \u001b[38;5;28mself\u001b[39m\u001b[38;5;241m.\u001b[39mdilation, \u001b[38;5;28mself\u001b[39m\u001b[38;5;241m.\u001b[39mgroups)\n\u001b[0;32m--> 456\u001b[0m \u001b[38;5;28;01mreturn\u001b[39;00m \u001b[43mF\u001b[49m\u001b[38;5;241;43m.\u001b[39;49m\u001b[43mconv2d\u001b[49m\u001b[43m(\u001b[49m\u001b[38;5;28;43minput\u001b[39;49m\u001b[43m,\u001b[49m\u001b[43m \u001b[49m\u001b[43mweight\u001b[49m\u001b[43m,\u001b[49m\u001b[43m \u001b[49m\u001b[43mbias\u001b[49m\u001b[43m,\u001b[49m\u001b[43m \u001b[49m\u001b[38;5;28;43mself\u001b[39;49m\u001b[38;5;241;43m.\u001b[39;49m\u001b[43mstride\u001b[49m\u001b[43m,\u001b[49m\n\u001b[1;32m    457\u001b[0m \u001b[43m                \u001b[49m\u001b[38;5;28;43mself\u001b[39;49m\u001b[38;5;241;43m.\u001b[39;49m\u001b[43mpadding\u001b[49m\u001b[43m,\u001b[49m\u001b[43m \u001b[49m\u001b[38;5;28;43mself\u001b[39;49m\u001b[38;5;241;43m.\u001b[39;49m\u001b[43mdilation\u001b[49m\u001b[43m,\u001b[49m\u001b[43m \u001b[49m\u001b[38;5;28;43mself\u001b[39;49m\u001b[38;5;241;43m.\u001b[39;49m\u001b[43mgroups\u001b[49m\u001b[43m)\u001b[49m\n",
      "\u001b[0;31mRuntimeError\u001b[0m: Expected 3D (unbatched) or 4D (batched) input to conv2d, but got input of size: [1, 1, 1, 1, 56, 56]"
     ]
    }
   ],
   "source": [
    "image_0 = image_0.unsqueeze(0).unsqueeze(0)\n",
    "print(image_0.shape)\n",
    "image_0 = image_0.to(device)\n",
    "with torch.no_grad():\n",
    "    logits = myCnn(image_0)\n",
    "    # _,coords_indexes, class_indexes = loss.extracting_predictions()\n",
    "    # iou += calculate_iou(logits[:,coords_indexes], y[:,coords_indexes])\n",
    "    # class_probabilities = nn.functional.softmax(logits[:,class_indexes], dim=1)\n",
    "    # class_predictions = torch.argmax(class_probabilities.view(validation_batch_size,train_ds.num_grid,train_ds.num_classes),dim =2)\n",
    "    # class_gt = torch.argmax(y[:,class_indexes].view(validation_batch_size,train_ds.num_grid,train_ds.num_classes),dim =2)\n",
    "    # total += y.size(0)*train_ds.num_grid\n",
    "    # correct += (class_predictions == class_gt).sum().item()\n",
    "    draw_box(image_0[0].cpu(), logits[0].cpu(),train_ds)"
   ]
  },
  {
   "cell_type": "code",
   "execution_count": 453,
   "id": "2312dc88-8c32-4bc0-9572-bd82fc45c4c4",
   "metadata": {},
   "outputs": [
    {
     "data": {
      "text/plain": [
       "tensor([[[0.0000, 0.0000, 0.0000, 0.0000, 0.0000, 0.0000, 0.0000, 0.0000,\n",
       "          0.0000, 0.0000, 0.0000, 0.0000, 0.0000, 0.0000, 0.0000],\n",
       "         [0.1795, 0.0000, 0.0000, 0.0000, 0.0000, 0.0000, 0.0000, 0.0000,\n",
       "          0.0000, 0.0000, 0.0000, 0.0000, 0.0000, 0.0000, 0.0000],\n",
       "         [0.4797, 0.2926, 0.1979, 0.1637, 0.1827, 0.0415, 0.0000, 0.3950,\n",
       "          0.0000, 0.0000, 0.0000, 0.0000, 0.0000, 0.0000, 0.1043],\n",
       "         [0.7011, 0.2847, 0.2905, 0.1797, 0.2111, 0.0000, 0.0000, 0.2074,\n",
       "          0.0186, 0.0000, 0.0000, 0.0000, 0.1473, 0.0256, 0.0000]]],\n",
       "       device='cuda:0')"
      ]
     },
     "execution_count": 453,
     "metadata": {},
     "output_type": "execute_result"
    }
   ],
   "source": [
    "logits.view(1,4,15)"
   ]
  },
  {
   "cell_type": "code",
   "execution_count": 454,
   "id": "de460d05-5ee4-4a6c-8862-0fe6744791ea",
   "metadata": {},
   "outputs": [
    {
     "name": "stdout",
     "output_type": "stream",
     "text": [
      "object found\n"
     ]
    },
    {
     "data": {
      "text/plain": [
       "<Axes: >"
      ]
     },
     "execution_count": 454,
     "metadata": {},
     "output_type": "execute_result"
    },
    {
     "data": {
      "image/png": "[encoded data removed]",
      "text/plain": [
       "<Figure size 640x480 with 1 Axes>"
      ]
     },
     "metadata": {},
     "output_type": "display_data"
    }
   ],
   "source": [
    "draw_box(image_0[0].cpu(), logits[0].cpu(),train_ds)"
   ]
  },
  {
   "cell_type": "code",
   "execution_count": null,
   "id": "99d67b70-a5a1-4329-a50e-cfb00049fbf6",
   "metadata": {},
   "outputs": [],
   "source": []
  }
 ],
 "metadata": {
  "kernelspec": {
   "display_name": "Python 3 (ipykernel)",
   "language": "python",
   "name": "python3"
  },
  "language_info": {
   "codemirror_mode": {
    "name": "ipython",
    "version": 3
   },
   "file_extension": ".py",
   "mimetype": "text/x-python",
   "name": "python",
   "nbconvert_exporter": "python",
   "pygments_lexer": "ipython3",
   "version": "3.10.12"
  }
 },
 "nbformat": 4,
 "nbformat_minor": 5
}
