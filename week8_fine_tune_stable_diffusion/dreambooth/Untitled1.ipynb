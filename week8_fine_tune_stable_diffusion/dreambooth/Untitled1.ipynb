{
 "cells": [
  {
   "cell_type": "code",
   "execution_count": 1,
   "id": "462164dc-5c88-4157-9fbf-96c4435d1f7f",
   "metadata": {},
   "outputs": [
    {
     "name": "stdout",
     "output_type": "stream",
     "text": [
      "Cloning into 'diffusers'...\n",
      "remote: Enumerating objects: 47658, done.\u001b[K\n",
      "remote: Counting objects: 100% (1505/1505), done.\u001b[K\n",
      "remote: Compressing objects: 100% (699/699), done.\u001b[K\n",
      "remote: Total 47658 (delta 977), reused 1094 (delta 681), pack-reused 46153\u001b[K\n",
      "Receiving objects: 100% (47658/47658), 31.87 MiB | 2.03 MiB/s, done.\n",
      "Resolving deltas: 100% (35119/35119), done.\n",
      "Processing ./diffusers\n",
      "  Installing build dependencies ... \u001b[?25ldone\n",
      "\u001b[?25h  Getting requirements to build wheel ... \u001b[?25ldone\n",
      "\u001b[?25h  Preparing metadata (pyproject.toml) ... \u001b[?25ldone\n",
      "\u001b[?25hRequirement already satisfied: importlib-metadata in /usr/lib/python3/dist-packages (from diffusers==0.25.0.dev0) (4.6.4)\n",
      "Requirement already satisfied: filelock in /usr/local/lib/python3.10/dist-packages (from diffusers==0.25.0.dev0) (3.9.0)\n",
      "Requirement already satisfied: huggingface-hub>=0.19.4 in /usr/local/lib/python3.10/dist-packages (from diffusers==0.25.0.dev0) (0.19.4)\n",
      "Requirement already satisfied: numpy in /usr/local/lib/python3.10/dist-packages (from diffusers==0.25.0.dev0) (1.24.1)\n",
      "Requirement already satisfied: regex!=2019.12.17 in /usr/local/lib/python3.10/dist-packages (from diffusers==0.25.0.dev0) (2023.10.3)\n",
      "Requirement already satisfied: requests in /usr/local/lib/python3.10/dist-packages (from diffusers==0.25.0.dev0) (2.31.0)\n",
      "Requirement already satisfied: safetensors>=0.3.1 in /usr/local/lib/python3.10/dist-packages (from diffusers==0.25.0.dev0) (0.4.1)\n",
      "Requirement already satisfied: Pillow in /usr/local/lib/python3.10/dist-packages (from diffusers==0.25.0.dev0) (9.3.0)\n",
      "Requirement already satisfied: fsspec>=2023.5.0 in /usr/local/lib/python3.10/dist-packages (from huggingface-hub>=0.19.4->diffusers==0.25.0.dev0) (2023.10.0)\n",
      "Requirement already satisfied: tqdm>=4.42.1 in /usr/local/lib/python3.10/dist-packages (from huggingface-hub>=0.19.4->diffusers==0.25.0.dev0) (4.66.1)\n",
      "Requirement already satisfied: pyyaml>=5.1 in /usr/local/lib/python3.10/dist-packages (from huggingface-hub>=0.19.4->diffusers==0.25.0.dev0) (6.0.1)\n",
      "Requirement already satisfied: typing-extensions>=3.7.4.3 in /usr/local/lib/python3.10/dist-packages (from huggingface-hub>=0.19.4->diffusers==0.25.0.dev0) (4.4.0)\n",
      "Requirement already satisfied: packaging>=20.9 in /usr/local/lib/python3.10/dist-packages (from huggingface-hub>=0.19.4->diffusers==0.25.0.dev0) (23.2)\n",
      "Requirement already satisfied: charset-normalizer<4,>=2 in /usr/local/lib/python3.10/dist-packages (from requests->diffusers==0.25.0.dev0) (2.1.1)\n",
      "Requirement already satisfied: idna<4,>=2.5 in /usr/local/lib/python3.10/dist-packages (from requests->diffusers==0.25.0.dev0) (3.4)\n",
      "Requirement already satisfied: urllib3<3,>=1.21.1 in /usr/local/lib/python3.10/dist-packages (from requests->diffusers==0.25.0.dev0) (1.26.13)\n",
      "Requirement already satisfied: certifi>=2017.4.17 in /usr/local/lib/python3.10/dist-packages (from requests->diffusers==0.25.0.dev0) (2022.12.7)\n",
      "Building wheels for collected packages: diffusers\n",
      "  Building wheel for diffusers (pyproject.toml) ... \u001b[?25ldone\n",
      "\u001b[?25h  Created wheel for diffusers: filename=diffusers-0.25.0.dev0-py3-none-any.whl size=1816331 sha256=b70b693446b73bf19dd06c22b8056d4359683599abdb1a394bc0a6a5a3c8929d\n",
      "  Stored in directory: /tmp/pip-ephem-wheel-cache-_0wd2u5e/wheels/64/78/12/760ac642f0ef9ca736fa88da48b7461adddf1b24155a244ddc\n",
      "Successfully built diffusers\n",
      "Installing collected packages: diffusers\n",
      "  Attempting uninstall: diffusers\n",
      "    Found existing installation: diffusers 0.25.0.dev0\n",
      "    Uninstalling diffusers-0.25.0.dev0:\n",
      "      Successfully uninstalled diffusers-0.25.0.dev0\n",
      "Successfully installed diffusers-0.25.0.dev0\n",
      "\u001b[33mWARNING: Running pip as the 'root' user can result in broken permissions and conflicting behaviour with the system package manager. It is recommended to use a virtual environment instead: https://pip.pypa.io/warnings/venv\u001b[0m\u001b[33m\n",
      "\u001b[0mRequirement already satisfied: accelerate>=0.16.0 in /usr/local/lib/python3.10/dist-packages (from -r ./diffusers/examples/dreambooth/requirements.txt (line 1)) (0.25.0)\n",
      "Requirement already satisfied: torchvision in /usr/local/lib/python3.10/dist-packages (from -r ./diffusers/examples/dreambooth/requirements.txt (line 2)) (0.16.1)\n",
      "Requirement already satisfied: transformers>=4.25.1 in /usr/local/lib/python3.10/dist-packages (from -r ./diffusers/examples/dreambooth/requirements.txt (line 3)) (4.36.0)\n",
      "Requirement already satisfied: ftfy in /usr/local/lib/python3.10/dist-packages (from -r ./diffusers/examples/dreambooth/requirements.txt (line 4)) (6.1.3)\n",
      "Requirement already satisfied: tensorboard in /usr/local/lib/python3.10/dist-packages (from -r ./diffusers/examples/dreambooth/requirements.txt (line 5)) (2.15.1)\n",
      "Requirement already satisfied: Jinja2 in /usr/local/lib/python3.10/dist-packages (from -r ./diffusers/examples/dreambooth/requirements.txt (line 6)) (3.1.2)\n",
      "Requirement already satisfied: peft==0.7.0 in /usr/local/lib/python3.10/dist-packages (from -r ./diffusers/examples/dreambooth/requirements.txt (line 7)) (0.7.0)\n",
      "Requirement already satisfied: numpy>=1.17 in /usr/local/lib/python3.10/dist-packages (from peft==0.7.0->-r ./diffusers/examples/dreambooth/requirements.txt (line 7)) (1.24.1)\n",
      "Requirement already satisfied: packaging>=20.0 in /usr/local/lib/python3.10/dist-packages (from peft==0.7.0->-r ./diffusers/examples/dreambooth/requirements.txt (line 7)) (23.2)\n",
      "Requirement already satisfied: psutil in /usr/local/lib/python3.10/dist-packages (from peft==0.7.0->-r ./diffusers/examples/dreambooth/requirements.txt (line 7)) (5.9.6)\n",
      "Requirement already satisfied: pyyaml in /usr/local/lib/python3.10/dist-packages (from peft==0.7.0->-r ./diffusers/examples/dreambooth/requirements.txt (line 7)) (6.0.1)\n",
      "Requirement already satisfied: torch>=1.13.0 in /usr/local/lib/python3.10/dist-packages (from peft==0.7.0->-r ./diffusers/examples/dreambooth/requirements.txt (line 7)) (2.1.1)\n",
      "Requirement already satisfied: tqdm in /usr/local/lib/python3.10/dist-packages (from peft==0.7.0->-r ./diffusers/examples/dreambooth/requirements.txt (line 7)) (4.66.1)\n",
      "Requirement already satisfied: safetensors in /usr/local/lib/python3.10/dist-packages (from peft==0.7.0->-r ./diffusers/examples/dreambooth/requirements.txt (line 7)) (0.4.1)\n",
      "Requirement already satisfied: huggingface-hub>=0.17.0 in /usr/local/lib/python3.10/dist-packages (from peft==0.7.0->-r ./diffusers/examples/dreambooth/requirements.txt (line 7)) (0.19.4)\n",
      "Requirement already satisfied: requests in /usr/local/lib/python3.10/dist-packages (from torchvision->-r ./diffusers/examples/dreambooth/requirements.txt (line 2)) (2.31.0)\n",
      "Requirement already satisfied: pillow!=8.3.*,>=5.3.0 in /usr/local/lib/python3.10/dist-packages (from torchvision->-r ./diffusers/examples/dreambooth/requirements.txt (line 2)) (9.3.0)\n",
      "Requirement already satisfied: filelock in /usr/local/lib/python3.10/dist-packages (from torch>=1.13.0->peft==0.7.0->-r ./diffusers/examples/dreambooth/requirements.txt (line 7)) (3.9.0)\n",
      "Requirement already satisfied: typing-extensions in /usr/local/lib/python3.10/dist-packages (from torch>=1.13.0->peft==0.7.0->-r ./diffusers/examples/dreambooth/requirements.txt (line 7)) (4.4.0)\n",
      "Requirement already satisfied: sympy in /usr/local/lib/python3.10/dist-packages (from torch>=1.13.0->peft==0.7.0->-r ./diffusers/examples/dreambooth/requirements.txt (line 7)) (1.12)\n",
      "Requirement already satisfied: networkx in /usr/local/lib/python3.10/dist-packages (from torch>=1.13.0->peft==0.7.0->-r ./diffusers/examples/dreambooth/requirements.txt (line 7)) (3.0)\n",
      "Requirement already satisfied: fsspec in /usr/local/lib/python3.10/dist-packages (from torch>=1.13.0->peft==0.7.0->-r ./diffusers/examples/dreambooth/requirements.txt (line 7)) (2023.10.0)\n",
      "Requirement already satisfied: nvidia-cuda-nvrtc-cu12==12.1.105 in /usr/local/lib/python3.10/dist-packages (from torch>=1.13.0->peft==0.7.0->-r ./diffusers/examples/dreambooth/requirements.txt (line 7)) (12.1.105)\n",
      "Requirement already satisfied: nvidia-cuda-runtime-cu12==12.1.105 in /usr/local/lib/python3.10/dist-packages (from torch>=1.13.0->peft==0.7.0->-r ./diffusers/examples/dreambooth/requirements.txt (line 7)) (12.1.105)\n",
      "Requirement already satisfied: nvidia-cuda-cupti-cu12==12.1.105 in /usr/local/lib/python3.10/dist-packages (from torch>=1.13.0->peft==0.7.0->-r ./diffusers/examples/dreambooth/requirements.txt (line 7)) (12.1.105)\n",
      "Requirement already satisfied: nvidia-cudnn-cu12==8.9.2.26 in /usr/local/lib/python3.10/dist-packages (from torch>=1.13.0->peft==0.7.0->-r ./diffusers/examples/dreambooth/requirements.txt (line 7)) (8.9.2.26)\n",
      "Requirement already satisfied: nvidia-cublas-cu12==12.1.3.1 in /usr/local/lib/python3.10/dist-packages (from torch>=1.13.0->peft==0.7.0->-r ./diffusers/examples/dreambooth/requirements.txt (line 7)) (12.1.3.1)\n",
      "Requirement already satisfied: nvidia-cufft-cu12==11.0.2.54 in /usr/local/lib/python3.10/dist-packages (from torch>=1.13.0->peft==0.7.0->-r ./diffusers/examples/dreambooth/requirements.txt (line 7)) (11.0.2.54)\n",
      "Requirement already satisfied: nvidia-curand-cu12==10.3.2.106 in /usr/local/lib/python3.10/dist-packages (from torch>=1.13.0->peft==0.7.0->-r ./diffusers/examples/dreambooth/requirements.txt (line 7)) (10.3.2.106)\n",
      "Requirement already satisfied: nvidia-cusolver-cu12==11.4.5.107 in /usr/local/lib/python3.10/dist-packages (from torch>=1.13.0->peft==0.7.0->-r ./diffusers/examples/dreambooth/requirements.txt (line 7)) (11.4.5.107)\n",
      "Requirement already satisfied: nvidia-cusparse-cu12==12.1.0.106 in /usr/local/lib/python3.10/dist-packages (from torch>=1.13.0->peft==0.7.0->-r ./diffusers/examples/dreambooth/requirements.txt (line 7)) (12.1.0.106)\n",
      "Requirement already satisfied: nvidia-nccl-cu12==2.18.1 in /usr/local/lib/python3.10/dist-packages (from torch>=1.13.0->peft==0.7.0->-r ./diffusers/examples/dreambooth/requirements.txt (line 7)) (2.18.1)\n",
      "Requirement already satisfied: nvidia-nvtx-cu12==12.1.105 in /usr/local/lib/python3.10/dist-packages (from torch>=1.13.0->peft==0.7.0->-r ./diffusers/examples/dreambooth/requirements.txt (line 7)) (12.1.105)\n",
      "Requirement already satisfied: triton==2.1.0 in /usr/local/lib/python3.10/dist-packages (from torch>=1.13.0->peft==0.7.0->-r ./diffusers/examples/dreambooth/requirements.txt (line 7)) (2.1.0)\n",
      "Requirement already satisfied: nvidia-nvjitlink-cu12 in /usr/local/lib/python3.10/dist-packages (from nvidia-cusolver-cu12==11.4.5.107->torch>=1.13.0->peft==0.7.0->-r ./diffusers/examples/dreambooth/requirements.txt (line 7)) (12.3.101)\n",
      "Requirement already satisfied: regex!=2019.12.17 in /usr/local/lib/python3.10/dist-packages (from transformers>=4.25.1->-r ./diffusers/examples/dreambooth/requirements.txt (line 3)) (2023.10.3)\n",
      "Requirement already satisfied: tokenizers<0.19,>=0.14 in /usr/local/lib/python3.10/dist-packages (from transformers>=4.25.1->-r ./diffusers/examples/dreambooth/requirements.txt (line 3)) (0.15.0)\n",
      "Requirement already satisfied: wcwidth<0.3.0,>=0.2.12 in /usr/local/lib/python3.10/dist-packages (from ftfy->-r ./diffusers/examples/dreambooth/requirements.txt (line 4)) (0.2.12)\n",
      "Requirement already satisfied: absl-py>=0.4 in /usr/local/lib/python3.10/dist-packages (from tensorboard->-r ./diffusers/examples/dreambooth/requirements.txt (line 5)) (2.0.0)\n",
      "Requirement already satisfied: grpcio>=1.48.2 in /usr/local/lib/python3.10/dist-packages (from tensorboard->-r ./diffusers/examples/dreambooth/requirements.txt (line 5)) (1.60.0)\n",
      "Requirement already satisfied: google-auth<3,>=1.6.3 in /usr/local/lib/python3.10/dist-packages (from tensorboard->-r ./diffusers/examples/dreambooth/requirements.txt (line 5)) (2.25.2)\n",
      "Requirement already satisfied: google-auth-oauthlib<2,>=0.5 in /usr/local/lib/python3.10/dist-packages (from tensorboard->-r ./diffusers/examples/dreambooth/requirements.txt (line 5)) (1.1.0)\n",
      "Requirement already satisfied: markdown>=2.6.8 in /usr/local/lib/python3.10/dist-packages (from tensorboard->-r ./diffusers/examples/dreambooth/requirements.txt (line 5)) (3.5.1)\n",
      "Requirement already satisfied: protobuf<4.24,>=3.19.6 in /usr/local/lib/python3.10/dist-packages (from tensorboard->-r ./diffusers/examples/dreambooth/requirements.txt (line 5)) (4.23.4)\n",
      "Requirement already satisfied: setuptools>=41.0.0 in /usr/local/lib/python3.10/dist-packages (from tensorboard->-r ./diffusers/examples/dreambooth/requirements.txt (line 5)) (68.2.2)\n",
      "Requirement already satisfied: six>1.9 in /usr/lib/python3/dist-packages (from tensorboard->-r ./diffusers/examples/dreambooth/requirements.txt (line 5)) (1.16.0)\n",
      "Requirement already satisfied: tensorboard-data-server<0.8.0,>=0.7.0 in /usr/local/lib/python3.10/dist-packages (from tensorboard->-r ./diffusers/examples/dreambooth/requirements.txt (line 5)) (0.7.2)\n",
      "Requirement already satisfied: werkzeug>=1.0.1 in /usr/local/lib/python3.10/dist-packages (from tensorboard->-r ./diffusers/examples/dreambooth/requirements.txt (line 5)) (3.0.1)\n",
      "Requirement already satisfied: MarkupSafe>=2.0 in /usr/local/lib/python3.10/dist-packages (from Jinja2->-r ./diffusers/examples/dreambooth/requirements.txt (line 6)) (2.1.2)\n",
      "Requirement already satisfied: cachetools<6.0,>=2.0.0 in /usr/local/lib/python3.10/dist-packages (from google-auth<3,>=1.6.3->tensorboard->-r ./diffusers/examples/dreambooth/requirements.txt (line 5)) (5.3.2)\n",
      "Requirement already satisfied: pyasn1-modules>=0.2.1 in /usr/local/lib/python3.10/dist-packages (from google-auth<3,>=1.6.3->tensorboard->-r ./diffusers/examples/dreambooth/requirements.txt (line 5)) (0.3.0)\n",
      "Requirement already satisfied: rsa<5,>=3.1.4 in /usr/local/lib/python3.10/dist-packages (from google-auth<3,>=1.6.3->tensorboard->-r ./diffusers/examples/dreambooth/requirements.txt (line 5)) (4.9)\n",
      "Requirement already satisfied: requests-oauthlib>=0.7.0 in /usr/local/lib/python3.10/dist-packages (from google-auth-oauthlib<2,>=0.5->tensorboard->-r ./diffusers/examples/dreambooth/requirements.txt (line 5)) (1.3.1)\n",
      "Requirement already satisfied: charset-normalizer<4,>=2 in /usr/local/lib/python3.10/dist-packages (from requests->torchvision->-r ./diffusers/examples/dreambooth/requirements.txt (line 2)) (2.1.1)\n",
      "Requirement already satisfied: idna<4,>=2.5 in /usr/local/lib/python3.10/dist-packages (from requests->torchvision->-r ./diffusers/examples/dreambooth/requirements.txt (line 2)) (3.4)\n",
      "Requirement already satisfied: urllib3<3,>=1.21.1 in /usr/local/lib/python3.10/dist-packages (from requests->torchvision->-r ./diffusers/examples/dreambooth/requirements.txt (line 2)) (1.26.13)\n",
      "Requirement already satisfied: certifi>=2017.4.17 in /usr/local/lib/python3.10/dist-packages (from requests->torchvision->-r ./diffusers/examples/dreambooth/requirements.txt (line 2)) (2022.12.7)\n",
      "Requirement already satisfied: pyasn1<0.6.0,>=0.4.6 in /usr/local/lib/python3.10/dist-packages (from pyasn1-modules>=0.2.1->google-auth<3,>=1.6.3->tensorboard->-r ./diffusers/examples/dreambooth/requirements.txt (line 5)) (0.5.1)\n",
      "Requirement already satisfied: oauthlib>=3.0.0 in /usr/lib/python3/dist-packages (from requests-oauthlib>=0.7.0->google-auth-oauthlib<2,>=0.5->tensorboard->-r ./diffusers/examples/dreambooth/requirements.txt (line 5)) (3.2.0)\n",
      "Requirement already satisfied: mpmath>=0.19 in /usr/local/lib/python3.10/dist-packages (from sympy->torch>=1.13.0->peft==0.7.0->-r ./diffusers/examples/dreambooth/requirements.txt (line 7)) (1.3.0)\n",
      "\u001b[33mWARNING: Running pip as the 'root' user can result in broken permissions and conflicting behaviour with the system package manager. It is recommended to use a virtual environment instead: https://pip.pypa.io/warnings/venv\u001b[0m\u001b[33m\n",
      "\u001b[0m"
     ]
    }
   ],
   "source": [
    "!git clone https://github.com/huggingface/diffusers.git\n",
    "!pip install ./diffusers\n",
    "!pip install -U -r ./diffusers/examples/dreambooth/requirements.txt"
   ]
  },
  {
   "cell_type": "code",
   "execution_count": 1,
   "id": "d1e0a3b2-99c1-4763-8ed0-a374bb0b1c85",
   "metadata": {},
   "outputs": [
    {
     "name": "stdout",
     "output_type": "stream",
     "text": [
      "Configuration already exists at /root/.cache/huggingface/accelerate/default_config.yaml, will not override. Run `accelerate config` manually or pass a different `save_location`.\n"
     ]
    }
   ],
   "source": [
    "!accelerate config default --mixed_precision fp16"
   ]
  },
  {
   "cell_type": "code",
   "execution_count": 2,
   "id": "b022ade1-72d6-488c-8750-4e80b403264a",
   "metadata": {},
   "outputs": [
    {
     "data": {
      "application/vnd.jupyter.widget-view+json": {
       "model_id": "fe3c6cca91b4486dbe18e58aab347590",
       "version_major": 2,
       "version_minor": 0
      },
      "text/plain": [
       "VBox(children=(HTML(value='<center> <img\\nsrc=https://huggingface.co/front/assets/huggingface_logo-noborder.sv…"
      ]
     },
     "metadata": {},
     "output_type": "display_data"
    }
   ],
   "source": [
    "from huggingface_hub import notebook_login\n",
    "notebook_login()"
   ]
  },
  {
   "cell_type": "code",
   "execution_count": 3,
   "id": "356334a1-771c-4aa1-acee-4ea8f817a7f0",
   "metadata": {},
   "outputs": [
    {
     "name": "stdout",
     "output_type": "stream",
     "text": [
      "name, memory.total [MiB], memory.free [MiB]\n",
      "NVIDIA GeForce RTX 4090, 24564 MiB, 11295 MiB\n"
     ]
    }
   ],
   "source": [
    "!nvidia-smi --query-gpu=name,memory.total,memory.free --format=csv\n"
   ]
  },
  {
   "cell_type": "code",
   "execution_count": 4,
   "id": "e8519d52-5588-4b83-8629-3f3f29693a90",
   "metadata": {},
   "outputs": [],
   "source": [
    "import os\n",
    "\n",
    "os.environ['MODEL_NAME'] = f'CompVis/stable-diffusion-v1-4'\n",
    "os.environ['INSTANCE_DIR'] = './bash_images'\n",
    "os.environ['OUTPUT_DIR'] = f'./dreambooth/sd_aiconos-model-v1-2_400'"
   ]
  },
  {
   "cell_type": "code",
   "execution_count": 5,
   "id": "9e57571b-2b16-48f8-80eb-cd6c9d6c0611",
   "metadata": {},
   "outputs": [
    {
     "name": "stdout",
     "output_type": "stream",
     "text": [
      "name, memory.total [MiB], memory.free [MiB]\n",
      "NVIDIA GeForce RTX 4090, 24564 MiB, 11295 MiB\n"
     ]
    }
   ],
   "source": [
    "!nvidia-smi --query-gpu=name,memory.total,memory.free --format=csv\n"
   ]
  },
  {
   "cell_type": "code",
   "execution_count": 7,
   "id": "6fc587d7-6209-4b87-8c46-797f4d3b8851",
   "metadata": {},
   "outputs": [
    {
     "name": "stdout",
     "output_type": "stream",
     "text": [
      "12/12/2023 12:16:06 - INFO - __main__ - Distributed environment: NO\n",
      "Num processes: 1\n",
      "Process index: 0\n",
      "Local process index: 0\n",
      "Device: cuda\n",
      "\n",
      "Mixed precision type: fp16\n",
      "\n",
      "You are using a model of type clip_text_model to instantiate a model of type . This is not supported for all configurations of models and can yield errors.\n",
      "{'timestep_spacing', 'clip_sample_range', 'variance_type', 'prediction_type', 'sample_max_value', 'thresholding', 'dynamic_thresholding_ratio'} was not found in config. Values will be initialized to default values.\n",
      "/usr/local/lib/python3.10/dist-packages/diffusers/utils/hub_utils.py:302: FutureWarning: You are loading the variant fp16 from CompVis/stable-diffusion-v1-4 via `revision='fp16'`. This behavior is deprecated and will be removed in diffusers v1. One should use `variant='fp16'` instead. However, it appears that CompVis/stable-diffusion-v1-4 currently does not have a diffusion_pytorch_model.fp16.safetensors file in the 'main' branch of CompVis/stable-diffusion-v1-4. \n",
      " The Diffusers team and community would be very grateful if you could open an issue: https://github.com/huggingface/diffusers/issues/new with the title 'CompVis/stable-diffusion-v1-4 is missing diffusion_pytorch_model.fp16.safetensors' so that the correct variant file can be added.\n",
      "  warnings.warn(\n",
      "/usr/local/lib/python3.10/dist-packages/diffusers/utils/hub_utils.py:302: FutureWarning: You are loading the variant fp16 from CompVis/stable-diffusion-v1-4 via `revision='fp16'`. This behavior is deprecated and will be removed in diffusers v1. One should use `variant='fp16'` instead. However, it appears that CompVis/stable-diffusion-v1-4 currently does not have a diffusion_pytorch_model.fp16.bin file in the 'main' branch of CompVis/stable-diffusion-v1-4. \n",
      " The Diffusers team and community would be very grateful if you could open an issue: https://github.com/huggingface/diffusers/issues/new with the title 'CompVis/stable-diffusion-v1-4 is missing diffusion_pytorch_model.fp16.bin' so that the correct variant file can be added.\n",
      "  warnings.warn(\n",
      "{'force_upcast', 'norm_num_groups', 'scaling_factor'} was not found in config. Values will be initialized to default values.\n",
      "{'transformer_layers_per_block', 'class_embed_type', 'class_embeddings_concat', 'conv_in_kernel', 'encoder_hid_dim', 'mid_block_only_cross_attention', 'use_linear_projection', 'dropout', 'timestep_post_act', 'addition_embed_type', 'dual_cross_attention', 'addition_time_embed_dim', 'conv_out_kernel', 'addition_embed_type_num_heads', 'resnet_skip_time_act', 'upcast_attention', 'encoder_hid_dim_type', 'time_embedding_act_fn', 'num_class_embeds', 'time_embedding_type', 'resnet_out_scale_factor', 'mid_block_type', 'time_cond_proj_dim', 'attention_type', 'resnet_time_scale_shift', 'cross_attention_norm', 'only_cross_attention', 'reverse_transformer_layers_per_block', 'projection_class_embeddings_input_dim', 'time_embedding_dim', 'num_attention_heads'} was not found in config. Values will be initialized to default values.\n",
      "12/12/2023 12:16:12 - INFO - __main__ - ***** Running training *****\n",
      "12/12/2023 12:16:12 - INFO - __main__ -   Num examples = 12\n",
      "12/12/2023 12:16:12 - INFO - __main__ -   Num batches each epoch = 12\n",
      "12/12/2023 12:16:12 - INFO - __main__ -   Num Epochs = 1\n",
      "12/12/2023 12:16:12 - INFO - __main__ -   Instantaneous batch size per device = 1\n",
      "12/12/2023 12:16:12 - INFO - __main__ -   Total train batch size (w. parallel, distributed & accumulation) = 1\n",
      "12/12/2023 12:16:12 - INFO - __main__ -   Gradient Accumulation steps = 1\n",
      "12/12/2023 12:16:12 - INFO - __main__ -   Total optimization steps = 10\n",
      "Steps:   0%|                                             | 0/10 [00:00<?, ?it/s]Traceback (most recent call last):\n",
      "  File \"/workspace/Machine_Learning_Institute/week8_fine_tune_stable_diffusion/dreambooth/./diffusers/examples/dreambooth/train_dreambooth.py\", line 1428, in <module>\n",
      "    main(args)\n",
      "  File \"/workspace/Machine_Learning_Institute/week8_fine_tune_stable_diffusion/dreambooth/./diffusers/examples/dreambooth/train_dreambooth.py\", line 1314, in main\n",
      "    optimizer.step()\n",
      "  File \"/usr/local/lib/python3.10/dist-packages/accelerate/optimizer.py\", line 132, in step\n",
      "    self.scaler.step(self.optimizer, closure)\n",
      "  File \"/usr/local/lib/python3.10/dist-packages/torch/cuda/amp/grad_scaler.py\", line 416, in step\n",
      "    retval = self._maybe_opt_step(optimizer, optimizer_state, *args, **kwargs)\n",
      "  File \"/usr/local/lib/python3.10/dist-packages/torch/cuda/amp/grad_scaler.py\", line 315, in _maybe_opt_step\n",
      "    retval = optimizer.step(*args, **kwargs)\n",
      "  File \"/usr/local/lib/python3.10/dist-packages/accelerate/optimizer.py\", line 185, in patched_step\n",
      "    return method(*args, **kwargs)\n",
      "  File \"/usr/local/lib/python3.10/dist-packages/torch/optim/lr_scheduler.py\", line 68, in wrapper\n",
      "    return wrapped(*args, **kwargs)\n",
      "  File \"/usr/local/lib/python3.10/dist-packages/torch/optim/optimizer.py\", line 373, in wrapper\n",
      "    out = func(*args, **kwargs)\n",
      "  File \"/usr/local/lib/python3.10/dist-packages/torch/optim/optimizer.py\", line 76, in _use_grad\n",
      "    ret = func(self, *args, **kwargs)\n",
      "  File \"/usr/local/lib/python3.10/dist-packages/torch/optim/adamw.py\", line 173, in step\n",
      "    self._init_group(\n",
      "  File \"/usr/local/lib/python3.10/dist-packages/torch/optim/adamw.py\", line 125, in _init_group\n",
      "    state[\"exp_avg_sq\"] = torch.zeros_like(\n",
      "torch.cuda.OutOfMemoryError: CUDA out of memory. Tried to allocate 50.00 MiB. GPU 0 has a total capacty of 23.65 GiB of which 49.62 MiB is free. Process 2378700 has 12.61 GiB memory in use. Process 2389165 has 10.98 GiB memory in use. Of the allocated memory 10.36 GiB is allocated by PyTorch, and 135.39 MiB is reserved by PyTorch but unallocated. If reserved but unallocated memory is large try setting max_split_size_mb to avoid fragmentation.  See documentation for Memory Management and PYTORCH_CUDA_ALLOC_CONF\n",
      "Steps:   0%|                                             | 0/10 [00:00<?, ?it/s]\n",
      "Traceback (most recent call last):\n",
      "  File \"/usr/local/bin/accelerate\", line 8, in <module>\n",
      "    sys.exit(main())\n",
      "  File \"/usr/local/lib/python3.10/dist-packages/accelerate/commands/accelerate_cli.py\", line 47, in main\n",
      "    args.func(args)\n",
      "  File \"/usr/local/lib/python3.10/dist-packages/accelerate/commands/launch.py\", line 1017, in launch_command\n",
      "    simple_launcher(args)\n",
      "  File \"/usr/local/lib/python3.10/dist-packages/accelerate/commands/launch.py\", line 637, in simple_launcher\n",
      "    raise subprocess.CalledProcessError(returncode=process.returncode, cmd=cmd)\n",
      "subprocess.CalledProcessError: Command '['/usr/bin/python', './diffusers/examples/dreambooth/train_dreambooth.py', '--pretrained_model_name_or_path=CompVis/stable-diffusion-v1-4', '--instance_data_dir=./bash_images', '--seed=1337', '--output_dir=./dreambooth/sd_aiconos-model-v1-2_400', '--revision=fp16', '--mixed_precision=fp16', '--instance_prompt=a photo of bash', '--resolution=8', '--train_batch_size=1', '--gradient_accumulation_steps=1', '--checkpointing_steps=100', '--learning_rate=1e-4', '--lr_scheduler=constant', '--lr_warmup_steps=0', '--max_train_steps=10']' returned non-zero exit status 1.\n"
     ]
    }
   ],
   "source": [
    "import torch\n",
    "torch.cuda.empty_cache()\n",
    "!accelerate launch ./diffusers/examples/dreambooth/train_dreambooth.py \\\n",
    "  --pretrained_model_name_or_path=$MODEL_NAME  \\\n",
    "  --instance_data_dir=$INSTANCE_DIR \\\n",
    "  --seed=1337 \\\n",
    "  --output_dir=$OUTPUT_DIR \\\n",
    "  --revision=\"fp16\" \\\n",
    "  --mixed_precision=\"fp16\" \\\n",
    "  --instance_prompt=\"a photo of bash\" \\\n",
    "  --resolution=8 \\\n",
    "  --train_batch_size=1 \\\n",
    "  --gradient_accumulation_steps=1 \\\n",
    "  --checkpointing_steps=100 \\\n",
    "  --learning_rate=1e-4 \\\n",
    "  --lr_scheduler=\"constant\" \\\n",
    "  --lr_warmup_steps=0 \\\n",
    "  --max_train_steps=10"
   ]
  },
  {
   "cell_type": "code",
   "execution_count": null,
   "id": "e437dea1-7164-4398-b24f-b31dc619e8b7",
   "metadata": {},
   "outputs": [],
   "source": []
  }
 ],
 "metadata": {
  "kernelspec": {
   "display_name": "Python 3 (ipykernel)",
   "language": "python",
   "name": "python3"
  },
  "language_info": {
   "codemirror_mode": {
    "name": "ipython",
    "version": 3
   },
   "file_extension": ".py",
   "mimetype": "text/x-python",
   "name": "python",
   "nbconvert_exporter": "python",
   "pygments_lexer": "ipython3",
   "version": "3.10.12"
  }
 },
 "nbformat": 4,
 "nbformat_minor": 5
}
