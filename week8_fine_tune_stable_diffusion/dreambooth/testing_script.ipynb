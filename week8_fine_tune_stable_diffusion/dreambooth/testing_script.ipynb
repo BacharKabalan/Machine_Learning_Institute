{
 "cells": [
  {
   "cell_type": "code",
   "execution_count": 2,
   "id": "347d5860-b062-4335-8ed9-7903e69a2f2f",
   "metadata": {},
   "outputs": [
    {
     "name": "stdout",
     "output_type": "stream",
     "text": [
      "Cloning into 'diffusers'...\n",
      "remote: Enumerating objects: 47728, done.\u001b[K\n",
      "remote: Counting objects: 100% (1575/1575), done.\u001b[K\n",
      "remote: Compressing objects: 100% (705/705), done.\u001b[K\n",
      "remote: Total 47728 (delta 1030), reused 1166 (delta 741), pack-reused 46153\u001b[K\n",
      "Receiving objects: 100% (47728/47728), 31.87 MiB | 32.19 MiB/s, done.\n",
      "Resolving deltas: 100% (35172/35172), done.\n",
      "Processing ./diffusers\n",
      "  Installing build dependencies ... \u001b[?25ldone\n",
      "\u001b[?25h  Getting requirements to build wheel ... \u001b[?25ldone\n",
      "\u001b[?25h  Preparing metadata (pyproject.toml) ... \u001b[?25ldone\n",
      "\u001b[?25hRequirement already satisfied: importlib-metadata in /usr/lib/python3/dist-packages (from diffusers==0.25.0.dev0) (4.6.4)\n",
      "Requirement already satisfied: filelock in /usr/local/lib/python3.10/dist-packages (from diffusers==0.25.0.dev0) (3.9.0)\n",
      "Collecting huggingface-hub>=0.19.4 (from diffusers==0.25.0.dev0)\n",
      "  Downloading huggingface_hub-0.19.4-py3-none-any.whl.metadata (14 kB)\n",
      "Requirement already satisfied: numpy in /usr/local/lib/python3.10/dist-packages (from diffusers==0.25.0.dev0) (1.24.1)\n",
      "Collecting regex!=2019.12.17 (from diffusers==0.25.0.dev0)\n",
      "  Downloading regex-2023.10.3-cp310-cp310-manylinux_2_17_x86_64.manylinux2014_x86_64.whl.metadata (40 kB)\n",
      "\u001b[2K     \u001b[90m━━━━━━━━━━━━━━━━━━━━━━━━━━━━━━━━━━━━━━━\u001b[0m \u001b[32m40.9/40.9 kB\u001b[0m \u001b[31m991.8 kB/s\u001b[0m eta \u001b[36m0:00:00\u001b[0m\n",
      "\u001b[?25hRequirement already satisfied: requests in /usr/local/lib/python3.10/dist-packages (from diffusers==0.25.0.dev0) (2.31.0)\n",
      "Collecting safetensors>=0.3.1 (from diffusers==0.25.0.dev0)\n",
      "  Downloading safetensors-0.4.1-cp310-cp310-manylinux_2_17_x86_64.manylinux2014_x86_64.whl.metadata (3.8 kB)\n",
      "Requirement already satisfied: Pillow in /usr/local/lib/python3.10/dist-packages (from diffusers==0.25.0.dev0) (9.3.0)\n",
      "Collecting fsspec>=2023.5.0 (from huggingface-hub>=0.19.4->diffusers==0.25.0.dev0)\n",
      "  Downloading fsspec-2023.12.2-py3-none-any.whl.metadata (6.8 kB)\n",
      "Collecting tqdm>=4.42.1 (from huggingface-hub>=0.19.4->diffusers==0.25.0.dev0)\n",
      "  Downloading tqdm-4.66.1-py3-none-any.whl.metadata (57 kB)\n",
      "\u001b[2K     \u001b[90m━━━━━━━━━━━━━━━━━━━━━━━━━━━━━━━━━━━━━━━━\u001b[0m \u001b[32m57.6/57.6 kB\u001b[0m \u001b[31m2.9 MB/s\u001b[0m eta \u001b[36m0:00:00\u001b[0m\n",
      "\u001b[?25hRequirement already satisfied: pyyaml>=5.1 in /usr/local/lib/python3.10/dist-packages (from huggingface-hub>=0.19.4->diffusers==0.25.0.dev0) (6.0.1)\n",
      "Requirement already satisfied: typing-extensions>=3.7.4.3 in /usr/local/lib/python3.10/dist-packages (from huggingface-hub>=0.19.4->diffusers==0.25.0.dev0) (4.4.0)\n",
      "Requirement already satisfied: packaging>=20.9 in /usr/local/lib/python3.10/dist-packages (from huggingface-hub>=0.19.4->diffusers==0.25.0.dev0) (23.2)\n",
      "Requirement already satisfied: charset-normalizer<4,>=2 in /usr/local/lib/python3.10/dist-packages (from requests->diffusers==0.25.0.dev0) (2.1.1)\n",
      "Requirement already satisfied: idna<4,>=2.5 in /usr/local/lib/python3.10/dist-packages (from requests->diffusers==0.25.0.dev0) (3.4)\n",
      "Requirement already satisfied: urllib3<3,>=1.21.1 in /usr/local/lib/python3.10/dist-packages (from requests->diffusers==0.25.0.dev0) (1.26.13)\n",
      "Requirement already satisfied: certifi>=2017.4.17 in /usr/local/lib/python3.10/dist-packages (from requests->diffusers==0.25.0.dev0) (2022.12.7)\n",
      "Downloading huggingface_hub-0.19.4-py3-none-any.whl (311 kB)\n",
      "\u001b[2K   \u001b[90m━━━━━━━━━━━━━━━━━━━━━━━━━━━━━━━━━━━━━━━━\u001b[0m \u001b[32m311.7/311.7 kB\u001b[0m \u001b[31m6.2 MB/s\u001b[0m eta \u001b[36m0:00:00\u001b[0m:00:01\u001b[0m\n",
      "\u001b[?25hDownloading regex-2023.10.3-cp310-cp310-manylinux_2_17_x86_64.manylinux2014_x86_64.whl (773 kB)\n",
      "\u001b[2K   \u001b[90m━━━━━━━━━━━━━━━━━━━━━━━━━━━━━━━━━━━━━━━━\u001b[0m \u001b[32m773.9/773.9 kB\u001b[0m \u001b[31m23.3 MB/s\u001b[0m eta \u001b[36m0:00:00\u001b[0m\n",
      "\u001b[?25hDownloading safetensors-0.4.1-cp310-cp310-manylinux_2_17_x86_64.manylinux2014_x86_64.whl (1.3 MB)\n",
      "\u001b[2K   \u001b[90m━━━━━━━━━━━━━━━━━━━━━━━━━━━━━━━━━━━━━━━━\u001b[0m \u001b[32m1.3/1.3 MB\u001b[0m \u001b[31m42.1 MB/s\u001b[0m eta \u001b[36m0:00:00\u001b[0m\n",
      "\u001b[?25hDownloading fsspec-2023.12.2-py3-none-any.whl (168 kB)\n",
      "\u001b[2K   \u001b[90m━━━━━━━━━━━━━━━━━━━━━━━━━━━━━━━━━━━━━━━━\u001b[0m \u001b[32m169.0/169.0 kB\u001b[0m \u001b[31m10.0 MB/s\u001b[0m eta \u001b[36m0:00:00\u001b[0m\n",
      "\u001b[?25hDownloading tqdm-4.66.1-py3-none-any.whl (78 kB)\n",
      "\u001b[2K   \u001b[90m━━━━━━━━━━━━━━━━━━━━━━━━━━━━━━━━━━━━━━━━\u001b[0m \u001b[32m78.3/78.3 kB\u001b[0m \u001b[31m4.9 MB/s\u001b[0m eta \u001b[36m0:00:00\u001b[0m\n",
      "\u001b[?25hBuilding wheels for collected packages: diffusers\n",
      "  Building wheel for diffusers (pyproject.toml) ... \u001b[?25ldone\n",
      "\u001b[?25h  Created wheel for diffusers: filename=diffusers-0.25.0.dev0-py3-none-any.whl size=1816331 sha256=3c134e744b13d4e7dca642c23beebf03250b3e94025ace1f42cf3cedc8b293e8\n",
      "  Stored in directory: /tmp/pip-ephem-wheel-cache-ucpooqak/wheels/64/78/12/760ac642f0ef9ca736fa88da48b7461adddf1b24155a244ddc\n",
      "Successfully built diffusers\n",
      "Installing collected packages: tqdm, safetensors, regex, fsspec, huggingface-hub, diffusers\n",
      "  Attempting uninstall: fsspec\n",
      "    Found existing installation: fsspec 2023.4.0\n",
      "    Uninstalling fsspec-2023.4.0:\n",
      "      Successfully uninstalled fsspec-2023.4.0\n",
      "Successfully installed diffusers-0.25.0.dev0 fsspec-2023.12.2 huggingface-hub-0.19.4 regex-2023.10.3 safetensors-0.4.1 tqdm-4.66.1\n",
      "\u001b[33mWARNING: Running pip as the 'root' user can result in broken permissions and conflicting behaviour with the system package manager. It is recommended to use a virtual environment instead: https://pip.pypa.io/warnings/venv\u001b[0m\u001b[33m\n",
      "\u001b[0mCollecting accelerate>=0.16.0 (from -r ./diffusers/examples/dreambooth/requirements.txt (line 1))\n",
      "  Downloading accelerate-0.25.0-py3-none-any.whl.metadata (18 kB)\n",
      "Requirement already satisfied: torchvision in /usr/local/lib/python3.10/dist-packages (from -r ./diffusers/examples/dreambooth/requirements.txt (line 2)) (0.16.0+cu118)\n",
      "Collecting torchvision (from -r ./diffusers/examples/dreambooth/requirements.txt (line 2))\n",
      "  Downloading torchvision-0.16.1-cp310-cp310-manylinux1_x86_64.whl.metadata (6.6 kB)\n",
      "Collecting transformers>=4.25.1 (from -r ./diffusers/examples/dreambooth/requirements.txt (line 3))\n",
      "  Downloading transformers-4.36.0-py3-none-any.whl.metadata (126 kB)\n",
      "\u001b[2K     \u001b[90m━━━━━━━━━━━━━━━━━━━━━━━━━━━━━━━━━━━━━━━\u001b[0m \u001b[32m126.8/126.8 kB\u001b[0m \u001b[31m2.3 MB/s\u001b[0m eta \u001b[36m0:00:00\u001b[0ma \u001b[36m0:00:01\u001b[0m\n",
      "\u001b[?25hCollecting ftfy (from -r ./diffusers/examples/dreambooth/requirements.txt (line 4))\n",
      "  Downloading ftfy-6.1.3-py3-none-any.whl.metadata (6.2 kB)\n",
      "Collecting tensorboard (from -r ./diffusers/examples/dreambooth/requirements.txt (line 5))\n",
      "  Downloading tensorboard-2.15.1-py3-none-any.whl.metadata (1.7 kB)\n",
      "Requirement already satisfied: Jinja2 in /usr/local/lib/python3.10/dist-packages (from -r ./diffusers/examples/dreambooth/requirements.txt (line 6)) (3.1.2)\n",
      "Collecting peft==0.7.0 (from -r ./diffusers/examples/dreambooth/requirements.txt (line 7))\n",
      "  Downloading peft-0.7.0-py3-none-any.whl.metadata (25 kB)\n",
      "Requirement already satisfied: numpy>=1.17 in /usr/local/lib/python3.10/dist-packages (from peft==0.7.0->-r ./diffusers/examples/dreambooth/requirements.txt (line 7)) (1.24.1)\n",
      "Requirement already satisfied: packaging>=20.0 in /usr/local/lib/python3.10/dist-packages (from peft==0.7.0->-r ./diffusers/examples/dreambooth/requirements.txt (line 7)) (23.2)\n",
      "Requirement already satisfied: psutil in /usr/local/lib/python3.10/dist-packages (from peft==0.7.0->-r ./diffusers/examples/dreambooth/requirements.txt (line 7)) (5.9.6)\n",
      "Requirement already satisfied: pyyaml in /usr/local/lib/python3.10/dist-packages (from peft==0.7.0->-r ./diffusers/examples/dreambooth/requirements.txt (line 7)) (6.0.1)\n",
      "Requirement already satisfied: torch>=1.13.0 in /usr/local/lib/python3.10/dist-packages (from peft==0.7.0->-r ./diffusers/examples/dreambooth/requirements.txt (line 7)) (2.1.0+cu118)\n",
      "Requirement already satisfied: tqdm in /usr/local/lib/python3.10/dist-packages (from peft==0.7.0->-r ./diffusers/examples/dreambooth/requirements.txt (line 7)) (4.66.1)\n",
      "Requirement already satisfied: safetensors in /usr/local/lib/python3.10/dist-packages (from peft==0.7.0->-r ./diffusers/examples/dreambooth/requirements.txt (line 7)) (0.4.1)\n",
      "Requirement already satisfied: huggingface-hub>=0.17.0 in /usr/local/lib/python3.10/dist-packages (from peft==0.7.0->-r ./diffusers/examples/dreambooth/requirements.txt (line 7)) (0.19.4)\n",
      "Requirement already satisfied: requests in /usr/local/lib/python3.10/dist-packages (from torchvision->-r ./diffusers/examples/dreambooth/requirements.txt (line 2)) (2.31.0)\n",
      "Collecting torch>=1.13.0 (from peft==0.7.0->-r ./diffusers/examples/dreambooth/requirements.txt (line 7))\n",
      "  Downloading torch-2.1.1-cp310-cp310-manylinux1_x86_64.whl.metadata (25 kB)\n",
      "Requirement already satisfied: pillow!=8.3.*,>=5.3.0 in /usr/local/lib/python3.10/dist-packages (from torchvision->-r ./diffusers/examples/dreambooth/requirements.txt (line 2)) (9.3.0)\n",
      "Requirement already satisfied: filelock in /usr/local/lib/python3.10/dist-packages (from torch>=1.13.0->peft==0.7.0->-r ./diffusers/examples/dreambooth/requirements.txt (line 7)) (3.9.0)\n",
      "Requirement already satisfied: typing-extensions in /usr/local/lib/python3.10/dist-packages (from torch>=1.13.0->peft==0.7.0->-r ./diffusers/examples/dreambooth/requirements.txt (line 7)) (4.4.0)\n",
      "Requirement already satisfied: sympy in /usr/local/lib/python3.10/dist-packages (from torch>=1.13.0->peft==0.7.0->-r ./diffusers/examples/dreambooth/requirements.txt (line 7)) (1.12)\n",
      "Requirement already satisfied: networkx in /usr/local/lib/python3.10/dist-packages (from torch>=1.13.0->peft==0.7.0->-r ./diffusers/examples/dreambooth/requirements.txt (line 7)) (3.0)\n",
      "Requirement already satisfied: fsspec in /usr/local/lib/python3.10/dist-packages (from torch>=1.13.0->peft==0.7.0->-r ./diffusers/examples/dreambooth/requirements.txt (line 7)) (2023.12.2)\n",
      "Collecting nvidia-cuda-nvrtc-cu12==12.1.105 (from torch>=1.13.0->peft==0.7.0->-r ./diffusers/examples/dreambooth/requirements.txt (line 7))\n",
      "  Downloading nvidia_cuda_nvrtc_cu12-12.1.105-py3-none-manylinux1_x86_64.whl (23.7 MB)\n",
      "\u001b[2K     \u001b[90m━━━━━━━━━━━━━━━━━━━━━━━━━━━━━━━━━━━━━━━━\u001b[0m \u001b[32m23.7/23.7 MB\u001b[0m \u001b[31m64.9 MB/s\u001b[0m eta \u001b[36m0:00:00\u001b[0m00:01\u001b[0m00:01\u001b[0m\n",
      "\u001b[?25hCollecting nvidia-cuda-runtime-cu12==12.1.105 (from torch>=1.13.0->peft==0.7.0->-r ./diffusers/examples/dreambooth/requirements.txt (line 7))\n",
      "  Downloading nvidia_cuda_runtime_cu12-12.1.105-py3-none-manylinux1_x86_64.whl (823 kB)\n",
      "\u001b[2K     \u001b[90m━━━━━━━━━━━━━━━━━━━━━━━━━━━━━━━━━━━━━━\u001b[0m \u001b[32m823.6/823.6 kB\u001b[0m \u001b[31m37.2 MB/s\u001b[0m eta \u001b[36m0:00:00\u001b[0m\n",
      "\u001b[?25hCollecting nvidia-cuda-cupti-cu12==12.1.105 (from torch>=1.13.0->peft==0.7.0->-r ./diffusers/examples/dreambooth/requirements.txt (line 7))\n",
      "  Downloading nvidia_cuda_cupti_cu12-12.1.105-py3-none-manylinux1_x86_64.whl (14.1 MB)\n",
      "\u001b[2K     \u001b[90m━━━━━━━━━━━━━━━━━━━━━━━━━━━━━━━━━━━━━━━━\u001b[0m \u001b[32m14.1/14.1 MB\u001b[0m \u001b[31m68.6 MB/s\u001b[0m eta \u001b[36m0:00:00\u001b[0m00:01\u001b[0m00:01\u001b[0m\n",
      "\u001b[?25hCollecting nvidia-cudnn-cu12==8.9.2.26 (from torch>=1.13.0->peft==0.7.0->-r ./diffusers/examples/dreambooth/requirements.txt (line 7))\n",
      "  Downloading nvidia_cudnn_cu12-8.9.2.26-py3-none-manylinux1_x86_64.whl.metadata (1.6 kB)\n",
      "Collecting nvidia-cublas-cu12==12.1.3.1 (from torch>=1.13.0->peft==0.7.0->-r ./diffusers/examples/dreambooth/requirements.txt (line 7))\n",
      "  Downloading nvidia_cublas_cu12-12.1.3.1-py3-none-manylinux1_x86_64.whl (410.6 MB)\n",
      "\u001b[2K     \u001b[90m━━━━━━━━━━━━━━━━━━━━━━━━━━━━━━━━━━━━━━\u001b[0m \u001b[32m410.6/410.6 MB\u001b[0m \u001b[31m26.5 MB/s\u001b[0m eta \u001b[36m0:00:00\u001b[0m00:01\u001b[0m00:01\u001b[0m\n",
      "\u001b[?25hCollecting nvidia-cufft-cu12==11.0.2.54 (from torch>=1.13.0->peft==0.7.0->-r ./diffusers/examples/dreambooth/requirements.txt (line 7))\n",
      "  Downloading nvidia_cufft_cu12-11.0.2.54-py3-none-manylinux1_x86_64.whl (121.6 MB)\n",
      "\u001b[2K     \u001b[90m━━━━━━━━━━━━━━━━━━━━━━━━━━━━━━━━━━━━━━\u001b[0m \u001b[32m121.6/121.6 MB\u001b[0m \u001b[31m51.2 MB/s\u001b[0m eta \u001b[36m0:00:00\u001b[0m00:01\u001b[0m00:01\u001b[0m\n",
      "\u001b[?25hCollecting nvidia-curand-cu12==10.3.2.106 (from torch>=1.13.0->peft==0.7.0->-r ./diffusers/examples/dreambooth/requirements.txt (line 7))\n",
      "  Downloading nvidia_curand_cu12-10.3.2.106-py3-none-manylinux1_x86_64.whl (56.5 MB)\n",
      "\u001b[2K     \u001b[90m━━━━━━━━━━━━━━━━━━━━━━━━━━━━━━━━━━━━━━━━\u001b[0m \u001b[32m56.5/56.5 MB\u001b[0m \u001b[31m62.8 MB/s\u001b[0m eta \u001b[36m0:00:00\u001b[0m00:01\u001b[0m00:01\u001b[0m\n",
      "\u001b[?25hCollecting nvidia-cusolver-cu12==11.4.5.107 (from torch>=1.13.0->peft==0.7.0->-r ./diffusers/examples/dreambooth/requirements.txt (line 7))\n",
      "  Downloading nvidia_cusolver_cu12-11.4.5.107-py3-none-manylinux1_x86_64.whl (124.2 MB)\n",
      "\u001b[2K     \u001b[90m━━━━━━━━━━━━━━━━━━━━━━━━━━━━━━━━━━━━━━\u001b[0m \u001b[32m124.2/124.2 MB\u001b[0m \u001b[31m48.7 MB/s\u001b[0m eta \u001b[36m0:00:00\u001b[0m00:01\u001b[0m00:01\u001b[0m\n",
      "\u001b[?25hCollecting nvidia-cusparse-cu12==12.1.0.106 (from torch>=1.13.0->peft==0.7.0->-r ./diffusers/examples/dreambooth/requirements.txt (line 7))\n",
      "  Downloading nvidia_cusparse_cu12-12.1.0.106-py3-none-manylinux1_x86_64.whl (196.0 MB)\n",
      "\u001b[2K     \u001b[90m━━━━━━━━━━━━━━━━━━━━━━━━━━━━━━━━━━━━━━\u001b[0m \u001b[32m196.0/196.0 MB\u001b[0m \u001b[31m36.9 MB/s\u001b[0m eta \u001b[36m0:00:00\u001b[0m00:01\u001b[0m00:01\u001b[0m\n",
      "\u001b[?25hCollecting nvidia-nccl-cu12==2.18.1 (from torch>=1.13.0->peft==0.7.0->-r ./diffusers/examples/dreambooth/requirements.txt (line 7))\n",
      "  Downloading nvidia_nccl_cu12-2.18.1-py3-none-manylinux1_x86_64.whl (209.8 MB)\n",
      "\u001b[2K     \u001b[90m━━━━━━━━━━━━━━━━━━━━━━━━━━━━━━━━━━━━━━\u001b[0m \u001b[32m209.8/209.8 MB\u001b[0m \u001b[31m37.0 MB/s\u001b[0m eta \u001b[36m0:00:00\u001b[0m00:01\u001b[0m00:01\u001b[0m\n",
      "\u001b[?25hCollecting nvidia-nvtx-cu12==12.1.105 (from torch>=1.13.0->peft==0.7.0->-r ./diffusers/examples/dreambooth/requirements.txt (line 7))\n",
      "  Downloading nvidia_nvtx_cu12-12.1.105-py3-none-manylinux1_x86_64.whl (99 kB)\n",
      "\u001b[2K     \u001b[90m━━━━━━━━━━━━━━━━━━━━━━━━━━━━━━━━━━━━━━━━\u001b[0m \u001b[32m99.1/99.1 kB\u001b[0m \u001b[31m5.9 MB/s\u001b[0m eta \u001b[36m0:00:00\u001b[0m\n",
      "\u001b[?25hRequirement already satisfied: triton==2.1.0 in /usr/local/lib/python3.10/dist-packages (from torch>=1.13.0->peft==0.7.0->-r ./diffusers/examples/dreambooth/requirements.txt (line 7)) (2.1.0)\n",
      "Collecting nvidia-nvjitlink-cu12 (from nvidia-cusolver-cu12==11.4.5.107->torch>=1.13.0->peft==0.7.0->-r ./diffusers/examples/dreambooth/requirements.txt (line 7))\n",
      "  Downloading nvidia_nvjitlink_cu12-12.3.101-py3-none-manylinux1_x86_64.whl.metadata (1.5 kB)\n",
      "Requirement already satisfied: regex!=2019.12.17 in /usr/local/lib/python3.10/dist-packages (from transformers>=4.25.1->-r ./diffusers/examples/dreambooth/requirements.txt (line 3)) (2023.10.3)\n",
      "Collecting tokenizers<0.19,>=0.14 (from transformers>=4.25.1->-r ./diffusers/examples/dreambooth/requirements.txt (line 3))\n",
      "  Downloading tokenizers-0.15.0-cp310-cp310-manylinux_2_17_x86_64.manylinux2014_x86_64.whl.metadata (6.7 kB)\n",
      "Collecting wcwidth<0.3.0,>=0.2.12 (from ftfy->-r ./diffusers/examples/dreambooth/requirements.txt (line 4))\n",
      "  Downloading wcwidth-0.2.12-py2.py3-none-any.whl.metadata (14 kB)\n",
      "Collecting absl-py>=0.4 (from tensorboard->-r ./diffusers/examples/dreambooth/requirements.txt (line 5))\n",
      "  Downloading absl_py-2.0.0-py3-none-any.whl.metadata (2.3 kB)\n",
      "Collecting grpcio>=1.48.2 (from tensorboard->-r ./diffusers/examples/dreambooth/requirements.txt (line 5))\n",
      "  Downloading grpcio-1.60.0-cp310-cp310-manylinux_2_17_x86_64.manylinux2014_x86_64.whl.metadata (4.0 kB)\n",
      "Collecting google-auth<3,>=1.6.3 (from tensorboard->-r ./diffusers/examples/dreambooth/requirements.txt (line 5))\n",
      "  Downloading google_auth-2.25.2-py2.py3-none-any.whl.metadata (4.7 kB)\n",
      "Collecting google-auth-oauthlib<2,>=0.5 (from tensorboard->-r ./diffusers/examples/dreambooth/requirements.txt (line 5))\n",
      "  Downloading google_auth_oauthlib-1.2.0-py2.py3-none-any.whl.metadata (2.7 kB)\n",
      "Collecting markdown>=2.6.8 (from tensorboard->-r ./diffusers/examples/dreambooth/requirements.txt (line 5))\n",
      "  Downloading Markdown-3.5.1-py3-none-any.whl.metadata (7.1 kB)\n",
      "Collecting protobuf<4.24,>=3.19.6 (from tensorboard->-r ./diffusers/examples/dreambooth/requirements.txt (line 5))\n",
      "  Downloading protobuf-4.23.4-cp37-abi3-manylinux2014_x86_64.whl.metadata (540 bytes)\n",
      "Requirement already satisfied: setuptools>=41.0.0 in /usr/local/lib/python3.10/dist-packages (from tensorboard->-r ./diffusers/examples/dreambooth/requirements.txt (line 5)) (68.2.2)\n",
      "Requirement already satisfied: six>1.9 in /usr/lib/python3/dist-packages (from tensorboard->-r ./diffusers/examples/dreambooth/requirements.txt (line 5)) (1.16.0)\n",
      "Collecting tensorboard-data-server<0.8.0,>=0.7.0 (from tensorboard->-r ./diffusers/examples/dreambooth/requirements.txt (line 5))\n",
      "  Downloading tensorboard_data_server-0.7.2-py3-none-manylinux_2_31_x86_64.whl.metadata (1.1 kB)\n",
      "Collecting werkzeug>=1.0.1 (from tensorboard->-r ./diffusers/examples/dreambooth/requirements.txt (line 5))\n",
      "  Downloading werkzeug-3.0.1-py3-none-any.whl.metadata (4.1 kB)\n",
      "Requirement already satisfied: MarkupSafe>=2.0 in /usr/local/lib/python3.10/dist-packages (from Jinja2->-r ./diffusers/examples/dreambooth/requirements.txt (line 6)) (2.1.2)\n",
      "Collecting cachetools<6.0,>=2.0.0 (from google-auth<3,>=1.6.3->tensorboard->-r ./diffusers/examples/dreambooth/requirements.txt (line 5))\n",
      "  Downloading cachetools-5.3.2-py3-none-any.whl.metadata (5.2 kB)\n",
      "Collecting pyasn1-modules>=0.2.1 (from google-auth<3,>=1.6.3->tensorboard->-r ./diffusers/examples/dreambooth/requirements.txt (line 5))\n",
      "  Downloading pyasn1_modules-0.3.0-py2.py3-none-any.whl (181 kB)\n",
      "\u001b[2K     \u001b[90m━━━━━━━━━━━━━━━━━━━━━━━━━━━━━━━━━━━━━━\u001b[0m \u001b[32m181.3/181.3 kB\u001b[0m \u001b[31m11.9 MB/s\u001b[0m eta \u001b[36m0:00:00\u001b[0m\n",
      "\u001b[?25hCollecting rsa<5,>=3.1.4 (from google-auth<3,>=1.6.3->tensorboard->-r ./diffusers/examples/dreambooth/requirements.txt (line 5))\n",
      "  Downloading rsa-4.9-py3-none-any.whl (34 kB)\n",
      "Collecting requests-oauthlib>=0.7.0 (from google-auth-oauthlib<2,>=0.5->tensorboard->-r ./diffusers/examples/dreambooth/requirements.txt (line 5))\n",
      "  Downloading requests_oauthlib-1.3.1-py2.py3-none-any.whl (23 kB)\n",
      "Requirement already satisfied: charset-normalizer<4,>=2 in /usr/local/lib/python3.10/dist-packages (from requests->torchvision->-r ./diffusers/examples/dreambooth/requirements.txt (line 2)) (2.1.1)\n",
      "Requirement already satisfied: idna<4,>=2.5 in /usr/local/lib/python3.10/dist-packages (from requests->torchvision->-r ./diffusers/examples/dreambooth/requirements.txt (line 2)) (3.4)\n",
      "Requirement already satisfied: urllib3<3,>=1.21.1 in /usr/local/lib/python3.10/dist-packages (from requests->torchvision->-r ./diffusers/examples/dreambooth/requirements.txt (line 2)) (1.26.13)\n",
      "Requirement already satisfied: certifi>=2017.4.17 in /usr/local/lib/python3.10/dist-packages (from requests->torchvision->-r ./diffusers/examples/dreambooth/requirements.txt (line 2)) (2022.12.7)\n",
      "Collecting pyasn1<0.6.0,>=0.4.6 (from pyasn1-modules>=0.2.1->google-auth<3,>=1.6.3->tensorboard->-r ./diffusers/examples/dreambooth/requirements.txt (line 5))\n",
      "  Downloading pyasn1-0.5.1-py2.py3-none-any.whl.metadata (8.6 kB)\n",
      "Requirement already satisfied: oauthlib>=3.0.0 in /usr/lib/python3/dist-packages (from requests-oauthlib>=0.7.0->google-auth-oauthlib<2,>=0.5->tensorboard->-r ./diffusers/examples/dreambooth/requirements.txt (line 5)) (3.2.0)\n",
      "Requirement already satisfied: mpmath>=0.19 in /usr/local/lib/python3.10/dist-packages (from sympy->torch>=1.13.0->peft==0.7.0->-r ./diffusers/examples/dreambooth/requirements.txt (line 7)) (1.3.0)\n",
      "Downloading peft-0.7.0-py3-none-any.whl (168 kB)\n",
      "\u001b[2K   \u001b[90m━━━━━━━━━━━━━━━━━━━━━━━━━━━━━━━━━━━━━━━━\u001b[0m \u001b[32m168.3/168.3 kB\u001b[0m \u001b[31m12.0 MB/s\u001b[0m eta \u001b[36m0:00:00\u001b[0m\n",
      "\u001b[?25hDownloading accelerate-0.25.0-py3-none-any.whl (265 kB)\n",
      "\u001b[2K   \u001b[90m━━━━━━━━━━━━━━━━━━━━━━━━━━━━━━━━━━━━━━━━\u001b[0m \u001b[32m265.7/265.7 kB\u001b[0m \u001b[31m15.9 MB/s\u001b[0m eta \u001b[36m0:00:00\u001b[0m\n",
      "\u001b[?25hDownloading torchvision-0.16.1-cp310-cp310-manylinux1_x86_64.whl (6.8 MB)\n",
      "\u001b[2K   \u001b[90m━━━━━━━━━━━━━━━━━━━━━━━━━━━━━━━━━━━━━━━━\u001b[0m \u001b[32m6.8/6.8 MB\u001b[0m \u001b[31m64.2 MB/s\u001b[0m eta \u001b[36m0:00:00\u001b[0m00:01\u001b[0m00:01\u001b[0mm\n",
      "\u001b[?25hDownloading torch-2.1.1-cp310-cp310-manylinux1_x86_64.whl (670.2 MB)\n",
      "\u001b[2K   \u001b[90m━━━━━━━━━━━━━━━━━━━━━━━━━━━━━━━━━━━━━━━━\u001b[0m \u001b[32m670.2/670.2 MB\u001b[0m \u001b[31m19.8 MB/s\u001b[0m eta \u001b[36m0:00:00\u001b[0m00:01\u001b[0m00:01\u001b[0m\n",
      "\u001b[?25hDownloading nvidia_cudnn_cu12-8.9.2.26-py3-none-manylinux1_x86_64.whl (731.7 MB)\n",
      "\u001b[2K   \u001b[90m━━━━━━━━━━━━━━━━━━━━━━━━━━━━━━━━━━━━━━━━\u001b[0m \u001b[32m731.7/731.7 MB\u001b[0m \u001b[31m18.3 MB/s\u001b[0m eta \u001b[36m0:00:00\u001b[0m00:01\u001b[0m00:01\u001b[0m\n",
      "\u001b[?25hDownloading transformers-4.36.0-py3-none-any.whl (8.2 MB)\n",
      "\u001b[2K   \u001b[90m━━━━━━━━━━━━━━━━━━━━━━━━━━━━━━━━━━━━━━━━\u001b[0m \u001b[32m8.2/8.2 MB\u001b[0m \u001b[31m81.4 MB/s\u001b[0m eta \u001b[36m0:00:00\u001b[0mta \u001b[36m0:00:01\u001b[0m\n",
      "\u001b[?25hDownloading ftfy-6.1.3-py3-none-any.whl (53 kB)\n",
      "\u001b[2K   \u001b[90m━━━━━━━━━━━━━━━━━━━━━━━━━━━━━━━━━━━━━━━━\u001b[0m \u001b[32m53.4/53.4 kB\u001b[0m \u001b[31m2.5 MB/s\u001b[0m eta \u001b[36m0:00:00\u001b[0m\n",
      "\u001b[?25hDownloading tensorboard-2.15.1-py3-none-any.whl (5.5 MB)\n",
      "\u001b[2K   \u001b[90m━━━━━━━━━━━━━━━━━━━━━━━━━━━━━━━━━━━━━━━━\u001b[0m \u001b[32m5.5/5.5 MB\u001b[0m \u001b[31m79.1 MB/s\u001b[0m eta \u001b[36m0:00:00\u001b[0m:00:01\u001b[0m00:01\u001b[0m\n",
      "\u001b[?25hDownloading absl_py-2.0.0-py3-none-any.whl (130 kB)\n",
      "\u001b[2K   \u001b[90m━━━━━━━━━━━━━━━━━━━━━━━━━━━━━━━━━━━━━━━━\u001b[0m \u001b[32m130.2/130.2 kB\u001b[0m \u001b[31m8.1 MB/s\u001b[0m eta \u001b[36m0:00:00\u001b[0m\n",
      "\u001b[?25hDownloading google_auth-2.25.2-py2.py3-none-any.whl (184 kB)\n",
      "\u001b[2K   \u001b[90m━━━━━━━━━━━━━━━━━━━━━━━━━━━━━━━━━━━━━━━━\u001b[0m \u001b[32m184.2/184.2 kB\u001b[0m \u001b[31m10.6 MB/s\u001b[0m eta \u001b[36m0:00:00\u001b[0m\n",
      "\u001b[?25hDownloading google_auth_oauthlib-1.2.0-py2.py3-none-any.whl (24 kB)\n",
      "Downloading grpcio-1.60.0-cp310-cp310-manylinux_2_17_x86_64.manylinux2014_x86_64.whl (5.4 MB)\n",
      "\u001b[2K   \u001b[90m━━━━━━━━━━━━━━━━━━━━━━━━━━━━━━━━━━━━━━━━\u001b[0m \u001b[32m5.4/5.4 MB\u001b[0m \u001b[31m83.0 MB/s\u001b[0m eta \u001b[36m0:00:00\u001b[0mta \u001b[36m0:00:01\u001b[0m\n",
      "\u001b[?25hDownloading Markdown-3.5.1-py3-none-any.whl (102 kB)\n",
      "\u001b[2K   \u001b[90m━━━━━━━━━━━━━━━━━━━━━━━━━━━━━━━━━━━━━━━━\u001b[0m \u001b[32m102.2/102.2 kB\u001b[0m \u001b[31m6.3 MB/s\u001b[0m eta \u001b[36m0:00:00\u001b[0m\n",
      "\u001b[?25hDownloading protobuf-4.23.4-cp37-abi3-manylinux2014_x86_64.whl (304 kB)\n",
      "\u001b[2K   \u001b[90m━━━━━━━━━━━━━━━━━━━━━━━━━━━━━━━━━━━━━━━━\u001b[0m \u001b[32m304.5/304.5 kB\u001b[0m \u001b[31m17.0 MB/s\u001b[0m eta \u001b[36m0:00:00\u001b[0m\n",
      "\u001b[?25hDownloading tensorboard_data_server-0.7.2-py3-none-manylinux_2_31_x86_64.whl (6.6 MB)\n",
      "\u001b[2K   \u001b[90m━━━━━━━━━━━━━━━━━━━━━━━━━━━━━━━━━━━━━━━━\u001b[0m \u001b[32m6.6/6.6 MB\u001b[0m \u001b[31m82.6 MB/s\u001b[0m eta \u001b[36m0:00:00\u001b[0m:00:01\u001b[0m00:01\u001b[0m\n",
      "\u001b[?25hDownloading tokenizers-0.15.0-cp310-cp310-manylinux_2_17_x86_64.manylinux2014_x86_64.whl (3.8 MB)\n",
      "\u001b[2K   \u001b[90m━━━━━━━━━━━━━━━━━━━━━━━━━━━━━━━━━━━━━━━━\u001b[0m \u001b[32m3.8/3.8 MB\u001b[0m \u001b[31m74.8 MB/s\u001b[0m eta \u001b[36m0:00:00\u001b[0mta \u001b[36m0:00:01\u001b[0m\n",
      "\u001b[?25hDownloading wcwidth-0.2.12-py2.py3-none-any.whl (34 kB)\n",
      "Downloading werkzeug-3.0.1-py3-none-any.whl (226 kB)\n",
      "\u001b[2K   \u001b[90m━━━━━━━━━━━━━━━━━━━━━━━━━━━━━━━━━━━━━━━━\u001b[0m \u001b[32m226.7/226.7 kB\u001b[0m \u001b[31m14.1 MB/s\u001b[0m eta \u001b[36m0:00:00\u001b[0m\n",
      "\u001b[?25hDownloading cachetools-5.3.2-py3-none-any.whl (9.3 kB)\n",
      "Downloading pyasn1-0.5.1-py2.py3-none-any.whl (84 kB)\n",
      "\u001b[2K   \u001b[90m━━━━━━━━━━━━━━━━━━━━━━━━━━━━━━━━━━━━━━━━\u001b[0m \u001b[32m84.9/84.9 kB\u001b[0m \u001b[31m4.8 MB/s\u001b[0m eta \u001b[36m0:00:00\u001b[0m\n",
      "\u001b[?25hDownloading nvidia_nvjitlink_cu12-12.3.101-py3-none-manylinux1_x86_64.whl (20.5 MB)\n",
      "\u001b[2K   \u001b[90m━━━━━━━━━━━━━━━━━━━━━━━━━━━━━━━━━━━━━━━━\u001b[0m \u001b[32m20.5/20.5 MB\u001b[0m \u001b[31m82.0 MB/s\u001b[0m eta \u001b[36m0:00:00\u001b[0m:00:01\u001b[0m00:01\u001b[0m\n",
      "\u001b[?25hInstalling collected packages: wcwidth, werkzeug, tensorboard-data-server, pyasn1, protobuf, nvidia-nvtx-cu12, nvidia-nvjitlink-cu12, nvidia-nccl-cu12, nvidia-curand-cu12, nvidia-cufft-cu12, nvidia-cuda-runtime-cu12, nvidia-cuda-nvrtc-cu12, nvidia-cuda-cupti-cu12, nvidia-cublas-cu12, markdown, grpcio, ftfy, cachetools, absl-py, rsa, requests-oauthlib, pyasn1-modules, nvidia-cusparse-cu12, nvidia-cudnn-cu12, tokenizers, nvidia-cusolver-cu12, google-auth, transformers, torch, google-auth-oauthlib, torchvision, tensorboard, accelerate, peft\n",
      "  Attempting uninstall: wcwidth\n",
      "    Found existing installation: wcwidth 0.2.9\n",
      "    Uninstalling wcwidth-0.2.9:\n",
      "      Successfully uninstalled wcwidth-0.2.9\n",
      "  Attempting uninstall: torch\n",
      "    Found existing installation: torch 2.1.0+cu118\n",
      "    Uninstalling torch-2.1.0+cu118:\n",
      "      Successfully uninstalled torch-2.1.0+cu118\n",
      "  Attempting uninstall: torchvision\n",
      "    Found existing installation: torchvision 0.16.0+cu118\n",
      "    Uninstalling torchvision-0.16.0+cu118:\n",
      "      Successfully uninstalled torchvision-0.16.0+cu118\n",
      "\u001b[31mERROR: pip's dependency resolver does not currently take into account all the packages that are installed. This behaviour is the source of the following dependency conflicts.\n",
      "torchaudio 2.1.0+cu118 requires torch==2.1.0, but you have torch 2.1.1 which is incompatible.\u001b[0m\u001b[31m\n",
      "\u001b[0mSuccessfully installed absl-py-2.0.0 accelerate-0.25.0 cachetools-5.3.2 ftfy-6.1.3 google-auth-2.25.2 google-auth-oauthlib-1.2.0 grpcio-1.60.0 markdown-3.5.1 nvidia-cublas-cu12-12.1.3.1 nvidia-cuda-cupti-cu12-12.1.105 nvidia-cuda-nvrtc-cu12-12.1.105 nvidia-cuda-runtime-cu12-12.1.105 nvidia-cudnn-cu12-8.9.2.26 nvidia-cufft-cu12-11.0.2.54 nvidia-curand-cu12-10.3.2.106 nvidia-cusolver-cu12-11.4.5.107 nvidia-cusparse-cu12-12.1.0.106 nvidia-nccl-cu12-2.18.1 nvidia-nvjitlink-cu12-12.3.101 nvidia-nvtx-cu12-12.1.105 peft-0.7.0 protobuf-4.23.4 pyasn1-0.5.1 pyasn1-modules-0.3.0 requests-oauthlib-1.3.1 rsa-4.9 tensorboard-2.15.1 tensorboard-data-server-0.7.2 tokenizers-0.15.0 torch-2.1.1 torchvision-0.16.1 transformers-4.36.0 wcwidth-0.2.12 werkzeug-3.0.1\n",
      "\u001b[33mWARNING: Running pip as the 'root' user can result in broken permissions and conflicting behaviour with the system package manager. It is recommended to use a virtual environment instead: https://pip.pypa.io/warnings/venv\u001b[0m\u001b[33m\n",
      "\u001b[0m"
     ]
    }
   ],
   "source": [
    "!git clone https://github.com/huggingface/diffusers.git\n",
    "!pip install ./diffusers\n",
    "!pip install -U -r ./diffusers/examples/dreambooth/requirements.txt"
   ]
  },
  {
   "cell_type": "code",
   "execution_count": 1,
   "id": "fed3d23a-2f1f-4cab-ab22-52c92d0f9ccb",
   "metadata": {},
   "outputs": [],
   "source": [
    "%reset -f"
   ]
  },
  {
   "cell_type": "code",
   "execution_count": 6,
   "id": "425a0e25-186c-480b-9e42-5df219554910",
   "metadata": {},
   "outputs": [
    {
     "data": {
      "application/vnd.jupyter.widget-view+json": {
       "model_id": "c7c5553bbba94bb5b9dc627e7ce97e60",
       "version_major": 2,
       "version_minor": 0
      },
      "text/plain": [
       "VBox(children=(HTML(value='<center> <img\\nsrc=https://huggingface.co/front/assets/huggingface_logo-noborder.sv…"
      ]
     },
     "metadata": {},
     "output_type": "display_data"
    }
   ],
   "source": [
    "from huggingface_hub import notebook_login\n",
    "notebook_login()"
   ]
  },
  {
   "cell_type": "code",
   "execution_count": 3,
   "id": "0833b48a-fbd8-4ce7-a7bb-25207881c547",
   "metadata": {},
   "outputs": [
    {
     "name": "stdout",
     "output_type": "stream",
     "text": [
      "name, memory.total [MiB], memory.free [MiB]\n",
      "NVIDIA GeForce RTX 3090, 24576 MiB, 24257 MiB\n"
     ]
    }
   ],
   "source": [
    "!nvidia-smi --query-gpu=name,memory.total,memory.free --format=csv"
   ]
  },
  {
   "cell_type": "code",
   "execution_count": 4,
   "id": "4b8aa7ee-c589-44ad-a993-0012ea7765d9",
   "metadata": {},
   "outputs": [
    {
     "name": "stderr",
     "output_type": "stream",
     "text": [
      "The cache for model files in Transformers v4.22.0 has been updated. Migrating your old cache. This is a one-time only operation. You can interrupt this and resume the migration later on by calling `transformers.utils.move_cache()`.\n"
     ]
    },
    {
     "data": {
      "application/vnd.jupyter.widget-view+json": {
       "model_id": "b03c9f24d4e24bf690056d6f877c4844",
       "version_major": 2,
       "version_minor": 0
      },
      "text/plain": [
       "0it [00:00, ?it/s]"
      ]
     },
     "metadata": {},
     "output_type": "display_data"
    }
   ],
   "source": [
    "%reset -f\n",
    "import torch\n",
    "import gc\n",
    "import os\n",
    "import plot_grid"
   ]
  },
  {
   "cell_type": "code",
   "execution_count": null,
   "id": "859bdb00-2dab-4407-8a45-22cb433cb12d",
   "metadata": {},
   "outputs": [
    {
     "name": "stdout",
     "output_type": "stream",
     "text": [
      "accelerate configuration saved at /root/.cache/huggingface/accelerate/default_config.yaml\n",
      "name, memory.total [MiB], memory.free [MiB]\n",
      "NVIDIA GeForce RTX 3090, 24576 MiB, 24257 MiB\n",
      "900\n",
      "12/13/2023 16:40:02 - INFO - __main__ - Distributed environment: NO\n",
      "Num processes: 1\n",
      "Process index: 0\n",
      "Local process index: 0\n",
      "Device: cuda\n",
      "\n",
      "Mixed precision type: fp16\n",
      "\n",
      "tokenizer/tokenizer_config.json: 100%|█████████| 806/806 [00:00<00:00, 3.02MB/s]\n",
      "tokenizer/vocab.json: 100%|████████████████| 1.06M/1.06M [00:00<00:00, 10.8MB/s]\n",
      "tokenizer/merges.txt: 100%|██████████████████| 525k/525k [00:00<00:00, 33.8MB/s]\n",
      "tokenizer/special_tokens_map.json: 100%|███████| 472/472 [00:00<00:00, 2.16MB/s]\n",
      "text_encoder/config.json: 100%|████████████████| 592/592 [00:00<00:00, 2.58MB/s]\n",
      "You are using a model of type clip_text_model to instantiate a model of type . This is not supported for all configurations of models and can yield errors.\n",
      "scheduler/scheduler_config.json: 100%|█████████| 313/313 [00:00<00:00, 1.34MB/s]\n",
      "{'sample_max_value', 'clip_sample_range', 'dynamic_thresholding_ratio', 'timestep_spacing', 'variance_type', 'prediction_type', 'thresholding'} was not found in config. Values will be initialized to default values.\n",
      "model.safetensors: 100%|██████████████████████| 492M/492M [00:04<00:00, 103MB/s]\n",
      "vae/config.json: 100%|█████████████████████████| 551/551 [00:00<00:00, 2.40MB/s]\n",
      "diffusion_pytorch_model.safetensors: 100%|████| 335M/335M [00:03<00:00, 104MB/s]\n",
      "{'norm_num_groups', 'force_upcast'} was not found in config. Values will be initialized to default values.\n",
      "unet/config.json: 100%|████████████████████████| 743/743 [00:00<00:00, 3.19MB/s]\n",
      "diffusion_pytorch_model.safetensors: 100%|██| 3.44G/3.44G [00:33<00:00, 103MB/s]\n",
      "{'encoder_hid_dim_type', 'encoder_hid_dim', 'class_embed_type', 'only_cross_attention', 'resnet_out_scale_factor', 'resnet_time_scale_shift', 'num_class_embeds', 'reverse_transformer_layers_per_block', 'dropout', 'use_linear_projection', 'timestep_post_act', 'mid_block_only_cross_attention', 'projection_class_embeddings_input_dim', 'conv_out_kernel', 'time_embedding_dim', 'mid_block_type', 'time_embedding_type', 'addition_time_embed_dim', 'num_attention_heads', 'time_cond_proj_dim', 'conv_in_kernel', 'dual_cross_attention', 'addition_embed_type', 'addition_embed_type_num_heads', 'transformer_layers_per_block', 'attention_type', 'upcast_attention', 'cross_attention_norm', 'class_embeddings_concat', 'resnet_skip_time_act', 'time_embedding_act_fn'} was not found in config. Values will be initialized to default values.\n",
      "12/13/2023 16:40:47 - INFO - __main__ - ***** Running training *****\n",
      "12/13/2023 16:40:47 - INFO - __main__ -   Num examples = 6\n",
      "12/13/2023 16:40:47 - INFO - __main__ -   Num batches each epoch = 6\n",
      "12/13/2023 16:40:47 - INFO - __main__ -   Num Epochs = 150\n",
      "12/13/2023 16:40:47 - INFO - __main__ -   Instantaneous batch size per device = 1\n",
      "12/13/2023 16:40:47 - INFO - __main__ -   Total train batch size (w. parallel, distributed & accumulation) = 1\n",
      "12/13/2023 16:40:47 - INFO - __main__ -   Gradient Accumulation steps = 1\n",
      "12/13/2023 16:40:47 - INFO - __main__ -   Total optimization steps = 900\n",
      "Steps:  56%|███████▏     | 500/900 [02:51<02:17,  2.91it/s, loss=0.613, lr=5e-6]12/13/2023 16:43:38 - INFO - accelerate.accelerator - Saving current state to ./dreambooth/run18/checkpoint-500\n",
      "Configuration saved in ./dreambooth/run18/checkpoint-500/unet/config.json\n",
      "Model weights saved in ./dreambooth/run18/checkpoint-500/unet/diffusion_pytorch_model.safetensors\n",
      "12/13/2023 16:43:45 - INFO - accelerate.checkpointing - Optimizer state saved in dreambooth/run18/checkpoint-500/optimizer.bin\n",
      "12/13/2023 16:43:45 - INFO - accelerate.checkpointing - Scheduler state saved in dreambooth/run18/checkpoint-500/scheduler.bin\n",
      "12/13/2023 16:43:45 - INFO - accelerate.checkpointing - Sampler state for dataloader 0 saved in dreambooth/run18/checkpoint-500/sampler.bin\n",
      "12/13/2023 16:43:45 - INFO - accelerate.checkpointing - Gradient scaler state saved in dreambooth/run18/checkpoint-500/scaler.pt\n",
      "12/13/2023 16:43:45 - INFO - accelerate.checkpointing - Random states saved in dreambooth/run18/checkpoint-500/random_states_0.pkl\n",
      "12/13/2023 16:43:45 - INFO - __main__ - Saved state to ./dreambooth/run18/checkpoint-500\n",
      "Steps: 100%|███████████| 900/900 [05:15<00:00,  3.10it/s, loss=0.00245, lr=5e-6]\n",
      "model_index.json: 100%|████████████████████████| 541/541 [00:00<00:00, 10.1MB/s]\u001b[A\n",
      "\n",
      "Fetching 12 files:   0%|                                 | 0/12 [00:00<?, ?it/s]\u001b[A\n",
      "\n",
      "(…)ature_extractor/preprocessor_config.json: 100%|█| 342/342 [00:00<00:00, 5.02M\u001b[A\u001b[A\n",
      "\n",
      "Fetching 12 files:   8%|██                       | 1/12 [00:00<00:02,  3.77it/s]\u001b[A\n",
      "\n",
      "safety_checker/config.json: 100%|██████████| 4.56k/4.56k [00:00<00:00, 77.7MB/s]\u001b[A\u001b[A\n",
      "\n",
      "\n",
      "(…)kpoints/scheduler_config-checkpoint.json: 100%|█| 209/209 [00:00<00:00, 4.23M\u001b[A\u001b[A\n",
      "\n",
      "\n",
      "model.safetensors:   0%|                            | 0.00/1.22G [00:00<?, ?B/s]\u001b[A\u001b[A\n",
      "\n",
      "model.safetensors:   1%|▏                  | 10.5M/1.22G [00:00<00:27, 44.5MB/s]\u001b[A\u001b[A\n",
      "\n",
      "model.safetensors:   3%|▍                  | 31.5M/1.22G [00:00<00:19, 61.1MB/s]\u001b[A\u001b[A\n",
      "\n",
      "model.safetensors:   4%|▊                  | 52.4M/1.22G [00:00<00:20, 57.8MB/s]\u001b[A\u001b[A\n",
      "\n",
      "model.safetensors:   5%|▉                  | 62.9M/1.22G [00:01<00:20, 57.6MB/s]\u001b[A\u001b[A\n",
      "\n",
      "model.safetensors:   7%|█▎                 | 83.9M/1.22G [00:01<00:24, 47.1MB/s]\u001b[A\u001b[A\n",
      "\n",
      "model.safetensors:   9%|█▋                  | 105M/1.22G [00:02<00:22, 49.4MB/s]\u001b[A\u001b[A\n",
      "\n",
      "model.safetensors:   9%|█▉                  | 115M/1.22G [00:02<00:20, 54.6MB/s]\u001b[A\u001b[A\n",
      "\n",
      "model.safetensors:  11%|██▏                 | 136M/1.22G [00:02<00:18, 56.9MB/s]\u001b[A\u001b[A\n",
      "\n",
      "model.safetensors:  12%|██▍                 | 147M/1.22G [00:02<00:18, 58.6MB/s]\u001b[A\u001b[A\n",
      "\n",
      "model.safetensors:  13%|██▌                 | 157M/1.22G [00:03<00:25, 40.8MB/s]\u001b[A\u001b[A\n",
      "\n",
      "model.safetensors:  14%|██▊                 | 168M/1.22G [00:03<00:21, 47.8MB/s]\u001b[A\u001b[A\n",
      "\n",
      "model.safetensors:  16%|███                 | 189M/1.22G [00:03<00:19, 52.3MB/s]\u001b[A\u001b[A\n",
      "\n",
      "model.safetensors:  16%|███▎                | 199M/1.22G [00:03<00:17, 58.7MB/s]\u001b[A\u001b[A\n",
      "\n",
      "model.safetensors:  17%|███▍                | 210M/1.22G [00:03<00:17, 56.6MB/s]\u001b[A\u001b[A\n",
      "\n",
      "model.safetensors:  19%|███▊                | 231M/1.22G [00:04<00:14, 70.3MB/s]\u001b[A\u001b[A\n",
      "\n",
      "model.safetensors:  20%|███▉                | 241M/1.22G [00:04<00:18, 53.4MB/s]\u001b[A\u001b[A\n",
      "\n",
      "model.safetensors:  21%|████▏               | 252M/1.22G [00:04<00:16, 60.1MB/s]\u001b[A\u001b[A\n",
      "\n",
      "model.safetensors:  22%|████▎               | 262M/1.22G [00:04<00:17, 53.9MB/s]\u001b[A\u001b[A\n",
      "\n",
      "model.safetensors:  22%|████▍               | 273M/1.22G [00:05<00:17, 53.7MB/s]\u001b[A\u001b[A\n",
      "\n",
      "model.safetensors:  23%|████▋               | 283M/1.22G [00:05<00:16, 57.1MB/s]\u001b[A\u001b[A\n",
      "\n",
      "model.safetensors:  24%|████▊               | 294M/1.22G [00:05<00:24, 38.2MB/s]\u001b[A\u001b[A\n",
      "\n",
      "model.safetensors:  25%|█████               | 304M/1.22G [00:05<00:19, 46.6MB/s]\u001b[A\u001b[A\n",
      "\n",
      "model.safetensors:  26%|█████▏              | 315M/1.22G [00:06<00:25, 36.0MB/s]\u001b[A\u001b[A\n",
      "\n",
      "model.safetensors:  27%|█████▎              | 325M/1.22G [00:06<00:21, 41.9MB/s]\u001b[A\u001b[A\n",
      "\n",
      "model.safetensors:  28%|█████▋              | 346M/1.22G [00:06<00:22, 39.3MB/s]\u001b[A\u001b[A\n",
      "\n",
      "model.safetensors:  29%|█████▊              | 357M/1.22G [00:07<00:22, 39.0MB/s]\u001b[A\u001b[A\n",
      "\n",
      "model.safetensors:  30%|██████              | 367M/1.22G [00:07<00:21, 40.3MB/s]\u001b[A\u001b[A\n",
      "\n",
      "model.safetensors:  31%|██████▏             | 377M/1.22G [00:07<00:18, 45.8MB/s]\u001b[A\u001b[A\n",
      "\n",
      "model.safetensors:  32%|██████▍             | 388M/1.22G [00:07<00:15, 53.2MB/s]\u001b[A\u001b[A\n",
      "\n",
      "model.safetensors:  33%|██████▌             | 398M/1.22G [00:07<00:16, 51.0MB/s]\u001b[A\u001b[A\n",
      "\n",
      "model.safetensors:  34%|██████▋             | 409M/1.22G [00:08<00:13, 59.4MB/s]\u001b[A\u001b[A\n",
      "\n",
      "model.safetensors:  34%|██████▉             | 419M/1.22G [00:08<00:14, 55.2MB/s]\u001b[A\u001b[A\n",
      "\n",
      "model.safetensors:  36%|███████▏            | 440M/1.22G [00:08<00:10, 71.6MB/s]\u001b[A\u001b[A\n",
      "\n",
      "model.safetensors:  37%|███████▍            | 451M/1.22G [00:08<00:16, 45.0MB/s]\u001b[A\u001b[A\n",
      "\n",
      "model.safetensors:  38%|███████▌            | 461M/1.22G [00:09<00:14, 52.9MB/s]\u001b[A\u001b[A\n",
      "\n",
      "model.safetensors:  39%|███████▊            | 472M/1.22G [00:09<00:16, 45.2MB/s]\u001b[A\u001b[A\n",
      "\n",
      "model.safetensors:  40%|███████▉            | 482M/1.22G [00:09<00:13, 52.7MB/s]\u001b[A\u001b[A\n",
      "\n",
      "model.safetensors:  41%|████████            | 493M/1.22G [00:09<00:11, 60.3MB/s]\u001b[A\u001b[A\n",
      "\n",
      "model.safetensors:  41%|████████▎           | 503M/1.22G [00:09<00:13, 54.0MB/s]\u001b[A\u001b[A\n",
      "\n",
      "model.safetensors:  42%|████████▍           | 514M/1.22G [00:09<00:11, 62.9MB/s]\u001b[A\u001b[A\n",
      "\n",
      "model.safetensors:  43%|████████▌           | 524M/1.22G [00:10<00:14, 48.7MB/s]\u001b[A\u001b[A\n",
      "\n",
      "model.safetensors:  44%|████████▊           | 535M/1.22G [00:10<00:12, 55.2MB/s]\u001b[A\u001b[A\n",
      "\n",
      "model.safetensors:  46%|█████████▏          | 556M/1.22G [00:11<00:16, 39.8MB/s]\u001b[A\u001b[A\n",
      "\n",
      "model.safetensors:  47%|█████████▎          | 566M/1.22G [00:11<00:14, 45.8MB/s]\u001b[A\u001b[A\n",
      "\n",
      "model.safetensors:  47%|█████████▍          | 577M/1.22G [00:11<00:17, 36.1MB/s]\u001b[A\u001b[A\n",
      "\n",
      "model.safetensors:  48%|█████████▋          | 587M/1.22G [00:11<00:14, 43.8MB/s]\u001b[A\u001b[A\n",
      "\n",
      "model.safetensors:  50%|██████████          | 608M/1.22G [00:12<00:15, 39.0MB/s]\u001b[A\u001b[A\n",
      "\n",
      "model.safetensors:  52%|██████████▎         | 629M/1.22G [00:12<00:12, 48.3MB/s]\u001b[A\u001b[A\n",
      "\n",
      "model.safetensors:  53%|██████████▌         | 640M/1.22G [00:12<00:11, 49.5MB/s]\u001b[A\u001b[A\n",
      "\n",
      "model.safetensors:  53%|██████████▋         | 650M/1.22G [00:13<00:10, 51.7MB/s]\u001b[A\u001b[A\n",
      "\n",
      "model.safetensors:  54%|██████████▊         | 661M/1.22G [00:13<00:13, 40.6MB/s]\u001b[A\u001b[A\n",
      "\n",
      "model.safetensors:  55%|███████████         | 671M/1.22G [00:13<00:11, 47.5MB/s]\u001b[A\u001b[A\n",
      "\n",
      "model.safetensors:  56%|███████████▏        | 682M/1.22G [00:14<00:13, 39.2MB/s]\u001b[A\u001b[A\n",
      "\n",
      "model.safetensors:  57%|███████████▍        | 692M/1.22G [00:14<00:11, 47.3MB/s]\u001b[A\u001b[A\n",
      "\n",
      "model.safetensors:  58%|███████████▌        | 703M/1.22G [00:14<00:09, 56.1MB/s]\u001b[A\u001b[A\n",
      "\n",
      "model.safetensors:  59%|███████████▋        | 713M/1.22G [00:15<00:18, 27.5MB/s]\u001b[A\u001b[A\n",
      "\n",
      "model.safetensors:  60%|████████████        | 734M/1.22G [00:15<00:15, 31.4MB/s]\u001b[A\u001b[A\n",
      "\n",
      "model.safetensors:  62%|████████████▍       | 755M/1.22G [00:15<00:10, 43.5MB/s]\u001b[A\u001b[A\n",
      "\n",
      "model.safetensors:  63%|████████████▌       | 765M/1.22G [00:16<00:11, 40.0MB/s]\u001b[A\u001b[A\n",
      "\n",
      "model.safetensors:  65%|████████████▉       | 786M/1.22G [00:16<00:10, 39.2MB/s]\u001b[A\u001b[A\n",
      "\n",
      "model.safetensors:  66%|█████████████       | 797M/1.22G [00:16<00:09, 43.9MB/s]\u001b[A\u001b[A\n",
      "\n",
      "model.safetensors:  66%|█████████████▎      | 807M/1.22G [00:16<00:08, 50.8MB/s]\u001b[A\u001b[A\n",
      "\n",
      "model.safetensors:  67%|█████████████▍      | 818M/1.22G [00:17<00:09, 43.9MB/s]\u001b[A\u001b[A\n",
      "\n",
      "model.safetensors:  69%|█████████████▊      | 839M/1.22G [00:17<00:08, 45.0MB/s]\u001b[A\u001b[A\n",
      "\n",
      "model.safetensors:  70%|█████████████▉      | 849M/1.22G [00:17<00:07, 51.0MB/s]\u001b[A\u001b[A\n",
      "\n",
      "model.safetensors:  71%|██████████████▏     | 860M/1.22G [00:17<00:06, 57.7MB/s]\u001b[A\u001b[A\n",
      "\n",
      "model.safetensors:  72%|██████████████▎     | 870M/1.22G [00:18<00:07, 46.2MB/s]\u001b[A\u001b[A\n",
      "\n",
      "model.safetensors:  73%|██████████████▋     | 891M/1.22G [00:18<00:07, 44.7MB/s]\u001b[A\u001b[A\n",
      "\n",
      "model.safetensors:  74%|██████████████▊     | 902M/1.22G [00:18<00:06, 51.0MB/s]\u001b[A\u001b[A\n",
      "\n",
      "model.safetensors:  76%|███████████████▏    | 923M/1.22G [00:19<00:06, 43.2MB/s]\u001b[A\u001b[A\n",
      "\n",
      "model.safetensors:  77%|███████████████▎    | 933M/1.22G [00:19<00:05, 49.3MB/s]\u001b[A\u001b[A\n",
      "\n",
      "model.safetensors:  78%|███████████████▌    | 944M/1.22G [00:20<00:07, 38.3MB/s]\u001b[A\u001b[A\n",
      "\n",
      "model.safetensors:  78%|███████████████▋    | 954M/1.22G [00:20<00:06, 41.4MB/s]\u001b[A\u001b[A\n",
      "\n",
      "model.safetensors:  79%|███████████████▊    | 965M/1.22G [00:20<00:05, 49.1MB/s]\u001b[A\u001b[A\n",
      "\n",
      "model.safetensors:  80%|████████████████    | 975M/1.22G [00:21<00:08, 28.2MB/s]\u001b[A\u001b[A\n",
      "\n",
      "model.safetensors:  81%|████████████████▏   | 986M/1.22G [00:21<00:06, 35.0MB/s]\u001b[A\u001b[A\n",
      "\n",
      "model.safetensors:  82%|████████████████▍   | 996M/1.22G [00:21<00:06, 32.3MB/s]\u001b[A\u001b[A\n",
      "\n",
      "model.safetensors:  83%|███████████████▋   | 1.01G/1.22G [00:21<00:05, 35.4MB/s]\u001b[A\u001b[A\n",
      "\n",
      "model.safetensors:  84%|███████████████▉   | 1.02G/1.22G [00:22<00:04, 43.9MB/s]\u001b[A\u001b[A\n",
      "\n",
      "model.safetensors:  85%|████████████████   | 1.03G/1.22G [00:22<00:05, 32.9MB/s]\u001b[A\u001b[A\n",
      "\n",
      "model.safetensors:  86%|████████████████▍  | 1.05G/1.22G [00:22<00:04, 39.8MB/s]\u001b[A\u001b[A\n",
      "\n",
      "model.safetensors:  88%|████████████████▋  | 1.07G/1.22G [00:23<00:02, 51.4MB/s]\u001b[A\u001b[A\n",
      "\n",
      "model.safetensors:  89%|████████████████▉  | 1.08G/1.22G [00:23<00:03, 34.4MB/s]\u001b[A\u001b[A\n",
      "\n",
      "model.safetensors:  91%|█████████████████▏ | 1.10G/1.22G [00:24<00:03, 36.2MB/s]\u001b[A\u001b[A\n",
      "\n",
      "model.safetensors:  91%|█████████████████▎ | 1.11G/1.22G [00:24<00:02, 35.0MB/s]\u001b[A\u001b[A\n",
      "\n",
      "model.safetensors:  93%|█████████████████▋ | 1.13G/1.22G [00:25<00:02, 29.3MB/s]\u001b[A\u001b[A\n",
      "\n",
      "model.safetensors:  94%|█████████████████▊ | 1.14G/1.22G [00:25<00:02, 34.2MB/s]\u001b[A\u001b[A\n",
      "\n",
      "model.safetensors:  95%|██████████████████ | 1.15G/1.22G [00:26<00:01, 33.8MB/s]\u001b[A\u001b[A\n",
      "\n",
      "model.safetensors:  96%|██████████████████▏| 1.16G/1.22G [00:26<00:01, 39.5MB/s]\u001b[A\u001b[A\n",
      "\n",
      "model.safetensors:  97%|██████████████████▎| 1.17G/1.22G [00:26<00:00, 46.6MB/s]\u001b[A\u001b[A\n",
      "\n",
      "model.safetensors:  97%|██████████████████▌| 1.18G/1.22G [00:26<00:00, 33.0MB/s]\u001b[A\u001b[A\n",
      "\n",
      "model.safetensors: 100%|███████████████████| 1.22G/1.22G [00:27<00:00, 44.4MB/s]\u001b[A\u001b[A\n",
      "\n",
      "Fetching 12 files: 100%|████████████████████████| 12/12 [00:28<00:00,  2.34s/it]\u001b[A\n",
      "{'requires_safety_checker', 'image_encoder'} was not found in config. Values will be initialized to default values.\n",
      "\n",
      "Loading pipeline components...:   0%|                     | 0/7 [00:00<?, ?it/s]\u001b[ALoaded feature_extractor as CLIPImageProcessor from `feature_extractor` subfolder of CompVis/stable-diffusion-v1-4.\n",
      "{'norm_num_groups', 'force_upcast'} was not found in config. Values will be initialized to default values.\n",
      "Loaded vae as AutoencoderKL from `vae` subfolder of CompVis/stable-diffusion-v1-4.\n",
      "\n",
      "Loading pipeline components...:  43%|█████▌       | 3/7 [00:00<00:00, 11.73it/s]\u001b[A`text_config_dict` is provided which will be used to initialize `CLIPTextConfig`. The value `text_config[\"id2label\"]` will be overriden.\n",
      "`text_config_dict` is provided which will be used to initialize `CLIPTextConfig`. The value `text_config[\"bos_token_id\"]` will be overriden.\n",
      "`text_config_dict` is provided which will be used to initialize `CLIPTextConfig`. The value `text_config[\"eos_token_id\"]` will be overriden.\n",
      "Loaded safety_checker as StableDiffusionSafetyChecker from `safety_checker` subfolder of CompVis/stable-diffusion-v1-4.\n",
      "Loaded tokenizer as CLIPTokenizer from `tokenizer` subfolder of CompVis/stable-diffusion-v1-4.\n",
      "\n",
      "Loading pipeline components...:  86%|███████████▏ | 6/7 [00:00<00:00, 17.16it/s]\u001b[A{'prediction_type', 'timestep_spacing'} was not found in config. Values will be initialized to default values.\n",
      "Loaded scheduler as PNDMScheduler from `scheduler` subfolder of CompVis/stable-diffusion-v1-4.\n",
      "Loading pipeline components...: 100%|█████████████| 7/7 [00:00<00:00, 18.66it/s]\n",
      "{'prediction_type', 'timestep_spacing'} was not found in config. Values will be initialized to default values.\n",
      "Configuration saved in ./dreambooth/run18/vae/config.json\n",
      "Model weights saved in ./dreambooth/run18/vae/diffusion_pytorch_model.safetensors\n",
      "Configuration saved in ./dreambooth/run18/unet/config.json\n",
      "Model weights saved in ./dreambooth/run18/unet/diffusion_pytorch_model.safetensors\n",
      "Configuration saved in ./dreambooth/run18/scheduler/scheduler_config.json\n",
      "Configuration saved in ./dreambooth/run18/model_index.json\n",
      "Steps: 100%|███████████| 900/900 [05:47<00:00,  2.59it/s, loss=0.00245, lr=5e-6]\n"
     ]
    },
    {
     "data": {
      "application/vnd.jupyter.widget-view+json": {
       "model_id": "89db9188165341229be75257a3db2500",
       "version_major": 2,
       "version_minor": 0
      },
      "text/plain": [
       "Loading pipeline components...:   0%|          | 0/7 [00:00<?, ?it/s]"
      ]
     },
     "metadata": {},
     "output_type": "display_data"
    },
    {
     "data": {
      "application/vnd.jupyter.widget-view+json": {
       "model_id": "62f295a8bf5b4765a011d88df33e1ee4",
       "version_major": 2,
       "version_minor": 0
      },
      "text/plain": [
       "model_index.json:   0%|          | 0.00/541 [00:00<?, ?B/s]"
      ]
     },
     "metadata": {},
     "output_type": "display_data"
    },
    {
     "name": "stderr",
     "output_type": "stream",
     "text": [
      "text_encoder/model.safetensors not found\n"
     ]
    },
    {
     "data": {
      "application/vnd.jupyter.widget-view+json": {
       "model_id": "587b702446ad4b709e640efba2e41e48",
       "version_major": 2,
       "version_minor": 0
      },
      "text/plain": [
       "Fetching 15 files:   0%|          | 0/15 [00:00<?, ?it/s]"
      ]
     },
     "metadata": {},
     "output_type": "display_data"
    },
    {
     "data": {
      "application/vnd.jupyter.widget-view+json": {
       "model_id": "651dea1372134e00983d9c32cb0cb2d7",
       "version_major": 2,
       "version_minor": 0
      },
      "text/plain": [
       "text_encoder/config.json:   0%|          | 0.00/731 [00:00<?, ?B/s]"
      ]
     },
     "metadata": {},
     "output_type": "display_data"
    },
    {
     "data": {
      "application/vnd.jupyter.widget-view+json": {
       "model_id": "27d3ef5b63c54ad6a53dfae888c17047",
       "version_major": 2,
       "version_minor": 0
      },
      "text/plain": [
       "(…)ature_extractor/preprocessor_config.json:   0%|          | 0.00/342 [00:00<?, ?B/s]"
      ]
     },
     "metadata": {},
     "output_type": "display_data"
    },
    {
     "data": {
      "application/vnd.jupyter.widget-view+json": {
       "model_id": "7752c110a805461e84dd3533e6cff797",
       "version_major": 2,
       "version_minor": 0
      },
      "text/plain": [
       "tokenizer/special_tokens_map.json:   0%|          | 0.00/472 [00:00<?, ?B/s]"
      ]
     },
     "metadata": {},
     "output_type": "display_data"
    },
    {
     "data": {
      "application/vnd.jupyter.widget-view+json": {
       "model_id": "b82a187e6150408593e36ebbdb29ab8a",
       "version_major": 2,
       "version_minor": 0
      },
      "text/plain": [
       "tokenizer/merges.txt:   0%|          | 0.00/525k [00:00<?, ?B/s]"
      ]
     },
     "metadata": {},
     "output_type": "display_data"
    },
    {
     "data": {
      "application/vnd.jupyter.widget-view+json": {
       "model_id": "da897dabd6ab438b82f21ea121be3f04",
       "version_major": 2,
       "version_minor": 0
      },
      "text/plain": [
       "safety_checker/config.json:   0%|          | 0.00/4.56k [00:00<?, ?B/s]"
      ]
     },
     "metadata": {},
     "output_type": "display_data"
    },
    {
     "data": {
      "application/vnd.jupyter.widget-view+json": {
       "model_id": "94519f5ab40a461d9288a0cc98dea918",
       "version_major": 2,
       "version_minor": 0
      },
      "text/plain": [
       "scheduler/scheduler_config.json:   0%|          | 0.00/288 [00:00<?, ?B/s]"
      ]
     },
     "metadata": {},
     "output_type": "display_data"
    },
    {
     "data": {
      "application/vnd.jupyter.widget-view+json": {
       "model_id": "b388d9779f8e48d4acca9b6619f56032",
       "version_major": 2,
       "version_minor": 0
      },
      "text/plain": [
       "tokenizer/tokenizer_config.json:   0%|          | 0.00/942 [00:00<?, ?B/s]"
      ]
     },
     "metadata": {},
     "output_type": "display_data"
    },
    {
     "data": {
      "application/vnd.jupyter.widget-view+json": {
       "model_id": "a4c2bdd5db844765af251c163d038eb5",
       "version_major": 2,
       "version_minor": 0
      },
      "text/plain": [
       "unet/config.json:   0%|          | 0.00/926 [00:00<?, ?B/s]"
      ]
     },
     "metadata": {},
     "output_type": "display_data"
    },
    {
     "data": {
      "application/vnd.jupyter.widget-view+json": {
       "model_id": "a96d175e4f9b42179ca91b290a8b4e1d",
       "version_major": 2,
       "version_minor": 0
      },
      "text/plain": [
       "vae/config.json:   0%|          | 0.00/704 [00:00<?, ?B/s]"
      ]
     },
     "metadata": {},
     "output_type": "display_data"
    },
    {
     "data": {
      "application/vnd.jupyter.widget-view+json": {
       "model_id": "a4ad7faab3c64f6db0258e293ff5961e",
       "version_major": 2,
       "version_minor": 0
      },
      "text/plain": [
       "tokenizer/vocab.json:   0%|          | 0.00/1.06M [00:00<?, ?B/s]"
      ]
     },
     "metadata": {},
     "output_type": "display_data"
    },
    {
     "data": {
      "application/vnd.jupyter.widget-view+json": {
       "model_id": "6bb5753e097545aca136d98934cb8345",
       "version_major": 2,
       "version_minor": 0
      },
      "text/plain": [
       "pytorch_model.bin:   0%|          | 0.00/492M [00:00<?, ?B/s]"
      ]
     },
     "metadata": {},
     "output_type": "display_data"
    },
    {
     "data": {
      "application/vnd.jupyter.widget-view+json": {
       "model_id": "bd633bbfa03249a798b890cad03df410",
       "version_major": 2,
       "version_minor": 0
      },
      "text/plain": [
       "diffusion_pytorch_model.bin:   0%|          | 0.00/3.44G [00:00<?, ?B/s]"
      ]
     },
     "metadata": {},
     "output_type": "display_data"
    },
    {
     "data": {
      "application/vnd.jupyter.widget-view+json": {
       "model_id": "ba5d08176f4a455cb63d650dad518cd7",
       "version_major": 2,
       "version_minor": 0
      },
      "text/plain": [
       "pytorch_model.bin:   0%|          | 0.00/1.22G [00:00<?, ?B/s]"
      ]
     },
     "metadata": {},
     "output_type": "display_data"
    },
    {
     "data": {
      "application/vnd.jupyter.widget-view+json": {
       "model_id": "a912d949915a4c1c877d24c5e50f29b8",
       "version_major": 2,
       "version_minor": 0
      },
      "text/plain": [
       "diffusion_pytorch_model.bin:   0%|          | 0.00/335M [00:00<?, ?B/s]"
      ]
     },
     "metadata": {},
     "output_type": "display_data"
    },
    {
     "data": {
      "application/vnd.jupyter.widget-view+json": {
       "model_id": "9d8bb2e302fd44778083cf2a045c3522",
       "version_major": 2,
       "version_minor": 0
      },
      "text/plain": [
       "Loading pipeline components...:   0%|          | 0/7 [00:00<?, ?it/s]"
      ]
     },
     "metadata": {},
     "output_type": "display_data"
    },
    {
     "name": "stderr",
     "output_type": "stream",
     "text": [
      "`text_config_dict` is provided which will be used to initialize `CLIPTextConfig`. The value `text_config[\"id2label\"]` will be overriden.\n",
      "`text_config_dict` is provided which will be used to initialize `CLIPTextConfig`. The value `text_config[\"bos_token_id\"]` will be overriden.\n",
      "`text_config_dict` is provided which will be used to initialize `CLIPTextConfig`. The value `text_config[\"eos_token_id\"]` will be overriden.\n"
     ]
    },
    {
     "data": {
      "application/vnd.jupyter.widget-view+json": {
       "model_id": "2c86b7f37fb342acb2c2331435fc8f18",
       "version_major": 2,
       "version_minor": 0
      },
      "text/plain": [
       "  0%|          | 0/50 [00:00<?, ?it/s]"
      ]
     },
     "metadata": {},
     "output_type": "display_data"
    }
   ],
   "source": [
    "\n",
    "torch.cuda.empty_cache()\n",
    "gc.collect()  # Force garbage collection\n",
    "\n",
    "\n",
    "for i in range(18,20,2):\n",
    "    import torch\n",
    "    import gc\n",
    "    import os\n",
    "    import plot_grid\n",
    "    !accelerate config default --mixed_precision fp16\n",
    "    \n",
    "    !nvidia-smi --query-gpu=name,memory.total,memory.free --format=csv\n",
    "    os.environ['MODEL_NAME'] = 'CompVis/stable-diffusion-v1-4'\n",
    "    os.environ['INSTANCE_DIR'] = './bash_images'\n",
    "    os.environ['OUTPUT_DIR'] = f'./dreambooth/run{i}'\n",
    "    os.environ['TRAIN_STEPS'] = str(i*50)\n",
    "    print(i*50)\n",
    "    !accelerate launch ./diffusers/examples/dreambooth/train_dreambooth.py \\\n",
    "      --pretrained_model_name_or_path=$MODEL_NAME  \\\n",
    "      --instance_data_dir=$INSTANCE_DIR \\\n",
    "      --output_dir=$OUTPUT_DIR \\\n",
    "      --instance_prompt=\"a photo of brk1\" \\\n",
    "      --resolution=512 \\\n",
    "      --train_batch_size=1 \\\n",
    "      --gradient_accumulation_steps=1 \\\n",
    "      --learning_rate=5e-6 \\\n",
    "      --lr_scheduler=\"constant\" \\\n",
    "      --lr_warmup_steps=0 \\\n",
    "      --max_train_steps=$TRAIN_STEPS\n",
    "\n",
    "    model_id = f\"./dreambooth/run{i}\"\n",
    "    grid = plot_grid.plotting_grid(model_id)\n",
    "    grid.save(f'./grid_run_{i}.png')\n",
    "    %reset -f\n",
    "\n"
   ]
  },
  {
   "cell_type": "code",
   "execution_count": null,
   "id": "ea2cd11c-72b4-4933-b99b-f9fe211db0df",
   "metadata": {},
   "outputs": [],
   "source": []
  }
 ],
 "metadata": {
  "kernelspec": {
   "display_name": "Python 3 (ipykernel)",
   "language": "python",
   "name": "python3"
  },
  "language_info": {
   "codemirror_mode": {
    "name": "ipython",
    "version": 3
   },
   "file_extension": ".py",
   "mimetype": "text/x-python",
   "name": "python",
   "nbconvert_exporter": "python",
   "pygments_lexer": "ipython3",
   "version": "3.10.12"
  }
 },
 "nbformat": 4,
 "nbformat_minor": 5
}
