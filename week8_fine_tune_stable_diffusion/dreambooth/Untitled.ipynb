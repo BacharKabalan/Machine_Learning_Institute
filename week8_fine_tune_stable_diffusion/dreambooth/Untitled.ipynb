{
 "cells": [
  {
   "cell_type": "code",
   "execution_count": 7,
   "id": "b6798e8b-7e0a-4ad7-a786-cbe09c54df9d",
   "metadata": {},
   "outputs": [],
   "source": [
    "!git clone https://github.com/huggingface/diffusers.git\n",
    "!pip install ./diffusers\n",
    "!pip install -U -r ./diffusers/examples/dreambooth/requirements.txt"
   ]
  },
  {
   "cell_type": "code",
   "execution_count": 8,
   "id": "66d33394-acef-4f20-8bae-f782074f55cc",
   "metadata": {},
   "outputs": [],
   "source": [
    "!accelerate config default --mixed_precision fp16"
   ]
  },
  {
   "cell_type": "code",
   "execution_count": 9,
   "id": "b01ed916-efe9-44a4-81b5-794c544c7ddb",
   "metadata": {},
   "outputs": [
    {
     "data": {
      "application/vnd.jupyter.widget-view+json": {
       "model_id": "017f54bed7d74ba7ac2ab40515cd1bc3",
       "version_major": 2,
       "version_minor": 0
      },
      "text/plain": [
       "VBox(children=(HTML(value='<center> <img\\nsrc=https://huggingface.co/front/assets/huggingface_logo-noborder.sv…"
      ]
     },
     "metadata": {},
     "output_type": "display_data"
    }
   ],
   "source": [
    "from huggingface_hub import notebook_login\n",
    "notebook_login()"
   ]
  },
  {
   "cell_type": "code",
   "execution_count": 10,
   "id": "37b3477e-0a4d-4b5c-9236-782c6d85b052",
   "metadata": {},
   "outputs": [],
   "source": [
    "import os\n",
    "\n",
    "os.environ['MODEL_NAME'] = f'CompVis/stable-diffusion-v1-4'\n",
    "os.environ['INSTANCE_DIR'] = './bash_images'\n",
    "os.environ['OUTPUT_DIR'] = f'./dreambooth/sd_aiconos-model-v1-2_400'"
   ]
  },
  {
   "cell_type": "code",
   "execution_count": 11,
   "id": "9f26ba0e-9f78-4eb0-a07b-f1640a329355",
   "metadata": {},
   "outputs": [],
   "source": [
    "import torch\n",
    "torch.cuda.empty_cache()\n",
    "!accelerate launch ./diffusers/examples/dreambooth/train_dreambooth_lora.py \\\n",
    "  --pretrained_model_name_or_path=$MODEL_NAME  \\\n",
    "  --instance_data_dir=$INSTANCE_DIR \\\n",
    "  --seed=1337 \\\n",
    "  --output_dir=$OUTPUT_DIR \\\n",
    "  --instance_prompt=\"a photo of bash\" \\\n",
    "  --resolution=8 \\\n",
    "  --train_batch_size=1 \\\n",
    "  --gradient_accumulation_steps=1 \\\n",
    "  --checkpointing_steps=100 \\\n",
    "  --learning_rate=1e-4 \\\n",
    "  --lr_scheduler=\"constant\" \\\n",
    "  --lr_warmup_steps=0 \\\n",
    "  --max_train_steps=10"
   ]
  },
  {
   "cell_type": "code",
   "execution_count": null,
   "id": "3e4144f3-2d20-4251-abc2-bc84f3dade3f",
   "metadata": {},
   "outputs": [],
   "source": []
  }
 ],
 "metadata": {
  "kernelspec": {
   "display_name": "Python 3 (ipykernel)",
   "language": "python",
   "name": "python3"
  },
  "language_info": {
   "codemirror_mode": {
    "name": "ipython",
    "version": 3
   },
   "file_extension": ".py",
   "mimetype": "text/x-python",
   "name": "python",
   "nbconvert_exporter": "python",
   "pygments_lexer": "ipython3",
   "version": "3.10.12"
  }
 },
 "nbformat": 4,
 "nbformat_minor": 5
}
