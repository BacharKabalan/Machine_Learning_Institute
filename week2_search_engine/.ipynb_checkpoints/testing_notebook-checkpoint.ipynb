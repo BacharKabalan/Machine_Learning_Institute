{
 "cells": [
  {
   "cell_type": "code",
   "execution_count": 3,
   "metadata": {},
   "outputs": [],
   "source": [
    "import load_corpus\n",
    "import generate_CBOW_ds\n",
    "from datasets import load_dataset\n",
    "import generate_two_tower_data\n",
    "import pandas as pd\n",
    "import sp_tokenizer\n",
    "import torch\n",
    "import two_tower_model\n",
    "import wandb\n",
    "import torch.optim as optim\n"
   ]
  },
  {
   "cell_type": "code",
   "execution_count": 2,
   "metadata": {},
   "outputs": [],
   "source": [
    "# corpus = load_corpus.load_corpus()"
   ]
  },
  {
   "cell_type": "code",
   "execution_count": 3,
   "metadata": {},
   "outputs": [],
   "source": [
    "# dataset = load_dataset(\"ms_marco\", \"v1.1\")\n",
    "# train_data = dataset[\"train\"]\n",
    "# train_df = pd.DataFrame(train_data)"
   ]
  },
  {
   "cell_type": "code",
   "execution_count": 4,
   "metadata": {},
   "outputs": [],
   "source": [
    "# ds, passage_dict = generate_two_tower_data.generate_two_tower_data(train_df, 'ms_marco_model.model.model')"
   ]
  },
  {
   "cell_type": "code",
   "execution_count": 5,
   "metadata": {},
   "outputs": [],
   "source": [
    "# torch.save(ds,'two_tower_training_data.pt')"
   ]
  },
  {
   "cell_type": "code",
   "execution_count": 16,
   "metadata": {},
   "outputs": [],
   "source": [
    "\n",
    "ds = torch.load('two_tower_training_data.pt', map_location = 'cpu')"
   ]
  },
  {
   "cell_type": "code",
   "execution_count": 2,
   "metadata": {},
   "outputs": [],
   "source": [
    "def custom_collate_fn(batch):\n",
    "    # Sort the batch by target sequence length (in descending order)\n",
    "    batch = sorted(batch, key=lambda x: len(x[0]), reverse=True)\n",
    "\n",
    "    # Get the sequence lengths for both target and context\n",
    "    target_seq_lengths = [len(item[0]) for item in batch]\n",
    "    context_seq_lengths = [len(item[1]) for item in batch]\n",
    "\n",
    "    # Pad target and context sequences separately\n",
    "    padded_target_sequences = torch.nn.utils.rnn.pad_sequence([item[0] for item in batch], batch_first=True)\n",
    "    padded_context_sequences = torch.nn.utils.rnn.pad_sequence([item[1] for item in batch], batch_first=True)\n",
    "\n",
    "    # Create masks for the padded values for both target and context\n",
    "    target_mask = (padded_target_sequences != 0).float()\n",
    "    context_mask = (padded_context_sequences != 0).float()\n",
    "\n",
    "    # Extract labels\n",
    "    labels = [item[2] for item in batch]\n",
    "\n",
    "    return torch.LongTensor(padded_target_sequences), torch.LongTensor(padded_context_sequences), torch.LongTensor(labels)\n"
   ]
  },
  {
   "cell_type": "code",
   "execution_count": 3,
   "metadata": {},
   "outputs": [],
   "source": [
    "tokenizer = sp_tokenizer.sp_tokenizer()\n",
    "def sp_decode(vectors,tokenizer):\n",
    "    print(tokenizer.decode(vectors[0].tolist()), '\\n',tokenizer.decode(vectors[1].tolist()),'\\n', vectors[2].tolist())"
   ]
  },
  {
   "cell_type": "code",
   "execution_count": 9,
   "metadata": {},
   "outputs": [],
   "source": [
    "# ds_part = ds[:20000]\n",
    "# torch.save(ds_part, 'two_tower_training_section_of_data.pt')\n",
    "# ds_part = torch.load('two_tower_training_section_of_data.pt')\n",
    "# ds_part = torch.load('two_tower_training_section_of_data.pt')\n",
    "ds = torch.load('two_tower_training_data.pt', map_location = 'cpu')\n",
    "batch_size = 512\n",
    "dl = torch.utils.data.DataLoader(ds, batch_size=batch_size, shuffle=False, collate_fn=custom_collate_fn)\n"
   ]
  },
  {
   "cell_type": "code",
   "execution_count": 10,
   "metadata": {},
   "outputs": [],
   "source": [
    "vocab_size = 16000  # Vocabulary size\n",
    "embedding_dim = 100  # Dimension of word embeddings\n",
    "hidden_dim = 128  # GRU hidden state size\n",
    "output_dim = 64  # Desired output embedding dimension"
   ]
  },
  {
   "cell_type": "code",
   "execution_count": 11,
   "metadata": {},
   "outputs": [],
   "source": [
    "model_GRU = two_tower_model.GRUEmbeddingModel(vocab_size, embedding_dim, hidden_dim, output_dim)\n",
    "model_LSTM = two_tower_model.LSTMEmbeddingModel(vocab_size, embedding_dim, hidden_dim, output_dim)\n",
    "cosine_similarity_loss = two_tower_model.CosineSimilarityLoss(margin = 0.2)\n",
    "optimizer = optim.SGD(list(model_GRU.parameters()) + list(model_LSTM.parameters()), lr=0.01)\n"
   ]
  },
  {
   "cell_type": "code",
   "execution_count": 12,
   "metadata": {},
   "outputs": [],
   "source": [
    "# import torch.nn.functional as F\n",
    "\n",
    "# for query_0, doc_0, label_0 in dl:\n",
    "\n",
    "#     query_emb = model_GRU(query_0)\n",
    "#     doc_emb = model_LSTM(doc_0)\n",
    "#     loss,predictions = cosine_similarity_loss(query_emb,doc_emb,label_0)\n",
    "#     cos_sim = F.cosine_similarity(query_emb, doc_emb)\n",
    "#     print(query_emb.size(), '\\n', doc_emb.size(),'\\n',loss,'\\n',predictions, '\\n',cos_sim)\n",
    "#     break"
   ]
  },
  {
   "cell_type": "code",
   "execution_count": 13,
   "metadata": {},
   "outputs": [],
   "source": [
    "# import torch.nn as nn\n",
    "# embd_unit = nn.Embedding(vocab_size, embedding_dim)\n",
    "# gru_unit = nn.GRU(embedding_dim,hidden_dim)\n",
    "# fc_unit = nn.Linear(hidden_dim,output_dim)\n",
    "# output, hidden = gru_unit(embd_unit(query_0))\n",
    "# output = fc_unit(output)\n",
    "# output = torch.mean(output, dim=1)\n",
    "\n",
    "# print(output.size(), hidden.size())"
   ]
  },
  {
   "cell_type": "code",
   "execution_count": 14,
   "metadata": {},
   "outputs": [
    {
     "name": "stderr",
     "output_type": "stream",
     "text": [
      "\u001b[34m\u001b[1mwandb\u001b[0m: \u001b[33mWARNING\u001b[0m Calling wandb.login() after wandb.init() has no effect.\n"
     ]
    },
    {
     "data": {
      "text/html": [
       "Finishing last run (ID:pql68bi2) before initializing another..."
      ],
      "text/plain": [
       "<IPython.core.display.HTML object>"
      ]
     },
     "metadata": {},
     "output_type": "display_data"
    },
    {
     "data": {
      "text/html": [
       "Waiting for W&B process to finish... <strong style=\"color:green\">(success).</strong>"
      ],
      "text/plain": [
       "<IPython.core.display.HTML object>"
      ]
     },
     "metadata": {},
     "output_type": "display_data"
    },
    {
     "data": {
      "text/html": [
       "<style>\n",
       "    table.wandb td:nth-child(1) { padding: 0 10px; text-align: left ; width: auto;} td:nth-child(2) {text-align: left ; width: 100%}\n",
       "    .wandb-row { display: flex; flex-direction: row; flex-wrap: wrap; justify-content: flex-start; width: 100% }\n",
       "    .wandb-col { display: flex; flex-direction: column; flex-basis: 100%; flex: 1; padding: 10px; }\n",
       "    </style>\n",
       "<div class=\"wandb-row\"><div class=\"wandb-col\"><h3>Run history:</h3><br/><table class=\"wandb\"><tr><td>acc</td><td>▁▁▁▁▂▂▂▂▂▂▂▃▃▃▄▄▄▅▅▅▅▆▆▆▆▆▆▇▇▇▇▇▇▇▇█████</td></tr><tr><td>loss</td><td>▅█▁▂▄▇▃▅▄▇▇▅▁▂▁▁▅█▁▁▁▄▁▁██▁▅▁▁▁▁▁▁█▁▁█▁▃</td></tr></table><br/></div><div class=\"wandb-col\"><h3>Run summary:</h3><br/><table class=\"wandb\"><tr><td>acc</td><td>0.63305</td></tr><tr><td>loss</td><td>0.00411</td></tr></table><br/></div></div>"
      ],
      "text/plain": [
       "<IPython.core.display.HTML object>"
      ]
     },
     "metadata": {},
     "output_type": "display_data"
    },
    {
     "data": {
      "text/html": [
       " View run <strong style=\"color:#cdcd00\">absurd-pyramid-29</strong> at: <a href='https://wandb.ai/basharkabalan/mlx_search_eninge/runs/pql68bi2' target=\"_blank\">https://wandb.ai/basharkabalan/mlx_search_eninge/runs/pql68bi2</a><br/>Synced 5 W&B file(s), 0 media file(s), 0 artifact file(s) and 0 other file(s)"
      ],
      "text/plain": [
       "<IPython.core.display.HTML object>"
      ]
     },
     "metadata": {},
     "output_type": "display_data"
    },
    {
     "data": {
      "text/html": [
       "Find logs at: <code>.\\wandb\\run-20231105_175314-pql68bi2\\logs</code>"
      ],
      "text/plain": [
       "<IPython.core.display.HTML object>"
      ]
     },
     "metadata": {},
     "output_type": "display_data"
    },
    {
     "data": {
      "text/html": [
       "Successfully finished last run (ID:pql68bi2). Initializing new run:<br/>"
      ],
      "text/plain": [
       "<IPython.core.display.HTML object>"
      ]
     },
     "metadata": {},
     "output_type": "display_data"
    },
    {
     "data": {
      "application/vnd.jupyter.widget-view+json": {
       "model_id": "74fe21690ba44943a56c72589a1dc8e8",
       "version_major": 2,
       "version_minor": 0
      },
      "text/plain": [
       "VBox(children=(Label(value='Waiting for wandb.init()...\\r'), FloatProgress(value=0.01128888888957186, max=1.0)…"
      ]
     },
     "metadata": {},
     "output_type": "display_data"
    },
    {
     "data": {
      "text/html": [
       "Tracking run with wandb version 0.15.12"
      ],
      "text/plain": [
       "<IPython.core.display.HTML object>"
      ]
     },
     "metadata": {},
     "output_type": "display_data"
    },
    {
     "data": {
      "text/html": [
       "Run data is saved locally in <code>c:\\Users\\basha\\Desktop\\founders_and_coders\\week2\\search engine\\to_use\\polished\\wandb\\run-20231105_182059-kdwttgx0</code>"
      ],
      "text/plain": [
       "<IPython.core.display.HTML object>"
      ]
     },
     "metadata": {},
     "output_type": "display_data"
    },
    {
     "data": {
      "text/html": [
       "Syncing run <strong><a href='https://wandb.ai/basharkabalan/mlx_search_eninge/runs/kdwttgx0' target=\"_blank\">kind-bush-30</a></strong> to <a href='https://wandb.ai/basharkabalan/mlx_search_eninge' target=\"_blank\">Weights & Biases</a> (<a href='https://wandb.me/run' target=\"_blank\">docs</a>)<br/>"
      ],
      "text/plain": [
       "<IPython.core.display.HTML object>"
      ]
     },
     "metadata": {},
     "output_type": "display_data"
    },
    {
     "data": {
      "text/html": [
       " View project at <a href='https://wandb.ai/basharkabalan/mlx_search_eninge' target=\"_blank\">https://wandb.ai/basharkabalan/mlx_search_eninge</a>"
      ],
      "text/plain": [
       "<IPython.core.display.HTML object>"
      ]
     },
     "metadata": {},
     "output_type": "display_data"
    },
    {
     "data": {
      "text/html": [
       " View run at <a href='https://wandb.ai/basharkabalan/mlx_search_eninge/runs/kdwttgx0' target=\"_blank\">https://wandb.ai/basharkabalan/mlx_search_eninge/runs/kdwttgx0</a>"
      ],
      "text/plain": [
       "<IPython.core.display.HTML object>"
      ]
     },
     "metadata": {},
     "output_type": "display_data"
    },
    {
     "data": {
      "text/html": [
       "<button onClick=\"this.nextSibling.style.display='block';this.style.display='none';\">Display W&B run</button><iframe src='https://wandb.ai/basharkabalan/mlx_search_eninge/runs/kdwttgx0?jupyter=true' style='border:none;width:100%;height:420px;display:none;'></iframe>"
      ],
      "text/plain": [
       "<wandb.sdk.wandb_run.Run at 0x13cdc197460>"
      ]
     },
     "execution_count": 14,
     "metadata": {},
     "output_type": "execute_result"
    }
   ],
   "source": [
    "wandb.login(key=\"9091f9245cf64052fa6d4eae03190a076fd87fe8\")\n",
    "wandb.init(project ='mlx_search_eninge', entity = 'basharkabalan',     config={\n",
    "    \"learning_rate\": 0.01,\n",
    "    \"architecture\": \"two_tower\",\n",
    "    \"dataset\": \"ms_marco_v1.1\",\n",
    "    \"epochs\": 3,\n",
    "    })\n",
    "\n"
   ]
  },
  {
   "cell_type": "code",
   "execution_count": 15,
   "metadata": {},
   "outputs": [
    {
     "name": "stdout",
     "output_type": "stream",
     "text": [
      "Epoch 1/20, Acc: 0.5830488801002502, Loss: 0.6272417902946472\n",
      "Epoch 2/20, Acc: 0.7093474864959717, Loss: 0.24497541785240173\n",
      "Epoch 3/20, Acc: 0.7717232704162598, Loss: 0.21970634162425995\n"
     ]
    },
    {
     "ename": "KeyboardInterrupt",
     "evalue": "",
     "output_type": "error",
     "traceback": [
      "\u001b[1;31m---------------------------------------------------------------------------\u001b[0m",
      "\u001b[1;31mKeyboardInterrupt\u001b[0m                         Traceback (most recent call last)",
      "\u001b[1;32mc:\\Users\\basha\\Desktop\\founders_and_coders\\week2\\search engine\\to_use\\polished\\testing_notebook.ipynb Cell 17\u001b[0m line \u001b[0;36m1\n\u001b[0;32m     <a href='vscode-notebook-cell:/c%3A/Users/basha/Desktop/founders_and_coders/week2/search%20engine/to_use/polished/testing_notebook.ipynb#X25sZmlsZQ%3D%3D?line=13'>14</a>\u001b[0m total_predictions \u001b[39m+\u001b[39m\u001b[39m=\u001b[39m batch_size\n\u001b[0;32m     <a href='vscode-notebook-cell:/c%3A/Users/basha/Desktop/founders_and_coders/week2/search%20engine/to_use/polished/testing_notebook.ipynb#X25sZmlsZQ%3D%3D?line=14'>15</a>\u001b[0m acc \u001b[39m=\u001b[39m correct_predictions\u001b[39m/\u001b[39mtotal_predictions\n\u001b[1;32m---> <a href='vscode-notebook-cell:/c%3A/Users/basha/Desktop/founders_and_coders/week2/search%20engine/to_use/polished/testing_notebook.ipynb#X25sZmlsZQ%3D%3D?line=15'>16</a>\u001b[0m loss\u001b[39m.\u001b[39;49mbackward()\n\u001b[0;32m     <a href='vscode-notebook-cell:/c%3A/Users/basha/Desktop/founders_and_coders/week2/search%20engine/to_use/polished/testing_notebook.ipynb#X25sZmlsZQ%3D%3D?line=16'>17</a>\u001b[0m optimizer\u001b[39m.\u001b[39mstep()\n\u001b[0;32m     <a href='vscode-notebook-cell:/c%3A/Users/basha/Desktop/founders_and_coders/week2/search%20engine/to_use/polished/testing_notebook.ipynb#X25sZmlsZQ%3D%3D?line=19'>20</a>\u001b[0m wandb\u001b[39m.\u001b[39mlog({\u001b[39m\"\u001b[39m\u001b[39macc\u001b[39m\u001b[39m\"\u001b[39m:acc,\u001b[39m\"\u001b[39m\u001b[39mloss\u001b[39m\u001b[39m\"\u001b[39m: loss})\n",
      "File \u001b[1;32mc:\\Users\\basha\\anaconda3\\lib\\site-packages\\torch\\_tensor.py:492\u001b[0m, in \u001b[0;36mTensor.backward\u001b[1;34m(self, gradient, retain_graph, create_graph, inputs)\u001b[0m\n\u001b[0;32m    482\u001b[0m \u001b[39mif\u001b[39;00m has_torch_function_unary(\u001b[39mself\u001b[39m):\n\u001b[0;32m    483\u001b[0m     \u001b[39mreturn\u001b[39;00m handle_torch_function(\n\u001b[0;32m    484\u001b[0m         Tensor\u001b[39m.\u001b[39mbackward,\n\u001b[0;32m    485\u001b[0m         (\u001b[39mself\u001b[39m,),\n\u001b[1;32m   (...)\u001b[0m\n\u001b[0;32m    490\u001b[0m         inputs\u001b[39m=\u001b[39minputs,\n\u001b[0;32m    491\u001b[0m     )\n\u001b[1;32m--> 492\u001b[0m torch\u001b[39m.\u001b[39;49mautograd\u001b[39m.\u001b[39;49mbackward(\n\u001b[0;32m    493\u001b[0m     \u001b[39mself\u001b[39;49m, gradient, retain_graph, create_graph, inputs\u001b[39m=\u001b[39;49minputs\n\u001b[0;32m    494\u001b[0m )\n",
      "File \u001b[1;32mc:\\Users\\basha\\anaconda3\\lib\\site-packages\\torch\\autograd\\__init__.py:251\u001b[0m, in \u001b[0;36mbackward\u001b[1;34m(tensors, grad_tensors, retain_graph, create_graph, grad_variables, inputs)\u001b[0m\n\u001b[0;32m    246\u001b[0m     retain_graph \u001b[39m=\u001b[39m create_graph\n\u001b[0;32m    248\u001b[0m \u001b[39m# The reason we repeat the same comment below is that\u001b[39;00m\n\u001b[0;32m    249\u001b[0m \u001b[39m# some Python versions print out the first line of a multi-line function\u001b[39;00m\n\u001b[0;32m    250\u001b[0m \u001b[39m# calls in the traceback and some print out the last line\u001b[39;00m\n\u001b[1;32m--> 251\u001b[0m Variable\u001b[39m.\u001b[39;49m_execution_engine\u001b[39m.\u001b[39;49mrun_backward(  \u001b[39m# Calls into the C++ engine to run the backward pass\u001b[39;49;00m\n\u001b[0;32m    252\u001b[0m     tensors,\n\u001b[0;32m    253\u001b[0m     grad_tensors_,\n\u001b[0;32m    254\u001b[0m     retain_graph,\n\u001b[0;32m    255\u001b[0m     create_graph,\n\u001b[0;32m    256\u001b[0m     inputs,\n\u001b[0;32m    257\u001b[0m     allow_unreachable\u001b[39m=\u001b[39;49m\u001b[39mTrue\u001b[39;49;00m,\n\u001b[0;32m    258\u001b[0m     accumulate_grad\u001b[39m=\u001b[39;49m\u001b[39mTrue\u001b[39;49;00m,\n\u001b[0;32m    259\u001b[0m )\n",
      "\u001b[1;31mKeyboardInterrupt\u001b[0m: "
     ]
    }
   ],
   "source": [
    "num_epochs = 20\n",
    "correct_predictions = 0\n",
    "total_predictions = 0\n",
    "\n",
    "for epoch in range(num_epochs):\n",
    "    for query, doc, label in dl:\n",
    "        optimizer.zero_grad()\n",
    "        query = model_GRU(query)\n",
    "        doc = model_LSTM(doc)\n",
    "        # query = query.view(1,-1)\n",
    "        # doc = doc.view(1,-1)\n",
    "        loss,predictions = cosine_similarity_loss(query,doc,label)\n",
    "        correct_predictions += torch.sum(predictions==label)\n",
    "        total_predictions += batch_size\n",
    "        acc = correct_predictions/total_predictions\n",
    "        loss.backward()\n",
    "        optimizer.step()\n",
    "\n",
    "\n",
    "        wandb.log({\"acc\":acc,\"loss\": loss})\n",
    "    print(f\"Epoch {epoch+1}/{num_epochs}, Acc: {acc}, Loss: {loss.item()}\")"
   ]
  },
  {
   "cell_type": "code",
   "execution_count": 32,
   "metadata": {},
   "outputs": [
    {
     "name": "stdout",
     "output_type": "stream",
     "text": [
      "Cosine Similarity: -0.9999999403953552\n"
     ]
    }
   ],
   "source": [
    "import torch.nn.functional as F\n",
    "\n",
    "tensor1 = torch.tensor([1, 1], dtype=torch.float32)\n",
    "tensor2 = torch.tensor([-1,-1], dtype=torch.float32)\n",
    "\n",
    "# Calculate the cosine similarity\n",
    "cos_sim = F.cosine_similarity(tensor1.view(1, -1), tensor2.view(1, -1))\n",
    "print(\"Cosine Similarity:\", cos_sim.item())"
   ]
  },
  {
   "cell_type": "code",
   "execution_count": 33,
   "metadata": {},
   "outputs": [
    {
     "name": "stdout",
     "output_type": "stream",
     "text": [
      "tensor([2.])\n",
      "tensor([2.])\n",
      "tensor([0.])\n"
     ]
    }
   ],
   "source": [
    "loss = 1-cos_sim\n",
    "print(loss)\n",
    "loss = torch.clamp(loss, min = 0.0)\n",
    "print(loss)\n",
    "loss = (1-1)*loss\n",
    "print(loss)"
   ]
  },
  {
   "cell_type": "code",
   "execution_count": 31,
   "metadata": {},
   "outputs": [
    {
     "name": "stdout",
     "output_type": "stream",
     "text": [
      "tensor([0.])\n"
     ]
    },
    {
     "data": {
      "text/plain": [
       "tensor(1.)"
      ]
     },
     "execution_count": 31,
     "metadata": {},
     "output_type": "execute_result"
    }
   ],
   "source": [
    "import torch\n",
    "import torch.nn as nn\n",
    "import torch.nn.functional as F\n",
    "\n",
    "class CosineSimilarityLoss(nn.Module):\n",
    "    def __init__(self, margin=0.0):\n",
    "        super(CosineSimilarityLoss, self).__init__()\n",
    "        self.margin = margin\n",
    "\n",
    "    def forward(self, output1, output2, target):\n",
    "        # Calculate cosine similarity\n",
    "        cosine_similarity = F.cosine_similarity(output1, output2)\n",
    "        print(cosine_similarity)\n",
    "\n",
    "        # Calculate loss with margin\n",
    "        loss = 1.0 - cosine_similarity + self.margin\n",
    "        loss = torch.clamp(loss, min=0.0)  # Use ReLU to ensure positive loss\n",
    "\n",
    "        # Multiply by target to penalize dissimilarity\n",
    "        loss = target * (1-cosine_similarity) + (1-target) * (1+cosine_similarity)\n",
    "\n",
    "        return loss.mean()\n",
    "\n",
    "# Usage:\n",
    "output1 = torch.tensor([1, 1], dtype=torch.float32)\n",
    "output2 = torch.tensor([-1,1], dtype=torch.float32)\n",
    "target = torch.tensor([1])  # 1.0 for similar, 0.0 for dissimilar\n",
    "\n",
    "loss_fn = CosineSimilarityLoss(margin=0)\n",
    "loss = loss_fn(output1.view(1,-1), output2.view(1,-1), target)\n",
    "\n",
    "loss"
   ]
  },
  {
   "cell_type": "code",
   "execution_count": 75,
   "metadata": {},
   "outputs": [
    {
     "data": {
      "text/plain": [
       "(tensor(0.0013, grad_fn=<MeanBackward0>), tensor([True, True]))"
      ]
     },
     "execution_count": 75,
     "metadata": {},
     "output_type": "execute_result"
    }
   ],
   "source": [
    "cosine_similarity_loss(output1,output2,target)"
   ]
  },
  {
   "cell_type": "code",
   "execution_count": 8,
   "metadata": {},
   "outputs": [
    {
     "data": {
      "text/plain": [
       "tensor([True, True, True])"
      ]
     },
     "execution_count": 8,
     "metadata": {},
     "output_type": "execute_result"
    }
   ],
   "source": [
    "predicted = torch.tensor([False, True,True])\n",
    "labeled = torch.tensor([0,1,1])\n",
    "predicted == labeled"
   ]
  },
  {
   "cell_type": "code",
   "execution_count": 18,
   "metadata": {},
   "outputs": [
    {
     "data": {
      "text/plain": [
       "tensor([ 0.1998,  0.0077,  0.1641, -0.0393, -0.2796,  0.1467, -0.0701, -0.2469,\n",
       "        -0.0106, -0.0834,  0.3304,  0.2383, -0.2311,  0.3039, -0.0148,  0.0454,\n",
       "         0.2372,  0.1358, -0.0518, -0.1181, -0.1718, -0.2236, -0.0664,  0.0087,\n",
       "         0.2314, -0.2332,  0.2495, -0.2539, -0.1583, -0.0447,  0.0284, -0.1259,\n",
       "         0.0127, -0.0088, -0.1055, -0.1773,  0.1909, -0.0240, -0.0656, -0.0695,\n",
       "        -0.2995,  0.3083, -0.2944, -0.1112, -0.1542,  0.0800,  0.3763, -0.0453,\n",
       "        -0.1123, -0.1467,  0.0145,  0.1619,  0.0384, -0.1002, -0.0440, -0.1239,\n",
       "         0.0996, -0.1452, -0.0407,  0.1805,  0.0183, -0.2646,  0.2392,  0.2913],\n",
       "       grad_fn=<SelectBackward0>)"
      ]
     },
     "execution_count": 18,
     "metadata": {},
     "output_type": "execute_result"
    }
   ],
   "source": [
    "query[0]"
   ]
  },
  {
   "cell_type": "code",
   "execution_count": null,
   "metadata": {},
   "outputs": [],
   "source": []
  }
 ],
 "metadata": {
  "kernelspec": {
   "display_name": "Python 3 (ipykernel)",
   "language": "python",
   "name": "python3"
  },
  "language_info": {
   "codemirror_mode": {
    "name": "ipython",
    "version": 3
   },
   "file_extension": ".py",
   "mimetype": "text/x-python",
   "name": "python",
   "nbconvert_exporter": "python",
   "pygments_lexer": "ipython3",
   "version": "3.11.5"
  }
 },
 "nbformat": 4,
 "nbformat_minor": 2
}
