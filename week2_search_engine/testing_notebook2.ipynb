{
 "cells": [
  {
   "cell_type": "code",
   "execution_count": 1,
   "metadata": {},
   "outputs": [],
   "source": [
    "import load_corpus\n",
    "import generate_CBOW_ds\n",
    "from datasets import load_dataset\n",
    "import generate_two_tower_data\n",
    "import pandas as pd\n",
    "import sp_tokenizer\n",
    "import torch\n",
    "import two_tower_model\n",
    "import wandb\n",
    "import torch.optim as optim\n"
   ]
  },
  {
   "cell_type": "code",
   "execution_count": 8,
   "metadata": {},
   "outputs": [],
   "source": [
    "# corpus = load_corpus.load_corpus()"
   ]
  },
  {
   "cell_type": "code",
   "execution_count": 9,
   "metadata": {},
   "outputs": [],
   "source": [
    "# dataset = load_dataset(\"ms_marco\", \"v1.1\")\n",
    "# train_data = dataset[\"train\"]\n",
    "# train_df = pd.DataFrame(train_data)"
   ]
  },
  {
   "cell_type": "code",
   "execution_count": 10,
   "metadata": {},
   "outputs": [],
   "source": [
    "# ds, passage_dict = generate_two_tower_data.generate_two_tower_data(train_df, 'ms_marco_model.model.model')"
   ]
  },
  {
   "cell_type": "code",
   "execution_count": 11,
   "metadata": {},
   "outputs": [],
   "source": [
    "# torch.save(ds,'two_tower_training_data.pt')"
   ]
  },
  {
   "cell_type": "code",
   "execution_count": 2,
   "metadata": {},
   "outputs": [],
   "source": [
    "ds = torch.load('two_tower_training_data.pt', map_location='cpu')"
   ]
  },
  {
   "cell_type": "code",
   "execution_count": 3,
   "metadata": {},
   "outputs": [],
   "source": [
    "def custom_collate_fn(batch):\n",
    "    # Sort the batch by target sequence length (in descending order)\n",
    "    batch = sorted(batch, key=lambda x: len(x[0]), reverse=True)\n",
    "\n",
    "    # Get the sequence lengths for both target and context\n",
    "    target_seq_lengths = [len(item[0]) for item in batch]\n",
    "    context_seq_lengths = [len(item[1]) for item in batch]\n",
    "\n",
    "    # Pad target and context sequences separately\n",
    "    padded_target_sequences = torch.nn.utils.rnn.pad_sequence([item[0] for item in batch], batch_first=True)\n",
    "    padded_context_sequences = torch.nn.utils.rnn.pad_sequence([item[1] for item in batch], batch_first=True)\n",
    "\n",
    "    # Create masks for the padded values for both target and context\n",
    "    target_mask = (padded_target_sequences != 0).float()\n",
    "    context_mask = (padded_context_sequences != 0).float()\n",
    "\n",
    "    # Extract labels\n",
    "    labels = [item[2] for item in batch]\n",
    "\n",
    "    return torch.LongTensor(padded_target_sequences), torch.LongTensor(padded_context_sequences), torch.LongTensor(labels)\n"
   ]
  },
  {
   "cell_type": "code",
   "execution_count": 4,
   "metadata": {},
   "outputs": [],
   "source": [
    "tokenizer = sp_tokenizer.sp_tokenizer()\n",
    "def sp_decode(vectors,tokenizer):\n",
    "    print(tokenizer.decode(vectors[0].tolist()), '\\n',tokenizer.decode(vectors[1].tolist()),'\\n', vectors[2].tolist())"
   ]
  },
  {
   "cell_type": "code",
   "execution_count": 6,
   "metadata": {},
   "outputs": [],
   "source": [
    "# ds_part = ds[:20000]\n",
    "# torch.save(ds_part, 'two_tower_training_section_of_data.pt')\n",
    "# ds_part = torch.load('two_tower_training_section_of_data.pt')\n",
    "# ds_part = torch.load('two_tower_training_section_of_data.pt')\n",
    "ds = torch.load('two_tower_training_data.pt', map_location = 'cpu')\n",
    "batch_size = 512\n",
    "dl = torch.utils.data.DataLoader(ds, batch_size=batch_size, shuffle=True, collate_fn=custom_collate_fn)\n"
   ]
  },
  {
   "cell_type": "code",
   "execution_count": 7,
   "metadata": {},
   "outputs": [],
   "source": [
    "vocab_size = 16000  # Vocabulary size\n",
    "embedding_dim = 100  # Dimension of word embeddings\n",
    "hidden_dim = 128  # GRU hidden state size\n",
    "output_dim = 64  # Desired output embedding dimension"
   ]
  },
  {
   "cell_type": "code",
   "execution_count": 8,
   "metadata": {},
   "outputs": [],
   "source": [
    "model_GRU = two_tower_model.GRUEmbeddingModel(vocab_size, embedding_dim, hidden_dim, output_dim)\n",
    "model_LSTM = two_tower_model.LSTMEmbeddingModel(vocab_size, embedding_dim, hidden_dim, output_dim)\n",
    "cosine_similarity_loss = two_tower_model.CosineSimilarityLoss(margin = 0.2)\n",
    "optimizer = optim.SGD(list(model_GRU.parameters()) + list(model_LSTM.parameters()), lr=0.01)\n"
   ]
  },
  {
   "cell_type": "code",
   "execution_count": 9,
   "metadata": {},
   "outputs": [],
   "source": [
    "# import torch.nn.functional as F\n",
    "\n",
    "# for query_0, doc_0, label_0 in dl:\n",
    "\n",
    "#     query_emb = model_GRU(query_0)\n",
    "#     doc_emb = model_LSTM(doc_0)\n",
    "#     loss,predictions = cosine_similarity_loss(query_emb,doc_emb,label_0)\n",
    "#     cos_sim = F.cosine_similarity(query_emb, doc_emb)\n",
    "#     print(query_emb.size(), '\\n', doc_emb.size(),'\\n',loss,'\\n',predictions, '\\n',cos_sim)\n",
    "#     break"
   ]
  },
  {
   "cell_type": "code",
   "execution_count": 10,
   "metadata": {},
   "outputs": [],
   "source": [
    "# import torch.nn as nn\n",
    "# embd_unit = nn.Embedding(vocab_size, embedding_dim)\n",
    "# gru_unit = nn.GRU(embedding_dim,hidden_dim)\n",
    "# fc_unit = nn.Linear(hidden_dim,output_dim)\n",
    "# output, hidden = gru_unit(embd_unit(query_0))\n",
    "# output = fc_unit(output)\n",
    "# output = torch.mean(output, dim=1)\n",
    "\n",
    "# print(output.size(), hidden.size())"
   ]
  },
  {
   "cell_type": "code",
   "execution_count": 11,
   "metadata": {},
   "outputs": [
    {
     "name": "stderr",
     "output_type": "stream",
     "text": [
      "Failed to detect the name of this notebook, you can set it manually with the WANDB_NOTEBOOK_NAME environment variable to enable code saving.\n",
      "\u001b[34m\u001b[1mwandb\u001b[0m: Currently logged in as: \u001b[33mbasharkabalan\u001b[0m. Use \u001b[1m`wandb login --relogin`\u001b[0m to force relogin\n",
      "\u001b[34m\u001b[1mwandb\u001b[0m: \u001b[33mWARNING\u001b[0m If you're specifying your api key in code, ensure this code is not shared publicly.\n",
      "\u001b[34m\u001b[1mwandb\u001b[0m: \u001b[33mWARNING\u001b[0m Consider setting the WANDB_API_KEY environment variable, or running `wandb login` from the command line.\n",
      "\u001b[34m\u001b[1mwandb\u001b[0m: Appending key for api.wandb.ai to your netrc file: C:\\Users\\basha/.netrc\n"
     ]
    },
    {
     "data": {
      "text/html": [
       "Tracking run with wandb version 0.15.12"
      ],
      "text/plain": [
       "<IPython.core.display.HTML object>"
      ]
     },
     "metadata": {},
     "output_type": "display_data"
    },
    {
     "data": {
      "text/html": [
       "Run data is saved locally in <code>c:\\Users\\basha\\Desktop\\founders_and_coders\\week2\\search engine\\to_use\\polished\\wandb\\run-20231105_222619-4cboz9o1</code>"
      ],
      "text/plain": [
       "<IPython.core.display.HTML object>"
      ]
     },
     "metadata": {},
     "output_type": "display_data"
    },
    {
     "data": {
      "text/html": [
       "Syncing run <strong><a href='https://wandb.ai/basharkabalan/mlx_search_eninge/runs/4cboz9o1' target=\"_blank\">hearty-music-31</a></strong> to <a href='https://wandb.ai/basharkabalan/mlx_search_eninge' target=\"_blank\">Weights & Biases</a> (<a href='https://wandb.me/run' target=\"_blank\">docs</a>)<br/>"
      ],
      "text/plain": [
       "<IPython.core.display.HTML object>"
      ]
     },
     "metadata": {},
     "output_type": "display_data"
    },
    {
     "data": {
      "text/html": [
       " View project at <a href='https://wandb.ai/basharkabalan/mlx_search_eninge' target=\"_blank\">https://wandb.ai/basharkabalan/mlx_search_eninge</a>"
      ],
      "text/plain": [
       "<IPython.core.display.HTML object>"
      ]
     },
     "metadata": {},
     "output_type": "display_data"
    },
    {
     "data": {
      "text/html": [
       " View run at <a href='https://wandb.ai/basharkabalan/mlx_search_eninge/runs/4cboz9o1' target=\"_blank\">https://wandb.ai/basharkabalan/mlx_search_eninge/runs/4cboz9o1</a>"
      ],
      "text/plain": [
       "<IPython.core.display.HTML object>"
      ]
     },
     "metadata": {},
     "output_type": "display_data"
    },
    {
     "data": {
      "text/html": [
       "<button onClick=\"this.nextSibling.style.display='block';this.style.display='none';\">Display W&B run</button><iframe src='https://wandb.ai/basharkabalan/mlx_search_eninge/runs/4cboz9o1?jupyter=true' style='border:none;width:100%;height:420px;display:none;'></iframe>"
      ],
      "text/plain": [
       "<wandb.sdk.wandb_run.Run at 0x1f099bb7be0>"
      ]
     },
     "execution_count": 11,
     "metadata": {},
     "output_type": "execute_result"
    }
   ],
   "source": [
    "wandb.login(key=\"9091f9245cf64052fa6d4eae03190a076fd87fe8\")\n",
    "wandb.init(project ='mlx_search_eninge', entity = 'basharkabalan',     config={\n",
    "    \"learning_rate\": 0.01,\n",
    "    \"architecture\": \"two_tower\",\n",
    "    \"dataset\": \"ms_marco_v1.1\",\n",
    "    \"epochs\": 3,\n",
    "    })\n",
    "\n"
   ]
  },
  {
   "cell_type": "code",
   "execution_count": 12,
   "metadata": {},
   "outputs": [
    {
     "name": "stderr",
     "output_type": "stream",
     "text": [
      "c:\\Users\\basha\\Desktop\\founders_and_coders\\week2\\search engine\\to_use\\polished\\two_tower_model.py:50: UserWarning: To copy construct from a tensor, it is recommended to use sourceTensor.clone().detach() or sourceTensor.clone().detach().requires_grad_(True), rather than torch.tensor(sourceTensor).\n",
      "  predictions = torch.tensor(cosine_similarity>self.margin)\n"
     ]
    },
    {
     "name": "stdout",
     "output_type": "stream",
     "text": [
      "Epoch 1/20, Acc: 0.49969974160194397, Loss: 0.9757241010665894\n",
      "Epoch 2/20, Acc: 0.49989053606987, Loss: 0.9787083864212036\n",
      "Epoch 3/20, Acc: 0.49995365738868713, Loss: 1.0249922275543213\n",
      "Epoch 4/20, Acc: 0.4999798536300659, Loss: 0.9374917149543762\n",
      "Epoch 5/20, Acc: 0.5000004172325134, Loss: 0.9652059078216553\n",
      "Epoch 6/20, Acc: 0.5000143051147461, Loss: 0.9633328914642334\n",
      "Epoch 7/20, Acc: 0.5000231266021729, Loss: 1.0142943859100342\n",
      "Epoch 8/20, Acc: 0.5000312328338623, Loss: 1.0624384880065918\n",
      "Epoch 9/20, Acc: 0.5000429749488831, Loss: 1.015870451927185\n",
      "Epoch 10/20, Acc: 0.5003427863121033, Loss: 0.9498809576034546\n"
     ]
    },
    {
     "ename": "KeyboardInterrupt",
     "evalue": "",
     "output_type": "error",
     "traceback": [
      "\u001b[1;31m---------------------------------------------------------------------------\u001b[0m",
      "\u001b[1;31mKeyboardInterrupt\u001b[0m                         Traceback (most recent call last)",
      "\u001b[1;32mc:\\Users\\basha\\Desktop\\founders_and_coders\\week2\\search engine\\to_use\\polished\\testing_notebook2.ipynb Cell 15\u001b[0m line \u001b[0;36m9\n\u001b[0;32m      <a href='vscode-notebook-cell:/c%3A/Users/basha/Desktop/founders_and_coders/week2/search%20engine/to_use/polished/testing_notebook2.ipynb#X23sZmlsZQ%3D%3D?line=6'>7</a>\u001b[0m optimizer\u001b[39m.\u001b[39mzero_grad()\n\u001b[0;32m      <a href='vscode-notebook-cell:/c%3A/Users/basha/Desktop/founders_and_coders/week2/search%20engine/to_use/polished/testing_notebook2.ipynb#X23sZmlsZQ%3D%3D?line=7'>8</a>\u001b[0m query \u001b[39m=\u001b[39m model_GRU(query)\n\u001b[1;32m----> <a href='vscode-notebook-cell:/c%3A/Users/basha/Desktop/founders_and_coders/week2/search%20engine/to_use/polished/testing_notebook2.ipynb#X23sZmlsZQ%3D%3D?line=8'>9</a>\u001b[0m doc \u001b[39m=\u001b[39m model_LSTM(doc)\n\u001b[0;32m     <a href='vscode-notebook-cell:/c%3A/Users/basha/Desktop/founders_and_coders/week2/search%20engine/to_use/polished/testing_notebook2.ipynb#X23sZmlsZQ%3D%3D?line=9'>10</a>\u001b[0m \u001b[39m# query = query.view(1,-1)\u001b[39;00m\n\u001b[0;32m     <a href='vscode-notebook-cell:/c%3A/Users/basha/Desktop/founders_and_coders/week2/search%20engine/to_use/polished/testing_notebook2.ipynb#X23sZmlsZQ%3D%3D?line=10'>11</a>\u001b[0m \u001b[39m# doc = doc.view(1,-1)\u001b[39;00m\n\u001b[0;32m     <a href='vscode-notebook-cell:/c%3A/Users/basha/Desktop/founders_and_coders/week2/search%20engine/to_use/polished/testing_notebook2.ipynb#X23sZmlsZQ%3D%3D?line=11'>12</a>\u001b[0m loss,predictions \u001b[39m=\u001b[39m cosine_similarity_loss(query,doc,label)\n",
      "File \u001b[1;32mc:\\Users\\basha\\anaconda3\\lib\\site-packages\\torch\\nn\\modules\\module.py:1518\u001b[0m, in \u001b[0;36mModule._wrapped_call_impl\u001b[1;34m(self, *args, **kwargs)\u001b[0m\n\u001b[0;32m   1516\u001b[0m     \u001b[39mreturn\u001b[39;00m \u001b[39mself\u001b[39m\u001b[39m.\u001b[39m_compiled_call_impl(\u001b[39m*\u001b[39margs, \u001b[39m*\u001b[39m\u001b[39m*\u001b[39mkwargs)  \u001b[39m# type: ignore[misc]\u001b[39;00m\n\u001b[0;32m   1517\u001b[0m \u001b[39melse\u001b[39;00m:\n\u001b[1;32m-> 1518\u001b[0m     \u001b[39mreturn\u001b[39;00m \u001b[39mself\u001b[39m\u001b[39m.\u001b[39m_call_impl(\u001b[39m*\u001b[39margs, \u001b[39m*\u001b[39m\u001b[39m*\u001b[39mkwargs)\n",
      "File \u001b[1;32mc:\\Users\\basha\\anaconda3\\lib\\site-packages\\torch\\nn\\modules\\module.py:1527\u001b[0m, in \u001b[0;36mModule._call_impl\u001b[1;34m(self, *args, **kwargs)\u001b[0m\n\u001b[0;32m   1522\u001b[0m \u001b[39m# If we don't have any hooks, we want to skip the rest of the logic in\u001b[39;00m\n\u001b[0;32m   1523\u001b[0m \u001b[39m# this function, and just call forward.\u001b[39;00m\n\u001b[0;32m   1524\u001b[0m \u001b[39mif\u001b[39;00m \u001b[39mnot\u001b[39;00m (\u001b[39mself\u001b[39m\u001b[39m.\u001b[39m_backward_hooks \u001b[39mor\u001b[39;00m \u001b[39mself\u001b[39m\u001b[39m.\u001b[39m_backward_pre_hooks \u001b[39mor\u001b[39;00m \u001b[39mself\u001b[39m\u001b[39m.\u001b[39m_forward_hooks \u001b[39mor\u001b[39;00m \u001b[39mself\u001b[39m\u001b[39m.\u001b[39m_forward_pre_hooks\n\u001b[0;32m   1525\u001b[0m         \u001b[39mor\u001b[39;00m _global_backward_pre_hooks \u001b[39mor\u001b[39;00m _global_backward_hooks\n\u001b[0;32m   1526\u001b[0m         \u001b[39mor\u001b[39;00m _global_forward_hooks \u001b[39mor\u001b[39;00m _global_forward_pre_hooks):\n\u001b[1;32m-> 1527\u001b[0m     \u001b[39mreturn\u001b[39;00m forward_call(\u001b[39m*\u001b[39margs, \u001b[39m*\u001b[39m\u001b[39m*\u001b[39mkwargs)\n\u001b[0;32m   1529\u001b[0m \u001b[39mtry\u001b[39;00m:\n\u001b[0;32m   1530\u001b[0m     result \u001b[39m=\u001b[39m \u001b[39mNone\u001b[39;00m\n",
      "File \u001b[1;32mc:\\Users\\basha\\Desktop\\founders_and_coders\\week2\\search engine\\to_use\\polished\\two_tower_model.py:36\u001b[0m, in \u001b[0;36mLSTMEmbeddingModel.forward\u001b[1;34m(self, input_sequence)\u001b[0m\n\u001b[0;32m     35\u001b[0m \u001b[39mdef\u001b[39;00m \u001b[39mforward\u001b[39m(\u001b[39mself\u001b[39m, input_sequence):\n\u001b[1;32m---> 36\u001b[0m     embedded \u001b[39m=\u001b[39m \u001b[39mself\u001b[39;49m\u001b[39m.\u001b[39;49membedding(input_sequence)\n\u001b[0;32m     37\u001b[0m     output, (hidden, cell) \u001b[39m=\u001b[39m \u001b[39mself\u001b[39m\u001b[39m.\u001b[39mlstm(embedded)\n\u001b[0;32m     38\u001b[0m     embedded_sequence \u001b[39m=\u001b[39m \u001b[39mself\u001b[39m\u001b[39m.\u001b[39mfc(output)  \u001b[39m# Using the last hidden state as the embedding\u001b[39;00m\n",
      "File \u001b[1;32mc:\\Users\\basha\\anaconda3\\lib\\site-packages\\torch\\nn\\modules\\module.py:1518\u001b[0m, in \u001b[0;36mModule._wrapped_call_impl\u001b[1;34m(self, *args, **kwargs)\u001b[0m\n\u001b[0;32m   1516\u001b[0m     \u001b[39mreturn\u001b[39;00m \u001b[39mself\u001b[39m\u001b[39m.\u001b[39m_compiled_call_impl(\u001b[39m*\u001b[39margs, \u001b[39m*\u001b[39m\u001b[39m*\u001b[39mkwargs)  \u001b[39m# type: ignore[misc]\u001b[39;00m\n\u001b[0;32m   1517\u001b[0m \u001b[39melse\u001b[39;00m:\n\u001b[1;32m-> 1518\u001b[0m     \u001b[39mreturn\u001b[39;00m \u001b[39mself\u001b[39m\u001b[39m.\u001b[39m_call_impl(\u001b[39m*\u001b[39margs, \u001b[39m*\u001b[39m\u001b[39m*\u001b[39mkwargs)\n",
      "File \u001b[1;32mc:\\Users\\basha\\anaconda3\\lib\\site-packages\\torch\\nn\\modules\\module.py:1527\u001b[0m, in \u001b[0;36mModule._call_impl\u001b[1;34m(self, *args, **kwargs)\u001b[0m\n\u001b[0;32m   1522\u001b[0m \u001b[39m# If we don't have any hooks, we want to skip the rest of the logic in\u001b[39;00m\n\u001b[0;32m   1523\u001b[0m \u001b[39m# this function, and just call forward.\u001b[39;00m\n\u001b[0;32m   1524\u001b[0m \u001b[39mif\u001b[39;00m \u001b[39mnot\u001b[39;00m (\u001b[39mself\u001b[39m\u001b[39m.\u001b[39m_backward_hooks \u001b[39mor\u001b[39;00m \u001b[39mself\u001b[39m\u001b[39m.\u001b[39m_backward_pre_hooks \u001b[39mor\u001b[39;00m \u001b[39mself\u001b[39m\u001b[39m.\u001b[39m_forward_hooks \u001b[39mor\u001b[39;00m \u001b[39mself\u001b[39m\u001b[39m.\u001b[39m_forward_pre_hooks\n\u001b[0;32m   1525\u001b[0m         \u001b[39mor\u001b[39;00m _global_backward_pre_hooks \u001b[39mor\u001b[39;00m _global_backward_hooks\n\u001b[0;32m   1526\u001b[0m         \u001b[39mor\u001b[39;00m _global_forward_hooks \u001b[39mor\u001b[39;00m _global_forward_pre_hooks):\n\u001b[1;32m-> 1527\u001b[0m     \u001b[39mreturn\u001b[39;00m forward_call(\u001b[39m*\u001b[39margs, \u001b[39m*\u001b[39m\u001b[39m*\u001b[39mkwargs)\n\u001b[0;32m   1529\u001b[0m \u001b[39mtry\u001b[39;00m:\n\u001b[0;32m   1530\u001b[0m     result \u001b[39m=\u001b[39m \u001b[39mNone\u001b[39;00m\n",
      "File \u001b[1;32mc:\\Users\\basha\\anaconda3\\lib\\site-packages\\torch\\nn\\modules\\sparse.py:162\u001b[0m, in \u001b[0;36mEmbedding.forward\u001b[1;34m(self, input)\u001b[0m\n\u001b[0;32m    161\u001b[0m \u001b[39mdef\u001b[39;00m \u001b[39mforward\u001b[39m(\u001b[39mself\u001b[39m, \u001b[39minput\u001b[39m: Tensor) \u001b[39m-\u001b[39m\u001b[39m>\u001b[39m Tensor:\n\u001b[1;32m--> 162\u001b[0m     \u001b[39mreturn\u001b[39;00m F\u001b[39m.\u001b[39;49membedding(\n\u001b[0;32m    163\u001b[0m         \u001b[39minput\u001b[39;49m, \u001b[39mself\u001b[39;49m\u001b[39m.\u001b[39;49mweight, \u001b[39mself\u001b[39;49m\u001b[39m.\u001b[39;49mpadding_idx, \u001b[39mself\u001b[39;49m\u001b[39m.\u001b[39;49mmax_norm,\n\u001b[0;32m    164\u001b[0m         \u001b[39mself\u001b[39;49m\u001b[39m.\u001b[39;49mnorm_type, \u001b[39mself\u001b[39;49m\u001b[39m.\u001b[39;49mscale_grad_by_freq, \u001b[39mself\u001b[39;49m\u001b[39m.\u001b[39;49msparse)\n",
      "File \u001b[1;32mc:\\Users\\basha\\anaconda3\\lib\\site-packages\\torch\\nn\\functional.py:2233\u001b[0m, in \u001b[0;36membedding\u001b[1;34m(input, weight, padding_idx, max_norm, norm_type, scale_grad_by_freq, sparse)\u001b[0m\n\u001b[0;32m   2227\u001b[0m     \u001b[39m# Note [embedding_renorm set_grad_enabled]\u001b[39;00m\n\u001b[0;32m   2228\u001b[0m     \u001b[39m# XXX: equivalent to\u001b[39;00m\n\u001b[0;32m   2229\u001b[0m     \u001b[39m# with torch.no_grad():\u001b[39;00m\n\u001b[0;32m   2230\u001b[0m     \u001b[39m#   torch.embedding_renorm_\u001b[39;00m\n\u001b[0;32m   2231\u001b[0m     \u001b[39m# remove once script supports set_grad_enabled\u001b[39;00m\n\u001b[0;32m   2232\u001b[0m     _no_grad_embedding_renorm_(weight, \u001b[39minput\u001b[39m, max_norm, norm_type)\n\u001b[1;32m-> 2233\u001b[0m \u001b[39mreturn\u001b[39;00m torch\u001b[39m.\u001b[39;49membedding(weight, \u001b[39minput\u001b[39;49m, padding_idx, scale_grad_by_freq, sparse)\n",
      "\u001b[1;31mKeyboardInterrupt\u001b[0m: "
     ]
    }
   ],
   "source": [
    "num_epochs = 20\n",
    "correct_predictions = 0\n",
    "total_predictions = 0\n",
    "\n",
    "for epoch in range(num_epochs):\n",
    "    for query, doc, label in dl:\n",
    "        optimizer.zero_grad()\n",
    "        query = model_GRU(query)\n",
    "        doc = model_LSTM(doc)\n",
    "        # query = query.view(1,-1)\n",
    "        # doc = doc.view(1,-1)\n",
    "        loss,predictions = cosine_similarity_loss(query,doc,label)\n",
    "        correct_predictions += torch.sum(predictions==label)\n",
    "        total_predictions += batch_size\n",
    "        acc = correct_predictions/total_predictions\n",
    "        loss.backward()\n",
    "        optimizer.step()\n",
    "\n",
    "\n",
    "        wandb.log({\"acc\":acc,\"loss\": loss})\n",
    "    print(f\"Epoch {epoch+1}/{num_epochs}, Acc: {acc}, Loss: {loss.item()}\")"
   ]
  },
  {
   "cell_type": "code",
   "execution_count": 32,
   "metadata": {},
   "outputs": [
    {
     "name": "stdout",
     "output_type": "stream",
     "text": [
      "Cosine Similarity: -0.9999999403953552\n"
     ]
    }
   ],
   "source": [
    "import torch.nn.functional as F\n",
    "\n",
    "tensor1 = torch.tensor([1, 1], dtype=torch.float32)\n",
    "tensor2 = torch.tensor([-1,-1], dtype=torch.float32)\n",
    "\n",
    "# Calculate the cosine similarity\n",
    "cos_sim = F.cosine_similarity(tensor1.view(1, -1), tensor2.view(1, -1))\n",
    "print(\"Cosine Similarity:\", cos_sim.item())"
   ]
  },
  {
   "cell_type": "code",
   "execution_count": 33,
   "metadata": {},
   "outputs": [
    {
     "name": "stdout",
     "output_type": "stream",
     "text": [
      "tensor([2.])\n",
      "tensor([2.])\n",
      "tensor([0.])\n"
     ]
    }
   ],
   "source": [
    "loss = 1-cos_sim\n",
    "print(loss)\n",
    "loss = torch.clamp(loss, min = 0.0)\n",
    "print(loss)\n",
    "loss = (1-1)*loss\n",
    "print(loss)"
   ]
  },
  {
   "cell_type": "code",
   "execution_count": 31,
   "metadata": {},
   "outputs": [
    {
     "name": "stdout",
     "output_type": "stream",
     "text": [
      "tensor([0.])\n"
     ]
    },
    {
     "data": {
      "text/plain": [
       "tensor(1.)"
      ]
     },
     "execution_count": 31,
     "metadata": {},
     "output_type": "execute_result"
    }
   ],
   "source": [
    "import torch\n",
    "import torch.nn as nn\n",
    "import torch.nn.functional as F\n",
    "\n",
    "class CosineSimilarityLoss(nn.Module):\n",
    "    def __init__(self, margin=0.0):\n",
    "        super(CosineSimilarityLoss, self).__init__()\n",
    "        self.margin = margin\n",
    "\n",
    "    def forward(self, output1, output2, target):\n",
    "        # Calculate cosine similarity\n",
    "        cosine_similarity = F.cosine_similarity(output1, output2)\n",
    "        print(cosine_similarity)\n",
    "\n",
    "        # Calculate loss with margin\n",
    "        loss = 1.0 - cosine_similarity + self.margin\n",
    "        loss = torch.clamp(loss, min=0.0)  # Use ReLU to ensure positive loss\n",
    "\n",
    "        # Multiply by target to penalize dissimilarity\n",
    "        loss = target * (1-cosine_similarity) + (1-target) * (1+cosine_similarity)\n",
    "\n",
    "        return loss.mean()\n",
    "\n",
    "# Usage:\n",
    "output1 = torch.tensor([1, 1], dtype=torch.float32)\n",
    "output2 = torch.tensor([-1,1], dtype=torch.float32)\n",
    "target = torch.tensor([1])  # 1.0 for similar, 0.0 for dissimilar\n",
    "\n",
    "loss_fn = CosineSimilarityLoss(margin=0)\n",
    "loss = loss_fn(output1.view(1,-1), output2.view(1,-1), target)\n",
    "\n",
    "loss"
   ]
  },
  {
   "cell_type": "code",
   "execution_count": 75,
   "metadata": {},
   "outputs": [
    {
     "data": {
      "text/plain": [
       "(tensor(0.0013, grad_fn=<MeanBackward0>), tensor([True, True]))"
      ]
     },
     "execution_count": 75,
     "metadata": {},
     "output_type": "execute_result"
    }
   ],
   "source": [
    "cosine_similarity_loss(output1,output2,target)"
   ]
  },
  {
   "cell_type": "code",
   "execution_count": 8,
   "metadata": {},
   "outputs": [
    {
     "data": {
      "text/plain": [
       "tensor([True, True, True])"
      ]
     },
     "execution_count": 8,
     "metadata": {},
     "output_type": "execute_result"
    }
   ],
   "source": [
    "predicted = torch.tensor([False, True,True])\n",
    "labeled = torch.tensor([0,1,1])\n",
    "predicted == labeled"
   ]
  },
  {
   "cell_type": "code",
   "execution_count": 18,
   "metadata": {},
   "outputs": [
    {
     "data": {
      "text/plain": [
       "tensor([ 0.1998,  0.0077,  0.1641, -0.0393, -0.2796,  0.1467, -0.0701, -0.2469,\n",
       "        -0.0106, -0.0834,  0.3304,  0.2383, -0.2311,  0.3039, -0.0148,  0.0454,\n",
       "         0.2372,  0.1358, -0.0518, -0.1181, -0.1718, -0.2236, -0.0664,  0.0087,\n",
       "         0.2314, -0.2332,  0.2495, -0.2539, -0.1583, -0.0447,  0.0284, -0.1259,\n",
       "         0.0127, -0.0088, -0.1055, -0.1773,  0.1909, -0.0240, -0.0656, -0.0695,\n",
       "        -0.2995,  0.3083, -0.2944, -0.1112, -0.1542,  0.0800,  0.3763, -0.0453,\n",
       "        -0.1123, -0.1467,  0.0145,  0.1619,  0.0384, -0.1002, -0.0440, -0.1239,\n",
       "         0.0996, -0.1452, -0.0407,  0.1805,  0.0183, -0.2646,  0.2392,  0.2913],\n",
       "       grad_fn=<SelectBackward0>)"
      ]
     },
     "execution_count": 18,
     "metadata": {},
     "output_type": "execute_result"
    }
   ],
   "source": [
    "query[0]"
   ]
  },
  {
   "cell_type": "code",
   "execution_count": null,
   "metadata": {},
   "outputs": [],
   "source": []
  }
 ],
 "metadata": {
  "kernelspec": {
   "display_name": "Python 3 (ipykernel)",
   "language": "python",
   "name": "python3"
  },
  "language_info": {
   "codemirror_mode": {
    "name": "ipython",
    "version": 3
   },
   "file_extension": ".py",
   "mimetype": "text/x-python",
   "name": "python",
   "nbconvert_exporter": "python",
   "pygments_lexer": "ipython3",
   "version": "3.10.9"
  }
 },
 "nbformat": 4,
 "nbformat_minor": 2
}
