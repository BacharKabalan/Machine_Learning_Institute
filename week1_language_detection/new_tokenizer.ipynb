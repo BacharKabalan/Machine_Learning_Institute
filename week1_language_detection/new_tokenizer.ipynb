{
 "cells": [
  {
   "cell_type": "code",
   "execution_count": 4,
   "metadata": {},
   "outputs": [],
   "source": [
    "import pandas as pd\n",
    "import re\n",
    "from collections import defaultdict"
   ]
  },
  {
   "cell_type": "code",
   "execution_count": 7,
   "metadata": {},
   "outputs": [
    {
     "data": {
      "text/plain": [
       "'low price low interest rate cheap loan lowest interest rate'"
      ]
     },
     "execution_count": 7,
     "metadata": {},
     "output_type": "execute_result"
    }
   ],
   "source": [
    "# import wget\n",
    "# wget.download('https://huggingface.co/datasets/iix/Parquet_FIles/resolve/main/Flores7Lang.parquet')"
   ]
  },
  {
   "cell_type": "code",
   "execution_count": 5,
   "metadata": {},
   "outputs": [
    {
     "ename": "SyntaxError",
     "evalue": "invalid syntax (2075116247.py, line 1)",
     "output_type": "error",
     "traceback": [
      "\u001b[1;36m  Cell \u001b[1;32mIn[5], line 1\u001b[1;36m\u001b[0m\n\u001b[1;33m    def tokenize\u001b[0m\n\u001b[1;37m                ^\u001b[0m\n\u001b[1;31mSyntaxError\u001b[0m\u001b[1;31m:\u001b[0m invalid syntax\n"
     ]
    }
   ],
   "source": [
    "\n",
    "def tokenize\n",
    "num_merges = 1000\n",
    "vocab = set()\n",
    "# Token frequencies\n",
    "token_frequencies = defaultdict(int)\n",
    "\n",
    "for sentence in corpus:\n",
    "    tokens = sentence.split()\n",
    "    for token in tokens:\n",
    "        token_frequencies[token] += 1\n",
    "\n",
    "# Merge subword units\n",
    "for _ in range(num_merges):\n",
    "    # Find the pair of tokens with the highest frequency\n",
    "    try:\n",
    "        pair = max(token_frequencies, key=token_frequencies.get)\n",
    "    except:\n",
    "        break\n",
    "    # print(pair)\n",
    "    # print(token_frequencies[pair])\n",
    "    # Merge the pair by creating a new token\n",
    "    merged = pair\n",
    "    while len(merged)>=2 and len(merged) >1:\n",
    "        # print(merged)\n",
    "        merged = merged[:-1]\n",
    "        vocab.add(merged)\n",
    "        # merged_token_two = pair[0] + pair[1]\n",
    "        # vocab.add(merged_token_two)\n",
    "\n",
    "    # if len(pair)>2:\n",
    "    #     merged_token_three = pair[0] + pair[1] + pair[2]\n",
    "    #     vocab.add(merged_token_three)\n",
    "\n",
    "    \n",
    "    # if len(pair)>3:\n",
    "    #     merged_token_four = pair[0] + pair[1] + pair[2] + pair[3]\n",
    "    #     vocab.add(merged_token_four)\n",
    "\n",
    "    # print(merged_token_two)\n",
    "    # print(merged_token_three)\n",
    "    # print('***************')\n",
    "    # Update the vocabulary and token frequencies\n",
    "    token_frequencies[merged] = token_frequencies[pair]\n",
    "    # token_frequencies[merged_token_three] = token_frequencies[pair]\n",
    "    del token_frequencies[pair]"
   ]
  },
  {
   "cell_type": "code",
   "execution_count": 28,
   "metadata": {},
   "outputs": [
    {
     "name": "stdout",
     "output_type": "stream",
     "text": [
      "Index(['deu', 'eng', 'epo', 'fra', 'ita', 'spa', 'tur'], dtype='object')\n",
      "834\n",
      "['tĉ', 'nb', 'ky', 'vz', 'hy', 'wr', 'gr', 'ğı', 'sá', 'bú']\n"
     ]
    }
   ],
   "source": [
    "import string\n",
    "\n",
    "\n",
    "class Tokenizer:\n",
    "  def __init__(self, corpus=None, freq_threshold=1):\n",
    "    self.corpus = corpus\n",
    "    self.freq_threshold = freq_threshold\n",
    "    self.freq_dist = self.build_freq_dist() if corpus else {}\n",
    "    self.vocab = self.build_vocab() if corpus else {}\n",
    "    self.word2idx = {word: idx for idx, word in enumerate(self.vocab)}\n",
    "    self.idx2word = {idx: word for idx, word in enumerate(self.vocab)}\n",
    "\n",
    "  def build_freq_dist(self):\n",
    "    freq_dist = {}\n",
    "    for sentence in self.corpus:\n",
    "      for word in sentence.split():\n",
    "        word = self.clean_word(word)\n",
    "        # Check if the word is not empty after cleaning\n",
    "        if word: freq_dist[word] = freq_dist.get(word, 0) + 1\n",
    "    return freq_dist\n",
    "\n",
    "  def build_vocab(self):\n",
    "    tokens = [word.lower() for sentence in self.corpus for word in sentence.split()]\n",
    "    tokens = [self.clean_word(word) for word in tokens if word]  # Clean and filter out empty words\n",
    "\n",
    "    num_merges = 10000\n",
    "    vocab = set()\n",
    "    # Token frequencies\n",
    "    token_frequencies = defaultdict(int)\n",
    "\n",
    "    for token in tokens:\n",
    "        token_frequencies[token] += 1\n",
    "    # Merge subword units\n",
    "    for _ in range(num_merges):\n",
    "        # Find the pair of tokens with the highest frequency\n",
    "        try:\n",
    "            pair = max(token_frequencies, key=token_frequencies.get)\n",
    "        except:\n",
    "            break\n",
    "        merged = pair\n",
    "        while len(merged)>=2 and len(merged) >1:\n",
    "            word_to_add = merged[:2]\n",
    "            vocab.add(word_to_add)\n",
    "            if len(merged)>=3:\n",
    "               word_to_add_3 = merged[:3]\n",
    "               vocab.add(word_to_add_3)\n",
    "            merged = merged[2:]\n",
    "            \n",
    "            \n",
    "\n",
    "        token_frequencies[merged] = token_frequencies[pair]\n",
    "        del token_frequencies[pair]\n",
    "    # vocab = list({word for word in tokens if self.freq_dist.get(word, 0) > self.freq_threshold})\n",
    "        \n",
    "    return vocab\n",
    "\n",
    "  def save_vocab(self, path):\n",
    "    with open(path, 'w', encoding=\"utf-8\") as f:\n",
    "      for word in self.vocab: f.write(word + '\\n')\n",
    "    return self\n",
    "\n",
    "  def load_vocab(self, path):\n",
    "    with open(path, 'r', encoding=\"utf-8\") as f: self.vocab = [line.strip() for line in f.readlines()]\n",
    "    self.word2idx = {word: idx for idx, word in enumerate(self.vocab)}\n",
    "    self.idx2word = {idx: word for idx, word in enumerate(self.vocab)}\n",
    "    return self\n",
    "\n",
    "  def encode(self, sentence):\n",
    "    words = sentence.split()\n",
    "    words = [self.clean_word(word) for word in words if word]  # Clean and filter out empty words\n",
    "    return [self.word2idx[word] for word in words if word in self.word2idx]\n",
    "\n",
    "  def decode(self, indices):\n",
    "    return ' '.join(self.idx2word[idx] for idx in indices if idx in self.idx2word)\n",
    "\n",
    "  @staticmethod\n",
    "  def clean_word(word):\n",
    "    word = word.lower()\n",
    "    word = ''.join(char for char in word if char not in string.punctuation)\n",
    "    word = ''.join(char for char in word if not char.isdigit())\n",
    "    return word.strip()\n",
    "\n",
    "\n",
    "if __name__ == '__main__':\n",
    "  import pandas as pd\n",
    "  import pyarrow as pa\n",
    "  data = pd.read_parquet('./Flores7Lang.parquet')\n",
    "  print(data.columns)\n",
    "  long_format = data.melt(value_vars=data.columns)\n",
    "  corpus = long_format['value'].tolist()\n",
    "  tknz = Tokenizer(corpus)\n",
    "  tknz.save_vocab('./vocab.txt')\n",
    "  tknz.load_vocab('./vocab.txt')\n",
    "  print(len(tknz.vocab))\n",
    "  print(tknz.vocab[90:100])"
   ]
  },
  {
   "cell_type": "code",
   "execution_count": 29,
   "metadata": {},
   "outputs": [
    {
     "data": {
      "text/plain": [
       "834"
      ]
     },
     "execution_count": 29,
     "metadata": {},
     "output_type": "execute_result"
    }
   ],
   "source": [
    "len(tknz.vocab)"
   ]
  },
  {
   "cell_type": "code",
   "execution_count": 20,
   "metadata": {},
   "outputs": [],
   "source": [
    "word = 'house'"
   ]
  },
  {
   "cell_type": "code",
   "execution_count": 21,
   "metadata": {},
   "outputs": [
    {
     "data": {
      "text/plain": [
       "'ho'"
      ]
     },
     "execution_count": 21,
     "metadata": {},
     "output_type": "execute_result"
    }
   ],
   "source": [
    "word[:2]"
   ]
  },
  {
   "cell_type": "code",
   "execution_count": 22,
   "metadata": {},
   "outputs": [
    {
     "data": {
      "text/plain": [
       "'use'"
      ]
     },
     "execution_count": 22,
     "metadata": {},
     "output_type": "execute_result"
    }
   ],
   "source": [
    "word[2:]"
   ]
  },
  {
   "cell_type": "code",
   "execution_count": null,
   "metadata": {},
   "outputs": [],
   "source": []
  }
 ],
 "metadata": {
  "kernelspec": {
   "display_name": "Python 3.10 (tensorflow)",
   "language": "python",
   "name": "tensorflow"
  },
  "language_info": {
   "codemirror_mode": {
    "name": "ipython",
    "version": 3
   },
   "file_extension": ".py",
   "mimetype": "text/x-python",
   "name": "python",
   "nbconvert_exporter": "python",
   "pygments_lexer": "ipython3",
   "version": "3.10.13"
  }
 },
 "nbformat": 4,
 "nbformat_minor": 2
}
