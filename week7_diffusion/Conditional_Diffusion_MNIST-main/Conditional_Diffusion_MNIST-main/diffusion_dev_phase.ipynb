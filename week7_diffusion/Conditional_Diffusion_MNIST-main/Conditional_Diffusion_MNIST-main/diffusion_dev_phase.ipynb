{
 "cells": [
  {
   "cell_type": "code",
   "execution_count": 5,
   "id": "80e44a88-7379-4443-b83b-bcfdd64ca9b6",
   "metadata": {},
   "outputs": [],
   "source": [
    "# pip install scikit-learn"
   ]
  },
  {
   "cell_type": "code",
   "execution_count": null,
   "id": "25ac7084-ccb0-4078-9bbb-340b795673d4",
   "metadata": {},
   "outputs": [],
   "source": [
    "import torch\n",
    "import numpy as np\n",
    "from transformers import BertTokenizer, BertModel\n",
    "from sklearn.decomposition import PCA\n"
   ]
  },
  {
   "cell_type": "code",
   "execution_count": 15,
   "id": "5f2f6f92-5deb-4477-ad00-4dcfa7a8d70a",
   "metadata": {},
   "outputs": [],
   "source": [
    "def digit_to_word(digit):\n",
    "    word_dict = {\n",
    "        '0': 'zero',\n",
    "        '1': 'one',\n",
    "        '2': 'two',\n",
    "        '3': 'three',\n",
    "        '4': 'four',\n",
    "        '5': 'five',\n",
    "        '6': 'six',\n",
    "        '7': 'seven',\n",
    "        '8': 'eight',\n",
    "        '9': 'nine',\n",
    "    }\n",
    "\n",
    "    # Convert tensor elements to strings and map using the dictionary\n",
    "    return [word_dict.get(str(d.item()), 'unknown') for d in digit]"
   ]
  },
  {
   "cell_type": "code",
   "execution_count": 22,
   "id": "ac797c93-ec32-40ed-8002-b88770c4b0e6",
   "metadata": {},
   "outputs": [],
   "source": [
    "# Sample dataset\n",
    "dataset = digit_to_word(torch.tensor([0,1,2,3,4,5,6,7,8,9,9,9]))"
   ]
  },
  {
   "cell_type": "code",
   "execution_count": 24,
   "id": "3cc9c3cf-1dc0-4701-8e91-521b45b2e5af",
   "metadata": {},
   "outputs": [
    {
     "data": {
      "text/plain": [
       "['zero',\n",
       " 'one',\n",
       " 'two',\n",
       " 'three',\n",
       " 'four',\n",
       " 'five',\n",
       " 'six',\n",
       " 'seven',\n",
       " 'eight',\n",
       " 'nine',\n",
       " 'nine',\n",
       " 'nine']"
      ]
     },
     "execution_count": 24,
     "metadata": {},
     "output_type": "execute_result"
    }
   ],
   "source": [
    "dataset"
   ]
  },
  {
   "cell_type": "code",
   "execution_count": 23,
   "id": "35f3f2c1-0b6c-44d3-92d6-d12295d8bc99",
   "metadata": {},
   "outputs": [
    {
     "name": "stdout",
     "output_type": "stream",
     "text": [
      "Reduced Embeddings shape: (12, 10)\n",
      "Reduced Embeddings: [[-1.35483017e+00  2.83730442e+00 -1.59382267e+00 -1.78759244e-01\n",
      "   4.16839147e-01  2.54847272e-01  1.00929160e-01  7.60469733e-02\n",
      "   1.26888512e-02  6.77622292e-16]\n",
      " [ 1.47180889e+00  1.53807397e+00  1.89075082e+00 -1.42928837e+00\n",
      "  -3.67352037e-01 -1.91922436e-01  5.00334733e-02 -2.30013847e-02\n",
      "  -1.13014739e-02  6.77622292e-16]\n",
      " [ 5.25073335e+00  6.48742269e-01  4.59993114e-01  1.68743296e+00\n",
      "   2.29138813e-01  1.70471491e-01 -2.95726369e-02 -2.42961520e-02\n",
      "   1.36572639e-02  6.77622292e-16]\n",
      " [ 3.32678364e+00 -9.73974156e-01 -1.52830707e+00 -7.23986340e-01\n",
      "  -1.21546778e+00 -1.43203784e-01  1.48581590e-01  3.36304400e-03\n",
      "  -8.18041223e-02  6.77622292e-16]\n",
      " [ 1.45015289e+00 -1.06861063e+00 -4.10892292e-01 -7.47370913e-01\n",
      "   1.45622298e+00 -7.66172731e-01 -1.08374393e-01 -1.96262548e-01\n",
      "   1.99971215e-01  6.77622292e-16]\n",
      " [-5.93001380e-02 -9.07339529e-01  8.70469226e-02 -5.43175394e-01\n",
      "   3.32905089e-01  1.21072944e+00 -7.15861017e-01  1.50907845e-01\n",
      "  -2.20915952e-01  6.77622292e-16]\n",
      " [-1.39156921e+00 -7.81365776e-01  3.01847737e-01  6.78588169e-02\n",
      "   2.29013307e-01  6.23584367e-01  9.00285599e-01 -6.23505557e-01\n",
      "  -1.51014013e-01  6.77622292e-16]\n",
      " [-1.34141290e+00 -5.89344454e-01  2.36882002e-01  1.57916531e-01\n",
      "  -2.71857695e-01  3.38166693e-01  1.93370291e-01  4.69335743e-01\n",
      "   7.89409066e-01  6.77622292e-16]\n",
      " [-1.29908264e+00 -5.38987910e-01  2.62380191e-01  3.01517224e-01\n",
      "   2.42972639e-01 -4.26169281e-01  3.65427453e-01  8.99634178e-01\n",
      "  -4.60867951e-01  6.77622292e-16]\n",
      " [-2.01776124e+00 -5.48327361e-02  9.80404174e-02  4.69284908e-01\n",
      "  -3.50804822e-01 -3.56777010e-01 -3.01606507e-01 -2.44074047e-01\n",
      "  -2.99409616e-02  5.25102722e-16]\n",
      " [-2.01776124e+00 -5.48327361e-02  9.80404174e-02  4.69284908e-01\n",
      "  -3.50804822e-01 -3.56777010e-01 -3.01606507e-01 -2.44074047e-01\n",
      "  -2.99409616e-02  7.05421802e-16]\n",
      " [-2.01776124e+00 -5.48327361e-02  9.80404174e-02  4.69284908e-01\n",
      "  -3.50804822e-01 -3.56777010e-01 -3.01606507e-01 -2.44074047e-01\n",
      "  -2.99409616e-02  8.02342351e-16]]\n"
     ]
    }
   ],
   "source": [
    "import torch\n",
    "from transformers import BertTokenizer, BertModel\n",
    "from sklearn.decomposition import PCA\n",
    "\n",
    "\n",
    "# # Sample dataset\n",
    "# dataset = [\n",
    "#     'one boy and two dogs', 'two','three','one', 'two','three','one', 'two','three','one', 'two','three','one', 'two','three'\n",
    "#     # Add more sentences as needed\n",
    "# ]\n",
    "# Step 1: Tokenization\n",
    "tokenizer = BertTokenizer.from_pretrained('bert-base-uncased')\n",
    "tokenized_texts = tokenizer(dataset, padding=True, truncation=True, return_tensors='pt')\n",
    "\n",
    "# Step 2: Obtaining Embeddings\n",
    "model = BertModel.from_pretrained('bert-base-uncased')\n",
    "with torch.no_grad():\n",
    "    outputs = model(**tokenized_texts)\n",
    "\n",
    "# Extract the embeddings for each sentence\n",
    "embeddings = outputs.last_hidden_state[:, 0, :]  # Extract embeddings for [CLS] token\n",
    "\n",
    "# Step 3: Dimensionality Reduction with PCA\n",
    "n_components = min(10, embeddings.shape[1])  # Set n_components to be less than or equal to the number of features\n",
    "pca = PCA(n_components=n_components)\n",
    "embeddings_reduced = pca.fit_transform(embeddings)\n",
    "\n",
    "# Print the reduced embeddings\n",
    "print(\"Reduced Embeddings shape:\", embeddings_reduced.shape)\n",
    "print(\"Reduced Embeddings:\", embeddings_reduced)"
   ]
  },
  {
   "cell_type": "code",
   "execution_count": 2,
   "id": "0ecb84de-f380-487e-b10f-1ffe34f5e851",
   "metadata": {},
   "outputs": [
    {
     "name": "stdout",
     "output_type": "stream",
     "text": [
      "Vocabulary Size (excluding special tokens): 30520\n"
     ]
    }
   ],
   "source": [
    "# Get the vocabulary size excluding special tokens\n",
    "vocab_size_excluding_special = tokenizer.vocab_size - tokenizer.num_special_tokens_to_add()\n",
    "\n",
    "# Print the vocabulary size excluding special tokens\n",
    "print(\"Vocabulary Size (excluding special tokens):\", vocab_size_excluding_special)\n"
   ]
  },
  {
   "cell_type": "code",
   "execution_count": 3,
   "id": "f9b998f5-62f3-4853-8df0-7dd0cd41eaf4",
   "metadata": {},
   "outputs": [
    {
     "name": "stdout",
     "output_type": "stream",
     "text": [
      "tensor([1, 2, 3, 4, 5]) becomes ['one', 'two', 'three', 'four', 'five']\n"
     ]
    }
   ],
   "source": [
    "import torch\n",
    "\n",
    "def digit_to_word(digit):\n",
    "    word_dict = {\n",
    "        '0': 'zero',\n",
    "        '1': 'one',\n",
    "        '2': 'two',\n",
    "        '3': 'three',\n",
    "        '4': 'four',\n",
    "        '5': 'five',\n",
    "        '6': 'six',\n",
    "        '7': 'seven',\n",
    "        '8': 'eight',\n",
    "        '9': 'nine',\n",
    "    }\n",
    "\n",
    "    # Convert tensor elements to strings and map using the dictionary\n",
    "    string_representations = [word_dict.get(str(d.item()), 'unknown') for d in digit]\n",
    "\n",
    "    # Return the list of strings\n",
    "    return string_representations\n",
    "\n",
    "# Example usage:\n",
    "digits = torch.tensor([1, 2, 3, 4, 5])\n",
    "word_representations = digit_to_word(digits)\n",
    "print(f\"{digits} becomes {word_representations}\")\n"
   ]
  },
  {
   "cell_type": "code",
   "execution_count": 4,
   "id": "88964008-79a8-4ef0-8444-f72bdddeec9f",
   "metadata": {},
   "outputs": [],
   "source": [
    "import label_embedding"
   ]
  },
  {
   "cell_type": "code",
   "execution_count": 5,
   "id": "7e29d289-d83a-41e2-97a7-5c307c45576d",
   "metadata": {},
   "outputs": [
    {
     "data": {
      "text/plain": [
       "array([[-9.15837019e-01,  2.55886055e+00,  8.54042530e-01,\n",
       "         2.82013066e-01,  1.01663013e-15],\n",
       "       [ 3.54278325e+00,  5.49610405e-01, -9.03860827e-01,\n",
       "        -2.83396282e-01,  1.01663013e-15],\n",
       "       [ 9.08933572e-01, -1.76249892e+00,  1.55149586e+00,\n",
       "        -1.48567446e-01,  1.01663013e-15],\n",
       "       [-1.10762063e+00, -9.61675566e-01, -8.11972534e-01,\n",
       "         1.33378403e+00,  1.01663013e-15],\n",
       "       [-2.42825918e+00, -3.84296470e-01, -6.89705028e-01,\n",
       "        -1.18383337e+00,  1.01663013e-15]])"
      ]
     },
     "execution_count": 5,
     "metadata": {},
     "output_type": "execute_result"
    }
   ],
   "source": [
    "label_embedding.label_embedding(word_representations)"
   ]
  },
  {
   "cell_type": "code",
   "execution_count": 94,
   "id": "29bed3ad-362f-410a-bd5c-9aaec3c5a5e9",
   "metadata": {},
   "outputs": [],
   "source": [
    "import matplotlib.pyplot as plt\n",
    "import random\n",
    "\n",
    "def draw_graph(image_idx):\n",
    "    colors = []\n",
    "    # Data for the pie chart\n",
    "    # labels = ['Category A', 'Category B', 'Category C', 'Category D']\n",
    "    sizes = [.25, .30, .20, .25]  # Percentage distribution for each category\n",
    "    colors_blue = ['blue', 'lightblue', 'skyblue', 'deepskyblue']\n",
    "    colors_red = ['red', 'lightcoral', 'tomato', 'darkred']\n",
    "    colors.append(colors_blue)\n",
    "    colors.append(colors_red)\n",
    "    # Plotting the pie chart\n",
    "    \n",
    "    color_choice = random.choice([0,1])\n",
    "    num1 = random.random()\n",
    "    num2 = random.random()\n",
    "    num3 = random.random()\n",
    "    normalization_factor = 1 / (num1 + num2 + num3)\n",
    "    \n",
    "    # Normalize the numbers\n",
    "    num1 *= normalization_factor\n",
    "    num2 *= normalization_factor\n",
    "    num3 *= normalization_factor\n",
    "    sizes = [num1, num2, num3]\n",
    "    plt.pie(sizes, colors=colors[color_choice], autopct='%1.1f%%', startangle=90)\n",
    "    # plt.title('Blue Pie Chart')\n",
    "    plt.axis('equal')  # Equal aspect ratio ensures that pie is drawn as a circle.\n",
    "    \n",
    "    image_path = os.path.join(output_dir, f\"{colors[color_choice][0]}_{image_idx}_{color_choice}.png\")\n",
    "    plt.savefig(image_path)\n",
    "    \n",
    "    # Close the current figure to free up resources\n",
    "    plt.close()"
   ]
  },
  {
   "cell_type": "code",
   "execution_count": null,
   "id": "fd0411bb-df43-42dc-b92d-2c6c7460d532",
   "metadata": {},
   "outputs": [],
   "source": [
    "import matplotlib.pyplot as plt\n",
    "from PIL import Image\n",
    "import os\n",
    "\n",
    "# Create a directory to save the images\n",
    "output_dir = \"image_dataset\"\n",
    "os.makedirs(output_dir, exist_ok=True)\n",
    "\n",
    "# Function to generate and save images\n",
    "def generate_and_save_image(image_idx):\n",
    "\n",
    "    # Save the plot as an image using PIL\n",
    "    draw_graph(image_idx)\n",
    "\n",
    "# Generate and save a few images\n",
    "num_images = 20000\n",
    "for i in range(num_images):\n",
    "    generate_and_save_image(i)\n",
    "\n",
    "# Optionally, you can use the following code to load and display an image\n",
    "\n"
   ]
  },
  {
   "cell_type": "code",
   "execution_count": 18,
   "id": "bc5bf4b8-c047-4a6f-8259-f9781567fdc7",
   "metadata": {},
   "outputs": [
    {
     "data": {
      "image/png": "[encoded data removed]",
      "text/plain": [
       "<PIL.PngImagePlugin.PngImageFile image mode=RGBA size=640x480>"
      ]
     },
     "metadata": {},
     "output_type": "display_data"
    },
    {
     "name": "stdout",
     "output_type": "stream",
     "text": [
      "torch.Size([4, 480, 640])\n",
      "torch.Size([3, 480, 640])\n"
     ]
    },
    {
     "data": {
      "image/png": "[encoded data removed]",
      "text/plain": [
       "<Figure size 640x480 with 1 Axes>"
      ]
     },
     "metadata": {},
     "output_type": "display_data"
    }
   ],
   "source": [
    "import os\n",
    "from torchvision import transforms\n",
    "from PIL import Image\n",
    "import matplotlib.pyplot as plt\n",
    "\n",
    "output_dir = \"image_dataset\"\n",
    "image_path = os.path.join(output_dir, \"blue_17507_0.png\")\n",
    "img = Image.open(image_path)\n",
    "img.show()\n",
    "transform = transforms.ToTensor()\n",
    "\n",
    "# Apply the transformation to the image\n",
    "tensor_image = transform(img)\n",
    "\n",
    "# Now, tensor_image is a PyTorch tensor\n",
    "print(tensor_image.shape)\n",
    "rgb_image = tensor_image[:3, :, :]\n",
    "\n",
    "# Convert tensor to PIL Image\n",
    "pil_image = transforms.ToPILImage()(rgb_image)\n",
    "\n",
    "# Display the image\n",
    "plt.imshow(pil_image)\n",
    "print(rgb_image.size())\n",
    "plt.axis('off')  # Turn off axis labels\n",
    "plt.show()"
   ]
  },
  {
   "cell_type": "code",
   "execution_count": 11,
   "id": "08fb9239-a471-42e4-a7f0-9dc4ba6bab26",
   "metadata": {},
   "outputs": [
    {
     "data": {
      "text/plain": [
       "tensor(0.)"
      ]
     },
     "execution_count": 11,
     "metadata": {},
     "output_type": "execute_result"
    }
   ],
   "source": [
    "tensor_image.min()"
   ]
  },
  {
   "cell_type": "code",
   "execution_count": null,
   "id": "43d18e74-eb85-4bfc-9f44-b9a8f93c7a35",
   "metadata": {},
   "outputs": [],
   "source": []
  }
 ],
 "metadata": {
  "kernelspec": {
   "display_name": "Python 3 (ipykernel)",
   "language": "python",
   "name": "python3"
  },
  "language_info": {
   "codemirror_mode": {
    "name": "ipython",
    "version": 3
   },
   "file_extension": ".py",
   "mimetype": "text/x-python",
   "name": "python",
   "nbconvert_exporter": "python",
   "pygments_lexer": "ipython3",
   "version": "3.10.12"
  }
 },
 "nbformat": 4,
 "nbformat_minor": 5
}
